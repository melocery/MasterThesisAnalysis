{
 "cells": [
  {
   "cell_type": "markdown",
   "metadata": {},
   "source": [
    "## Result 3: transcript neighborhood\n",
    "\n"
   ]
  },
  {
   "cell_type": "code",
   "execution_count": null,
   "metadata": {},
   "outputs": [],
   "source": [
    "import sys\n",
    "import os\n",
    "sys.path.append(os.path.abspath(\"../src\"))\n",
    "from plot import plot_VSI_map, plot_celltypes, plot_vsi_with_named_squares, plot_circular_neighborhood, plot_knn_neighborhood\n",
    "\n",
    "from IPython.display import display\n",
    "from pathlib import Path\n",
    "import pandas as pd"
   ]
  },
  {
   "cell_type": "markdown",
   "metadata": {},
   "source": [
    "### Data"
   ]
  },
  {
   "cell_type": "markdown",
   "metadata": {},
   "source": [
    "#### signals in tissue section"
   ]
  },
  {
   "cell_type": "code",
   "execution_count": null,
   "metadata": {},
   "outputs": [],
   "source": [
    "MERFISH_data_folder_path = Path(\"../data/mouse_hypothalamus/MERFISH/\")"
   ]
  },
  {
   "cell_type": "code",
   "execution_count": null,
   "metadata": {},
   "outputs": [],
   "source": [
    "columns = [\n",
    "    \"Centroid_X\",\n",
    "    \"Centroid_Y\",\n",
    "    \"Centroid_Z\",\n",
    "    \"Gene_name\",\n",
    "    \"Cell_name\",\n",
    "    \"Total_brightness\",\n",
    "    \"Area\",\n",
    "    \"Error_bit\",\n",
    "    \"Error_direction\",\n",
    "]\n",
    "\n",
    "signal_coordinate_df = pd.read_csv(\n",
    "    MERFISH_data_folder_path / \"merfish_barcodes_example.csv\", usecols=columns\n",
    ").rename(\n",
    "    columns={\n",
    "        \"Centroid_X\": \"x\",\n",
    "        \"Centroid_Y\": \"y\",\n",
    "        \"Centroid_Z\": \"z\",\n",
    "        \"Gene_name\": \"gene\",\n",
    "    }\n",
    ")\n",
    "\n",
    "\n",
    "# remove dummy molecules\n",
    "signal_coordinate_df = signal_coordinate_df.loc[\n",
    "    ~signal_coordinate_df[\"gene\"].str.contains(\"Blank|NegControl\"),\n",
    "]\n",
    "\n",
    "signal_coordinate_df[\"gene\"] = signal_coordinate_df[\"gene\"].astype(\"category\")\n",
    "\n",
    "# shift the coordinates to avoid the negative values\n",
    "coordinate_x_m =  signal_coordinate_df['x'].min()\n",
    "coordinate_y_m =  signal_coordinate_df['y'].min()\n",
    "signal_coordinate_df['x'] = signal_coordinate_df['x'] - coordinate_x_m\n",
    "signal_coordinate_df['y'] = signal_coordinate_df['y'] - coordinate_y_m\n",
    "\n",
    "# make a copy to avoid SettingWithCopyWarning\n",
    "signal_coordinate_df = signal_coordinate_df.copy()"
   ]
  },
  {
   "cell_type": "code",
   "execution_count": null,
   "metadata": {},
   "outputs": [],
   "source": [
    "top20 = signal_coordinate_df['gene'].value_counts()[:20]"
   ]
  },
  {
   "cell_type": "markdown",
   "metadata": {},
   "source": [
    "#### Results of Ovrlpy\n",
    "\n",
    "results:  \n",
    "- signal integrity  \n",
    "- signal strength  "
   ]
  },
  {
   "cell_type": "code",
   "execution_count": null,
   "metadata": {},
   "outputs": [],
   "source": [
    "ovrlpy_result_folder = Path(\"../data/results/VSI\")"
   ]
  },
  {
   "cell_type": "code",
   "execution_count": null,
   "metadata": {},
   "outputs": [],
   "source": [
    "signal_integrity = np.loadtxt(ovrlpy_result_folder/\"SignalIntegrity.txt\")\n",
    "signal_strength = np.loadtxt(ovrlpy_result_folder/\"SignalStrength.txt\")"
   ]
  },
  {
   "cell_type": "markdown",
   "metadata": {},
   "source": [
    "#### Results of BANKSY"
   ]
  },
  {
   "cell_type": "code",
   "execution_count": null,
   "metadata": {},
   "outputs": [],
   "source": [
    "banksy_folder_path = Path(\"../data/banksy_results/\")"
   ]
  },
  {
   "cell_type": "code",
   "execution_count": null,
   "metadata": {},
   "outputs": [],
   "source": [
    "columns = [\n",
    "    \"Centroid_X\",\n",
    "    \"Centroid_Y\",\n",
    "    \"Bregma\",\n",
    "    \"lam0.2\",\n",
    "]\n",
    "\n",
    "banksy_result = pd.read_csv(\n",
    "    banksy_folder_path / 'banksy_cluster.txt', usecols=columns, sep = '\\t'\n",
    ").rename(\n",
    "    columns={\n",
    "        \"Centroid_X\": \"x\",\n",
    "        \"Centroid_Y\": \"y\",\n",
    "        \"Bregma\": \"Bregma\",\n",
    "        \"lam0.2\": \"banksy_cluster\",\n",
    "    }\n",
    ")\n",
    "\n",
    "banksy_result = banksy_result[banksy_result['Bregma'] == -0.24]\n",
    "\n",
    "banksy_result['x'] = banksy_result['x'] - coordinate_x_m\n",
    "banksy_result['y'] = banksy_result['y'] - coordinate_y_m\n",
    "\n",
    "banksy_result = banksy_result.copy()"
   ]
  },
  {
   "cell_type": "markdown",
   "metadata": {},
   "source": [
    "#### Segmentation Dataset"
   ]
  },
  {
   "cell_type": "code",
   "execution_count": null,
   "metadata": {},
   "outputs": [],
   "source": [
    "merfish_data = pd.read_csv(\n",
    "    MERFISH_data_folder_path / \"merfish_all_cells.csv\"\n",
    "    ).rename(\n",
    "    columns={\n",
    "        \"Centroid_X\": \"x\",\n",
    "        \"Centroid_Y\": \"y\"\n",
    "    }\n",
    ")\n",
    "\n",
    "merfish_data = merfish_data.drop(columns=[col for col in merfish_data.columns if col == 'Fos' or col.startswith('Blank_')])\n",
    "merfish_data = merfish_data[merfish_data[\"Cell_class\"] != \"Ambiguous\"]\n",
    "merfish_data = merfish_data[merfish_data['Animal_ID'] == 1]\n",
    "merfish_data = merfish_data[merfish_data['Bregma'] == -0.24]\n",
    "\n",
    "merfish_data['x'] = merfish_data['x'] - coordinate_x_m\n",
    "merfish_data['y'] = merfish_data['y'] - coordinate_y_m\n",
    "\n",
    "merfish_data['banksy'] = banksy_result['banksy_cluster'].values\n",
    "\n",
    "merfish_data = merfish_data.copy()"
   ]
  },
  {
   "cell_type": "code",
   "execution_count": null,
   "metadata": {},
   "outputs": [],
   "source": [
    "cell_class_m = {'Astrocyte': 'Astrocyte',\n",
    " 'Endothelial 1': 'Endothelial',\n",
    " 'Endothelial 2': 'Endothelial',\n",
    " 'Endothelial 3': 'Endothelial',\n",
    " 'Ependymal': 'Ependymal',\n",
    " 'Excitatory': 'Excitatory',\n",
    " 'Inhibitory': 'Inhibitory',\n",
    " 'Microglia': 'Microglia',\n",
    " 'OD Immature 1': 'OD Immature',\n",
    " 'OD Immature 2': 'OD Immature',\n",
    " 'OD Mature 1': 'OD Mature',\n",
    " 'OD Mature 2': 'OD Mature',\n",
    " 'OD Mature 3': 'OD Mature',\n",
    " 'OD Mature 4': 'OD Mature',\n",
    " 'Pericytes': 'Pericytes'}\n",
    "\n",
    "merfish_data['Cell_class'] = merfish_data['Cell_class'].map(cell_class_m)\n",
    "merfish_data = merfish_data.sort_values(by='Cell_class')\n",
    "\n",
    "merfish_data = merfish_data.copy()"
   ]
  },
  {
   "cell_type": "markdown",
   "metadata": {},
   "source": [
    "#### Cell Boundaries Dataset"
   ]
  },
  {
   "cell_type": "code",
   "execution_count": null,
   "metadata": {},
   "outputs": [],
   "source": [
    "boundaries_df = pd.read_csv(MERFISH_data_folder_path/'cellboundaries_example_animal.csv')\n",
    "boundaries_df = boundaries_df.dropna(subset=['boundaryX', 'boundaryY'])"
   ]
  },
  {
   "cell_type": "code",
   "execution_count": null,
   "metadata": {},
   "outputs": [],
   "source": [
    "cell_ids = merfish_data['Cell_ID']\n",
    "boundaries_df = boundaries_df[boundaries_df['feature_uID'].isin(cell_ids)]\n",
    "boundaries_df = boundaries_df.merge(\n",
    "    merfish_data[['Cell_ID', 'x', 'y', 'banksy']],\n",
    "    # merfish_data[['Cell_ID', 'x', 'y']],\n",
    "    left_on='feature_uID',\n",
    "    right_on='Cell_ID',\n",
    "    how='inner'\n",
    ")\n",
    "boundaries_df = boundaries_df.drop(columns=['Cell_ID'])\n",
    "\n",
    "boundaries_df['boundaryX'] = boundaries_df['boundaryX'].apply(lambda x: [float(i) for i in x.split(';')] if isinstance(x, str) else x)\n",
    "boundaries_df['boundaryY'] = boundaries_df['boundaryY'].apply(lambda x: [float(i) for i in x.split(';')] if isinstance(x, str) else x)\n",
    "\n",
    "boundaries_df['boundaryX'] = boundaries_df['boundaryX'].apply(lambda x: [i - coordinate_x_m for i in x] if isinstance(x, list) else x)\n",
    "boundaries_df['boundaryY'] = boundaries_df['boundaryY'].apply(lambda x: [i - coordinate_y_m for i in x] if isinstance(x, list) else x)\n",
    "\n",
    "boundaries_df = boundaries_df.copy()"
   ]
  },
  {
   "cell_type": "markdown",
   "metadata": {},
   "source": [
    "#### OD cell boundaries"
   ]
  },
  {
   "cell_type": "code",
   "execution_count": null,
   "metadata": {},
   "outputs": [],
   "source": [
    "# boundaries, MOD\n",
    "MOD_boundaries = boundaries_df[(boundaries_df['banksy'] == 8) | (boundaries_df['banksy'] == 7)]\n",
    "other_boundaries = boundaries_df[~boundaries_df['banksy'].isin([8, 7])]"
   ]
  },
  {
   "cell_type": "markdown",
   "metadata": {},
   "source": [
    "#### Marker Genes\n",
    "\n",
    "differentially expressed genes identified by BANKSY"
   ]
  },
  {
   "cell_type": "code",
   "execution_count": null,
   "metadata": {},
   "outputs": [],
   "source": [
    "# all differentially expressed genes\n",
    "DE_genes = ['Mlc1', 'Dgkk', 'Cbln2', 'Syt4', 'Gad1', 'Plin3', 'Gnrh1', 'Sln', 'Gjc3', 'Mbp', 'Lpar1', 'Trh', 'Ucn3', 'Cck']\n",
    "# DE_genes_gm: 7\n",
    "DE_genes_gm = ['Mlc1', 'Dgkk', 'Cbln2', 'Syt4', 'Gad1', 'Plin3', 'Gnrh1', 'Sln', 'Gjc3']\n",
    "# DE_genes_wm: 8\n",
    "DE_genes_wm = ['Mbp', 'Lpar1', 'Trh', 'Ucn3', 'Cck']"
   ]
  },
  {
   "cell_type": "markdown",
   "metadata": {},
   "source": [
    "### Regions of Interest\n",
    "\n",
    "cell types and vsi\n",
    "\n",
    "x_range=[250, 350], y_range=[1450, 1550]  \n",
    "x_range=[1350, 1450], y_range=[1300, 1400]  \n",
    "x_range=[850, 950], y_range=[950, 1050]  \n",
    "x_range=[200, 300], y_range=[300, 400]  \n",
    "x_range=[1580, 1680], y_range=[350, 450] "
   ]
  },
  {
   "cell_type": "markdown",
   "metadata": {},
   "source": [
    "#### VSI"
   ]
  },
  {
   "cell_type": "code",
   "execution_count": null,
   "metadata": {},
   "outputs": [],
   "source": [
    "regions = [\n",
    "    {\"x\": 250, \"y\": 1450, \"name\": \"Region 1\"},\n",
    "    {\"x\": 1350, \"y\": 1300, \"name\": \"Region 2\"},\n",
    "    {\"x\": 850, \"y\": 950, \"name\": \"Region 3\"},\n",
    "    {\"x\": 200, \"y\": 300, \"name\": \"Region 4\"},\n",
    "    {\"x\": 1580, \"y\": 350, \"name\": \"Region 5\"}\n",
    "]"
   ]
  },
  {
   "cell_type": "code",
   "execution_count": null,
   "metadata": {},
   "outputs": [],
   "source": [
    "# complete vsi map\n",
    "VSI_ROI = plot_vsi_with_named_squares(signal_integrity, signal_strength, named_squares=regions)\n",
    "display(VSI_ROI)"
   ]
  },
  {
   "cell_type": "markdown",
   "metadata": {},
   "source": [
    "#### region 1\n",
    "x_range=[250, 350], y_range=[1450, 1550]  "
   ]
  },
  {
   "cell_type": "code",
   "execution_count": null,
   "metadata": {},
   "outputs": [],
   "source": [
    "plot_VSI_map(\n",
    "    cell_integrity=signal_integrity,\n",
    "    cell_strength=signal_strength,\n",
    "    boundary_df=boundaries_df,\n",
    "    signal_threshold=3.0,\n",
    "    figure_height=10,\n",
    "    cmap=\"BIH\",\n",
    "    x_range=[250,350],\n",
    "    y_range=[1450, 1550]\n",
    "    )"
   ]
  },
  {
   "cell_type": "code",
   "execution_count": null,
   "metadata": {},
   "outputs": [],
   "source": [
    "plot_celltypes(\n",
    "    cell_type=banksy_result,\n",
    "    boundary_df=other_boundaries,\n",
    "    MOD_boundary=MOD_boundaries,\n",
    "    x_range=[250,350],\n",
    "    y_range=[1450, 1550]\n",
    ")"
   ]
  },
  {
   "cell_type": "markdown",
   "metadata": {},
   "source": [
    "#### region 2\n",
    "x_range=[1350, 1450], y_range=[1300, 1400]  "
   ]
  },
  {
   "cell_type": "code",
   "execution_count": null,
   "metadata": {},
   "outputs": [],
   "source": [
    "plot_VSI_map(\n",
    "    cell_integrity=signal_integrity,\n",
    "    cell_strength=signal_strength,\n",
    "    boundary_df=boundaries_df,\n",
    "    signal_threshold=3.0,\n",
    "    figure_height=10,\n",
    "    cmap=\"BIH\",\n",
    "    x_range=[1350, 1450],\n",
    "    y_range=[1300, 1400]\n",
    "    )"
   ]
  },
  {
   "cell_type": "code",
   "execution_count": null,
   "metadata": {},
   "outputs": [],
   "source": [
    "plot_celltypes(\n",
    "    cell_type=banksy_result,\n",
    "    boundary_df=other_boundaries,\n",
    "    MOD_boundary=MOD_boundaries,\n",
    "    x_range=[1350, 1450],\n",
    "    y_range=[1300, 1400],\n",
    "    cmap = full_color_map\n",
    ")"
   ]
  },
  {
   "cell_type": "markdown",
   "metadata": {},
   "source": [
    "#### region 3\n",
    "x_range=[850, 950], y_range=[950, 1050]  "
   ]
  },
  {
   "cell_type": "code",
   "execution_count": null,
   "metadata": {},
   "outputs": [],
   "source": [
    "plot_VSI_map(\n",
    "    cell_integrity=signal_integrity,\n",
    "    cell_strength=signal_strength,\n",
    "    boundary_df=boundaries_df,\n",
    "    signal_threshold=3.0,\n",
    "    figure_height=10,\n",
    "    cmap=\"BIH\",\n",
    "    x_range=[850, 950],\n",
    "    y_range=[950, 1050]\n",
    "    )"
   ]
  },
  {
   "cell_type": "code",
   "execution_count": null,
   "metadata": {},
   "outputs": [],
   "source": [
    "plot_celltypes(\n",
    "    cell_type=banksy_result,\n",
    "    boundary_df=other_boundaries,\n",
    "    MOD_boundary=MOD_boundaries,\n",
    "    x_range=[850, 950],\n",
    "    y_range=[950, 1050]\n",
    ")"
   ]
  },
  {
   "cell_type": "markdown",
   "metadata": {},
   "source": [
    "#### region 4\n",
    "x_range=[200, 300], y_range=[300, 400]  "
   ]
  },
  {
   "cell_type": "code",
   "execution_count": null,
   "metadata": {},
   "outputs": [],
   "source": [
    "plot_VSI_map(\n",
    "    cell_integrity=signal_integrity,\n",
    "    cell_strength=signal_strength,\n",
    "    boundary_df=boundaries_df,\n",
    "    signal_threshold=3.0,\n",
    "    figure_height=10,\n",
    "    cmap=\"BIH\",\n",
    "    x_range=[200, 300],\n",
    "    y_range=[300, 400]\n",
    "    )"
   ]
  },
  {
   "cell_type": "code",
   "execution_count": null,
   "metadata": {},
   "outputs": [],
   "source": [
    "plot_celltypes(\n",
    "    cell_type=banksy_result,\n",
    "    boundary_df=other_boundaries,\n",
    "    MOD_boundary=MOD_boundaries,\n",
    "    x_range=[200, 300],\n",
    "    y_range=[300, 400],\n",
    "    cmap = full_color_map\n",
    ")"
   ]
  },
  {
   "cell_type": "markdown",
   "metadata": {},
   "source": [
    "#### region 5\n",
    "x_range=[1580, 1680], y_range=[350,450]  "
   ]
  },
  {
   "cell_type": "code",
   "execution_count": null,
   "metadata": {},
   "outputs": [],
   "source": [
    "plot_VSI_map(\n",
    "    cell_integrity=signal_integrity,\n",
    "    cell_strength=signal_strength,\n",
    "    boundary_df=boundaries_df,\n",
    "    signal_threshold=3.0,\n",
    "    figure_height=10,\n",
    "    cmap=\"BIH\",\n",
    "    x_range=[1580, 1680],\n",
    "    y_range=[350,450],\n",
    "    )"
   ]
  },
  {
   "cell_type": "code",
   "execution_count": null,
   "metadata": {},
   "outputs": [],
   "source": [
    "plot_celltypes(\n",
    "    cell_type=banksy_result,\n",
    "    boundary_df=other_boundaries,\n",
    "    MOD_boundary=MOD_boundaries,\n",
    "    x_range=[1580, 1680],\n",
    "    y_range=[350,450],\n",
    "    cmap = full_color_map\n",
    ")"
   ]
  },
  {
   "cell_type": "markdown",
   "metadata": {},
   "source": [
    "### Circle"
   ]
  },
  {
   "cell_type": "markdown",
   "metadata": {},
   "source": [
    "#### region1"
   ]
  },
  {
   "cell_type": "code",
   "execution_count": null,
   "metadata": {},
   "outputs": [],
   "source": [
    "plot_circular_neighborhood(signals_df=signal_coordinate_df,\n",
    "                                centroid_df=merfish_data, \n",
    "                                MOD_boundaries=MOD_boundaries,\n",
    "                                boundaries_df=other_boundaries, \n",
    "                                x_range=[250, 350], y_range=[1450, 1550], \n",
    "                                diameters=[6, 8, 10, 12], true_boundary=True, \n",
    "                                plot_top20=True, top20=top20.index)"
   ]
  },
  {
   "cell_type": "code",
   "execution_count": null,
   "metadata": {},
   "outputs": [],
   "source": [
    "plot_circular_neighborhood(signals_df=signal_coordinate_df,\n",
    "                                centroid_df=merfish_data, \n",
    "                                MOD_boundaries=MOD_boundaries,\n",
    "                                boundaries_df=other_boundaries, \n",
    "                                x_range=[250, 350], y_range=[1450, 1550], \n",
    "                                diameters=[6, 8, 10, 12], true_boundary=True, \n",
    "                                plot_top20=False, top20=None)"
   ]
  },
  {
   "cell_type": "markdown",
   "metadata": {},
   "source": [
    "#### region2"
   ]
  },
  {
   "cell_type": "code",
   "execution_count": null,
   "metadata": {},
   "outputs": [],
   "source": [
    "plot_circular_neighborhood(signals_df=signal_coordinate_df,\n",
    "                                centroid_df=merfish_data, \n",
    "                                MOD_boundaries=MOD_boundaries,\n",
    "                                boundaries_df=other_boundaries, \n",
    "                                x_range=[1350, 1450], y_range=[1300, 1400], \n",
    "                                diameters=[6, 8, 10, 12], true_boundary=True, \n",
    "                                plot_top20=True, top20=top20.index)"
   ]
  },
  {
   "cell_type": "code",
   "execution_count": null,
   "metadata": {},
   "outputs": [],
   "source": [
    "plot_circular_neighborhood(signals_df=signal_coordinate_df,\n",
    "                                centroid_df=merfish_data, \n",
    "                                MOD_boundaries=MOD_boundaries,\n",
    "                                boundaries_df=other_boundaries, \n",
    "                                x_range=[1350, 1450], y_range=[1300, 1400], \n",
    "                                diameters=[6, 8, 10, 12], true_boundary=True, \n",
    "                                plot_top20=False, top20=None)"
   ]
  },
  {
   "cell_type": "markdown",
   "metadata": {},
   "source": [
    "#### region3"
   ]
  },
  {
   "cell_type": "code",
   "execution_count": null,
   "metadata": {},
   "outputs": [],
   "source": [
    "plot_circular_neighborhood(signals_df=signal_coordinate_df,\n",
    "                                centroid_df=merfish_data, \n",
    "                                MOD_boundaries=MOD_boundaries,\n",
    "                                boundaries_df=other_boundaries, \n",
    "                                x_range=[850, 950], y_range=[950, 1050], \n",
    "                                diameters=[6, 8, 10, 12], true_boundary=True, \n",
    "                                plot_top20=True, top20=top20.index)"
   ]
  },
  {
   "cell_type": "code",
   "execution_count": null,
   "metadata": {},
   "outputs": [],
   "source": [
    "plot_circular_neighborhood(signals_df=signal_coordinate_df,\n",
    "                                centroid_df=merfish_data, \n",
    "                                MOD_boundaries=MOD_boundaries,\n",
    "                                boundaries_df=other_boundaries, \n",
    "                                x_range=[850, 950], y_range=[950, 1050], \n",
    "                                diameters=[6, 8, 10, 12], true_boundary=True, \n",
    "                                plot_top20=False, top20=None)"
   ]
  },
  {
   "cell_type": "markdown",
   "metadata": {},
   "source": [
    "#### region4"
   ]
  },
  {
   "cell_type": "code",
   "execution_count": null,
   "metadata": {},
   "outputs": [],
   "source": [
    "plot_circular_neighborhood(signals_df=signal_coordinate_df,\n",
    "                                centroid_df=merfish_data, \n",
    "                                MOD_boundaries=MOD_boundaries,\n",
    "                                boundaries_df=other_boundaries, \n",
    "                                x_range=[200, 300], y_range=[300, 400], \n",
    "                                diameters=[6, 8, 10, 12], true_boundary=True, \n",
    "                                plot_top20=True, top20=top20.index)"
   ]
  },
  {
   "cell_type": "code",
   "execution_count": null,
   "metadata": {},
   "outputs": [],
   "source": [
    "plot_circular_neighborhood(signals_df=signal_coordinate_df,\n",
    "                                centroid_df=merfish_data, \n",
    "                                MOD_boundaries=MOD_boundaries,\n",
    "                                boundaries_df=other_boundaries, \n",
    "                                x_range=[200, 300], y_range=[300, 400], \n",
    "                                diameters=[6, 8, 10, 12], true_boundary=True, \n",
    "                                plot_top20=False, top20=None)"
   ]
  },
  {
   "cell_type": "markdown",
   "metadata": {},
   "source": [
    "#### region5"
   ]
  },
  {
   "cell_type": "code",
   "execution_count": null,
   "metadata": {},
   "outputs": [],
   "source": [
    "plot_circular_neighborhood(signals_df=signal_coordinate_df,\n",
    "                                centroid_df=merfish_data, \n",
    "                                MOD_boundaries=MOD_boundaries,\n",
    "                                boundaries_df=other_boundaries, \n",
    "                                x_range=[1580, 1680], y_range=[350,450],\n",
    "                                diameters=[6, 8, 10, 12], true_boundary=True, \n",
    "                                plot_top20=True, top20=top20.index)"
   ]
  },
  {
   "cell_type": "code",
   "execution_count": null,
   "metadata": {},
   "outputs": [],
   "source": [
    "plot_circular_neighborhood(signals_df=signal_coordinate_df,\n",
    "                                centroid_df=merfish_data, \n",
    "                                MOD_boundaries=MOD_boundaries,\n",
    "                                boundaries_df=other_boundaries, \n",
    "                                x_range=[1580, 1680], y_range=[350,450],\n",
    "                                diameters=[6, 8, 10, 12], true_boundary=True, \n",
    "                                plot_top20=False, top20=None)"
   ]
  },
  {
   "cell_type": "markdown",
   "metadata": {},
   "source": [
    "### kNN"
   ]
  },
  {
   "cell_type": "markdown",
   "metadata": {},
   "source": [
    "#### region1"
   ]
  },
  {
   "cell_type": "code",
   "execution_count": null,
   "metadata": {},
   "outputs": [],
   "source": [
    "plot_knn_neighborhood(signals_df=signal_coordinate_df,\n",
    "                                centroid_df=merfish_data, \n",
    "                                MOD_boundaries=MOD_boundaries,\n",
    "                                boundaries_df=other_boundaries, \n",
    "                                x_range=[250, 350], y_range=[1450, 1550],\n",
    "                                neighbors=[40, 80, 160, 240], true_boundary=True, \n",
    "                                plot_top20=True, top20=top20.index)"
   ]
  },
  {
   "cell_type": "code",
   "execution_count": null,
   "metadata": {},
   "outputs": [],
   "source": [
    "plot_knn_neighborhood(signals_df=signal_coordinate_df,\n",
    "                                centroid_df=merfish_data, \n",
    "                                MOD_boundaries=MOD_boundaries,\n",
    "                                boundaries_df=other_boundaries,  \n",
    "                                x_range=[250, 350], y_range=[1450, 1550],\n",
    "                                neighbors=[40, 80, 160, 240], true_boundary=True, \n",
    "                                plot_top20=False, top20=None)"
   ]
  },
  {
   "cell_type": "markdown",
   "metadata": {},
   "source": [
    "#### region2"
   ]
  },
  {
   "cell_type": "code",
   "execution_count": null,
   "metadata": {},
   "outputs": [],
   "source": [
    "plot_knn_neighborhood(signals_df=signal_coordinate_df,\n",
    "                                centroid_df=merfish_data, \n",
    "                                MOD_boundaries=MOD_boundaries,\n",
    "                                boundaries_df=other_boundaries, \n",
    "                                x_range=[1350, 1450], y_range=[1300, 1400], \n",
    "                                neighbors=[40, 80, 160, 240], true_boundary=True, \n",
    "                                plot_top20=True, top20=top20.index)"
   ]
  },
  {
   "cell_type": "code",
   "execution_count": null,
   "metadata": {},
   "outputs": [],
   "source": [
    "plot_knn_neighborhood(signals_df=signal_coordinate_df,\n",
    "                                centroid_df=merfish_data, \n",
    "                                MOD_boundaries=MOD_boundaries,\n",
    "                                boundaries_df=other_boundaries, \n",
    "                                x_range=[1350, 1450], y_range=[1300, 1400], \n",
    "                                neighbors=[40, 80, 160, 240], true_boundary=True, \n",
    "                                plot_top20=False, top20=None)"
   ]
  },
  {
   "cell_type": "markdown",
   "metadata": {},
   "source": [
    "#### region3"
   ]
  },
  {
   "cell_type": "code",
   "execution_count": null,
   "metadata": {},
   "outputs": [],
   "source": [
    "plot_knn_neighborhood(signals_df=signal_coordinate_df,\n",
    "                                centroid_df=merfish_data, \n",
    "                                MOD_boundaries=MOD_boundaries,\n",
    "                                boundaries_df=other_boundaries, \n",
    "                                x_range=[850, 950], y_range=[950, 1050], \n",
    "                                neighbors=[40, 80, 160, 240], true_boundary=True, \n",
    "                                plot_top20=True, top20=top20.index)"
   ]
  },
  {
   "cell_type": "code",
   "execution_count": null,
   "metadata": {},
   "outputs": [],
   "source": [
    "plot_knn_neighborhood(signals_df=signal_coordinate_df,\n",
    "                                centroid_df=merfish_data, \n",
    "                                MOD_boundaries=MOD_boundaries,\n",
    "                                boundaries_df=other_boundaries, \n",
    "                                x_range=[850, 950], y_range=[950, 1050], \n",
    "                                neighbors=[40, 80, 160, 240], true_boundary=True, \n",
    "                                plot_top20=False, top20=None)"
   ]
  },
  {
   "cell_type": "markdown",
   "metadata": {},
   "source": [
    "#### region4"
   ]
  },
  {
   "cell_type": "code",
   "execution_count": null,
   "metadata": {},
   "outputs": [],
   "source": [
    "plot_knn_neighborhood(signals_df=signal_coordinate_df,\n",
    "                                centroid_df=merfish_data, \n",
    "                                MOD_boundaries=MOD_boundaries,\n",
    "                                boundaries_df=other_boundaries, \n",
    "                                x_range=[200, 300], y_range=[300, 400], \n",
    "                                neighbors=[40, 80, 160, 240], true_boundary=True, \n",
    "                                plot_top20=True, top20=top20.index)"
   ]
  },
  {
   "cell_type": "code",
   "execution_count": null,
   "metadata": {},
   "outputs": [],
   "source": [
    "plot_knn_neighborhood(signals_df=signal_coordinate_df,\n",
    "                                centroid_df=merfish_data, \n",
    "                                MOD_boundaries=MOD_boundaries,\n",
    "                                boundaries_df=other_boundaries, \n",
    "                                x_range=[200, 300], y_range=[300, 400], \n",
    "                                neighbors=[40, 80, 160, 240], true_boundary=True, \n",
    "                                plot_top20=False, top20=None)"
   ]
  },
  {
   "cell_type": "markdown",
   "metadata": {},
   "source": [
    "#### region5"
   ]
  },
  {
   "cell_type": "code",
   "execution_count": null,
   "metadata": {},
   "outputs": [],
   "source": [
    "plot_knn_neighborhood(signals_df=signal_coordinate_df,\n",
    "                                centroid_df=merfish_data, \n",
    "                                MOD_boundaries=MOD_boundaries,\n",
    "                                boundaries_df=other_boundaries, \n",
    "                                x_range=[1580, 1680], y_range=[350,450],\n",
    "                                neighbors=[40, 80, 160, 240], true_boundary=True, \n",
    "                                plot_top20=True, top20=top20.index)"
   ]
  },
  {
   "cell_type": "code",
   "execution_count": null,
   "metadata": {},
   "outputs": [],
   "source": [
    "plot_knn_neighborhood(signals_df=signal_coordinate_df,\n",
    "                                centroid_df=merfish_data, \n",
    "                                MOD_boundaries=MOD_boundaries,\n",
    "                                boundaries_df=other_boundaries, \n",
    "                                x_range=[1580, 1680], y_range=[350,450], \n",
    "                                neighbors=[40, 80, 160, 240], true_boundary=True, \n",
    "                                plot_top20=False, top20=None)"
   ]
  }
 ],
 "metadata": {
  "kernelspec": {
   "display_name": "ovrlpy_0513",
   "language": "python",
   "name": "python3"
  },
  "language_info": {
   "codemirror_mode": {
    "name": "ipython",
    "version": 3
   },
   "file_extension": ".py",
   "mimetype": "text/x-python",
   "name": "python",
   "nbconvert_exporter": "python",
   "pygments_lexer": "ipython3",
   "version": "3.12.10"
  }
 },
 "nbformat": 4,
 "nbformat_minor": 2
}
