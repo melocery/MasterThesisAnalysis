{
 "cells": [
  {
   "cell_type": "markdown",
   "metadata": {},
   "source": [
    "## Result 3: transcript neighborhood\n",
    "\n"
   ]
  },
  {
   "cell_type": "code",
   "execution_count": null,
   "metadata": {},
   "outputs": [],
   "source": [
    "import sys\n",
    "import os\n",
    "sys.path.append(os.path.abspath(\"../src\"))\n",
    "\n",
    "from utils import load_merfish_signal_df, load_banksy_result, load_merfish_data, load_boundaries_data\n",
    "from plot import plot_VSI_map, plot_celltypes, plot_vsi_with_named_squares, plot_circular_neighborhood, plot_knn_neighborhood\n",
    "\n",
    "from IPython.display import display\n",
    "from pathlib import Path\n",
    "\n",
    "import pandas as pd\n",
    "import numpy as np"
   ]
  },
  {
   "cell_type": "markdown",
   "metadata": {},
   "source": [
    "### Data"
   ]
  },
  {
   "cell_type": "markdown",
   "metadata": {},
   "source": [
    "#### Signals in the Tissue Section"
   ]
  },
  {
   "cell_type": "code",
   "execution_count": null,
   "metadata": {},
   "outputs": [],
   "source": [
    "MERFISH_data_folder_path = Path(\"../data/mouse_hypothalamus/MERFISH/\")"
   ]
  },
  {
   "cell_type": "code",
   "execution_count": null,
   "metadata": {},
   "outputs": [],
   "source": [
    "signal_coordinate_df, coordinate_x_m, coordinate_y_m = load_merfish_signal_df(MERFISH_data_folder_path/\"merfish_barcodes_example.csv\")"
   ]
  },
  {
   "cell_type": "code",
   "execution_count": null,
   "metadata": {},
   "outputs": [],
   "source": [
    "top20 = signal_coordinate_df['gene'].value_counts()[:20]"
   ]
  },
  {
   "cell_type": "markdown",
   "metadata": {},
   "source": [
    "#### Results of Ovrlpy\n",
    "\n",
    "results:  \n",
    "- signal integrity  \n",
    "- signal strength  "
   ]
  },
  {
   "cell_type": "code",
   "execution_count": null,
   "metadata": {},
   "outputs": [],
   "source": [
    "ovrlpy_result_folder = Path(\"../data/results/VSI\")"
   ]
  },
  {
   "cell_type": "code",
   "execution_count": null,
   "metadata": {},
   "outputs": [],
   "source": [
    "signal_integrity = np.loadtxt(ovrlpy_result_folder/\"SignalIntegrity.txt\")\n",
    "signal_strength = np.loadtxt(ovrlpy_result_folder/\"SignalStrength.txt\")"
   ]
  },
  {
   "cell_type": "markdown",
   "metadata": {},
   "source": [
    "#### Results of BANKSY"
   ]
  },
  {
   "cell_type": "code",
   "execution_count": null,
   "metadata": {},
   "outputs": [],
   "source": [
    "banksy_folder_path = Path(\"../data/banksy_results/\")"
   ]
  },
  {
   "cell_type": "code",
   "execution_count": null,
   "metadata": {},
   "outputs": [],
   "source": [
    "banksy_result = load_banksy_result(banksy_folder_path/\"banksy_cluster.txt\", coordinate_x_m, coordinate_y_m)"
   ]
  },
  {
   "cell_type": "markdown",
   "metadata": {},
   "source": [
    "#### Segmentation Dataset"
   ]
  },
  {
   "cell_type": "code",
   "execution_count": null,
   "metadata": {},
   "outputs": [],
   "source": [
    "merfish_data = load_merfish_data(MERFISH_data_folder_path / \"merfish_all_cells.csv\", \n",
    "                                 banksy_result, coordinate_x_m, coordinate_y_m, \n",
    "                                 animal_id=1, bregma_value=-0.24)"
   ]
  },
  {
   "cell_type": "markdown",
   "metadata": {},
   "source": [
    "#### Cell boundaries"
   ]
  },
  {
   "cell_type": "code",
   "execution_count": null,
   "metadata": {},
   "outputs": [],
   "source": [
    "boundaries_df = load_boundaries_data(MERFISH_data_folder_path/'cellboundaries_example_animal.csv', \n",
    "                                     merfish_data, coordinate_x_m, coordinate_y_m)"
   ]
  },
  {
   "cell_type": "markdown",
   "metadata": {},
   "source": [
    "#### OD cell boundaries"
   ]
  },
  {
   "cell_type": "code",
   "execution_count": null,
   "metadata": {},
   "outputs": [],
   "source": [
    "# boundaries, MOD\n",
    "MOD_boundaries = boundaries_df[(boundaries_df['banksy'] == 8) | (boundaries_df['banksy'] == 7)]\n",
    "other_boundaries = boundaries_df[~boundaries_df['banksy'].isin([8, 7])]"
   ]
  },
  {
   "cell_type": "markdown",
   "metadata": {},
   "source": [
    "#### Marker Genes\n",
    "\n",
    "differentially expressed genes identified by BANKSY"
   ]
  },
  {
   "cell_type": "code",
   "execution_count": null,
   "metadata": {},
   "outputs": [],
   "source": [
    "# all differentially expressed genes\n",
    "DE_genes = ['Mlc1', 'Dgkk', 'Cbln2', 'Syt4', 'Gad1', 'Plin3', 'Gnrh1', 'Sln', 'Gjc3', 'Mbp', 'Lpar1', 'Trh', 'Ucn3', 'Cck']\n",
    "# DE_genes_gm: 7\n",
    "DE_genes_gm = ['Mlc1', 'Dgkk', 'Cbln2', 'Syt4', 'Gad1', 'Plin3', 'Gnrh1', 'Sln', 'Gjc3']\n",
    "# DE_genes_wm: 8\n",
    "DE_genes_wm = ['Mbp', 'Lpar1', 'Trh', 'Ucn3', 'Cck']"
   ]
  },
  {
   "cell_type": "markdown",
   "metadata": {},
   "source": [
    "### Regions of Interest\n",
    "\n",
    "cell types and vsi\n",
    "\n",
    "x_range=[250, 350], y_range=[1450, 1550]  \n",
    "x_range=[1350, 1450], y_range=[1300, 1400]  \n",
    "x_range=[850, 950], y_range=[950, 1050]  \n",
    "x_range=[200, 300], y_range=[300, 400]  \n",
    "x_range=[1580, 1680], y_range=[350, 450] "
   ]
  },
  {
   "cell_type": "markdown",
   "metadata": {},
   "source": [
    "#### VSI"
   ]
  },
  {
   "cell_type": "code",
   "execution_count": null,
   "metadata": {},
   "outputs": [],
   "source": [
    "regions = [\n",
    "    {\"x\": 250, \"y\": 1450, \"name\": \"Region 1\"},\n",
    "    {\"x\": 1350, \"y\": 1300, \"name\": \"Region 2\"},\n",
    "    {\"x\": 850, \"y\": 950, \"name\": \"Region 3\"},\n",
    "    {\"x\": 200, \"y\": 300, \"name\": \"Region 4\"},\n",
    "    {\"x\": 1580, \"y\": 350, \"name\": \"Region 5\"}\n",
    "]"
   ]
  },
  {
   "cell_type": "code",
   "execution_count": null,
   "metadata": {},
   "outputs": [],
   "source": [
    "# complete vsi map\n",
    "VSI_ROI = plot_vsi_with_named_squares(signal_integrity, signal_strength, named_squares=regions)\n",
    "display(VSI_ROI)"
   ]
  },
  {
   "cell_type": "markdown",
   "metadata": {},
   "source": [
    "#### region 1\n",
    "x_range=[250, 350], y_range=[1450, 1550]  "
   ]
  },
  {
   "cell_type": "code",
   "execution_count": null,
   "metadata": {},
   "outputs": [],
   "source": [
    "plot_VSI_map(\n",
    "    cell_integrity=signal_integrity,\n",
    "    cell_strength=signal_strength,\n",
    "    boundary_df=boundaries_df,\n",
    "    signal_threshold=3.0,\n",
    "    figure_height=10,\n",
    "    cmap=\"BIH\",\n",
    "    x_range=[250,350],\n",
    "    y_range=[1450, 1550]\n",
    "    )"
   ]
  },
  {
   "cell_type": "code",
   "execution_count": null,
   "metadata": {},
   "outputs": [],
   "source": [
    "plot_celltypes(\n",
    "    cell_type=banksy_result,\n",
    "    boundary_df=other_boundaries,\n",
    "    MOD_boundary=MOD_boundaries,\n",
    "    x_range=[250,350],\n",
    "    y_range=[1450, 1550]\n",
    ")"
   ]
  },
  {
   "cell_type": "markdown",
   "metadata": {},
   "source": [
    "#### region 2\n",
    "x_range=[1350, 1450], y_range=[1300, 1400]  "
   ]
  },
  {
   "cell_type": "code",
   "execution_count": null,
   "metadata": {},
   "outputs": [],
   "source": [
    "plot_VSI_map(\n",
    "    cell_integrity=signal_integrity,\n",
    "    cell_strength=signal_strength,\n",
    "    boundary_df=boundaries_df,\n",
    "    signal_threshold=3.0,\n",
    "    figure_height=10,\n",
    "    cmap=\"BIH\",\n",
    "    x_range=[1350, 1450],\n",
    "    y_range=[1300, 1400]\n",
    "    )"
   ]
  },
  {
   "cell_type": "code",
   "execution_count": null,
   "metadata": {},
   "outputs": [],
   "source": [
    "plot_celltypes(\n",
    "    cell_type=banksy_result,\n",
    "    boundary_df=other_boundaries,\n",
    "    MOD_boundary=MOD_boundaries,\n",
    "    x_range=[1350, 1450],\n",
    "    y_range=[1300, 1400],\n",
    ")"
   ]
  },
  {
   "cell_type": "markdown",
   "metadata": {},
   "source": [
    "#### region 3\n",
    "x_range=[850, 950], y_range=[950, 1050]  "
   ]
  },
  {
   "cell_type": "code",
   "execution_count": null,
   "metadata": {},
   "outputs": [],
   "source": [
    "plot_VSI_map(\n",
    "    cell_integrity=signal_integrity,\n",
    "    cell_strength=signal_strength,\n",
    "    boundary_df=boundaries_df,\n",
    "    signal_threshold=3.0,\n",
    "    figure_height=10,\n",
    "    cmap=\"BIH\",\n",
    "    x_range=[850, 950],\n",
    "    y_range=[950, 1050]\n",
    "    )"
   ]
  },
  {
   "cell_type": "code",
   "execution_count": null,
   "metadata": {},
   "outputs": [],
   "source": [
    "plot_celltypes(\n",
    "    cell_type=banksy_result,\n",
    "    boundary_df=other_boundaries,\n",
    "    MOD_boundary=MOD_boundaries,\n",
    "    x_range=[850, 950],\n",
    "    y_range=[950, 1050]\n",
    ")"
   ]
  },
  {
   "cell_type": "markdown",
   "metadata": {},
   "source": [
    "#### region 4\n",
    "x_range=[200, 300], y_range=[300, 400]  "
   ]
  },
  {
   "cell_type": "code",
   "execution_count": null,
   "metadata": {},
   "outputs": [],
   "source": [
    "plot_VSI_map(\n",
    "    cell_integrity=signal_integrity,\n",
    "    cell_strength=signal_strength,\n",
    "    boundary_df=boundaries_df,\n",
    "    signal_threshold=3.0,\n",
    "    figure_height=10,\n",
    "    cmap=\"BIH\",\n",
    "    x_range=[200, 300],\n",
    "    y_range=[300, 400]\n",
    "    )"
   ]
  },
  {
   "cell_type": "code",
   "execution_count": null,
   "metadata": {},
   "outputs": [],
   "source": [
    "plot_celltypes(\n",
    "    cell_type=banksy_result,\n",
    "    boundary_df=other_boundaries,\n",
    "    MOD_boundary=MOD_boundaries,\n",
    "    x_range=[200, 300],\n",
    "    y_range=[300, 400],\n",
    ")"
   ]
  },
  {
   "cell_type": "markdown",
   "metadata": {},
   "source": [
    "#### region 5\n",
    "x_range=[1580, 1680], y_range=[350,450]  "
   ]
  },
  {
   "cell_type": "code",
   "execution_count": null,
   "metadata": {},
   "outputs": [],
   "source": [
    "plot_VSI_map(\n",
    "    cell_integrity=signal_integrity,\n",
    "    cell_strength=signal_strength,\n",
    "    boundary_df=boundaries_df,\n",
    "    signal_threshold=3.0,\n",
    "    figure_height=10,\n",
    "    cmap=\"BIH\",\n",
    "    x_range=[1580, 1680],\n",
    "    y_range=[350,450],\n",
    "    )"
   ]
  },
  {
   "cell_type": "code",
   "execution_count": null,
   "metadata": {},
   "outputs": [],
   "source": [
    "plot_celltypes(\n",
    "    cell_type=banksy_result,\n",
    "    boundary_df=other_boundaries,\n",
    "    MOD_boundary=MOD_boundaries,\n",
    "    x_range=[1580, 1680],\n",
    "    y_range=[350,450],\n",
    ")"
   ]
  },
  {
   "cell_type": "markdown",
   "metadata": {},
   "source": [
    "### Circle"
   ]
  },
  {
   "cell_type": "markdown",
   "metadata": {},
   "source": [
    "#### region1"
   ]
  },
  {
   "cell_type": "code",
   "execution_count": null,
   "metadata": {},
   "outputs": [],
   "source": [
    "plot_circular_neighborhood(signals_df=signal_coordinate_df,\n",
    "                                centroid_df=merfish_data, \n",
    "                                MOD_boundaries=MOD_boundaries,\n",
    "                                boundaries_df=other_boundaries, \n",
    "                                x_range=[250, 350], y_range=[1450, 1550], \n",
    "                                diameters=[6, 8, 10, 12], true_boundary=True, \n",
    "                                plot_top20=True, top20=top20.index)"
   ]
  },
  {
   "cell_type": "code",
   "execution_count": null,
   "metadata": {},
   "outputs": [],
   "source": [
    "plot_circular_neighborhood(signals_df=signal_coordinate_df,\n",
    "                                centroid_df=merfish_data, \n",
    "                                MOD_boundaries=MOD_boundaries,\n",
    "                                boundaries_df=other_boundaries, \n",
    "                                x_range=[250, 350], y_range=[1450, 1550], \n",
    "                                diameters=[6, 8, 10, 12], true_boundary=True, \n",
    "                                plot_top20=False, top20=None)"
   ]
  },
  {
   "cell_type": "markdown",
   "metadata": {},
   "source": [
    "#### region2"
   ]
  },
  {
   "cell_type": "code",
   "execution_count": null,
   "metadata": {},
   "outputs": [],
   "source": [
    "plot_circular_neighborhood(signals_df=signal_coordinate_df,\n",
    "                                centroid_df=merfish_data, \n",
    "                                MOD_boundaries=MOD_boundaries,\n",
    "                                boundaries_df=other_boundaries, \n",
    "                                x_range=[1350, 1450], y_range=[1300, 1400], \n",
    "                                diameters=[6, 8, 10, 12], true_boundary=True, \n",
    "                                plot_top20=True, top20=top20.index)"
   ]
  },
  {
   "cell_type": "code",
   "execution_count": null,
   "metadata": {},
   "outputs": [],
   "source": [
    "plot_circular_neighborhood(signals_df=signal_coordinate_df,\n",
    "                                centroid_df=merfish_data, \n",
    "                                MOD_boundaries=MOD_boundaries,\n",
    "                                boundaries_df=other_boundaries, \n",
    "                                x_range=[1350, 1450], y_range=[1300, 1400], \n",
    "                                diameters=[6, 8, 10, 12], true_boundary=True, \n",
    "                                plot_top20=False, top20=None)"
   ]
  },
  {
   "cell_type": "markdown",
   "metadata": {},
   "source": [
    "#### region3"
   ]
  },
  {
   "cell_type": "code",
   "execution_count": null,
   "metadata": {},
   "outputs": [],
   "source": [
    "plot_circular_neighborhood(signals_df=signal_coordinate_df,\n",
    "                                centroid_df=merfish_data, \n",
    "                                MOD_boundaries=MOD_boundaries,\n",
    "                                boundaries_df=other_boundaries, \n",
    "                                x_range=[850, 950], y_range=[950, 1050], \n",
    "                                diameters=[6, 8, 10, 12], true_boundary=True, \n",
    "                                plot_top20=True, top20=top20.index)"
   ]
  },
  {
   "cell_type": "code",
   "execution_count": null,
   "metadata": {},
   "outputs": [],
   "source": [
    "plot_circular_neighborhood(signals_df=signal_coordinate_df,\n",
    "                                centroid_df=merfish_data, \n",
    "                                MOD_boundaries=MOD_boundaries,\n",
    "                                boundaries_df=other_boundaries, \n",
    "                                x_range=[850, 950], y_range=[950, 1050], \n",
    "                                diameters=[6, 8, 10, 12], true_boundary=True, \n",
    "                                plot_top20=False, top20=None)"
   ]
  },
  {
   "cell_type": "markdown",
   "metadata": {},
   "source": [
    "#### region4"
   ]
  },
  {
   "cell_type": "code",
   "execution_count": null,
   "metadata": {},
   "outputs": [],
   "source": [
    "plot_circular_neighborhood(signals_df=signal_coordinate_df,\n",
    "                                centroid_df=merfish_data, \n",
    "                                MOD_boundaries=MOD_boundaries,\n",
    "                                boundaries_df=other_boundaries, \n",
    "                                x_range=[200, 300], y_range=[300, 400], \n",
    "                                diameters=[6, 8, 10, 12], true_boundary=True, \n",
    "                                plot_top20=True, top20=top20.index)"
   ]
  },
  {
   "cell_type": "code",
   "execution_count": null,
   "metadata": {},
   "outputs": [],
   "source": [
    "plot_circular_neighborhood(signals_df=signal_coordinate_df,\n",
    "                                centroid_df=merfish_data, \n",
    "                                MOD_boundaries=MOD_boundaries,\n",
    "                                boundaries_df=other_boundaries, \n",
    "                                x_range=[200, 300], y_range=[300, 400], \n",
    "                                diameters=[6, 8, 10, 12], true_boundary=True, \n",
    "                                plot_top20=False, top20=None)"
   ]
  },
  {
   "cell_type": "markdown",
   "metadata": {},
   "source": [
    "#### region5"
   ]
  },
  {
   "cell_type": "code",
   "execution_count": null,
   "metadata": {},
   "outputs": [],
   "source": [
    "plot_circular_neighborhood(signals_df=signal_coordinate_df,\n",
    "                                centroid_df=merfish_data, \n",
    "                                MOD_boundaries=MOD_boundaries,\n",
    "                                boundaries_df=other_boundaries, \n",
    "                                x_range=[1580, 1680], y_range=[350,450],\n",
    "                                diameters=[6, 8, 10, 12], true_boundary=True, \n",
    "                                plot_top20=True, top20=top20.index)"
   ]
  },
  {
   "cell_type": "code",
   "execution_count": null,
   "metadata": {},
   "outputs": [],
   "source": [
    "plot_circular_neighborhood(signals_df=signal_coordinate_df,\n",
    "                                centroid_df=merfish_data, \n",
    "                                MOD_boundaries=MOD_boundaries,\n",
    "                                boundaries_df=other_boundaries, \n",
    "                                x_range=[1580, 1680], y_range=[350,450],\n",
    "                                diameters=[6, 8, 10, 12], true_boundary=True, \n",
    "                                plot_top20=False, top20=None)"
   ]
  },
  {
   "cell_type": "markdown",
   "metadata": {},
   "source": [
    "### kNN"
   ]
  },
  {
   "cell_type": "markdown",
   "metadata": {},
   "source": [
    "#### region1"
   ]
  },
  {
   "cell_type": "code",
   "execution_count": null,
   "metadata": {},
   "outputs": [],
   "source": [
    "plot_knn_neighborhood(signals_df=signal_coordinate_df,\n",
    "                                centroid_df=merfish_data, \n",
    "                                MOD_boundaries=MOD_boundaries,\n",
    "                                boundaries_df=other_boundaries, \n",
    "                                x_range=[250, 350], y_range=[1450, 1550],\n",
    "                                neighbors=[40, 80, 160, 240], true_boundary=True, \n",
    "                                plot_top20=True, top20=top20.index)"
   ]
  },
  {
   "cell_type": "code",
   "execution_count": null,
   "metadata": {},
   "outputs": [],
   "source": [
    "plot_knn_neighborhood(signals_df=signal_coordinate_df,\n",
    "                                centroid_df=merfish_data, \n",
    "                                MOD_boundaries=MOD_boundaries,\n",
    "                                boundaries_df=other_boundaries,  \n",
    "                                x_range=[250, 350], y_range=[1450, 1550],\n",
    "                                neighbors=[40, 80, 160, 240], true_boundary=True, \n",
    "                                plot_top20=False, top20=None)"
   ]
  },
  {
   "cell_type": "markdown",
   "metadata": {},
   "source": [
    "#### region2"
   ]
  },
  {
   "cell_type": "code",
   "execution_count": null,
   "metadata": {},
   "outputs": [],
   "source": [
    "plot_knn_neighborhood(signals_df=signal_coordinate_df,\n",
    "                                centroid_df=merfish_data, \n",
    "                                MOD_boundaries=MOD_boundaries,\n",
    "                                boundaries_df=other_boundaries, \n",
    "                                x_range=[1350, 1450], y_range=[1300, 1400], \n",
    "                                neighbors=[40, 80, 160, 240], true_boundary=True, \n",
    "                                plot_top20=True, top20=top20.index)"
   ]
  },
  {
   "cell_type": "code",
   "execution_count": null,
   "metadata": {},
   "outputs": [],
   "source": [
    "plot_knn_neighborhood(signals_df=signal_coordinate_df,\n",
    "                                centroid_df=merfish_data, \n",
    "                                MOD_boundaries=MOD_boundaries,\n",
    "                                boundaries_df=other_boundaries, \n",
    "                                x_range=[1350, 1450], y_range=[1300, 1400], \n",
    "                                neighbors=[40, 80, 160, 240], true_boundary=True, \n",
    "                                plot_top20=False, top20=None)"
   ]
  },
  {
   "cell_type": "markdown",
   "metadata": {},
   "source": [
    "#### region3"
   ]
  },
  {
   "cell_type": "code",
   "execution_count": null,
   "metadata": {},
   "outputs": [],
   "source": [
    "plot_knn_neighborhood(signals_df=signal_coordinate_df,\n",
    "                                centroid_df=merfish_data, \n",
    "                                MOD_boundaries=MOD_boundaries,\n",
    "                                boundaries_df=other_boundaries, \n",
    "                                x_range=[850, 950], y_range=[950, 1050], \n",
    "                                neighbors=[40, 80, 160, 240], true_boundary=True, \n",
    "                                plot_top20=True, top20=top20.index)"
   ]
  },
  {
   "cell_type": "code",
   "execution_count": null,
   "metadata": {},
   "outputs": [],
   "source": [
    "plot_knn_neighborhood(signals_df=signal_coordinate_df,\n",
    "                                centroid_df=merfish_data, \n",
    "                                MOD_boundaries=MOD_boundaries,\n",
    "                                boundaries_df=other_boundaries, \n",
    "                                x_range=[850, 950], y_range=[950, 1050], \n",
    "                                neighbors=[40, 80, 160, 240], true_boundary=True, \n",
    "                                plot_top20=False, top20=None)"
   ]
  },
  {
   "cell_type": "markdown",
   "metadata": {},
   "source": [
    "#### region4"
   ]
  },
  {
   "cell_type": "code",
   "execution_count": null,
   "metadata": {},
   "outputs": [],
   "source": [
    "plot_knn_neighborhood(signals_df=signal_coordinate_df,\n",
    "                                centroid_df=merfish_data, \n",
    "                                MOD_boundaries=MOD_boundaries,\n",
    "                                boundaries_df=other_boundaries, \n",
    "                                x_range=[200, 300], y_range=[300, 400], \n",
    "                                neighbors=[40, 80, 160, 240], true_boundary=True, \n",
    "                                plot_top20=True, top20=top20.index)"
   ]
  },
  {
   "cell_type": "code",
   "execution_count": null,
   "metadata": {},
   "outputs": [],
   "source": [
    "plot_knn_neighborhood(signals_df=signal_coordinate_df,\n",
    "                                centroid_df=merfish_data, \n",
    "                                MOD_boundaries=MOD_boundaries,\n",
    "                                boundaries_df=other_boundaries, \n",
    "                                x_range=[200, 300], y_range=[300, 400], \n",
    "                                neighbors=[40, 80, 160, 240], true_boundary=True, \n",
    "                                plot_top20=False, top20=None)"
   ]
  },
  {
   "cell_type": "markdown",
   "metadata": {},
   "source": [
    "#### region5"
   ]
  },
  {
   "cell_type": "code",
   "execution_count": null,
   "metadata": {},
   "outputs": [],
   "source": [
    "plot_knn_neighborhood(signals_df=signal_coordinate_df,\n",
    "                                centroid_df=merfish_data, \n",
    "                                MOD_boundaries=MOD_boundaries,\n",
    "                                boundaries_df=other_boundaries, \n",
    "                                x_range=[1580, 1680], y_range=[350,450],\n",
    "                                neighbors=[40, 80, 160, 240], true_boundary=True, \n",
    "                                plot_top20=True, top20=top20.index)"
   ]
  },
  {
   "cell_type": "code",
   "execution_count": null,
   "metadata": {},
   "outputs": [],
   "source": [
    "plot_knn_neighborhood(signals_df=signal_coordinate_df,\n",
    "                                centroid_df=merfish_data, \n",
    "                                MOD_boundaries=MOD_boundaries,\n",
    "                                boundaries_df=other_boundaries, \n",
    "                                x_range=[1580, 1680], y_range=[350,450], \n",
    "                                neighbors=[40, 80, 160, 240], true_boundary=True, \n",
    "                                plot_top20=False, top20=None)"
   ]
  }
 ],
 "metadata": {
  "kernelspec": {
   "display_name": "ovrlpy_0513",
   "language": "python",
   "name": "python3"
  },
  "language_info": {
   "codemirror_mode": {
    "name": "ipython",
    "version": 3
   },
   "file_extension": ".py",
   "mimetype": "text/x-python",
   "name": "python",
   "nbconvert_exporter": "python",
   "pygments_lexer": "ipython3",
   "version": "3.12.10"
  }
 },
 "nbformat": 4,
 "nbformat_minor": 2
}
