{
 "cells": [
  {
   "cell_type": "markdown",
   "id": "174808ed",
   "metadata": {},
   "source": [
    "## Doublets Examples\n",
    "\n",
    "One for inhibitory, the other for excitatory"
   ]
  },
  {
   "cell_type": "code",
   "execution_count": null,
   "id": "4428d124",
   "metadata": {},
   "outputs": [],
   "source": [
    "from pathlib import Path\n",
    "\n",
    "import sys\n",
    "import os\n",
    "sys.path.append(os.path.abspath(\"../src\"))\n",
    "\n",
    "import importlib\n",
    "import utils\n",
    "import plot\n",
    "\n",
    "importlib.reload(utils)\n",
    "importlib.reload(plot)\n",
    "\n",
    "from utils import load_merfish_signal_df, load_banksy_result, load_merfish_data, load_boundaries_data\n",
    "from plot import CM\n",
    "\n",
    "import anndata as ad\n",
    "import numpy as np\n",
    "import polars as pl\n",
    "import matplotlib.pyplot as plt"
   ]
  },
  {
   "cell_type": "code",
   "execution_count": null,
   "id": "3548f02b",
   "metadata": {},
   "outputs": [],
   "source": [
    "from matplotlib_scalebar.scalebar import ScaleBar\n",
    "from matplotlib.patches import Rectangle\n",
    "from typing import Any\n",
    "\n",
    "from matplotlib.colors import LinearSegmentedColormap\n",
    "\n",
    "BIH_CMAP = LinearSegmentedColormap.from_list(\n",
    "    \"BIH\",\n",
    "    [\n",
    "        \"#430541\",\n",
    "        \"mediumvioletred\",\n",
    "        \"violet\",\n",
    "        \"powderblue\",\n",
    "        \"powderblue\",\n",
    "        \"white\",\n",
    "        \"white\",\n",
    "    ][::-1],\n",
    ")\n",
    "\n",
    "SCALEBAR_PARAMS: dict[str, Any] = {\n",
    "    \"dx\": 1,\n",
    "    \"units\": \"um\",\n",
    "    \"length_fraction\": 0.1,\n",
    "    \"location\": \"lower right\",\n",
    "    \"pad\": 0.1,\n",
    "    \"frameon\": False\n",
    "}\n",
    "\n",
    "def _plot_scalebar(ax, dx=1, units=\"um\", fontsize=5, color=\"black\", box_alpha=0, **kwargs):\n",
    "    scalebar = ScaleBar(\n",
    "        dx,\n",
    "        units=units,\n",
    "        scale_loc=\"top\", \n",
    "        sep=1,\n",
    "        **kwargs\n",
    "    )\n",
    "    scalebar.set_font_properties({\"size\": fontsize})\n",
    "    scalebar.linewidth = 0.3\n",
    "    scalebar.box_alpha = box_alpha\n",
    "    scalebar.color = color\n",
    "    ax.add_artist(scalebar)"
   ]
  },
  {
   "cell_type": "markdown",
   "id": "817287e4",
   "metadata": {},
   "source": [
    "### data"
   ]
  },
  {
   "cell_type": "markdown",
   "id": "f9006155",
   "metadata": {},
   "source": [
    "#### Signals in the Tissue Section"
   ]
  },
  {
   "cell_type": "code",
   "execution_count": null,
   "id": "a10dc4b8",
   "metadata": {},
   "outputs": [],
   "source": [
    "MERFISH_data_folder_path = Path(\"../data/mouse_hypothalamus/MERFISH/\")"
   ]
  },
  {
   "cell_type": "code",
   "execution_count": null,
   "id": "35fef7a1",
   "metadata": {},
   "outputs": [],
   "source": [
    "signal_coordinate_df, coordinate_x_m, coordinate_y_m = load_merfish_signal_df(MERFISH_data_folder_path/\"merfish_barcodes_example.csv\")"
   ]
  },
  {
   "cell_type": "markdown",
   "id": "b6b1d394",
   "metadata": {},
   "source": [
    "#### Results of BANKSY"
   ]
  },
  {
   "cell_type": "code",
   "execution_count": null,
   "id": "c9ee29ab",
   "metadata": {},
   "outputs": [],
   "source": [
    "banksy_folder_path = Path(\"../data/banksy_results/\")"
   ]
  },
  {
   "cell_type": "code",
   "execution_count": null,
   "id": "b7cb561e",
   "metadata": {},
   "outputs": [],
   "source": [
    "banksy_result = load_banksy_result(banksy_folder_path/\"banksy_cluster.txt\", coordinate_x_m, coordinate_y_m)"
   ]
  },
  {
   "cell_type": "markdown",
   "id": "a04e7637",
   "metadata": {},
   "source": [
    "#### Segmentation Dataset"
   ]
  },
  {
   "cell_type": "code",
   "execution_count": null,
   "id": "4327f68f",
   "metadata": {},
   "outputs": [],
   "source": [
    "merfish_data = load_merfish_data(MERFISH_data_folder_path / \"merfish_all_cells.csv\", \n",
    "                                 banksy_result, coordinate_x_m, coordinate_y_m, \n",
    "                                 animal_id=1, bregma_value=-0.24)"
   ]
  },
  {
   "cell_type": "markdown",
   "id": "eba4151a",
   "metadata": {},
   "source": [
    "#### Cell boundaries"
   ]
  },
  {
   "cell_type": "code",
   "execution_count": null,
   "id": "32750e5c",
   "metadata": {},
   "outputs": [],
   "source": [
    "boundaries_df = load_boundaries_data(MERFISH_data_folder_path/'cellboundaries_example_animal.csv', \n",
    "                                     merfish_data, coordinate_x_m, coordinate_y_m)"
   ]
  },
  {
   "cell_type": "markdown",
   "id": "94d26dfa",
   "metadata": {},
   "source": [
    "### Doublets"
   ]
  },
  {
   "cell_type": "code",
   "execution_count": null,
   "id": "633f3cf5",
   "metadata": {},
   "outputs": [],
   "source": [
    "ovrlpy_result_folder = Path(\"../data/results/VSI/\")\n",
    "\n",
    "signal_integrity = np.loadtxt(ovrlpy_result_folder/\"SignalIntegrity.txt\")\n",
    "signal_strength = np.loadtxt(ovrlpy_result_folder/\"SignalStrength.txt\")\n",
    "pseudocells = ad.read_h5ad(ovrlpy_result_folder/\"pseudocells.h5ad\")\n",
    "doublets = pl.read_csv(ovrlpy_result_folder/\"doublets_df.csv\")"
   ]
  },
  {
   "cell_type": "code",
   "execution_count": null,
   "id": "2f75ad37",
   "metadata": {},
   "outputs": [],
   "source": [
    "windowsize = 60\n",
    "window_size = windowsize / 2\n",
    "signal_threshold=3.0\n",
    "roi_scatter_kwargs = dict(marker=\".\", alpha=0.8, s=11)"
   ]
  },
  {
   "cell_type": "markdown",
   "id": "0b35a20d",
   "metadata": {},
   "source": [
    "#### UMAP"
   ]
  },
  {
   "cell_type": "code",
   "execution_count": null,
   "id": "b229fd61",
   "metadata": {},
   "outputs": [],
   "source": [
    "embedding = pseudocells.obsm[\"2D_UMAP\"]\n",
    "RGB = pseudocells.obsm[\"RGB\"]"
   ]
  },
  {
   "cell_type": "code",
   "execution_count": null,
   "id": "21fdaaad",
   "metadata": {},
   "outputs": [],
   "source": [
    "fig, ax = plt.subplots(figsize=(8*CM, 8*CM), dpi=600)\n",
    "ax.scatter(\n",
    "    embedding[:, 0],\n",
    "    embedding[:, 1],\n",
    "    c=RGB,\n",
    "    alpha=0.5,\n",
    "    marker=\".\",\n",
    "    edgecolors='none',\n",
    "    s=5,\n",
    ")\n",
    "ax.set(aspect='equal', adjustable='box')\n",
    "\n",
    "ax.set_xlim(-8,17)\n",
    "ax.set_ylim(-8,17)\n",
    "\n",
    "for spine in ax.spines.values():\n",
    "        spine.set_linewidth(0.3)\n",
    "\n",
    "ax.set_xticks([])\n",
    "ax.set_yticks([])\n",
    "plt.title(\"UMAP\", fontsize=7)\n",
    "plt.tight_layout()\n",
    "plt.savefig(\"./UMAP.pdf\")\n",
    "plt.show()\n"
   ]
  },
  {
   "cell_type": "markdown",
   "id": "88316d62",
   "metadata": {},
   "source": [
    "#### Cell Map"
   ]
  },
  {
   "cell_type": "code",
   "execution_count": null,
   "id": "9ab6147b",
   "metadata": {},
   "outputs": [],
   "source": [
    "spatial = pseudocells.obsm[\"spatial\"]"
   ]
  },
  {
   "cell_type": "code",
   "execution_count": null,
   "id": "09f927a2",
   "metadata": {},
   "outputs": [],
   "source": [
    "fig, ax = plt.subplots(figsize=(8*CM, 8*CM), dpi=600)\n",
    "ax.scatter(\n",
    "    spatial[:, 0],\n",
    "    spatial[:, 1],\n",
    "    c=RGB,\n",
    "    alpha=0.8,\n",
    "    marker=\".\",\n",
    "    edgecolors='none',\n",
    "    s=5,\n",
    ")\n",
    "ax.set(aspect=\"equal\")\n",
    "\n",
    "x_center, y_center = doublets[\"x\", \"y\"].row(49)\n",
    "x0 = x_center - window_size\n",
    "y0 = y_center - window_size\n",
    "square = Rectangle(\n",
    "    (x0, y0),\n",
    "    width=windowsize,\n",
    "    height=windowsize,\n",
    "    linewidth=0.4,\n",
    "    fill=False,\n",
    "    edgecolor=\"k\",\n",
    ")\n",
    "ax.add_patch(square)\n",
    "ax.text(\n",
    "            x0 + windowsize / 2, y0 + windowsize + 10,\n",
    "            \"ROI 1\",\n",
    "            color=\"k\",\n",
    "            fontsize=5,\n",
    "            fontweight='light',\n",
    "            ha='center'\n",
    "        )\n",
    "\n",
    "x_center, y_center = doublets[\"x\", \"y\"].row(158)\n",
    "x0 = x_center - window_size\n",
    "y0 = y_center - window_size\n",
    "square = Rectangle(\n",
    "    (x0, y0),\n",
    "    width=windowsize,\n",
    "    height=windowsize,\n",
    "    linewidth=0.4,\n",
    "    fill=False,\n",
    "    edgecolor=\"k\",\n",
    ")\n",
    "ax.add_patch(square)\n",
    "ax.text(\n",
    "            x0 + windowsize / 2, y0 + windowsize + 10,\n",
    "            \"ROI 2\",\n",
    "            color=\"k\",\n",
    "            fontsize=5,\n",
    "            fontweight='light',\n",
    "            ha='center'\n",
    "        )\n",
    "\n",
    "_plot_scalebar(ax, dx=1, units=\"um\", location=\"lower left\", length_fraction=0.25, fontsize=5, box_alpha=1)\n",
    "\n",
    "ax.set_xticks([])\n",
    "ax.set_yticks([])\n",
    "for spine in ax.spines.values():\n",
    "        spine.set_linewidth(0.3)\n",
    "ax.set_xlim(-30,1830)\n",
    "ax.set_ylim(-30,1830)\n",
    "ax.set_aspect('equal')\n",
    "plt.title(\"Cell Type Map\", fontsize=7)\n",
    "plt.tight_layout()\n",
    "plt.show()"
   ]
  },
  {
   "cell_type": "markdown",
   "id": "4d1a8eca",
   "metadata": {},
   "source": [
    "#### Doublet1: Inhibitory\n",
    "\n",
    "doublet_to_show = 49  \n",
    "x,y = 292, 924"
   ]
  },
  {
   "cell_type": "code",
   "execution_count": null,
   "id": "b91b3812",
   "metadata": {},
   "outputs": [],
   "source": [
    "ROI_in = pl.read_parquet(ovrlpy_result_folder/\"roi_transcripts_In.parquet\")\n",
    "\n",
    "doublet_to_show = 49\n",
    "x, y = doublets[\"x\", \"y\"].row(doublet_to_show)\n",
    "roi = ((x - window_size, x + window_size), (y - window_size, y + window_size))"
   ]
  },
  {
   "cell_type": "code",
   "execution_count": null,
   "id": "027c8d49",
   "metadata": {},
   "outputs": [],
   "source": [
    "fig, ax = plt.subplots(figsize=(7*CM, 6*CM), dpi=600)\n",
    "ax.set_facecolor(\"black\")\n",
    "img = ax.imshow(\n",
    "        signal_integrity,\n",
    "        cmap=BIH_CMAP,\n",
    "        alpha=((signal_strength / signal_threshold).clip(0, 1) ** 2),\n",
    "        vmin=0,\n",
    "        vmax=1,\n",
    "        rasterized=True\n",
    "    )\n",
    "ax.invert_yaxis()\n",
    "ax.set(xlim=roi[0], ylim=roi[1])\n",
    "\n",
    "cbar = fig.colorbar(img, ax=ax, shrink=0.95)\n",
    "cbar.ax.tick_params(labelsize=6, width=0.3)\n",
    "for spine in cbar.ax.spines.values():\n",
    "    spine.set_linewidth(0.3)\n",
    "\n",
    "_plot_scalebar(ax, dx=1, units=\"um\", location=\"lower left\", length_fraction=0.2, fontsize=5, color=\"white\")\n",
    "\n",
    "ax.set(xticks=[], yticks=[])\n",
    "ax.set_title(\"Vertical Signal Integrity\", fontsize=7)\n",
    "ax.set_aspect('equal')\n",
    "\n",
    "plt.show()"
   ]
  },
  {
   "cell_type": "code",
   "execution_count": null,
   "id": "83d1e779",
   "metadata": {},
   "outputs": [],
   "source": [
    "roi_top = ROI_in.filter(pl.col(\"z\") > pl.col(\"z_center\"))\n",
    "\n",
    "(x_min, x_max), (y_min, y_max) = roi\n",
    "fig, ax = plt.subplots(figsize=(6*CM, 6*CM), dpi=600)\n",
    "ax.scatter(\n",
    "    roi_top[\"x\"],\n",
    "    roi_top[\"y\"],\n",
    "    c=roi_top[\"RGB\"].to_numpy(),\n",
    "    **roi_scatter_kwargs,\n",
    "    edgecolors='none'\n",
    ")\n",
    "ax.set(xlim=(x_min, x_max), ylim=(y_min, y_max))\n",
    "\n",
    "filtered_df = boundaries_df[\n",
    "    (boundaries_df['x'] >= x_min) & (boundaries_df['x'] <= x_max) &\n",
    "    (boundaries_df['y'] >= y_min) & (boundaries_df['y'] <= y_max)\n",
    "]\n",
    "\n",
    "ax.spines[[\"top\", \"right\"]].set_visible(True)\n",
    "for _, row in filtered_df.iterrows():\n",
    "    ax.plot(row['boundaryX'], row['boundaryY'], c='#2C2C2C', linewidth=0.7)\n",
    "\n",
    "ax.set_xticks([])\n",
    "ax.set_yticks([])\n",
    "ax.set_aspect('equal')\n",
    "\n",
    "for spine in ax.spines.values():\n",
    "    spine.set_linewidth(0.3)\n",
    "\n",
    "plt.title(\"Top\", fontsize=7)\n",
    "plt.tight_layout()\n",
    "plt.show()"
   ]
  },
  {
   "cell_type": "code",
   "execution_count": null,
   "id": "cbd709fd",
   "metadata": {},
   "outputs": [],
   "source": [
    "roi_bottom = ROI_in.filter(pl.col(\"z\") < pl.col(\"z_center\"))[::-1]\n",
    "(x_min, x_max), (y_min, y_max) = roi\n",
    "\n",
    "fig, ax = plt.subplots(figsize=(6*CM, 6*CM), dpi=600)\n",
    "ax.scatter(\n",
    "    roi_bottom[\"x\"],\n",
    "    roi_bottom[\"y\"],\n",
    "    c=roi_bottom[\"RGB\"].to_numpy(),\n",
    "    **roi_scatter_kwargs,\n",
    "    edgecolors='none',\n",
    ")\n",
    "ax.set(xlim=(x_min, x_max), ylim=(y_min, y_max))\n",
    "\n",
    "filtered_df = boundaries_df[\n",
    "    (boundaries_df['x'] >= x_min) & (boundaries_df['x'] <= x_max) &\n",
    "    (boundaries_df['y'] >= y_min) & (boundaries_df['y'] <= y_max)\n",
    "]\n",
    "\n",
    "for _, row in filtered_df.iterrows():\n",
    "    ax.plot(row['boundaryX'], row['boundaryY'], c='#2C2C2C', linewidth=0.7)\n",
    "\n",
    "ax.set_xticks([])\n",
    "ax.set_yticks([])\n",
    "ax.set_aspect('equal')\n",
    "\n",
    "for spine in ax.spines.values():\n",
    "    spine.set_linewidth(0.3)\n",
    "\n",
    "plt.title(\"Bottom\", fontsize=7)\n",
    "plt.tight_layout()  \n",
    "plt.show()"
   ]
  },
  {
   "cell_type": "markdown",
   "id": "7807e7d9",
   "metadata": {},
   "source": [
    "#### Doublet2: Excitatory\n",
    "\n",
    "doublet_to_show = 158  "
   ]
  },
  {
   "cell_type": "code",
   "execution_count": null,
   "id": "add5eee8",
   "metadata": {},
   "outputs": [],
   "source": [
    "ROI_ex =pl.read_parquet(ovrlpy_result_folder/\"roi_transcripts_Ex.parquet\")\n",
    "\n",
    "doublet_to_show = 158\n",
    "x, y = doublets[\"x\", \"y\"].row(doublet_to_show)\n",
    "roi = ((x - window_size, x + window_size), (y - window_size, y + window_size))"
   ]
  },
  {
   "cell_type": "code",
   "execution_count": null,
   "id": "76a1865a",
   "metadata": {},
   "outputs": [],
   "source": [
    "fig, ax = plt.subplots(figsize=(7*CM, 6*CM), dpi=600)\n",
    "\n",
    "ax.set_facecolor(\"black\")\n",
    "img = ax.imshow(\n",
    "    signal_integrity,\n",
    "    cmap=BIH_CMAP,\n",
    "    alpha=((signal_strength / signal_threshold).clip(0, 1) ** 2),\n",
    "    vmin=0,\n",
    "    vmax=1\n",
    ")\n",
    "ax.invert_yaxis()\n",
    "ax.set(xlim=roi[0], ylim=roi[1])\n",
    "\n",
    "cbar = fig.colorbar(img, ax=ax, shrink=0.95)\n",
    "cbar.ax.tick_params(labelsize=6, width=0.3)\n",
    "for spine in cbar.ax.spines.values():\n",
    "    spine.set_linewidth(0.3)\n",
    "\n",
    "ax.set(xticks=[], yticks=[])\n",
    "ax.set_title(\"Vertical Signal Integrity\", fontsize=7)\n",
    "ax.set_aspect('equal')\n",
    "\n",
    "plt.show()"
   ]
  },
  {
   "cell_type": "code",
   "execution_count": null,
   "id": "711c2ca0",
   "metadata": {},
   "outputs": [],
   "source": [
    "roi_top = ROI_ex.filter(pl.col(\"z\") > pl.col(\"z_center\"))\n",
    "(x_min, x_max), (y_min, y_max) = roi\n",
    "\n",
    "fig, ax = plt.subplots(figsize=(6*CM, 6*CM), dpi=600)\n",
    "ax.scatter(\n",
    "    roi_top[\"x\"],\n",
    "    roi_top[\"y\"],\n",
    "    c=roi_top[\"RGB\"].to_numpy(),\n",
    "    **roi_scatter_kwargs,\n",
    "    edgecolors='none'\n",
    ")\n",
    "\n",
    "filtered_df = boundaries_df[\n",
    "    (boundaries_df['x'] >= x_min) & (boundaries_df['x'] <= x_max) &\n",
    "    (boundaries_df['y'] >= y_min) & (boundaries_df['y'] <= y_max)\n",
    "]\n",
    "\n",
    "ax.spines[[\"top\", \"right\"]].set_visible(True)\n",
    "for _, row in filtered_df.iterrows():\n",
    "    ax.plot(row['boundaryX'], row['boundaryY'], c='#2C2C2C', linewidth=0.7)\n",
    "\n",
    "ax.set(xlim=(x_min, x_max), ylim=(y_min, y_max))\n",
    "ax.set(xticks=[], yticks=[])\n",
    "ax.set_aspect('equal')\n",
    "\n",
    "for spine in ax.spines.values():\n",
    "    spine.set_linewidth(0.3)\n",
    "\n",
    "plt.title(\"Top\", fontsize=7)\n",
    "plt.tight_layout()\n",
    "plt.show()"
   ]
  },
  {
   "cell_type": "code",
   "execution_count": null,
   "id": "7a1c7aea",
   "metadata": {},
   "outputs": [],
   "source": [
    "roi_bottom = ROI_ex.filter(pl.col(\"z\") < pl.col(\"z_center\"))[::-1]\n",
    "(x_min, x_max), (y_min, y_max) = roi\n",
    "\n",
    "fig, ax = plt.subplots(figsize=(6*CM, 6*CM), dpi=600)\n",
    "ax.scatter(\n",
    "    roi_bottom[\"x\"],\n",
    "    roi_bottom[\"y\"],\n",
    "    c=roi_bottom[\"RGB\"].to_numpy(),\n",
    "    **roi_scatter_kwargs,\n",
    "    edgecolors='none',\n",
    ")\n",
    "\n",
    "filtered_df = boundaries_df[\n",
    "    (boundaries_df['x'] >= x_min) & (boundaries_df['x'] <= x_max) &\n",
    "    (boundaries_df['y'] >= y_min) & (boundaries_df['y'] <= y_max)\n",
    "]\n",
    "\n",
    "ax.spines[[\"top\", \"right\"]].set_visible(True)\n",
    "for _, row in filtered_df.iterrows():\n",
    "    ax.plot(row['boundaryX'], row['boundaryY'], c='#2C2C2C', linewidth=0.7)\n",
    "\n",
    "ax.set(xlim=(x_min, x_max), ylim=(y_min, y_max))\n",
    "ax.set(xticks=[], yticks=[])\n",
    "ax.set_aspect('equal')\n",
    "\n",
    "for spine in ax.spines.values():\n",
    "    spine.set_linewidth(0.3)\n",
    "\n",
    "plt.title(\"Bottom\", fontsize=7)\n",
    "plt.tight_layout()\n",
    "plt.show()"
   ]
  }
 ],
 "metadata": {
  "kernelspec": {
   "display_name": "ovrlpy",
   "language": "python",
   "name": "python3"
  },
  "language_info": {
   "codemirror_mode": {
    "name": "ipython",
    "version": 3
   },
   "file_extension": ".py",
   "mimetype": "text/x-python",
   "name": "python",
   "nbconvert_exporter": "python",
   "pygments_lexer": "ipython3",
   "version": "3.12.11"
  }
 },
 "nbformat": 4,
 "nbformat_minor": 5
}
