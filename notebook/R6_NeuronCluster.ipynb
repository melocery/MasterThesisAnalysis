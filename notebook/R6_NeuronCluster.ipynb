{
 "cells": [
  {
   "cell_type": "markdown",
   "metadata": {},
   "source": [
    "## Result 6: neuron clusters\n",
    "specific neuronal clusters identified by scRNA-seq"
   ]
  },
  {
   "cell_type": "code",
   "execution_count": null,
   "metadata": {},
   "outputs": [],
   "source": [
    "from pathlib import Path\n",
    "\n",
    "import sys\n",
    "import os\n",
    "sys.path.append(os.path.abspath(\"../src\"))\n",
    "from utils import order_neuron_clusters, get_cluster_boundaries, load_scRNA_data\n",
    "from plot import plot_neuron_cluster_heatmap\n",
    "\n",
    "import numpy as np\n",
    "import pandas as pd"
   ]
  },
  {
   "cell_type": "markdown",
   "metadata": {},
   "source": [
    "### data"
   ]
  },
  {
   "cell_type": "markdown",
   "metadata": {},
   "source": [
    "#### Matched Single-Cell RNA Sequencing"
   ]
  },
  {
   "cell_type": "code",
   "execution_count": null,
   "metadata": {},
   "outputs": [],
   "source": [
    "# Define file paths\n",
    "single_cell_data_folder_path = Path(\"../data/mouse_hypothalamus/SingleCell/\")\n",
    "mtx_path = single_cell_data_folder_path / \"GSE113576_matrix.mtx\"\n",
    "barcodes_path = single_cell_data_folder_path / \"GSE113576_barcodes.tsv\"\n",
    "genes_path = single_cell_data_folder_path / \"GSE113576_genes.tsv\"\n",
    "meta_path = single_cell_data_folder_path / \"aau5324_Moffitt_Table-S1.xlsx\""
   ]
  },
  {
   "cell_type": "code",
   "execution_count": null,
   "metadata": {},
   "outputs": [],
   "source": [
    "cell_class_dict = {\n",
    "    'Excitatory': 'Excitatory',\n",
    "    'Inhibitory': 'Inhibitory',\n",
    "}\n",
    "\n",
    "adata = load_scRNA_data(\n",
    "    mtx_path, \n",
    "    barcodes_path, \n",
    "    genes_path, \n",
    "    meta_path, \n",
    "    cell_class_filter = cell_class_dict,\n",
    "    neuron_cluster=True\n",
    ")"
   ]
  },
  {
   "cell_type": "code",
   "execution_count": null,
   "metadata": {},
   "outputs": [],
   "source": [
    "sc_data = adata.to_df()\n",
    "neuron_cluster = adata.obs[\"Neuronal_cluster\"]\n",
    "sc_data[\"Neuronal_cluster\"] = neuron_cluster"
   ]
  },
  {
   "cell_type": "code",
   "execution_count": null,
   "metadata": {},
   "outputs": [],
   "source": [
    "from natsort import natsorted\n",
    "\n",
    "clusters = sc_data['Neuronal_cluster'].unique()\n",
    "sorted_clusters = natsorted(clusters)\n",
    "\n",
    "sorted_index = []\n",
    "for cluster in sorted_clusters:\n",
    "    cells = sc_data.index[sc_data['Neuronal_cluster'] == cluster]\n",
    "    sorted_index.extend(cells)\n",
    "\n",
    "sc_data_sorted = sc_data.loc[sorted_index]"
   ]
  },
  {
   "cell_type": "markdown",
   "metadata": {},
   "source": [
    "#### Marker Genes\n",
    "\n",
    "differentially expressed genes identified by BANKSY"
   ]
  },
  {
   "cell_type": "code",
   "execution_count": null,
   "metadata": {},
   "outputs": [],
   "source": [
    "# all differentially expressed genes\n",
    "DE_genes = ['Mlc1', 'Dgkk', 'Cbln2', 'Syt4', 'Gad1', 'Plin3', 'Gnrh1', 'Sln', 'Gjc3', 'Mbp', 'Lpar1', 'Trh', 'Ucn3', 'Cck']\n",
    "# DE_genes_MOD2: 7\n",
    "DE_genes_MOD2 = ['Mlc1', 'Dgkk', 'Cbln2', 'Syt4', 'Gad1', 'Plin3', 'Gnrh1', 'Sln', 'Gjc3']\n",
    "# DE_genes_MOD1: 8\n",
    "DE_genes_MOD1 = ['Mbp', 'Lpar1', 'Trh', 'Ucn3', 'Cck']"
   ]
  },
  {
   "cell_type": "code",
   "execution_count": null,
   "metadata": {},
   "outputs": [],
   "source": [
    "Gene_Group = pd.DataFrame([0,0,0,0,0,0,0,0,0,1,1,1,1,1], columns=['cluster'])"
   ]
  },
  {
   "cell_type": "code",
   "execution_count": null,
   "metadata": {},
   "outputs": [],
   "source": [
    "# Excitatory\n",
    "Ex_sc_data = sc_data_sorted[sc_data_sorted['Neuronal_cluster'].str.startswith(\"e\")]\n",
    "sc_MOD2 = Ex_sc_data.loc[:, [gene for gene in DE_genes_MOD2 if gene in Ex_sc_data.columns]]\n",
    "sc_MOD1 = Ex_sc_data.loc[:, [gene for gene in DE_genes_MOD1 if gene in Ex_sc_data.columns]]\n",
    "Ex_DE = pd.concat([sc_MOD2, sc_MOD1], axis=1)\n",
    "\n",
    "Ex_cluster = Ex_sc_data[\"Neuronal_cluster\"]"
   ]
  },
  {
   "cell_type": "code",
   "execution_count": null,
   "metadata": {},
   "outputs": [],
   "source": [
    "Ex_DE.shape"
   ]
  },
  {
   "cell_type": "code",
   "execution_count": null,
   "metadata": {},
   "outputs": [],
   "source": [
    "# Inhibitory\n",
    "In_sc_data = sc_data_sorted[sc_data_sorted['Neuronal_cluster'].str.startswith(\"i\")]\n",
    "sc_MOD2 = In_sc_data.loc[:, [gene for gene in DE_genes_MOD2 if gene in In_sc_data.columns]]\n",
    "sc_MOD1 = In_sc_data.loc[:, [gene for gene in DE_genes_MOD1 if gene in In_sc_data.columns]]\n",
    "In_DE = pd.concat([sc_MOD2, sc_MOD1], axis=1)\n",
    "\n",
    "In_cluster = In_sc_data[\"Neuronal_cluster\"]"
   ]
  },
  {
   "cell_type": "code",
   "execution_count": null,
   "metadata": {},
   "outputs": [],
   "source": [
    "In_DE.shape"
   ]
  },
  {
   "cell_type": "code",
   "execution_count": null,
   "metadata": {},
   "outputs": [],
   "source": [
    "# Hybrid\n",
    "Hy_sc_data = sc_data_sorted[sc_data_sorted['Neuronal_cluster'].str.startswith(\"h\")]\n",
    "sc_MOD2 = Hy_sc_data.loc[:, [gene for gene in DE_genes_MOD2 if gene in Hy_sc_data.columns]]\n",
    "sc_MOD1 = Hy_sc_data.loc[:, [gene for gene in DE_genes_MOD1 if gene in Hy_sc_data.columns]]\n",
    "Hy_DE = pd.concat([sc_MOD2, sc_MOD1], axis=1)\n",
    "\n",
    "Hy_cluster = Hy_sc_data[\"Neuronal_cluster\"]\n"
   ]
  },
  {
   "cell_type": "code",
   "execution_count": null,
   "metadata": {},
   "outputs": [],
   "source": [
    "Hy_DE.shape"
   ]
  },
  {
   "cell_type": "markdown",
   "metadata": {},
   "source": [
    "### Excitatory"
   ]
  },
  {
   "cell_type": "code",
   "execution_count": null,
   "metadata": {},
   "outputs": [],
   "source": [
    "re_Ex_DE, re_Ex_clu = order_neuron_clusters(cluster_data=Ex_DE, cluster_labels=Ex_cluster, gene_groups=Gene_Group, zscore=True)"
   ]
  },
  {
   "cell_type": "code",
   "execution_count": null,
   "metadata": {},
   "outputs": [],
   "source": [
    "cluster_info = get_cluster_boundaries(re_Ex_clu)\n",
    "print(cluster_info)"
   ]
  },
  {
   "cell_type": "code",
   "execution_count": null,
   "metadata": {},
   "outputs": [],
   "source": [
    "plot_neuron_cluster_heatmap(re_Ex_DE.iloc[:,:2809], re_Ex_clu[:2809], DE_g=True, figures=(15,25))"
   ]
  },
  {
   "cell_type": "code",
   "execution_count": null,
   "metadata": {},
   "outputs": [],
   "source": [
    "plot_neuron_cluster_heatmap(re_Ex_DE.iloc[:,2809:], re_Ex_clu[2809:], DE_g=True, figures=(15,6))"
   ]
  },
  {
   "cell_type": "markdown",
   "metadata": {},
   "source": [
    "### Inhibitory"
   ]
  },
  {
   "cell_type": "code",
   "execution_count": null,
   "metadata": {},
   "outputs": [],
   "source": [
    "re_IN_DE, re_IN_clu = order_neuron_clusters(cluster_data=In_DE, cluster_labels=In_cluster, gene_groups=Gene_Group, zscore=True)"
   ]
  },
  {
   "cell_type": "code",
   "execution_count": null,
   "metadata": {},
   "outputs": [],
   "source": [
    "cluster_info = get_cluster_boundaries(re_IN_clu)\n",
    "print(cluster_info)"
   ]
  },
  {
   "cell_type": "code",
   "execution_count": null,
   "metadata": {},
   "outputs": [],
   "source": [
    "plot_neuron_cluster_heatmap(re_IN_DE.iloc[:,:4865], re_IN_clu[:4865], DE_g=True, figures=(15,25))"
   ]
  },
  {
   "cell_type": "code",
   "execution_count": null,
   "metadata": {},
   "outputs": [],
   "source": [
    "plot_neuron_cluster_heatmap(re_IN_DE.iloc[:,4865:8702], re_IN_clu[4865:8702], DE_g=True, figures=(15,25))"
   ]
  },
  {
   "cell_type": "code",
   "execution_count": null,
   "metadata": {},
   "outputs": [],
   "source": [
    "plot_neuron_cluster_heatmap(re_IN_DE.iloc[:,8702:12840], re_IN_clu[8702:12840], DE_g=True, figures=(15,25))"
   ]
  },
  {
   "cell_type": "code",
   "execution_count": null,
   "metadata": {},
   "outputs": [],
   "source": [
    "plot_neuron_cluster_heatmap(re_IN_DE.iloc[:,12841:], re_IN_clu[12841:], DE_g=True, figures=(15,11))"
   ]
  },
  {
   "cell_type": "markdown",
   "metadata": {},
   "source": [
    "### Hybrid"
   ]
  },
  {
   "cell_type": "code",
   "execution_count": null,
   "metadata": {},
   "outputs": [],
   "source": [
    "re_Hy_DE, re_Hy_clu = order_neuron_clusters(cluster_data=Hy_DE, cluster_labels=Hy_cluster, gene_groups=Gene_Group, zscore=True)"
   ]
  },
  {
   "cell_type": "code",
   "execution_count": null,
   "metadata": {},
   "outputs": [],
   "source": [
    "plot_neuron_cluster_heatmap(re_Hy_DE, re_Hy_clu, DE_g=True,  figures=(15,3))"
   ]
  }
 ],
 "metadata": {
  "kernelspec": {
   "display_name": "ovrlpy_0513",
   "language": "python",
   "name": "python3"
  },
  "language_info": {
   "codemirror_mode": {
    "name": "ipython",
    "version": 3
   },
   "file_extension": ".py",
   "mimetype": "text/x-python",
   "name": "python",
   "nbconvert_exporter": "python",
   "pygments_lexer": "ipython3",
   "version": "3.12.10"
  }
 },
 "nbformat": 4,
 "nbformat_minor": 2
}
