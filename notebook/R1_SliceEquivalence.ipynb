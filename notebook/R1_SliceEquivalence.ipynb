{
 "cells": [
  {
   "cell_type": "markdown",
   "metadata": {},
   "source": [
    "## Result 1: Slices Equivalence\n",
    "BANKSY identified two subtypes in mature oligodendrocytes (MOD)  \n",
    "- These were primarily shown at Bregma = 0.16 and 0.26 in their paper  \n",
    "- The findings consistently appear across slices in similar regions  \n",
    "\n",
    "In this project, the main goal is to examine if the two subtypes are truly distinct.   \n",
    "However, this project is based on transcripts from a slice at Bregma -0.24. It's necessary to show the slices equivalence.  \n"
   ]
  },
  {
   "cell_type": "markdown",
   "metadata": {},
   "source": [
    "### data"
   ]
  },
  {
   "cell_type": "code",
   "execution_count": null,
   "metadata": {},
   "outputs": [],
   "source": [
    "from pathlib import Path\n",
    "import matplotlib.pyplot as plt\n",
    "import pandas as pd\n",
    "\n",
    "import sys\n",
    "import os\n",
    "sys.path.append(os.path.abspath(\"../src\"))\n",
    "from utils import load_banksy_result"
   ]
  },
  {
   "cell_type": "markdown",
   "metadata": {},
   "source": [
    "#### Results of BANKSY"
   ]
  },
  {
   "cell_type": "code",
   "execution_count": null,
   "metadata": {},
   "outputs": [],
   "source": [
    "banksy_folder_path = Path(\"../data/banksy_results/\")"
   ]
  },
  {
   "cell_type": "code",
   "execution_count": null,
   "metadata": {},
   "outputs": [],
   "source": [
    "banksy_result = load_banksy_result(banksy_folder_path/\"banksy_cluster.txt\")"
   ]
  },
  {
   "cell_type": "markdown",
   "metadata": {},
   "source": [
    "#### color map"
   ]
  },
  {
   "cell_type": "code",
   "execution_count": null,
   "metadata": {},
   "outputs": [],
   "source": [
    "color_map = {8: 'red', 7: 'orange'}\n",
    "\n",
    "all_labels = banksy_result['banksy_cluster'].unique()\n",
    "\n",
    "unique_other_labels = [label for label in all_labels if label not in color_map]\n",
    "num_other_labels = len(unique_other_labels)\n",
    "\n",
    "colormap = plt.get_cmap('tab20b', num_other_labels)\n",
    "other_colors = {label: colormap(i) for i, label in enumerate(unique_other_labels)}\n",
    "\n",
    "full_color_map = {**color_map, **other_colors}"
   ]
  },
  {
   "cell_type": "markdown",
   "metadata": {},
   "source": [
    "### All Cell Types\n",
    "BANKSY applied spatial clustering to all slices using identical parameters.\n",
    "Here, slices at Bregma = -0.24, 0.16, and 0.26 are compared to assess: \n",
    "- whether the same cell types appear across slices\n",
    "- whether they occupy similar spatial regions"
   ]
  },
  {
   "cell_type": "code",
   "execution_count": null,
   "metadata": {},
   "outputs": [],
   "source": [
    "# Bregma = -0.24\n",
    "banksy_024 = banksy_result[banksy_result['Bregma'] == -0.24].copy()\n",
    "\n",
    "banksy_024['x'] = banksy_024['x'] - banksy_024['x'].min()\n",
    "banksy_024['y'] = banksy_024['y'] - banksy_024['y'].min()"
   ]
  },
  {
   "cell_type": "code",
   "execution_count": null,
   "metadata": {},
   "outputs": [],
   "source": [
    "colors = banksy_024['banksy_cluster'].map(full_color_map)\n",
    "\n",
    "plt.figure(figsize=(6, 6),  dpi=600)\n",
    "sc = plt.scatter(\n",
    "    banksy_024[\"x\"],\n",
    "    banksy_024[\"y\"],\n",
    "    s=3,\n",
    "    c=colors\n",
    ")\n",
    "\n",
    "ax = plt.gca()  # Get the current axis\n",
    "ax.set_aspect('equal', adjustable='box')\n",
    "# plt.colorbar(sc, shrink=0.8)\n",
    "plt.xlim(-10, 1810)\n",
    "plt.ylim(-10, 1810)\n",
    "\n",
    "# Correct way to hide spines\n",
    "ax.spines[\"top\"].set_visible(False)\n",
    "ax.spines[\"right\"].set_visible(False)\n",
    "\n",
    "plt.title(\"Bregma -0.24 mm\", fontsize=17)\n",
    "plt.xlabel(\"(μm)\", fontsize=15)\n",
    "plt.ylabel(\"(μm)\", fontsize=15)\n",
    "plt.show()\n"
   ]
  },
  {
   "cell_type": "code",
   "execution_count": null,
   "metadata": {},
   "outputs": [],
   "source": [
    "# Bregma = 0.16\n",
    "banksy_016 = banksy_result[banksy_result['Bregma'] == 0.16].copy()\n",
    "\n",
    "banksy_016['x'] = banksy_016['x'] - banksy_016['x'].min()\n",
    "banksy_016['y'] = banksy_016['y'] - banksy_016['y'].min()"
   ]
  },
  {
   "cell_type": "code",
   "execution_count": null,
   "metadata": {},
   "outputs": [],
   "source": [
    "colors = banksy_016['banksy_cluster'].map(full_color_map)\n",
    "\n",
    "plt.figure(figsize=(6, 6),  dpi=600)\n",
    "sc = plt.scatter(\n",
    "    banksy_016[\"x\"],\n",
    "    banksy_016[\"y\"],\n",
    "    s=3,\n",
    "    c=colors\n",
    ")\n",
    "\n",
    "ax = plt.gca()  # Get the current axis\n",
    "ax.set_aspect('equal', adjustable='box')\n",
    "plt.xlim(-10, 1810)\n",
    "plt.ylim(-10, 1810)\n",
    "\n",
    "ax.spines[\"top\"].set_visible(False)\n",
    "ax.spines[\"right\"].set_visible(False)\n",
    "\n",
    "plt.title(\"Bregma 0.16 mm\")\n",
    "plt.xlabel(\"(μm)\")\n",
    "plt.ylabel(\"(μm)\")\n",
    "plt.show()"
   ]
  },
  {
   "cell_type": "code",
   "execution_count": null,
   "metadata": {},
   "outputs": [],
   "source": [
    "# Bregma = 0.26\n",
    "banksy_026 = banksy_result[banksy_result['Bregma'] == 0.26].copy()\n",
    "\n",
    "banksy_026['x'] = banksy_026['x'] - banksy_026['x'].min()\n",
    "banksy_026['y'] = banksy_026['y'] - banksy_026['y'].min()"
   ]
  },
  {
   "cell_type": "code",
   "execution_count": null,
   "metadata": {},
   "outputs": [],
   "source": [
    "colors = banksy_026['banksy_cluster'].map(full_color_map)\n",
    "\n",
    "plt.figure(figsize=(6, 6),  dpi=600)\n",
    "sc = plt.scatter(\n",
    "    banksy_026[\"x\"],\n",
    "    banksy_026[\"y\"],\n",
    "    s=3,\n",
    "    c=colors\n",
    ")\n",
    "\n",
    "ax = plt.gca()  # Get the current axis\n",
    "ax.set_aspect('equal', adjustable='box')\n",
    "plt.xlim(-10, 1810)\n",
    "plt.ylim(-10, 1810)\n",
    "\n",
    "# Correct way to hide spines\n",
    "ax.spines[\"top\"].set_visible(False)\n",
    "ax.spines[\"right\"].set_visible(False)\n",
    "\n",
    "plt.title(\"Bregma 0.26 mm\", fontsize = 13)\n",
    "plt.xlabel(\"(μm)\")\n",
    "plt.ylabel(\"(μm)\")\n",
    "plt.show()\n"
   ]
  },
  {
   "cell_type": "markdown",
   "metadata": {},
   "source": [
    "### Stacked Bar Plot\n",
    "Used to compare cell type proportions across slices, as part of the equivalence analysis."
   ]
  },
  {
   "cell_type": "code",
   "execution_count": null,
   "metadata": {},
   "outputs": [],
   "source": [
    "banksy_barplot = banksy_result[(banksy_result['Bregma'] == 0.26) | (banksy_result['Bregma'] == 0.16) | (banksy_result['Bregma'] == -0.24)].copy()"
   ]
  },
  {
   "cell_type": "code",
   "execution_count": null,
   "metadata": {},
   "outputs": [],
   "source": [
    "color_map = {8: 'red', 7: 'orange'}\n",
    "\n",
    "all_labels = banksy_barplot['banksy_cluster'].unique()\n",
    "unique_other_labels = [label for label in all_labels if label not in color_map]\n",
    "num_other_labels = len(unique_other_labels)\n",
    "\n",
    "colormap = plt.get_cmap('tab20b', num_other_labels)\n",
    "other_colors = {label: colormap(i) for i, label in enumerate(unique_other_labels)}\n",
    "full_color_map = {**color_map, **other_colors}\n",
    "\n",
    "df_counts = banksy_barplot.groupby([\"Bregma\", \"banksy_cluster\"]).size().unstack(fill_value=0)\n",
    "df_normalized = df_counts.div(df_counts.sum(axis=1), axis=0)\n",
    "df_normalized = df_normalized.sort_index(ascending=False)\n",
    "\n",
    "\n",
    "plt.figure(figsize=(15, 6), dpi=600)\n",
    "\n",
    "ax = df_normalized.plot(kind=\"barh\", stacked=True, figsize=(15, 6), color=[full_color_map.get(label) for label in df_normalized.columns])\n",
    "\n",
    "ax.spines[\"top\"].set_visible(False)\n",
    "ax.spines[\"right\"].set_visible(False)\n",
    "ax.get_legend().remove()\n",
    "ax.tick_params(axis='x', labelsize=11)\n",
    "ax.tick_params(axis='y', labelsize=11)\n",
    "\n",
    "plt.xlabel(\"Clusters Proportion\",fontsize=12)\n",
    "plt.ylabel(\"Bregma\",fontsize=12)\n",
    "plt.title(\"Normalized Stacked Bar Plot of BANKSY Cluster by Bregma\",fontsize=13)\n",
    "\n",
    "plt.show()\n"
   ]
  },
  {
   "cell_type": "markdown",
   "metadata": {},
   "source": [
    "### UMAP\n",
    "UMAP embeddings from BANKSY is used to visually compare clustering consistency across slices.  "
   ]
  },
  {
   "cell_type": "code",
   "execution_count": null,
   "metadata": {},
   "outputs": [],
   "source": [
    "all_UMAP = pd.read_csv(banksy_folder_path / 'umap.csv', sep = ',')\n",
    "all_UMAP.loc[:, 'banksy'] = banksy_result['banksy_cluster'].values"
   ]
  },
  {
   "cell_type": "code",
   "execution_count": null,
   "metadata": {},
   "outputs": [],
   "source": [
    "colors = all_UMAP['banksy'].map(full_color_map)\n",
    "\n",
    "plt.figure(figsize=(8, 8),  dpi=600)\n",
    "\n",
    "sc = plt.scatter(all_UMAP['UMAP_1'], all_UMAP['UMAP_2'], s=3, c=colors)\n",
    "\n",
    "ax = plt.gca()\n",
    "ax.set_aspect('equal', adjustable='box')\n",
    "\n",
    "ax.spines[\"top\"].set_visible(False)\n",
    "ax.spines[\"right\"].set_visible(False)\n",
    "\n",
    "plt.title(\"All Slices\", fontsize=17)\n",
    "plt.xlabel(\"UMAP1\", fontsize=17)\n",
    "plt.ylabel(\"UMAP2\", fontsize=17)\n",
    "plt.xlim(-20,30)\n",
    "plt.ylim(-30,20)\n",
    "plt.show()"
   ]
  },
  {
   "cell_type": "code",
   "execution_count": null,
   "metadata": {},
   "outputs": [],
   "source": [
    "B24_ids = pd.read_csv(banksy_folder_path / 'umap_B24.csv', sep = ',')\n",
    "B24_ids['Cell_id'] = \"Animal_1_\" + B24_ids['cell_ids']\n",
    "B24_UMAP = all_UMAP[all_UMAP['Cell_id'].isin(B24_ids['Cell_id'])]"
   ]
  },
  {
   "cell_type": "code",
   "execution_count": null,
   "metadata": {},
   "outputs": [],
   "source": [
    "colors = B24_UMAP['banksy'].map(full_color_map)\n",
    "\n",
    "plt.figure(figsize=(8, 8),  dpi=600)\n",
    "\n",
    "sc = plt.scatter(B24_UMAP['UMAP_1'], B24_UMAP['UMAP_2'], s=3, c=colors)\n",
    "\n",
    "ax = plt.gca()\n",
    "ax.set_aspect('equal', adjustable='box')\n",
    "\n",
    "ax.spines[\"top\"].set_visible(False)\n",
    "ax.spines[\"right\"].set_visible(False)\n",
    "\n",
    "plt.title(\"Bregma -0.24 mm\", fontsize=17)\n",
    "plt.xlabel(\"UMAP1\", fontsize=17)\n",
    "plt.ylabel(\"UMAP2\", fontsize=17)\n",
    "plt.xlim(-20,30)\n",
    "plt.ylim(-30,20)\n",
    "plt.show()"
   ]
  },
  {
   "cell_type": "code",
   "execution_count": null,
   "metadata": {},
   "outputs": [],
   "source": [
    "B16_UMAP = pd.read_csv(banksy_folder_path / 'umap_B16.csv', sep = ',')\n",
    "B16_UMAP.loc[:, 'banksy'] = banksy_016['banksy_cluster'].values"
   ]
  },
  {
   "cell_type": "code",
   "execution_count": null,
   "metadata": {},
   "outputs": [],
   "source": [
    "colors = B16_UMAP['banksy'].map(full_color_map)\n",
    "\n",
    "plt.figure(figsize=(8, 8),  dpi=600)\n",
    "\n",
    "sc = plt.scatter(B16_UMAP['UMAP_1'], B16_UMAP['UMAP_2'], s=3, c=colors)\n",
    "\n",
    "ax = plt.gca()\n",
    "ax.set_aspect('equal', adjustable='box')\n",
    "\n",
    "ax.spines[\"top\"].set_visible(False)\n",
    "ax.spines[\"right\"].set_visible(False)\n",
    "\n",
    "plt.title(\"Bregma 0.16 mm\", fontsize=17)\n",
    "plt.xlabel(\"UMAP1\", fontsize=17)\n",
    "plt.ylabel(\"UMAP2\", fontsize=17)\n",
    "plt.xlim(-20,30)\n",
    "plt.ylim(-30,20)\n",
    "plt.show()"
   ]
  },
  {
   "cell_type": "code",
   "execution_count": null,
   "metadata": {},
   "outputs": [],
   "source": [
    "B26_UMAP = pd.read_csv(banksy_folder_path / 'umap_B26.csv', sep = ',')\n",
    "B26_UMAP.loc[:, 'banksy'] = banksy_026['banksy_cluster'].values"
   ]
  },
  {
   "cell_type": "code",
   "execution_count": null,
   "metadata": {},
   "outputs": [],
   "source": [
    "colors = B26_UMAP['banksy'].map(full_color_map)\n",
    "\n",
    "plt.figure(figsize=(8, 8),  dpi=600)\n",
    "\n",
    "sc = plt.scatter(B26_UMAP['UMAP_1'], B26_UMAP['UMAP_2'], s=3, c=colors)\n",
    "\n",
    "ax = plt.gca()\n",
    "ax.set_aspect('equal', adjustable='box')\n",
    "\n",
    "ax.spines[\"top\"].set_visible(False)\n",
    "ax.spines[\"right\"].set_visible(False)\n",
    "\n",
    "plt.title(\"Bregma 0.26 mm\", fontsize=17)\n",
    "plt.xlabel(\"UMAP1\", fontsize=17)\n",
    "plt.ylabel(\"UMAP2\", fontsize=17)\n",
    "plt.xlim(-20,30)\n",
    "plt.ylim(-30,20)\n",
    "plt.show()"
   ]
  },
  {
   "cell_type": "markdown",
   "metadata": {},
   "source": [
    "### MOD Distribution\n",
    "MOD subtypes are identified in all slices and localize to similar regions, supporting spatial and compositional equivalence across slices.\n"
   ]
  },
  {
   "cell_type": "code",
   "execution_count": null,
   "metadata": {},
   "outputs": [],
   "source": [
    "banksy_024_MOD = banksy_024[(banksy_024['banksy_cluster'] == 7) | (banksy_024['banksy_cluster'] == 8)]\n",
    "banksy_024_MOD = banksy_024_MOD.copy()"
   ]
  },
  {
   "cell_type": "code",
   "execution_count": null,
   "metadata": {},
   "outputs": [],
   "source": [
    "color_map = {7: 'orange', 8: 'red'}\n",
    "colors = banksy_024_MOD['banksy_cluster'].map(color_map)\n",
    "\n",
    "plt.figure(figsize=(6, 6),  dpi=600)\n",
    "sc = plt.scatter(\n",
    "    banksy_024_MOD[\"x\"],\n",
    "    banksy_024_MOD[\"y\"],\n",
    "    s=3,\n",
    "    c=colors,\n",
    ")\n",
    "\n",
    "ax = plt.gca()\n",
    "ax.set_aspect('equal', adjustable='box')\n",
    "plt.xlim(-10, 1810)\n",
    "plt.ylim(-10, 1810)\n",
    "\n",
    "ax.spines[\"top\"].set_visible(False)\n",
    "ax.spines[\"right\"].set_visible(False)\n",
    "\n",
    "plt.title(\"Bregma -0.24 mm\")\n",
    "plt.xlabel(\"(μm)\")\n",
    "plt.ylabel(\"(μm)\")\n",
    "plt.show()\n"
   ]
  },
  {
   "cell_type": "code",
   "execution_count": null,
   "metadata": {},
   "outputs": [],
   "source": [
    "banksy_016_MOD = banksy_016[(banksy_016['banksy_cluster'] == 7) | (banksy_016['banksy_cluster'] == 8)].copy()\n",
    "banksy_016_MOD['x'] = banksy_016_MOD['x'] - banksy_016_MOD['x'].min()\n",
    "banksy_016_MOD['y'] = banksy_016_MOD['y'] - banksy_016_MOD['y'].min()\n",
    "banksy_016_MOD = banksy_016_MOD.copy()"
   ]
  },
  {
   "cell_type": "code",
   "execution_count": null,
   "metadata": {},
   "outputs": [],
   "source": [
    "color_map = {7: 'orange', 8: 'red'}\n",
    "colors = banksy_016_MOD['banksy_cluster'].map(color_map)\n",
    "\n",
    "plt.figure(figsize=(6, 6),  dpi=600)\n",
    "sc = plt.scatter(\n",
    "    banksy_016_MOD[\"x\"],\n",
    "    banksy_016_MOD[\"y\"],\n",
    "    s=3,\n",
    "    c=colors,\n",
    ")\n",
    "\n",
    "ax = plt.gca()\n",
    "ax.set_aspect('equal', adjustable='box')\n",
    "plt.xlim(-10, 1810)\n",
    "plt.ylim(-10, 1810)\n",
    "\n",
    "ax.spines[\"top\"].set_visible(False)\n",
    "ax.spines[\"right\"].set_visible(False)\n",
    "\n",
    "plt.title(\"Bregma 0.16 mm\")\n",
    "plt.xlabel(\"(μm)\")\n",
    "plt.ylabel(\"(μm)\")\n",
    "plt.show()\n"
   ]
  },
  {
   "cell_type": "code",
   "execution_count": null,
   "metadata": {},
   "outputs": [],
   "source": [
    "banksy_026_MOD = banksy_026[(banksy_026['banksy_cluster'] == 7) | (banksy_026['banksy_cluster'] == 8)].copy()\n",
    "banksy_026_MOD['x'] = banksy_026_MOD['x'] - banksy_026_MOD['x'].min()\n",
    "banksy_026_MOD['y'] = banksy_026_MOD['y'] - banksy_026_MOD['y'].min()\n",
    "banksy_026_MOD = banksy_026_MOD.copy()"
   ]
  },
  {
   "cell_type": "code",
   "execution_count": null,
   "metadata": {},
   "outputs": [],
   "source": [
    "color_map = {7: 'orange', 8: 'red'}\n",
    "colors = banksy_026_MOD['banksy_cluster'].map(color_map)\n",
    "\n",
    "plt.figure(figsize=(6, 6),  dpi=600)\n",
    "sc = plt.scatter(\n",
    "    banksy_026_MOD[\"x\"],\n",
    "    banksy_026_MOD[\"y\"],\n",
    "    s=3,\n",
    "    c=colors,\n",
    ")\n",
    "\n",
    "ax = plt.gca()\n",
    "ax.set_aspect('equal', adjustable='box')\n",
    "plt.xlim(-10, 1810)\n",
    "plt.ylim(-10, 1810)\n",
    "\n",
    "ax.spines[\"top\"].set_visible(False)\n",
    "ax.spines[\"right\"].set_visible(False)\n",
    "\n",
    "plt.title(\"Bregma 0.26 mm\")\n",
    "plt.xlabel(\"(μm)\")\n",
    "plt.ylabel(\"(μm)\")\n",
    "plt.show()\n"
   ]
  }
 ],
 "metadata": {
  "kernelspec": {
   "display_name": "ovrlpy_0513",
   "language": "python",
   "name": "python3"
  },
  "language_info": {
   "codemirror_mode": {
    "name": "ipython",
    "version": 3
   },
   "file_extension": ".py",
   "mimetype": "text/x-python",
   "name": "python",
   "nbconvert_exporter": "python",
   "pygments_lexer": "ipython3",
   "version": "3.12.10"
  }
 },
 "nbformat": 4,
 "nbformat_minor": 2
}
