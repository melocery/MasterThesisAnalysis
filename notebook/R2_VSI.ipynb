{
 "cells": [
  {
   "cell_type": "markdown",
   "metadata": {},
   "source": [
    "## Result 2: VSI\n",
    "Vertical signal integrity (VSI) was accessed using `ovrl.py` (See `Ovrlpy_all_transcripts.ipynb`).  \n",
    "\n",
    "This notebook focuses on the VSI map at Bregma = -0.24 and VSI differences between MOD1 and MOD2."
   ]
  },
  {
   "cell_type": "markdown",
   "metadata": {},
   "source": [
    "### data"
   ]
  },
  {
   "cell_type": "code",
   "execution_count": null,
   "metadata": {},
   "outputs": [],
   "source": [
    "import sys\n",
    "import os\n",
    "\n",
    "sys.path.append(os.path.abspath(\"../src\"))\n",
    "\n",
    "from pathlib import Path\n",
    "\n",
    "from utils import extract_cell_vsi\n",
    "from plot import plot_VSI_map, plot_vsi_with_named_squares, plot_vsi_distribution_comparison, plot_normalized_histogram, plot_vsi_qqplot\n",
    "\n",
    "from IPython.display import display\n",
    "import numpy as np\n",
    "import pandas as pd"
   ]
  },
  {
   "cell_type": "markdown",
   "metadata": {},
   "source": [
    "#### Signals in the Tissue Section"
   ]
  },
  {
   "cell_type": "code",
   "execution_count": null,
   "metadata": {},
   "outputs": [],
   "source": [
    "MERFISH_data_folder_path = Path(\"../data/mouse_hypothalamus/MERFISH/\")"
   ]
  },
  {
   "cell_type": "code",
   "execution_count": null,
   "metadata": {},
   "outputs": [],
   "source": [
    "columns = [\n",
    "    \"Centroid_X\",\n",
    "    \"Centroid_Y\",\n",
    "    \"Centroid_Z\",\n",
    "    \"Gene_name\",\n",
    "    \"Cell_name\",\n",
    "    \"Total_brightness\",\n",
    "    \"Area\",\n",
    "    \"Error_bit\",\n",
    "    \"Error_direction\",\n",
    "]\n",
    "\n",
    "signal_coordinate_df = pd.read_csv(\n",
    "    MERFISH_data_folder_path / \"merfish_barcodes_example.csv\", usecols=columns\n",
    ").rename(\n",
    "    columns={\n",
    "        \"Centroid_X\": \"x\",\n",
    "        \"Centroid_Y\": \"y\",\n",
    "        \"Centroid_Z\": \"z\",\n",
    "        \"Gene_name\": \"gene\",\n",
    "    }\n",
    ")\n",
    "\n",
    "\n",
    "# remove dummy molecules\n",
    "signal_coordinate_df = signal_coordinate_df.loc[\n",
    "    ~signal_coordinate_df[\"gene\"].str.contains(\"Blank|NegControl\"),\n",
    "]\n",
    "\n",
    "signal_coordinate_df[\"gene\"] = signal_coordinate_df[\"gene\"].astype(\"category\")\n",
    "\n",
    "# shift the coordinates to avoid the negative values\n",
    "coordinate_x_m =  signal_coordinate_df['x'].min()\n",
    "coordinate_y_m =  signal_coordinate_df['y'].min()\n",
    "signal_coordinate_df['x'] = signal_coordinate_df['x'] - coordinate_x_m\n",
    "signal_coordinate_df['y'] = signal_coordinate_df['y'] - coordinate_y_m\n",
    "\n",
    "# make a copy to avoid SettingWithCopyWarning\n",
    "signal_coordinate_df = signal_coordinate_df.copy()"
   ]
  },
  {
   "cell_type": "markdown",
   "metadata": {},
   "source": [
    "#### Results of Ovrlpy\n",
    "\n",
    "results:  \n",
    "- signal integrity  \n",
    "- signal strength  "
   ]
  },
  {
   "cell_type": "code",
   "execution_count": null,
   "metadata": {},
   "outputs": [],
   "source": [
    "ovrlpy_result_folder = Path(\"../data/results/VSI\")"
   ]
  },
  {
   "cell_type": "code",
   "execution_count": null,
   "metadata": {},
   "outputs": [],
   "source": [
    "signal_integrity = np.loadtxt(ovrlpy_result_folder/\"SignalIntegrity.txt\")\n",
    "signal_strength = np.loadtxt(ovrlpy_result_folder/\"SignalStrength.txt\")"
   ]
  },
  {
   "cell_type": "markdown",
   "metadata": {},
   "source": [
    "#### Results of BANKSY"
   ]
  },
  {
   "cell_type": "code",
   "execution_count": null,
   "metadata": {},
   "outputs": [],
   "source": [
    "banksy_folder_path = Path(\"../data/banksy_results/\")"
   ]
  },
  {
   "cell_type": "code",
   "execution_count": null,
   "metadata": {},
   "outputs": [],
   "source": [
    "columns = [\n",
    "    \"Centroid_X\",\n",
    "    \"Centroid_Y\",\n",
    "    \"Bregma\",\n",
    "    \"lam0.2\",\n",
    "]\n",
    "\n",
    "banksy_result = pd.read_csv(\n",
    "    banksy_folder_path / 'banksy_cluster.txt', usecols=columns, sep = '\\t'\n",
    ").rename(\n",
    "    columns={\n",
    "        \"Centroid_X\": \"x\",\n",
    "        \"Centroid_Y\": \"y\",\n",
    "        \"Bregma\": \"Bregma\",\n",
    "        \"lam0.2\": \"banksy_cluster\",\n",
    "    }\n",
    ")\n",
    "\n",
    "banksy_result = banksy_result[banksy_result['Bregma'] == -0.24]\n",
    "\n",
    "banksy_result['x'] = banksy_result['x'] - coordinate_x_m\n",
    "banksy_result['y'] = banksy_result['y'] - coordinate_y_m\n",
    "\n",
    "banksy_result = banksy_result.copy()"
   ]
  },
  {
   "cell_type": "markdown",
   "metadata": {},
   "source": [
    "#### Segmentation Dataset"
   ]
  },
  {
   "cell_type": "code",
   "execution_count": null,
   "metadata": {},
   "outputs": [],
   "source": [
    "merfish_data = pd.read_csv(\n",
    "    MERFISH_data_folder_path / \"merfish_all_cells.csv\"\n",
    "    ).rename(\n",
    "    columns={\n",
    "        \"Centroid_X\": \"x\",\n",
    "        \"Centroid_Y\": \"y\"\n",
    "    }\n",
    ")\n",
    "\n",
    "merfish_data = merfish_data.drop(columns=[col for col in merfish_data.columns if col == 'Fos' or col.startswith('Blank_')])\n",
    "merfish_data = merfish_data[merfish_data[\"Cell_class\"] != \"Ambiguous\"]\n",
    "merfish_data = merfish_data[merfish_data['Animal_ID'] == 1]\n",
    "merfish_data = merfish_data[merfish_data['Bregma'] == -0.24]\n",
    "\n",
    "merfish_data['x'] = merfish_data['x'] - coordinate_x_m\n",
    "merfish_data['y'] = merfish_data['y'] - coordinate_y_m\n",
    "\n",
    "merfish_data['banksy'] = banksy_result['banksy_cluster'].values\n",
    "\n",
    "merfish_data = merfish_data.copy()"
   ]
  },
  {
   "cell_type": "code",
   "execution_count": null,
   "metadata": {},
   "outputs": [],
   "source": [
    "cell_class_m = {'Astrocyte': 'Astrocyte',\n",
    " 'Endothelial 1': 'Endothelial',\n",
    " 'Endothelial 2': 'Endothelial',\n",
    " 'Endothelial 3': 'Endothelial',\n",
    " 'Ependymal': 'Ependymal',\n",
    " 'Excitatory': 'Excitatory',\n",
    " 'Inhibitory': 'Inhibitory',\n",
    " 'Microglia': 'Microglia',\n",
    " 'OD Immature 1': 'OD Immature',\n",
    " 'OD Immature 2': 'OD Immature',\n",
    " 'OD Mature 1': 'OD Mature',\n",
    " 'OD Mature 2': 'OD Mature',\n",
    " 'OD Mature 3': 'OD Mature',\n",
    " 'OD Mature 4': 'OD Mature',\n",
    " 'Pericytes': 'Pericytes'}\n",
    "\n",
    "merfish_data['Cell_class'] = merfish_data['Cell_class'].map(cell_class_m)\n",
    "merfish_data = merfish_data.sort_values(by='Cell_class')\n",
    "\n",
    "merfish_data = merfish_data.copy()"
   ]
  },
  {
   "cell_type": "code",
   "execution_count": null,
   "metadata": {},
   "outputs": [],
   "source": [
    "# original cell types\n",
    "merfish_024 = merfish_data[merfish_data['Bregma'] == -0.24]\n",
    "\n",
    "class_024 = {'Astrocyte':1,\n",
    " 'Endothelial':2,\n",
    " 'Ependymal':3,\n",
    " 'Excitatory':4,\n",
    " 'Inhibitory':5,\n",
    " 'Microglia':6,\n",
    " 'OD Immature':7,\n",
    " 'OD Mature':8,\n",
    " 'Pericytes':9}\n",
    "\n",
    "merfish_024['Cell_class'] = merfish_024['Cell_class'].map(class_024)"
   ]
  },
  {
   "cell_type": "markdown",
   "metadata": {},
   "source": [
    "#### Cell Boundaries Dataset"
   ]
  },
  {
   "cell_type": "code",
   "execution_count": null,
   "metadata": {},
   "outputs": [],
   "source": [
    "boundaries_df = pd.read_csv(MERFISH_data_folder_path/'cellboundaries_example_animal.csv')\n",
    "boundaries_df = boundaries_df.dropna(subset=['boundaryX', 'boundaryY'])"
   ]
  },
  {
   "cell_type": "code",
   "execution_count": null,
   "metadata": {},
   "outputs": [],
   "source": [
    "cell_ids = merfish_data['Cell_ID']\n",
    "boundaries_df = boundaries_df[boundaries_df['feature_uID'].isin(cell_ids)]\n",
    "boundaries_df = boundaries_df.merge(\n",
    "    merfish_data[['Cell_ID', 'x', 'y', 'banksy']],\n",
    "    left_on='feature_uID',\n",
    "    right_on='Cell_ID',\n",
    "    how='inner'\n",
    ")\n",
    "boundaries_df = boundaries_df.drop(columns=['Cell_ID'])\n",
    "\n",
    "boundaries_df['boundaryX'] = boundaries_df['boundaryX'].apply(lambda x: [float(i) for i in x.split(';')] if isinstance(x, str) else x)\n",
    "boundaries_df['boundaryY'] = boundaries_df['boundaryY'].apply(lambda x: [float(i) for i in x.split(';')] if isinstance(x, str) else x)\n",
    "\n",
    "boundaries_df['boundaryX'] = boundaries_df['boundaryX'].apply(lambda x: [i - coordinate_x_m for i in x] if isinstance(x, list) else x)\n",
    "boundaries_df['boundaryY'] = boundaries_df['boundaryY'].apply(lambda x: [i - coordinate_y_m for i in x] if isinstance(x, list) else x)\n",
    "\n",
    "boundaries_df = boundaries_df.copy()"
   ]
  },
  {
   "cell_type": "markdown",
   "metadata": {},
   "source": [
    "#### MOD\n",
    "BANKSY cluster:  \n",
    "- 7: MMOD2 / MOD2  \n",
    "- 8: MMOD1 / MOD1"
   ]
  },
  {
   "cell_type": "code",
   "execution_count": null,
   "metadata": {},
   "outputs": [],
   "source": [
    "# boundaries, MOD\n",
    "# MOD_boundaries = boundaries_df[(boundaries_df['banksy'] == 8) | (boundaries_df['banksy'] == 7)]\n",
    "MOD1_boundaries = boundaries_df[boundaries_df['banksy'] == 8]\n",
    "MOD2_boundaries = boundaries_df[boundaries_df['banksy'] == 7]"
   ]
  },
  {
   "cell_type": "markdown",
   "metadata": {},
   "source": [
    "### VSI across the slice\n",
    "Main findings:  \n",
    "- Lower VSI at cell borders\n",
    "- May cause false cell identification"
   ]
  },
  {
   "cell_type": "markdown",
   "metadata": {},
   "source": [
    "#### overall"
   ]
  },
  {
   "cell_type": "code",
   "execution_count": null,
   "metadata": {},
   "outputs": [],
   "source": [
    "SIM = plot_VSI_map(\n",
    "    cell_integrity = signal_integrity,\n",
    "    cell_strength = signal_strength,\n",
    "    signal_threshold=3.0,\n",
    "    figure_height=10,\n",
    "    cmap=\"BIH\",\n",
    "    side_display=\"hist\",\n",
    "    plot_boundarys=False,\n",
    "    plot_centroid=False,\n",
    ")\n",
    "\n",
    "display(SIM)"
   ]
  },
  {
   "cell_type": "code",
   "execution_count": null,
   "metadata": {},
   "outputs": [],
   "source": [
    "# VSI map without cell boundaries\n",
    "SIM_noboundaries = plot_VSI_map(\n",
    "    cell_integrity = signal_integrity,\n",
    "    cell_strength = signal_strength,\n",
    "    signal_threshold=3.0,\n",
    "    figure_height=10,\n",
    "    cmap=\"BIH\",\n",
    "    side_display=\"colorbar\",\n",
    "    plot_boundarys=False,\n",
    "    plot_centroid=False,\n",
    ")\n",
    "\n",
    "display(SIM_noboundaries)"
   ]
  },
  {
   "cell_type": "markdown",
   "metadata": {},
   "source": [
    "#### cell level"
   ]
  },
  {
   "cell_type": "code",
   "execution_count": null,
   "metadata": {},
   "outputs": [],
   "source": [
    "cell_integrity, cell_strength = extract_cell_vsi(\n",
    "    boundary_df=boundaries_df, \n",
    "    integrity=signal_integrity,\n",
    "    strength=signal_strength,\n",
    "    integrity_size=1800\n",
    ")"
   ]
  },
  {
   "cell_type": "code",
   "execution_count": null,
   "metadata": {},
   "outputs": [],
   "source": [
    "cell_SIM_nb = plot_VSI_map(\n",
    "    cell_integrity = cell_integrity,\n",
    "    cell_strength = cell_strength,\n",
    "    signal_threshold=3.0,\n",
    "    figure_height=10,\n",
    "    cmap=\"BIH\",\n",
    "    side_display=\"hist\",\n",
    "    # side_display=\"colorbar\",\n",
    "    plot_boundarys=False,\n",
    "    plot_centroid=False,\n",
    ")\n",
    "\n",
    "display(cell_SIM_nb)"
   ]
  },
  {
   "cell_type": "code",
   "execution_count": null,
   "metadata": {},
   "outputs": [],
   "source": [
    "cell_SIM = plot_VSI_map(\n",
    "    cell_integrity = cell_integrity,\n",
    "    cell_strength = cell_strength,\n",
    "    signal_threshold=3.0,\n",
    "    figure_height=10,\n",
    "    cmap=\"BIH\",\n",
    "    side_display=None,\n",
    "    boundary_df=boundaries_df,\n",
    "    plot_boundarys=True,\n",
    "    boundary_color=\"yellow\",\n",
    "    boundary_width=1.5,\n",
    "    plot_centroid=False,\n",
    ")"
   ]
  },
  {
   "cell_type": "markdown",
   "metadata": {},
   "source": [
    "#### ROI for findings\n",
    "ROIs show the low vsi at borders and false cell identification"
   ]
  },
  {
   "cell_type": "code",
   "execution_count": null,
   "metadata": {},
   "outputs": [],
   "source": [
    "regions = [\n",
    "    {\"x\": 400, \"y\": 1190, \"name\": None},\n",
    "    {\"x\": 1400, \"y\": 250, \"name\": None},\n",
    "    {\"x\": 50, \"y\": 440, \"name\": None},\n",
    "    {\"x\": 1350, \"y\": 950, \"name\": None},\n",
    "]"
   ]
  },
  {
   "cell_type": "code",
   "execution_count": null,
   "metadata": {},
   "outputs": [],
   "source": [
    "VSI_ROI = plot_vsi_with_named_squares(cell_integrity, cell_strength, named_squares=regions)\n",
    "\n",
    "display(VSI_ROI)"
   ]
  },
  {
   "cell_type": "code",
   "execution_count": null,
   "metadata": {},
   "outputs": [],
   "source": [
    "# region 1\n",
    "\n",
    "# Access the heatmap axis and set zoomed-in limits\n",
    "ax = cell_SIM.axes[0]\n",
    "ax.set_ylim(1190, 1290)\n",
    "ax.set_xlim(400, 500)\n",
    "\n",
    "cell_SIM"
   ]
  },
  {
   "cell_type": "code",
   "execution_count": null,
   "metadata": {},
   "outputs": [],
   "source": [
    "# region 2\n",
    "\n",
    "# Access the heatmap axis and set zoomed-in limits\n",
    "ax = cell_SIM.axes[0]  \n",
    "ax.set_ylim(250, 350)\n",
    "ax.set_xlim(1400, 1500)\n",
    "\n",
    "cell_SIM"
   ]
  },
  {
   "cell_type": "code",
   "execution_count": null,
   "metadata": {},
   "outputs": [],
   "source": [
    "# region 3\n",
    "\n",
    "# Access the heatmap axis and set zoomed-in limits\n",
    "ax = cell_SIM.axes[0]  \n",
    "ax.set_ylim(440, 540)\n",
    "ax.set_xlim(50, 150)\n",
    "\n",
    "cell_SIM"
   ]
  },
  {
   "cell_type": "code",
   "execution_count": null,
   "metadata": {},
   "outputs": [],
   "source": [
    "# region 4\n",
    "\n",
    "ax = cell_SIM.axes[0]  \n",
    "ax.set_ylim(950, 1050)\n",
    "ax.set_xlim(1350, 1450)\n",
    "\n",
    "cell_SIM"
   ]
  },
  {
   "cell_type": "markdown",
   "metadata": {},
   "source": [
    "### VSI in MODs\n",
    "compare the VSI values in MOD1 and MOD2  \n",
    "- MOD2 shows lower VSI"
   ]
  },
  {
   "cell_type": "markdown",
   "metadata": {},
   "source": [
    "#### MOD1 vs. MOD2"
   ]
  },
  {
   "cell_type": "code",
   "execution_count": null,
   "metadata": {},
   "outputs": [],
   "source": [
    "MOD1_int, MOD1_str = extract_cell_vsi(MOD1_boundaries, signal_integrity, signal_strength)\n",
    "MOD2_int, MOD2_str = extract_cell_vsi(MOD2_boundaries, signal_integrity, signal_strength)"
   ]
  },
  {
   "cell_type": "code",
   "execution_count": null,
   "metadata": {},
   "outputs": [],
   "source": [
    "vals1, bins1, vals2, bins2 = plot_vsi_distribution_comparison(\n",
    "    cell_integrity_1=MOD1_int,\n",
    "    cell_strength_1=MOD1_str,\n",
    "    cell_integrity_2=MOD2_int,\n",
    "    cell_strength_2=MOD2_str,\n",
    "    signal_threshold=3.0,\n",
    "    figure_height=7,\n",
    "    cmap=\"BIH\"\n",
    ")"
   ]
  },
  {
   "cell_type": "code",
   "execution_count": null,
   "metadata": {},
   "outputs": [],
   "source": [
    "plot_normalized_histogram(vals1, vals2, bins=bins1, epsilon= 1e-10)"
   ]
  },
  {
   "cell_type": "code",
   "execution_count": null,
   "metadata": {},
   "outputs": [],
   "source": [
    "plot_vsi_qqplot(vals1, bins1, vals2, bins2)"
   ]
  }
 ],
 "metadata": {
  "kernelspec": {
   "display_name": "ovrlpy_0513",
   "language": "python",
   "name": "python3"
  },
  "language_info": {
   "codemirror_mode": {
    "name": "ipython",
    "version": 3
   },
   "file_extension": ".py",
   "mimetype": "text/x-python",
   "name": "python",
   "nbconvert_exporter": "python",
   "pygments_lexer": "ipython3",
   "version": "3.12.10"
  }
 },
 "nbformat": 4,
 "nbformat_minor": 2
}
