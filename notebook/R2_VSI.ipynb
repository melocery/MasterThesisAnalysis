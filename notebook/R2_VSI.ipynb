{
 "cells": [
  {
   "cell_type": "markdown",
   "metadata": {},
   "source": [
    "## Result 2: VSI\n",
    "Vertical signal integrity (VSI) was accessed using `ovrl.py` (See `Ovrlpy_all_transcripts.ipynb`).  \n",
    "\n",
    "This notebook focuses on the VSI map at Bregma = -0.24 and VSI differences between MOD1 and MOD2."
   ]
  },
  {
   "cell_type": "code",
   "execution_count": null,
   "metadata": {},
   "outputs": [],
   "source": [
    "import sys\n",
    "import os\n",
    "from pathlib import Path\n",
    "\n",
    "sys.path.append(os.path.abspath(\"../src\"))\n",
    "from utils import load_merfish_signal_df, load_banksy_result, load_merfish_data, load_boundaries_data\n",
    "from utils import extract_cell_vsi\n",
    "from plot import plot_VSI_map, plot_vsi_with_named_squares, plot_vsi_distribution_comparison, plot_normalized_histogram, plot_vsi_qqplot\n",
    "\n",
    "from IPython.display import display\n",
    "import numpy as np\n",
    "import pandas as pd"
   ]
  },
  {
   "cell_type": "markdown",
   "metadata": {},
   "source": [
    "### data"
   ]
  },
  {
   "cell_type": "markdown",
   "metadata": {},
   "source": [
    "#### Signals in the Tissue Section"
   ]
  },
  {
   "cell_type": "code",
   "execution_count": null,
   "metadata": {},
   "outputs": [],
   "source": [
    "MERFISH_data_folder_path = Path(\"../data/mouse_hypothalamus/MERFISH/\")"
   ]
  },
  {
   "cell_type": "code",
   "execution_count": null,
   "metadata": {},
   "outputs": [],
   "source": [
    "signal_coordinate_df, coordinate_x_m, coordinate_y_m = load_merfish_signal_df(MERFISH_data_folder_path/\"merfish_barcodes_example.csv\")"
   ]
  },
  {
   "cell_type": "markdown",
   "metadata": {},
   "source": [
    "#### Results of Ovrlpy\n",
    "\n",
    "results:  \n",
    "- signal integrity  \n",
    "- signal strength  "
   ]
  },
  {
   "cell_type": "code",
   "execution_count": null,
   "metadata": {},
   "outputs": [],
   "source": [
    "ovrlpy_result_folder = Path(\"../data/results/VSI\")"
   ]
  },
  {
   "cell_type": "code",
   "execution_count": null,
   "metadata": {},
   "outputs": [],
   "source": [
    "signal_integrity = np.loadtxt(ovrlpy_result_folder/\"SignalIntegrity.txt\")\n",
    "signal_strength = np.loadtxt(ovrlpy_result_folder/\"SignalStrength.txt\")"
   ]
  },
  {
   "cell_type": "markdown",
   "metadata": {},
   "source": [
    "#### Results of BANKSY"
   ]
  },
  {
   "cell_type": "code",
   "execution_count": null,
   "metadata": {},
   "outputs": [],
   "source": [
    "banksy_folder_path = Path(\"../data/banksy_results/\")"
   ]
  },
  {
   "cell_type": "code",
   "execution_count": null,
   "metadata": {},
   "outputs": [],
   "source": [
    "banksy_result = load_banksy_result(banksy_folder_path/\"banksy_cluster.txt\", coordinate_x_m, coordinate_y_m)"
   ]
  },
  {
   "cell_type": "markdown",
   "metadata": {},
   "source": [
    "#### Segmentation Dataset"
   ]
  },
  {
   "cell_type": "code",
   "execution_count": null,
   "metadata": {},
   "outputs": [],
   "source": [
    "merfish_data = load_merfish_data(MERFISH_data_folder_path / \"merfish_all_cells.csv\", \n",
    "                                 banksy_result, coordinate_x_m, coordinate_y_m, \n",
    "                                 animal_id=1, bregma_value=-0.24)"
   ]
  },
  {
   "cell_type": "markdown",
   "metadata": {},
   "source": [
    "#### Cell boundaries"
   ]
  },
  {
   "cell_type": "code",
   "execution_count": null,
   "metadata": {},
   "outputs": [],
   "source": [
    "boundaries_df = load_boundaries_data(MERFISH_data_folder_path/'cellboundaries_example_animal.csv', \n",
    "                                     merfish_data, coordinate_x_m, coordinate_y_m)"
   ]
  },
  {
   "cell_type": "markdown",
   "metadata": {},
   "source": [
    "#### MOD\n",
    "BANKSY cluster:  \n",
    "- 7: MMOD2 / MOD2  \n",
    "- 8: MMOD1 / MOD1"
   ]
  },
  {
   "cell_type": "code",
   "execution_count": null,
   "metadata": {},
   "outputs": [],
   "source": [
    "# boundaries, MOD\n",
    "# MOD_boundaries = boundaries_df[(boundaries_df['banksy'] == 8) | (boundaries_df['banksy'] == 7)]\n",
    "MOD1_boundaries = boundaries_df[boundaries_df['banksy'] == 8]\n",
    "MOD2_boundaries = boundaries_df[boundaries_df['banksy'] == 7]"
   ]
  },
  {
   "cell_type": "markdown",
   "metadata": {},
   "source": [
    "### VSI across the slice\n",
    "Main findings:  \n",
    "- Lower VSI at cell borders\n",
    "- May cause false cell identification"
   ]
  },
  {
   "cell_type": "markdown",
   "metadata": {},
   "source": [
    "#### overall"
   ]
  },
  {
   "cell_type": "code",
   "execution_count": null,
   "metadata": {},
   "outputs": [],
   "source": [
    "SIM = plot_VSI_map(\n",
    "    cell_integrity = signal_integrity,\n",
    "    cell_strength = signal_strength,\n",
    "    signal_threshold=3.0,\n",
    "    figure_height=10/2.54,\n",
    "    cmap=\"BIH\",\n",
    "    side_display=\"hist\", # \"hist\", \"colorbar\", or None\n",
    "    plot_boundary=False,\n",
    "    plot_centroid=False\n",
    ")\n",
    "\n",
    "display(SIM)"
   ]
  },
  {
   "cell_type": "code",
   "execution_count": null,
   "metadata": {},
   "outputs": [],
   "source": [
    "# VSI map without cell boundaries\n",
    "SIM_noboundaries = plot_VSI_map(\n",
    "    cell_integrity = signal_integrity,\n",
    "    cell_strength = signal_strength,\n",
    "    signal_threshold=3.0,\n",
    "    figure_height=10/2.54,\n",
    "    cmap=\"BIH\",\n",
    "    side_display=\"colorbar\",\n",
    "    plot_boundary=False,\n",
    "    plot_centroid=False,\n",
    ")\n",
    "\n",
    "display(SIM_noboundaries)"
   ]
  },
  {
   "cell_type": "markdown",
   "metadata": {},
   "source": [
    "#### cell level"
   ]
  },
  {
   "cell_type": "code",
   "execution_count": null,
   "metadata": {},
   "outputs": [],
   "source": [
    "cell_integrity, cell_strength = extract_cell_vsi(\n",
    "    boundary_df=boundaries_df, \n",
    "    integrity=signal_integrity,\n",
    "    strength=signal_strength,\n",
    "    integrity_size=1800\n",
    ")"
   ]
  },
  {
   "cell_type": "code",
   "execution_count": null,
   "metadata": {},
   "outputs": [],
   "source": [
    "cell_SIM_nb = plot_VSI_map(\n",
    "    cell_integrity = cell_integrity,\n",
    "    cell_strength = cell_strength,\n",
    "    signal_threshold=3.0,\n",
    "    figure_height=10/2.54,\n",
    "    cmap=\"BIH\",\n",
    "    # side_display=\"hist\",\n",
    "    side_display=\"colorbar\",\n",
    "    plot_boundary=False,\n",
    "    plot_centroid=False,\n",
    ")\n",
    "\n",
    "display(cell_SIM_nb)"
   ]
  },
  {
   "cell_type": "code",
   "execution_count": null,
   "metadata": {},
   "outputs": [],
   "source": [
    "cell_SIM = plot_VSI_map(\n",
    "    cell_integrity = cell_integrity,\n",
    "    cell_strength = cell_strength,\n",
    "    signal_threshold=3.0,\n",
    "    figure_height=10/2.54,\n",
    "    cmap=\"BIH\",\n",
    "    side_display=None,\n",
    "    boundary_df=boundaries_df,\n",
    "    plot_boundary=True,\n",
    "    boundary_color=\"yellow\",\n",
    "    boundary_width=1.3,\n",
    "    plot_centroid=False,\n",
    "    scalebar=None\n",
    ")"
   ]
  },
  {
   "cell_type": "markdown",
   "metadata": {},
   "source": [
    "#### ROI for findings\n",
    "ROIs show the low vsi at borders and false cell identification"
   ]
  },
  {
   "cell_type": "code",
   "execution_count": null,
   "metadata": {},
   "outputs": [],
   "source": [
    "regions = [\n",
    "    {\"x\": 400, \"y\": 1190, \"name\": \"Region 1\"},\n",
    "    {\"x\": 1400, \"y\": 250, \"name\": \"Region 4\"},\n",
    "    {\"x\": 50, \"y\": 440, \"name\": \"Region 3\"},\n",
    "    {\"x\": 1350, \"y\": 950, \"name\": \"Region 2\"},\n",
    "]"
   ]
  },
  {
   "cell_type": "code",
   "execution_count": null,
   "metadata": {},
   "outputs": [],
   "source": [
    "VSI_ROI = plot_vsi_with_named_squares(cell_integrity, cell_strength, \n",
    "                                      signal_threshold=3.0,\n",
    "    figure_height=10/2.54,\n",
    "    cmap=\"BIH\",\n",
    "    side_display=None,\n",
    "    # side_display='colorbar',\n",
    "    boundary_df=boundaries_df,\n",
    "    plot_boundary=False,\n",
    "    boundary_color=\"yellow\",\n",
    "    boundary_width=0.3,\n",
    "    plot_centroid=False,\n",
    "    named_squares=regions)\n",
    "\n",
    "display(VSI_ROI)"
   ]
  },
  {
   "cell_type": "code",
   "execution_count": null,
   "metadata": {},
   "outputs": [],
   "source": [
    "# region 1\n",
    "\n",
    "# Access the heatmap axis and set zoomed-in limits\n",
    "ax = cell_SIM.axes[0]\n",
    "ax.set_ylim(1190, 1290)\n",
    "ax.set_xlim(400, 500)\n",
    "\n",
    "cell_SIM"
   ]
  },
  {
   "cell_type": "code",
   "execution_count": null,
   "metadata": {},
   "outputs": [],
   "source": [
    "# region 2\n",
    "\n",
    "# Access the heatmap axis and set zoomed-in limits\n",
    "ax = cell_SIM.axes[0]  \n",
    "ax.set_ylim(250, 350)\n",
    "ax.set_xlim(1400, 1500)\n",
    "\n",
    "cell_SIM"
   ]
  },
  {
   "cell_type": "code",
   "execution_count": null,
   "metadata": {},
   "outputs": [],
   "source": [
    "# region 3\n",
    "\n",
    "# Access the heatmap axis and set zoomed-in limits\n",
    "ax = cell_SIM.axes[0]  \n",
    "ax.set_ylim(440, 540)\n",
    "ax.set_xlim(50, 150)\n",
    "\n",
    "cell_SIM"
   ]
  },
  {
   "cell_type": "code",
   "execution_count": null,
   "metadata": {},
   "outputs": [],
   "source": [
    "# region 4\n",
    "\n",
    "ax = cell_SIM.axes[0]  \n",
    "ax.set_ylim(950, 1050)\n",
    "ax.set_xlim(1350, 1450)\n",
    "\n",
    "cell_SIM"
   ]
  },
  {
   "cell_type": "markdown",
   "metadata": {},
   "source": [
    "### VSI in MODs\n",
    "compare the VSI values in MOD1 and MOD2  \n",
    "- MOD2 shows lower VSI"
   ]
  },
  {
   "cell_type": "markdown",
   "metadata": {},
   "source": [
    "#### MOD1 vs. MOD2"
   ]
  },
  {
   "cell_type": "code",
   "execution_count": null,
   "metadata": {},
   "outputs": [],
   "source": [
    "MOD1_int, MOD1_str = extract_cell_vsi(MOD1_boundaries, signal_integrity, signal_strength)\n",
    "MOD2_int, MOD2_str = extract_cell_vsi(MOD2_boundaries, signal_integrity, signal_strength)"
   ]
  },
  {
   "cell_type": "code",
   "execution_count": null,
   "metadata": {},
   "outputs": [],
   "source": [
    "vals1, bins1, vals2, bins2 = plot_vsi_distribution_comparison(\n",
    "    cell_integrity_1=MOD1_int,\n",
    "    cell_strength_1=MOD1_str,\n",
    "    cell_integrity_2=MOD2_int,\n",
    "    cell_strength_2=MOD2_str,\n",
    "    signal_threshold=3.0,\n",
    "    figure_height=6/2.54,\n",
    "    cmap=\"BIH\",\n",
    "    ylim=(1e-1,64)\n",
    ")"
   ]
  },
  {
   "cell_type": "code",
   "execution_count": null,
   "metadata": {},
   "outputs": [],
   "source": [
    "plot_normalized_histogram(vals1, vals2, bins=bins1, epsilon= 1e-10, ylim=(1e-1, 10**11))"
   ]
  },
  {
   "cell_type": "code",
   "execution_count": null,
   "metadata": {},
   "outputs": [],
   "source": [
    "plot_vsi_qqplot(vals1, bins1, vals2, bins2)"
   ]
  }
 ],
 "metadata": {
  "kernelspec": {
   "display_name": "ovrlpy",
   "language": "python",
   "name": "python3"
  },
  "language_info": {
   "codemirror_mode": {
    "name": "ipython",
    "version": 3
   },
   "file_extension": ".py",
   "mimetype": "text/x-python",
   "name": "python",
   "nbconvert_exporter": "python",
   "pygments_lexer": "ipython3",
   "version": "3.12.11"
  }
 },
 "nbformat": 4,
 "nbformat_minor": 2
}
