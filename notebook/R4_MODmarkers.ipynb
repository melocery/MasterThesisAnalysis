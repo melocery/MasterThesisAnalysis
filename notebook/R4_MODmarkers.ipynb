{
 "cells": [
  {
   "cell_type": "markdown",
   "metadata": {},
   "source": [
    "## Result 4: MOD1/2 specific markers are expressed over large region"
   ]
  },
  {
   "cell_type": "code",
   "execution_count": null,
   "metadata": {},
   "outputs": [],
   "source": [
    "import sys\n",
    "import os\n",
    "\n",
    "sys.path.append(os.path.abspath(\"../src\"))\n",
    "\n",
    "from utils import load_merfish_signal_df, load_banksy_result\n",
    "from plot import plot_marker_signals\n",
    "\n",
    "from pathlib import Path\n",
    "import numpy as np\n",
    "import pandas as pd"
   ]
  },
  {
   "cell_type": "markdown",
   "metadata": {},
   "source": [
    "### Data"
   ]
  },
  {
   "cell_type": "markdown",
   "metadata": {},
   "source": [
    "#### signals in tissue section"
   ]
  },
  {
   "cell_type": "markdown",
   "metadata": {},
   "source": [
    "#### Signals in the Tissue Section"
   ]
  },
  {
   "cell_type": "code",
   "execution_count": null,
   "metadata": {},
   "outputs": [],
   "source": [
    "MERFISH_data_folder_path = Path(\"../data/mouse_hypothalamus/MERFISH/\")"
   ]
  },
  {
   "cell_type": "code",
   "execution_count": null,
   "metadata": {},
   "outputs": [],
   "source": [
    "signal_coordinate_df, coordinate_x_m, coordinate_y_m = load_merfish_signal_df(MERFISH_data_folder_path/\"merfish_barcodes_example.csv\")"
   ]
  },
  {
   "cell_type": "markdown",
   "metadata": {},
   "source": [
    "#### Results of BANKSY"
   ]
  },
  {
   "cell_type": "code",
   "execution_count": null,
   "metadata": {},
   "outputs": [],
   "source": [
    "banksy_folder_path = Path(\"../data/banksy_results/\")"
   ]
  },
  {
   "cell_type": "code",
   "execution_count": null,
   "metadata": {},
   "outputs": [],
   "source": [
    "banksy_result = load_banksy_result(banksy_folder_path/\"banksy_cluster.txt\", coordinate_x_m, coordinate_y_m)"
   ]
  },
  {
   "cell_type": "markdown",
   "metadata": {},
   "source": [
    "#### MOD\n",
    "BANKSY cluster:  \n",
    "- 7: MOD_gm  \n",
    "- 8: MOD_wm"
   ]
  },
  {
   "cell_type": "code",
   "execution_count": null,
   "metadata": {},
   "outputs": [],
   "source": [
    "MOD1_df = banksy_result[banksy_result['banksy_cluster'] == 8]\n",
    "MOD2_df = banksy_result[banksy_result['banksy_cluster'] == 7]"
   ]
  },
  {
   "cell_type": "markdown",
   "metadata": {},
   "source": [
    "#### Marker Genes\n",
    "\n",
    "differentially expressed genes identified by BANKSY"
   ]
  },
  {
   "cell_type": "code",
   "execution_count": null,
   "metadata": {},
   "outputs": [],
   "source": [
    "# all differentially expressed genes\n",
    "DE_genes = ['Mlc1', 'Dgkk', 'Cbln2', 'Syt4', 'Gad1', 'Plin3', 'Gnrh1', 'Sln', 'Gjc3', 'Mbp', 'Lpar1', 'Trh', 'Ucn3', 'Cck']\n",
    "# DE_genes_MOD2: 7\n",
    "DE_genes_MOD2 = ['Mlc1', 'Dgkk', 'Cbln2', 'Syt4', 'Gad1', 'Plin3', 'Gnrh1', 'Sln', 'Gjc3']\n",
    "# DE_genes_MOD1: 8\n",
    "DE_genes_MOD1 = ['Mbp', 'Lpar1', 'Trh', 'Ucn3', 'Cck']"
   ]
  },
  {
   "cell_type": "code",
   "execution_count": null,
   "metadata": {},
   "outputs": [],
   "source": [
    "# Marker Genes Signals\n",
    "DE_gene_signals = signal_coordinate_df[signal_coordinate_df['gene'].isin(DE_genes)].copy()\n",
    "MOD1_signals = signal_coordinate_df[signal_coordinate_df['gene'].isin(DE_genes_MOD1)].copy()\n",
    "MOD2_signals = signal_coordinate_df[signal_coordinate_df['gene'].isin(DE_genes_MOD2)].copy()"
   ]
  },
  {
   "cell_type": "markdown",
   "metadata": {},
   "source": [
    "### MOD1\n",
    "\n",
    "marker genes: Lpar1"
   ]
  },
  {
   "cell_type": "code",
   "execution_count": null,
   "metadata": {},
   "outputs": [],
   "source": [
    "plot_marker_signals(signal_df=MOD1_signals, centroid_df= MOD1_df, title=\"MOD1 Signals\", color=\"MOD1\")"
   ]
  },
  {
   "cell_type": "code",
   "execution_count": null,
   "metadata": {},
   "outputs": [],
   "source": [
    "Lpar1_signal = signal_coordinate_df[signal_coordinate_df['gene'].isin(['Lpar1'])].copy()\n",
    "\n",
    "plot_marker_signals(signal_df=Lpar1_signal, centroid_df= MOD1_df, title=\"Lpar1\", color=\"MOD1\", plot_rect=True)"
   ]
  },
  {
   "cell_type": "markdown",
   "metadata": {},
   "source": [
    "### MOD2"
   ]
  },
  {
   "cell_type": "code",
   "execution_count": null,
   "metadata": {},
   "outputs": [],
   "source": [
    "plot_marker_signals(signal_df=MOD2_signals, centroid_df= MOD2_df, title=\"MOD2 Signals\", color=\"MOD2\")"
   ]
  },
  {
   "cell_type": "code",
   "execution_count": null,
   "metadata": {},
   "outputs": [],
   "source": [
    "Cbln2_signal = signal_coordinate_df[signal_coordinate_df['gene'].isin(['Cbln2'])].copy()\n",
    "\n",
    "plot_marker_signals(signal_df=Cbln2_signal, centroid_df= MOD2_df, title=\"Cbln2\", color=\"MOD2\")"
   ]
  },
  {
   "cell_type": "code",
   "execution_count": null,
   "metadata": {},
   "outputs": [],
   "source": [
    "Dgkk_signal = signal_coordinate_df[signal_coordinate_df['gene'].isin(['Dgkk'])].copy()\n",
    "\n",
    "plot_marker_signals(signal_df=Dgkk_signal, centroid_df= MOD2_df, title=\"Dgkk\", color=\"MOD2\")"
   ]
  },
  {
   "cell_type": "code",
   "execution_count": null,
   "metadata": {},
   "outputs": [],
   "source": [
    "Gad1_signal = signal_coordinate_df[signal_coordinate_df['gene'].isin(['Gad1'])].copy()\n",
    "\n",
    "plot_marker_signals(signal_df=Gad1_signal, centroid_df= MOD2_df, title=\"Gad1\", color=\"MOD2\")"
   ]
  },
  {
   "cell_type": "code",
   "execution_count": null,
   "metadata": {},
   "outputs": [],
   "source": [
    "Gjc3_signal = signal_coordinate_df[signal_coordinate_df['gene'].isin(['Gjc3'])].copy()\n",
    "\n",
    "plot_marker_signals(signal_df=Gjc3_signal, centroid_df= MOD2_df, title=\"Gjc3\", color=\"MOD2\")"
   ]
  },
  {
   "cell_type": "code",
   "execution_count": null,
   "metadata": {},
   "outputs": [],
   "source": [
    "Mlc1_signal = signal_coordinate_df[signal_coordinate_df['gene'].isin(['Mlc1'])].copy()\n",
    "\n",
    "plot_marker_signals(signal_df=Mlc1_signal, centroid_df= MOD2_df, title=\"Mlc1\", color=\"MOD2\")"
   ]
  },
  {
   "cell_type": "code",
   "execution_count": null,
   "metadata": {},
   "outputs": [],
   "source": [
    "Plin3_signal = signal_coordinate_df[signal_coordinate_df['gene'].isin(['Plin3'])].copy()\n",
    "\n",
    "plot_marker_signals(signal_df=Plin3_signal, centroid_df= MOD2_df, title=\"Plin3\", color=\"MOD2\")"
   ]
  },
  {
   "cell_type": "code",
   "execution_count": null,
   "metadata": {},
   "outputs": [],
   "source": [
    "Syt4_signal = signal_coordinate_df[signal_coordinate_df['gene'].isin(['Syt4'])].copy()\n",
    "\n",
    "plot_marker_signals(signal_df=Syt4_signal, centroid_df= MOD2_df, title=\"Syt4\", color=\"MOD2\")"
   ]
  }
 ],
 "metadata": {
  "kernelspec": {
   "display_name": "ovrlpy_0513",
   "language": "python",
   "name": "python3"
  },
  "language_info": {
   "codemirror_mode": {
    "name": "ipython",
    "version": 3
   },
   "file_extension": ".py",
   "mimetype": "text/x-python",
   "name": "python",
   "nbconvert_exporter": "python",
   "pygments_lexer": "ipython3",
   "version": "3.12.10"
  }
 },
 "nbformat": 4,
 "nbformat_minor": 2
}
