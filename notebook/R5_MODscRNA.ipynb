{
 "cells": [
  {
   "cell_type": "markdown",
   "metadata": {},
   "source": [
    "## Result 5: MOD markers in scRNA-seq"
   ]
  },
  {
   "cell_type": "code",
   "execution_count": null,
   "metadata": {},
   "outputs": [],
   "source": [
    "from pathlib import Path\n",
    "from scipy.io import mmread\n",
    "import anndata as ad\n",
    "\n",
    "import sys\n",
    "import os\n",
    "sys.path.append(os.path.abspath(\"../src\"))\n",
    "from plot import plot_annotate_heatmap\n",
    "from utils import load_scRNA_data\n",
    "\n",
    "import numpy as np\n",
    "import pandas as pd"
   ]
  },
  {
   "cell_type": "markdown",
   "metadata": {},
   "source": [
    "### data"
   ]
  },
  {
   "cell_type": "markdown",
   "metadata": {},
   "source": [
    "#### Signals in the Tissue Section"
   ]
  },
  {
   "cell_type": "code",
   "execution_count": null,
   "metadata": {},
   "outputs": [],
   "source": [
    "MERFISH_data_folder_path = Path(\"../data/mouse_hypothalamus/MERFISH/\")"
   ]
  },
  {
   "cell_type": "code",
   "execution_count": null,
   "metadata": {},
   "outputs": [],
   "source": [
    "columns = [\n",
    "    \"Centroid_X\",\n",
    "    \"Centroid_Y\",\n",
    "    \"Centroid_Z\",\n",
    "    \"Gene_name\",\n",
    "    \"Cell_name\",\n",
    "    \"Total_brightness\",\n",
    "    \"Area\",\n",
    "    \"Error_bit\",\n",
    "    \"Error_direction\",\n",
    "]\n",
    "\n",
    "signal_coordinate_df = pd.read_csv(\n",
    "    MERFISH_data_folder_path / \"merfish_barcodes_example.csv\", usecols=columns\n",
    ").rename(\n",
    "    columns={\n",
    "        \"Centroid_X\": \"x\",\n",
    "        \"Centroid_Y\": \"y\",\n",
    "        \"Centroid_Z\": \"z\",\n",
    "        \"Gene_name\": \"gene\",\n",
    "    }\n",
    ")\n",
    "\n",
    "\n",
    "# remove dummy molecules\n",
    "signal_coordinate_df = signal_coordinate_df.loc[\n",
    "    ~signal_coordinate_df[\"gene\"].str.contains(\"Blank|NegControl\"),\n",
    "]\n",
    "\n",
    "signal_coordinate_df[\"gene\"] = signal_coordinate_df[\"gene\"].astype(\"category\")\n",
    "\n",
    "# shift the coordinates to avoid the negative values\n",
    "coordinate_x_m =  signal_coordinate_df['x'].min()\n",
    "coordinate_y_m =  signal_coordinate_df['y'].min()\n",
    "signal_coordinate_df['x'] = signal_coordinate_df['x'] - coordinate_x_m\n",
    "signal_coordinate_df['y'] = signal_coordinate_df['y'] - coordinate_y_m\n",
    "\n",
    "# make a copy to avoid SettingWithCopyWarning\n",
    "signal_coordinate_df = signal_coordinate_df.copy()"
   ]
  },
  {
   "cell_type": "markdown",
   "metadata": {},
   "source": [
    "#### Results of BANKSY"
   ]
  },
  {
   "cell_type": "code",
   "execution_count": null,
   "metadata": {},
   "outputs": [],
   "source": [
    "banksy_folder_path = Path(\"../data/banksy_results/\")"
   ]
  },
  {
   "cell_type": "code",
   "execution_count": null,
   "metadata": {},
   "outputs": [],
   "source": [
    "columns = [\n",
    "    \"Centroid_X\",\n",
    "    \"Centroid_Y\",\n",
    "    \"Bregma\",\n",
    "    \"lam0.2\",\n",
    "]\n",
    "\n",
    "banksy_result = pd.read_csv(\n",
    "    banksy_folder_path / 'banksy_cluster.txt', usecols=columns, sep = '\\t'\n",
    ").rename(\n",
    "    columns={\n",
    "        \"Centroid_X\": \"x\",\n",
    "        \"Centroid_Y\": \"y\",\n",
    "        \"Bregma\": \"Bregma\",\n",
    "        \"lam0.2\": \"banksy_cluster\",\n",
    "    }\n",
    ")\n",
    "\n",
    "banksy_result = banksy_result[banksy_result['Bregma'] == -0.24]\n",
    "\n",
    "banksy_result['x'] = banksy_result['x'] - coordinate_x_m\n",
    "banksy_result['y'] = banksy_result['y'] - coordinate_y_m\n",
    "\n",
    "banksy_result = banksy_result.copy()"
   ]
  },
  {
   "cell_type": "markdown",
   "metadata": {},
   "source": [
    "#### Segmentation Dataset"
   ]
  },
  {
   "cell_type": "code",
   "execution_count": null,
   "metadata": {},
   "outputs": [],
   "source": [
    "merfish_data = pd.read_csv(\n",
    "    MERFISH_data_folder_path / \"merfish_all_cells.csv\"\n",
    "    ).rename(\n",
    "    columns={\n",
    "        \"Centroid_X\": \"x\",\n",
    "        \"Centroid_Y\": \"y\"\n",
    "    }\n",
    ")\n",
    "\n",
    "merfish_data = merfish_data.drop(columns=[col for col in merfish_data.columns if col == 'Fos' or col.startswith('Blank_')])\n",
    "merfish_data = merfish_data[merfish_data[\"Cell_class\"] != \"Ambiguous\"]\n",
    "merfish_data = merfish_data[merfish_data['Animal_ID'] == 1]\n",
    "merfish_data = merfish_data[merfish_data['Bregma'] == -0.24]\n",
    "\n",
    "merfish_data['x'] = merfish_data['x'] - coordinate_x_m\n",
    "merfish_data['y'] = merfish_data['y'] - coordinate_y_m\n",
    "\n",
    "merfish_data['banksy'] = banksy_result['banksy_cluster'].values\n",
    "\n",
    "merfish_data = merfish_data.copy()"
   ]
  },
  {
   "cell_type": "code",
   "execution_count": null,
   "metadata": {},
   "outputs": [],
   "source": [
    "cell_class_m = {'Astrocyte': 'Astrocyte',\n",
    " 'Endothelial 1': 'Endothelial',\n",
    " 'Endothelial 2': 'Endothelial',\n",
    " 'Endothelial 3': 'Endothelial',\n",
    " 'Ependymal': 'Ependymal',\n",
    " 'Excitatory': 'Excitatory',\n",
    " 'Inhibitory': 'Inhibitory',\n",
    " 'Microglia': 'Microglia',\n",
    " 'OD Immature 1': 'OD Immature',\n",
    " 'OD Immature 2': 'OD Immature',\n",
    " 'OD Mature 1': 'OD Mature',\n",
    " 'OD Mature 2': 'OD Mature',\n",
    " 'OD Mature 3': 'OD Mature',\n",
    " 'OD Mature 4': 'OD Mature',\n",
    " 'Pericytes': 'Pericytes'}\n",
    "\n",
    "merfish_data['Cell_class'] = merfish_data['Cell_class'].map(cell_class_m)\n",
    "merfish_data = merfish_data.sort_values(by='Cell_class')\n",
    "\n",
    "merfish_data = merfish_data.copy()"
   ]
  },
  {
   "cell_type": "markdown",
   "metadata": {},
   "source": [
    "#### Matched Single-Cell RNA Sequencing"
   ]
  },
  {
   "cell_type": "code",
   "execution_count": null,
   "metadata": {},
   "outputs": [],
   "source": [
    "data_path = Path(\"../data/mouse_hypothalamus/SingleCell/\")\n",
    "mtx_path = data_path / \"GSE113576_matrix.mtx\"\n",
    "barcodes_path = data_path / \"GSE113576_barcodes.tsv\"\n",
    "genes_path = data_path / \"GSE113576_genes.tsv\"\n",
    "meta_path = data_path / \"aau5324_Moffitt_Table-S1.xlsx\""
   ]
  },
  {
   "cell_type": "code",
   "execution_count": null,
   "metadata": {},
   "outputs": [],
   "source": [
    "cell_class_dict = {\n",
    "    'Astrocytes': 'Astrocytes',\n",
    "    'Endothelial': 'Endothelial',\n",
    "    'Ependymal': 'Ependymal',\n",
    "    'Excitatory': 'Excitatory',\n",
    "    'Fibroblast': 'Fibroblast',\n",
    "    'Immature oligodendrocyte': 'OD immature',\n",
    "    'Inhibitory': 'Inhibitory',\n",
    "    'Macrophage': 'Macrophage',\n",
    "    'Mature oligodendrocyte': 'OD mature',\n",
    "    'Microglia': 'Microglia',\n",
    "    'Mural': 'Mural',\n",
    "    'Newly formed oligodendrocyte': 'OD newly formed',\n",
    "}\n",
    "\n",
    "adata = load_scRNA_data(\n",
    "    mtx_path, \n",
    "    barcodes_path, \n",
    "    genes_path, \n",
    "    meta_path, \n",
    "    cell_class_filter = cell_class_dict\n",
    ")"
   ]
  },
  {
   "cell_type": "markdown",
   "metadata": {},
   "source": [
    "#### Marker Genes\n",
    "\n",
    "differentially expressed genes identified by BANKSY"
   ]
  },
  {
   "cell_type": "code",
   "execution_count": null,
   "metadata": {},
   "outputs": [],
   "source": [
    "# all differentially expressed genes\n",
    "DE_genes = ['Mlc1', 'Dgkk', 'Cbln2', 'Syt4', 'Gad1', 'Plin3', 'Gnrh1', 'Sln', 'Gjc3', 'Mbp', 'Lpar1', 'Trh', 'Ucn3', 'Cck']\n",
    "# DE_genes_MOD2: 7\n",
    "DE_genes_MOD2 = ['Mlc1', 'Dgkk', 'Cbln2', 'Syt4', 'Gad1', 'Plin3', 'Gnrh1', 'Sln', 'Gjc3']\n",
    "# DE_genes_MOD1: 8\n",
    "DE_genes_MOD1 = ['Mbp', 'Lpar1', 'Trh', 'Ucn3', 'Cck']"
   ]
  },
  {
   "cell_type": "code",
   "execution_count": null,
   "metadata": {},
   "outputs": [],
   "source": [
    "sc_data = adata.to_df()\n",
    "sc_DE_MOD1_df = sc_data[DE_genes_MOD2]\n",
    "sc_DE_MOD2_df = sc_data[DE_genes_MOD1]\n",
    "sc_DE = pd.concat([sc_DE_MOD1_df, sc_DE_MOD2_df], axis=1)\n",
    "\n",
    "sc_cell_class = adata.obs['Cell_class']"
   ]
  },
  {
   "cell_type": "code",
   "execution_count": null,
   "metadata": {},
   "outputs": [],
   "source": [
    "# MERFISH, MOD, Marker Genes\n",
    "MOD_merfish = merfish_data[(merfish_data['banksy']==7) | (merfish_data['banksy']==8)]\n",
    "MOD_merfish = MOD_merfish.sort_values(by='banksy')\n",
    "\n",
    "common_genes = [gene for gene in DE_genes if gene in MOD_merfish.columns]\n",
    "MOD_merfish_DE = MOD_merfish[common_genes].T\n",
    "\n",
    "MOD_banksy = MOD_merfish['banksy']"
   ]
  },
  {
   "cell_type": "code",
   "execution_count": null,
   "metadata": {},
   "outputs": [],
   "source": [
    "Gene_Group = pd.DataFrame([0,0,0,0,0,0,0,0,0,1,1,1,1,1], columns=['cluster'])"
   ]
  },
  {
   "cell_type": "markdown",
   "metadata": {},
   "source": [
    "### Heatmaps"
   ]
  },
  {
   "cell_type": "markdown",
   "metadata": {},
   "source": [
    "#### functions"
   ]
  },
  {
   "cell_type": "code",
   "execution_count": null,
   "metadata": {},
   "outputs": [],
   "source": [
    "import seaborn as sns\n",
    "import matplotlib.pyplot as plt\n",
    "\n",
    "heat_cmap = sns.color_palette(\"RdYlBu_r\", as_cmap=True)"
   ]
  },
  {
   "cell_type": "code",
   "execution_count": null,
   "metadata": {},
   "outputs": [],
   "source": [
    "# genes_clusters_heatmap: heatmap of the marker genes\n",
    "\n",
    "from sklearn.cluster import AgglomerativeClustering\n",
    "from scipy.cluster.hierarchy import linkage, leaves_list\n",
    "import matplotlib.patches as patches\n",
    "\n",
    "def genes_clusters_heatmap(cluster_data, cluster_labels, gene_groups=None, zscore=True, DE_g=True, y_pos=-1.2, cmap=heat_cmap):\n",
    "    cluster_data = cluster_data.copy()\n",
    "    cluster_data['Cell_class'] = cluster_labels\n",
    "\n",
    "    cluster_data = cluster_data.sort_values(by='Cell_class')\n",
    "    cell_class_col = cluster_data['Cell_class']\n",
    "    numeric_data = cluster_data.drop(columns=['Cell_class']).apply(pd.to_numeric, errors='coerce')\n",
    "    numeric_data = numeric_data.dropna(axis=1, how='any')\n",
    "    numeric_data = numeric_data.loc[:, ~numeric_data.T.duplicated()]\n",
    "    cluster_data = pd.concat([cell_class_col, numeric_data], axis=1)\n",
    "\n",
    "    if 'Cell_class' in cluster_data.columns:\n",
    "        expression_data = cluster_data.drop('Cell_class', axis=1)\n",
    "    else:\n",
    "        print(\"Warning: 'Cell_class' column not found in cluster_data.\")\n",
    "        expression_data = cluster_data.copy()\n",
    "\n",
    "    expression_data = expression_data.T\n",
    "    expression_data = expression_data.loc[:, ~expression_data.columns.duplicated()]\n",
    "\n",
    "    cluster_labels_sorted = cluster_data['Cell_class'].values\n",
    "\n",
    "    if zscore:\n",
    "        expression_data = expression_data.apply(lambda x: (x - x.mean()) / x.std(), axis=1)\n",
    "        vmin, vmax = -3, 3\n",
    "    else:\n",
    "        vmin, vmax = 0, 5\n",
    "\n",
    "    new_order = []\n",
    "    unique_labels = sorted(set(cluster_labels_sorted))\n",
    "\n",
    "    for label in unique_labels:\n",
    "        class_indices = np.where(cluster_labels_sorted == label)[0]\n",
    "\n",
    "        if len(class_indices) == 0:\n",
    "            print(f\"Warning: No cells found for class {label}\")\n",
    "            continue\n",
    "        \n",
    "        subset = expression_data.iloc[:, class_indices]\n",
    "\n",
    "        if subset.shape[1] > 1:\n",
    "            linkage_matrix = linkage(subset.T, method='ward')\n",
    "            sorted_indices = leaves_list(linkage_matrix)\n",
    "            sorted_indices = class_indices[sorted_indices]\n",
    "        else:\n",
    "            sorted_indices = class_indices\n",
    "\n",
    "        new_order.extend(sorted_indices)\n",
    "\n",
    "    reordered_expression_data = expression_data.iloc[:, new_order]\n",
    "    reordered_cluster_labels = cluster_labels_sorted[new_order]\n",
    "\n",
    "    if gene_groups is not None:\n",
    "        new_gene_order = []\n",
    "        unique_gene_labels = sorted(set(gene_groups['cluster']))\n",
    "        \n",
    "        for label in unique_gene_labels:\n",
    "            gene_indices = np.where(gene_groups == label)[0]\n",
    "            # print(f\"Gene label: {label}, Indices: {gene_indices}\")\n",
    "\n",
    "            if len(gene_indices) == 0:\n",
    "                continue\n",
    "            \n",
    "            subset = reordered_expression_data.iloc[gene_indices, :]\n",
    "\n",
    "            if subset.shape[0] > 1:\n",
    "                linkage_matrix = linkage(subset, method='average')\n",
    "                sorted_gene_indices = leaves_list(linkage_matrix)\n",
    "                sorted_gene_indices = gene_indices[sorted_gene_indices]\n",
    "            else:\n",
    "                sorted_gene_indices = gene_indices\n",
    "\n",
    "            new_gene_order.extend(sorted_gene_indices)\n",
    "    else:\n",
    "        linkage_matrix = linkage(reordered_expression_data, method='average')\n",
    "        new_gene_order = leaves_list(linkage_matrix)\n",
    "    \n",
    "    reordered_expression_data = reordered_expression_data.iloc[new_gene_order, :]\n",
    "\n",
    "    plt.figure(figsize=(20, 10), dpi=600)\n",
    "    ax = sns.heatmap(\n",
    "        reordered_expression_data,\n",
    "        vmin=vmin, vmax=vmax,\n",
    "        annot=False, fmt=\"g\", xticklabels=False, yticklabels=True,  # Ensure labels are visible\n",
    "        cmap=cmap,\n",
    "        cbar=True,\n",
    "        cbar_kws={\"shrink\": 0.5}  # Shrink color bar\n",
    "    )\n",
    "\n",
    "    cbar = ax.collections[0].colorbar\n",
    "    cbar.ax.set_position([ax.get_position().x1 + 0.01,\n",
    "                      ax.get_position().y1-0.3,\n",
    "                      0.02,\n",
    "                      0.2])\n",
    "\n",
    "    # Set tick label font sizes\n",
    "    ax.set_yticks(ax.get_yticks())  \n",
    "    ax.set_yticklabels(ax.get_yticklabels(), fontsize=15, rotation=0)\n",
    "\n",
    "    cluster_boundaries = []\n",
    "    for label in unique_labels:\n",
    "        class_indices = np.where(reordered_cluster_labels == label)[0]\n",
    "        if len(class_indices) == 0:\n",
    "            continue\n",
    "        \n",
    "        start_idx, end_idx = class_indices[0], class_indices[-1]\n",
    "        x_pos = (start_idx + end_idx) / 2\n",
    "\n",
    "        ax.text(\n",
    "            x_pos, y_pos, str(label), ha='center', va='center', rotation=90, fontsize=15, color='black' # scRNA, mfsh non-od\n",
    "            # x_pos, -0.9, str(label), ha='center', va='center', rotation=90, fontsize=15, color='black' # merfish mod\n",
    "        )\n",
    "\n",
    "        cluster_boundaries.append(end_idx)\n",
    "\n",
    "    for boundary in cluster_boundaries[:-1]:\n",
    "        ax.axvline(x=boundary + 0.5, color='purple', linestyle='--', linewidth=1)\n",
    "\n",
    "    if DE_g:\n",
    "        ax.hlines(y=9, xmin=ax.get_xlim()[0], xmax=ax.get_xlim()[1], color='green', linestyle='--', linewidth=1)\n",
    "\n",
    "    # for scRNA MOD cells\n",
    "    # # Get the position of the heatmap axis to adjust rectangle accordingly\n",
    "    ax_pos = ax.get_position()  # This gives the (left, bottom, width, height)\n",
    "\n",
    "    # Specify the rectangle parameters (customize x_rect, width, and height)\n",
    "    x_rect = ax_pos.x0 + 500  # Adjust this value to move the rectangle horizontally (x-axis)\n",
    "    width = 350  # Adjust this value to control the width of the rectangle\n",
    "    y_rect = ax_pos.y0 -0.1  # Set y_rect to the bottom of the heatmap\n",
    "    height = ax_pos.height * 18.15  # Set the height of the rectangle to match the heatmap height\n",
    "\n",
    "    # Create and add the rectangle\n",
    "    rect1 = patches.Rectangle(\n",
    "        (x_rect, y_rect), width, height,\n",
    "        linewidth=1.5, edgecolor='green', facecolor='none', linestyle='--'\n",
    "    )\n",
    "    ax.add_patch(rect1)\n",
    "\n",
    "    x_rect = ax_pos.x0 + 1350  # Adjust this value to move the rectangle horizontally (x-axis)\n",
    "    width = 250  # Adjust this value to control the width of the rectangle\n",
    "    y_rect = ax_pos.y0 -0.1  # Set y_rect to the bottom of the heatmap\n",
    "    height = ax_pos.height * 18.15  # Set the height of the rectangle to match the heatmap height\n",
    "\n",
    "    # Create and add the rectangle\n",
    "    rect2 = patches.Rectangle(\n",
    "        (x_rect, y_rect), width, height,\n",
    "        linewidth=1.5, edgecolor='orange', facecolor='none', linestyle='--'\n",
    "    )\n",
    "    ax.add_patch(rect2)\n",
    "\n",
    "    x_rect = ax_pos.x0 + 2620  # Adjust this value to move the rectangle horizontally (x-axis)\n",
    "    width = 200  # Adjust this value to control the width of the rectangle\n",
    "    y_rect = ax_pos.y0 -0.1  # Set y_rect to the bottom of the heatmap\n",
    "    height = ax_pos.height * 18.15  # Set the height of the rectangle to match the heatmap height\n",
    "\n",
    "    # Create and add the rectangle\n",
    "    rect2 = patches.Rectangle(\n",
    "        (x_rect, y_rect), width, height,\n",
    "        linewidth=1.5, edgecolor='blue', facecolor='none', linestyle='--'\n",
    "    )\n",
    "    ax.add_patch(rect2)\n",
    "\n",
    "    x_rect = ax_pos.x0 + 4800  # Adjust this value to move the rectangle horizontally (x-axis)\n",
    "    width = 1800  # Adjust this value to control the width of the rectangle\n",
    "    y_rect = ax_pos.y0 -0.1  # Set y_rect to the bottom of the heatmap\n",
    "    height = ax_pos.height * 18.15  # Set the height of the rectangle to match the heatmap height\n",
    "\n",
    "    # Create and add the rectangle\n",
    "    rect3 = patches.Rectangle(\n",
    "        (x_rect, y_rect), width, height,\n",
    "        linewidth=1.5, edgecolor='red', facecolor='none', linestyle='--'\n",
    "    )\n",
    "    ax.add_patch(rect3)\n",
    "\n",
    "    plt.xlabel(\"\")\n",
    "    plt.ylabel(\"\")\n",
    "    plt.show()\n"
   ]
  },
  {
   "cell_type": "markdown",
   "metadata": {},
   "source": [
    "#### scRNA-seq: Marker Genes in MOD"
   ]
  },
  {
   "cell_type": "code",
   "execution_count": null,
   "metadata": {},
   "outputs": [],
   "source": [
    "MOD_sc_data = pd.concat([sc_DE, sc_cell_class], axis=1)\n",
    "MOD_sc_data = MOD_sc_data[MOD_sc_data['Cell_class'].str.startswith(\"OD mat\")]\n",
    "\n",
    "MOD_sc_cell_class = MOD_sc_data['Cell_class']\n",
    "MOD_sc_data = MOD_sc_data.drop('Cell_class', axis=1)"
   ]
  },
  {
   "cell_type": "code",
   "execution_count": null,
   "metadata": {},
   "outputs": [],
   "source": [
    "box_specs = [\n",
    "    {\"x_offset\": 500, \"width\": 350, \"color\": \"green\"},\n",
    "    {\"x_offset\": 1350, \"width\": 250, \"color\": \"orange\"},\n",
    "    {\"x_offset\": 2620, \"width\": 200, \"color\": \"blue\"},\n",
    "    {\"x_offset\": 4800, \"width\": 1800, \"color\": \"red\"}\n",
    "]"
   ]
  },
  {
   "cell_type": "code",
   "execution_count": null,
   "metadata": {},
   "outputs": [],
   "source": [
    "plot_annotate_heatmap(cluster_data = MOD_sc_data, cluster_labels=MOD_sc_cell_class, gene_groups=Gene_Group, show_cluster=False, box_specs=box_specs)"
   ]
  },
  {
   "cell_type": "markdown",
   "metadata": {},
   "source": [
    "#### scRNA-seq: Marker Genes in non-OD Cell Types"
   ]
  },
  {
   "cell_type": "code",
   "execution_count": null,
   "metadata": {},
   "outputs": [],
   "source": [
    "noOD_sc_data = pd.concat([sc_DE, sc_cell_class], axis=1)\n",
    "noOD_sc_data = noOD_sc_data[~noOD_sc_data['Cell_class'].str.startswith(\"OD\")]\n",
    "\n",
    "noOD_sc_cell_class = noOD_sc_data['Cell_class']\n",
    "noOD_sc_data = noOD_sc_data.drop('Cell_class', axis=1)"
   ]
  },
  {
   "cell_type": "code",
   "execution_count": null,
   "metadata": {},
   "outputs": [],
   "source": [
    "plot_annotate_heatmap(cluster_data = noOD_sc_data, cluster_labels=noOD_sc_cell_class, gene_groups=Gene_Group, cluster_text_y=-1.3)"
   ]
  },
  {
   "cell_type": "markdown",
   "metadata": {},
   "source": [
    "#### MERFISH: Marker Genes in MOD"
   ]
  },
  {
   "cell_type": "code",
   "execution_count": null,
   "metadata": {},
   "outputs": [],
   "source": [
    "MOD_banksy = MOD_banksy.replace({7: 'MOD2', 8: 'MOD1'})"
   ]
  },
  {
   "cell_type": "code",
   "execution_count": null,
   "metadata": {},
   "outputs": [],
   "source": [
    "plot_annotate_heatmap(cluster_data=MOD_merfish_DE.T, cluster_labels=MOD_banksy, gene_groups=Gene_Group, cluster_text_y=-0.9)"
   ]
  },
  {
   "cell_type": "markdown",
   "metadata": {},
   "source": [
    "#### MERFISH: Marker Genes in non-OD cell types"
   ]
  },
  {
   "cell_type": "code",
   "execution_count": null,
   "metadata": {},
   "outputs": [],
   "source": [
    "OD_mask = merfish_data['Cell_class'].str.startswith(\"OD\")\n",
    "no_OD_merfish_data = merfish_data.drop(merfish_data.index[OD_mask], axis=0, inplace=False)\n",
    "\n",
    "common_genes_gm = [gene for gene in DE_genes_MOD2 if gene in no_OD_merfish_data.columns]\n",
    "no_OD_merfish_DE_gm = no_OD_merfish_data[common_genes_gm]\n",
    "\n",
    "common_genes_wm = [gene for gene in DE_genes_MOD1 if gene in no_OD_merfish_data.columns]\n",
    "no_OD_merfish_DE_wm = no_OD_merfish_data[common_genes_wm]\n",
    "\n",
    "no_OD_merfish_DE = pd.concat([no_OD_merfish_DE_gm, no_OD_merfish_DE_wm], axis=1).T\n",
    "\n",
    "no_OD_cell_class = no_OD_merfish_data['Cell_class']"
   ]
  },
  {
   "cell_type": "code",
   "execution_count": null,
   "metadata": {},
   "outputs": [],
   "source": [
    "plot_annotate_heatmap(cluster_data=no_OD_merfish_DE.T, cluster_labels=no_OD_cell_class, gene_groups=Gene_Group)"
   ]
  }
 ],
 "metadata": {
  "kernelspec": {
   "display_name": "ovrlpy_0513",
   "language": "python",
   "name": "python3"
  },
  "language_info": {
   "codemirror_mode": {
    "name": "ipython",
    "version": 3
   },
   "file_extension": ".py",
   "mimetype": "text/x-python",
   "name": "python",
   "nbconvert_exporter": "python",
   "pygments_lexer": "ipython3",
   "version": "3.12.10"
  }
 },
 "nbformat": 4,
 "nbformat_minor": 2
}
