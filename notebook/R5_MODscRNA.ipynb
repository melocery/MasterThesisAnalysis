{
 "cells": [
  {
   "cell_type": "markdown",
   "metadata": {},
   "source": [
    "## Result 5: MOD markers in scRNA-seq data\n",
    "Investigated the expression of MOD markers in both ST and scRNA-seq data:  \n",
    "- in mature oligodendrocytes  \n",
    "- in non-oligodendrocytes  \n",
    "\n",
    "to assess \n",
    "- whether their expression patterns in scRNA-seq are consistent with those observed in ST data  \n",
    "- whether these markers are also expressed in other cell types  "
   ]
  },
  {
   "cell_type": "code",
   "execution_count": null,
   "metadata": {},
   "outputs": [],
   "source": [
    "from pathlib import Path\n",
    "\n",
    "import sys\n",
    "import os\n",
    "sys.path.append(os.path.abspath(\"../src\"))\n",
    "\n",
    "from utils import load_merfish_signal_df, load_banksy_result, load_merfish_data, load_scRNA_data\n",
    "from plot import plot_annotate_heatmap\n",
    "\n",
    "import pandas as pd"
   ]
  },
  {
   "cell_type": "markdown",
   "metadata": {},
   "source": [
    "### data"
   ]
  },
  {
   "cell_type": "markdown",
   "metadata": {},
   "source": [
    "#### Signals in the Tissue Section"
   ]
  },
  {
   "cell_type": "code",
   "execution_count": null,
   "metadata": {},
   "outputs": [],
   "source": [
    "MERFISH_data_folder_path = Path(\"../data/mouse_hypothalamus/MERFISH/\")"
   ]
  },
  {
   "cell_type": "code",
   "execution_count": null,
   "metadata": {},
   "outputs": [],
   "source": [
    "signal_coordinate_df, coordinate_x_m, coordinate_y_m = load_merfish_signal_df(MERFISH_data_folder_path/\"merfish_barcodes_example.csv\")"
   ]
  },
  {
   "cell_type": "markdown",
   "metadata": {},
   "source": [
    "#### Results of BANKSY"
   ]
  },
  {
   "cell_type": "code",
   "execution_count": null,
   "metadata": {},
   "outputs": [],
   "source": [
    "banksy_folder_path = Path(\"../data/banksy_results/\")"
   ]
  },
  {
   "cell_type": "code",
   "execution_count": null,
   "metadata": {},
   "outputs": [],
   "source": [
    "banksy_result = load_banksy_result(banksy_folder_path/\"banksy_cluster.txt\", coordinate_x_m, coordinate_y_m)"
   ]
  },
  {
   "cell_type": "markdown",
   "metadata": {},
   "source": [
    "#### Segmentation Dataset"
   ]
  },
  {
   "cell_type": "code",
   "execution_count": null,
   "metadata": {},
   "outputs": [],
   "source": [
    "merfish_data = load_merfish_data(MERFISH_data_folder_path / \"merfish_all_cells.csv\", \n",
    "                                 banksy_result, coordinate_x_m, coordinate_y_m, \n",
    "                                 animal_id=1, bregma_value=-0.24)"
   ]
  },
  {
   "cell_type": "markdown",
   "metadata": {},
   "source": [
    "#### Matched Single-Cell RNA Sequencing"
   ]
  },
  {
   "cell_type": "code",
   "execution_count": null,
   "metadata": {},
   "outputs": [],
   "source": [
    "data_path = Path(\"../data/mouse_hypothalamus/SingleCell/\")\n",
    "mtx_path = data_path / \"GSE113576_matrix.mtx\"\n",
    "barcodes_path = data_path / \"GSE113576_barcodes.tsv\"\n",
    "genes_path = data_path / \"GSE113576_genes.tsv\"\n",
    "meta_path = data_path / \"aau5324_Moffitt_Table-S1.xlsx\""
   ]
  },
  {
   "cell_type": "code",
   "execution_count": null,
   "metadata": {},
   "outputs": [],
   "source": [
    "cell_class_dict = {\n",
    "    'Astrocytes': 'Astrocytes',\n",
    "    'Microglia': 'Microglia',\n",
    "    'Macrophage': 'Macrophage',\n",
    "    'Excitatory': 'Excitatory',\n",
    "    'Inhibitory': 'Inhibitory',\n",
    "    'Immature oligodendrocyte': 'OD immature',\n",
    "    'Newly formed oligodendrocyte': 'OD newly formed',\n",
    "    'Mature oligodendrocyte': 'OD mature',\n",
    "    'Ependymal': 'Ependymal',\n",
    "    'Endothelial': 'Endothelial',\n",
    "    'Mural': 'Mural',\n",
    "    'Fibroblast': 'Fibroblast',\n",
    "}\n",
    "\n",
    "adata = load_scRNA_data(\n",
    "    mtx_path, \n",
    "    barcodes_path, \n",
    "    genes_path, \n",
    "    meta_path, \n",
    "    cell_class_filter = cell_class_dict\n",
    ")"
   ]
  },
  {
   "cell_type": "markdown",
   "metadata": {},
   "source": [
    "#### Marker Genes\n",
    "\n",
    "differentially expressed genes identified by BANKSY"
   ]
  },
  {
   "cell_type": "code",
   "execution_count": null,
   "metadata": {},
   "outputs": [],
   "source": [
    "# all differentially expressed genes\n",
    "DE_genes = ['Mbp', 'Lpar1', 'Trh', 'Ucn3', 'Cck', 'Mlc1', 'Dgkk', 'Cbln2', 'Syt4', 'Gad1', 'Plin3', 'Gnrh1', 'Sln', 'Gjc3']\n",
    "# DE_genes_MOD2: 7\n",
    "DE_genes_MOD2 = ['Mlc1', 'Dgkk', 'Cbln2', 'Syt4', 'Gad1', 'Plin3', 'Gnrh1', 'Sln', 'Gjc3']\n",
    "# DE_genes_MOD1: 8\n",
    "DE_genes_MOD1 = ['Mbp', 'Lpar1', 'Trh', 'Ucn3', 'Cck']"
   ]
  },
  {
   "cell_type": "code",
   "execution_count": null,
   "metadata": {},
   "outputs": [],
   "source": [
    "sc_data = adata.to_df()\n",
    "sc_DE_MOD2_df = sc_data[DE_genes_MOD2]\n",
    "sc_DE_MOD1_df = sc_data[DE_genes_MOD1]\n",
    "sc_DE = pd.concat([sc_DE_MOD1_df, sc_DE_MOD2_df], axis=1)\n",
    "\n",
    "sc_cell_class = adata.obs['Cell_class']"
   ]
  },
  {
   "cell_type": "code",
   "execution_count": null,
   "metadata": {},
   "outputs": [],
   "source": [
    "# MERFISH, MOD, Marker Genes\n",
    "MOD_merfish = merfish_data[(merfish_data['banksy']==8) | (merfish_data['banksy']==7)]\n",
    "MOD_merfish = MOD_merfish.sort_values(by='banksy')\n",
    "\n",
    "common_genes = [gene for gene in DE_genes if gene in MOD_merfish.columns]\n",
    "MOD_merfish_DE = MOD_merfish[common_genes].T\n",
    "\n",
    "MOD_banksy = MOD_merfish['banksy']"
   ]
  },
  {
   "cell_type": "code",
   "execution_count": null,
   "metadata": {},
   "outputs": [],
   "source": [
    "Gene_Group = pd.DataFrame([0,0,0,0,0,0,0,0,0,1,1,1,1,1], columns=['cluster'])"
   ]
  },
  {
   "cell_type": "markdown",
   "metadata": {},
   "source": [
    "### Heatmaps"
   ]
  },
  {
   "cell_type": "markdown",
   "metadata": {},
   "source": [
    "#### scRNA-seq: Marker Genes in MOD"
   ]
  },
  {
   "cell_type": "code",
   "execution_count": null,
   "metadata": {},
   "outputs": [],
   "source": [
    "MOD_sc_data = pd.concat([sc_DE, sc_cell_class], axis=1)\n",
    "MOD_sc_data = MOD_sc_data[MOD_sc_data['Cell_class'].str.startswith(\"OD mat\")]\n",
    "\n",
    "MOD_sc_cell_class = MOD_sc_data['Cell_class']\n",
    "MOD_sc_data = MOD_sc_data.drop('Cell_class', axis=1)"
   ]
  },
  {
   "cell_type": "code",
   "execution_count": null,
   "metadata": {},
   "outputs": [],
   "source": [
    "box_specs = [\n",
    "    {\"x_offset\": 500, \"width\": 350, \"color\": \"green\"},\n",
    "    {\"x_offset\": 1350, \"width\": 250, \"color\": \"orange\"},\n",
    "    {\"x_offset\": 2620, \"width\": 200, \"color\": \"blue\"},\n",
    "    {\"x_offset\": 4800, \"width\": 1800, \"color\": \"red\"}\n",
    "]"
   ]
  },
  {
   "cell_type": "code",
   "execution_count": null,
   "metadata": {},
   "outputs": [],
   "source": [
    "plot_annotate_heatmap(cluster_data = MOD_sc_data, cluster_labels=MOD_sc_cell_class, gene_groups=Gene_Group, show_cluster=False, box_specs=box_specs)"
   ]
  },
  {
   "cell_type": "markdown",
   "metadata": {},
   "source": [
    "#### scRNA-seq: Marker Genes in non-OD Cell Types"
   ]
  },
  {
   "cell_type": "code",
   "execution_count": null,
   "metadata": {},
   "outputs": [],
   "source": [
    "noOD_sc_data = pd.concat([sc_DE, sc_cell_class], axis=1)\n",
    "noOD_sc_data = noOD_sc_data[~noOD_sc_data['Cell_class'].str.startswith(\"OD\")]\n",
    "\n",
    "noOD_sc_cell_class = noOD_sc_data['Cell_class']\n",
    "noOD_sc_data = noOD_sc_data.drop('Cell_class', axis=1)"
   ]
  },
  {
   "cell_type": "code",
   "execution_count": null,
   "metadata": {},
   "outputs": [],
   "source": [
    "plot_annotate_heatmap(cluster_data = noOD_sc_data, cluster_labels=noOD_sc_cell_class, gene_groups=Gene_Group, cluster_text_y=-1.3)"
   ]
  },
  {
   "cell_type": "markdown",
   "metadata": {},
   "source": [
    "#### MERFISH: Marker Genes in MOD"
   ]
  },
  {
   "cell_type": "code",
   "execution_count": null,
   "metadata": {},
   "outputs": [],
   "source": [
    "MOD_banksy = MOD_banksy.replace({7: 'MOD2', 8: 'MOD1'})"
   ]
  },
  {
   "cell_type": "code",
   "execution_count": null,
   "metadata": {},
   "outputs": [],
   "source": [
    "plot_annotate_heatmap(cluster_data=MOD_merfish_DE.T, cluster_labels=MOD_banksy, gene_groups=Gene_Group, cluster_text_y=-0.9)"
   ]
  },
  {
   "cell_type": "markdown",
   "metadata": {},
   "source": [
    "#### MERFISH: Marker Genes in non-OD cell types"
   ]
  },
  {
   "cell_type": "code",
   "execution_count": null,
   "metadata": {},
   "outputs": [],
   "source": [
    "OD_mask = merfish_data['Cell_class'].str.startswith(\"OD\")\n",
    "no_OD_merfish_data = merfish_data.drop(merfish_data.index[OD_mask], axis=0, inplace=False)\n",
    "\n",
    "common_genes_gm = [gene for gene in DE_genes_MOD2 if gene in no_OD_merfish_data.columns]\n",
    "no_OD_merfish_DE_gm = no_OD_merfish_data[common_genes_gm]\n",
    "\n",
    "common_genes_wm = [gene for gene in DE_genes_MOD1 if gene in no_OD_merfish_data.columns]\n",
    "no_OD_merfish_DE_wm = no_OD_merfish_data[common_genes_wm]\n",
    "\n",
    "no_OD_merfish_DE = pd.concat([no_OD_merfish_DE_gm, no_OD_merfish_DE_wm], axis=1).T\n",
    "\n",
    "no_OD_cell_class = no_OD_merfish_data['Cell_class']"
   ]
  },
  {
   "cell_type": "code",
   "execution_count": null,
   "metadata": {},
   "outputs": [],
   "source": [
    "plot_annotate_heatmap(cluster_data=no_OD_merfish_DE.T, cluster_labels=no_OD_cell_class, gene_groups=Gene_Group)"
   ]
  }
 ],
 "metadata": {
  "kernelspec": {
   "display_name": "ovrlpy",
   "language": "python",
   "name": "python3"
  },
  "language_info": {
   "codemirror_mode": {
    "name": "ipython",
    "version": 3
   },
   "file_extension": ".py",
   "mimetype": "text/x-python",
   "name": "python",
   "nbconvert_exporter": "python",
   "pygments_lexer": "ipython3",
   "version": "3.12.11"
  }
 },
 "nbformat": 4,
 "nbformat_minor": 2
}
