{
 "cells": [
  {
   "cell_type": "markdown",
   "metadata": {},
   "source": [
    "## Result 7: VSI at the locations of transcripts from markers\n"
   ]
  },
  {
   "cell_type": "code",
   "execution_count": null,
   "metadata": {},
   "outputs": [],
   "source": [
    "from pathlib import Path\n",
    "\n",
    "import sys\n",
    "import os\n",
    "sys.path.append(os.path.abspath(\"../src\"))\n",
    "import importlib\n",
    "import plot\n",
    "importlib.reload(plot)\n",
    "import utils\n",
    "importlib.reload(utils)\n",
    "\n",
    "from utils import order_neuron_clusters, get_cluster_boundaries\n",
    "from plot import plot_neuron_cluster_heatmap\n",
    "\n",
    "import numpy as np\n",
    "import pandas as pd"
   ]
  },
  {
   "cell_type": "markdown",
   "metadata": {},
   "source": [
    "### data"
   ]
  },
  {
   "cell_type": "code",
   "execution_count": null,
   "metadata": {},
   "outputs": [],
   "source": [
    "import seaborn as sns\n",
    "import matplotlib.pyplot as plt\n",
    "\n",
    "heat_cmap = sns.color_palette(\"RdYlBu_r\", as_cmap=True)\n",
    "vsi_camp = sns.color_palette(\"ch:s=.25,rot=-.25\", as_cmap=True)"
   ]
  },
  {
   "cell_type": "markdown",
   "metadata": {},
   "source": [
    "#### Signals in the Tissue Section"
   ]
  },
  {
   "cell_type": "code",
   "execution_count": null,
   "metadata": {},
   "outputs": [],
   "source": [
    "MERFISH_data_folder_path = Path(\"../../data/mouse_hypothalamus/MERFISH/\")"
   ]
  },
  {
   "cell_type": "code",
   "execution_count": null,
   "metadata": {},
   "outputs": [],
   "source": [
    "columns = [\n",
    "    \"Centroid_X\",\n",
    "    \"Centroid_Y\",\n",
    "    \"Centroid_Z\",\n",
    "    \"Gene_name\",\n",
    "    \"Cell_name\",\n",
    "    \"Total_brightness\",\n",
    "    \"Area\",\n",
    "    \"Error_bit\",\n",
    "    \"Error_direction\",\n",
    "]\n",
    "\n",
    "signal_coordinate_df = pd.read_csv(\n",
    "    MERFISH_data_folder_path / \"merfish_barcodes_example.csv\", usecols=columns\n",
    ").rename(\n",
    "    columns={\n",
    "        \"Centroid_X\": \"x\",\n",
    "        \"Centroid_Y\": \"y\",\n",
    "        \"Centroid_Z\": \"z\",\n",
    "        \"Gene_name\": \"gene\",\n",
    "    }\n",
    ")\n",
    "\n",
    "\n",
    "# remove dummy molecules\n",
    "signal_coordinate_df = signal_coordinate_df.loc[\n",
    "    ~signal_coordinate_df[\"gene\"].str.contains(\"Blank|NegControl\"),\n",
    "]\n",
    "\n",
    "signal_coordinate_df[\"gene\"] = signal_coordinate_df[\"gene\"].astype(\"category\")\n",
    "\n",
    "# shift the coordinates to avoid the negative values\n",
    "coordinate_x_m =  signal_coordinate_df['x'].min()\n",
    "coordinate_y_m =  signal_coordinate_df['y'].min()\n",
    "signal_coordinate_df['x'] = signal_coordinate_df['x'] - coordinate_x_m\n",
    "signal_coordinate_df['y'] = signal_coordinate_df['y'] - coordinate_y_m\n",
    "\n",
    "# make a copy to avoid SettingWithCopyWarning\n",
    "signal_coordinate_df = signal_coordinate_df.copy()"
   ]
  },
  {
   "cell_type": "markdown",
   "metadata": {},
   "source": [
    "#### Results of Ovrlpy\n",
    "\n",
    "results:  \n",
    "- signal integrity  \n",
    "- signal strength  "
   ]
  },
  {
   "cell_type": "code",
   "execution_count": null,
   "metadata": {},
   "outputs": [],
   "source": [
    "ovrlpy_result_folder = Path(\"../../data/results/barcodes_xmpl\")\n",
    "signal_integrity = np.loadtxt(ovrlpy_result_folder/\"barcodes_signal_integrity.csv\", delimiter=',')\n",
    "signal_strength = np.loadtxt(ovrlpy_result_folder/\"barcodes_signal_strength.csv\", delimiter=',')"
   ]
  },
  {
   "cell_type": "code",
   "execution_count": null,
   "metadata": {},
   "outputs": [],
   "source": [
    "# exclude MOD marker signals\n",
    "nonMOD_signal_integrity = np.loadtxt(ovrlpy_result_folder/\"nonMOD/barcodes_signal_integrity.csv\", delimiter=',')\n",
    "nonMOD_signal_strength = np.loadtxt(ovrlpy_result_folder/\"nonMOD/barcodes_signal_strength.csv\", delimiter=',')"
   ]
  },
  {
   "cell_type": "code",
   "execution_count": null,
   "metadata": {},
   "outputs": [],
   "source": [
    "# exclude MOD marker signals\n",
    "nonMOD1_signal_integrity = np.loadtxt(ovrlpy_result_folder/\"nonMOD1/barcodes_signal_integrity.csv\", delimiter=',')\n",
    "nonMOD1_signal_strength = np.loadtxt(ovrlpy_result_folder/\"nonMOD1/barcodes_signal_strength.csv\", delimiter=',')"
   ]
  },
  {
   "cell_type": "code",
   "execution_count": null,
   "metadata": {},
   "outputs": [],
   "source": [
    "# exclude MOD marker signals\n",
    "nonMOD2_signal_integrity = np.loadtxt(ovrlpy_result_folder/\"nonMOD2/barcodes_signal_integrity.csv\", delimiter=',')\n",
    "nonMOD2_signal_strength = np.loadtxt(ovrlpy_result_folder/\"nonMOD2/barcodes_signal_strength.csv\", delimiter=',')"
   ]
  },
  {
   "cell_type": "markdown",
   "metadata": {},
   "source": [
    "#### Signals in the Tissue Section"
   ]
  },
  {
   "cell_type": "code",
   "execution_count": null,
   "metadata": {},
   "outputs": [],
   "source": [
    "MERFISH_data_folder_path = Path(\"../../data/mouse_hypothalamus/raw/\")"
   ]
  },
  {
   "cell_type": "code",
   "execution_count": null,
   "metadata": {},
   "outputs": [],
   "source": [
    "columns = [\n",
    "    \"Centroid_X\",\n",
    "    \"Centroid_Y\",\n",
    "    \"Centroid_Z\",\n",
    "    \"Gene_name\",\n",
    "    \"Cell_name\",\n",
    "    \"Total_brightness\",\n",
    "    \"Area\",\n",
    "    \"Error_bit\",\n",
    "    \"Error_direction\",\n",
    "]\n",
    "\n",
    "signal_coordinate_df = pd.read_csv(\n",
    "    MERFISH_data_folder_path / \"merfish_barcodes_example.csv\", usecols=columns\n",
    ").rename(\n",
    "    columns={\n",
    "        \"Centroid_X\": \"x\",\n",
    "        \"Centroid_Y\": \"y\",\n",
    "        \"Centroid_Z\": \"z\",\n",
    "        \"Gene_name\": \"gene\",\n",
    "    }\n",
    ")\n",
    "\n",
    "\n",
    "# remove dummy molecules\n",
    "signal_coordinate_df = signal_coordinate_df.loc[\n",
    "    ~signal_coordinate_df[\"gene\"].str.contains(\"Blank|NegControl\"),\n",
    "]\n",
    "\n",
    "signal_coordinate_df[\"gene\"] = signal_coordinate_df[\"gene\"].astype(\"category\")\n",
    "\n",
    "# shift the coordinates to avoid the negative values\n",
    "coordinate_x_m =  signal_coordinate_df['x'].min()\n",
    "coordinate_y_m =  signal_coordinate_df['y'].min()\n",
    "signal_coordinate_df['x'] = signal_coordinate_df['x'] - coordinate_x_m\n",
    "signal_coordinate_df['y'] = signal_coordinate_df['y'] - coordinate_y_m\n",
    "\n",
    "# make a copy to avoid SettingWithCopyWarning\n",
    "signal_coordinate_df = signal_coordinate_df.copy()"
   ]
  },
  {
   "cell_type": "markdown",
   "metadata": {},
   "source": [
    "#### Results of BANKSY"
   ]
  },
  {
   "cell_type": "code",
   "execution_count": null,
   "metadata": {},
   "outputs": [],
   "source": [
    "banksy_folder_path = Path(\"../../data/banksy_results/\")"
   ]
  },
  {
   "cell_type": "code",
   "execution_count": null,
   "metadata": {},
   "outputs": [],
   "source": [
    "columns = [\n",
    "    \"Centroid_X\",\n",
    "    \"Centroid_Y\",\n",
    "    \"Bregma\",\n",
    "    \"lam0.2\",\n",
    "]\n",
    "\n",
    "banksy_result = pd.read_csv(\n",
    "    banksy_folder_path / 'banksy_cluster.txt', usecols=columns, sep = '\\t'\n",
    ").rename(\n",
    "    columns={\n",
    "        \"Centroid_X\": \"x\",\n",
    "        \"Centroid_Y\": \"y\",\n",
    "        \"Bregma\": \"Bregma\",\n",
    "        \"lam0.2\": \"banksy_cluster\",\n",
    "    }\n",
    ")\n",
    "\n",
    "banksy_result = banksy_result[banksy_result['Bregma'] == -0.24]\n",
    "\n",
    "banksy_result['x'] = banksy_result['x'] - coordinate_x_m\n",
    "banksy_result['y'] = banksy_result['y'] - coordinate_y_m\n",
    "\n",
    "banksy_result = banksy_result.copy()"
   ]
  },
  {
   "cell_type": "markdown",
   "metadata": {},
   "source": [
    "#### Segmentation Dataset"
   ]
  },
  {
   "cell_type": "code",
   "execution_count": null,
   "metadata": {},
   "outputs": [],
   "source": [
    "seg_data_path = Path(\"../../data/mouse_hypothalamus/all_cells\")"
   ]
  },
  {
   "cell_type": "code",
   "execution_count": null,
   "metadata": {},
   "outputs": [],
   "source": [
    "merfish_data = pd.read_csv(\n",
    "    seg_data_path / \"merfish_all_cells.csv\"\n",
    "    ).rename(\n",
    "    columns={\n",
    "        \"Centroid_X\": \"x\",\n",
    "        \"Centroid_Y\": \"y\"\n",
    "    }\n",
    ")\n",
    "\n",
    "merfish_data = merfish_data.drop(columns=[col for col in merfish_data.columns if col == 'Fos' or col.startswith('Blank_')])\n",
    "merfish_data = merfish_data[merfish_data[\"Cell_class\"] != \"Ambiguous\"]\n",
    "merfish_data = merfish_data[merfish_data['Animal_ID'] == 1]\n",
    "merfish_data = merfish_data[merfish_data['Bregma'] == -0.24]\n",
    "\n",
    "merfish_data['x'] = merfish_data['x'] - coordinate_x_m\n",
    "merfish_data['y'] = merfish_data['y'] - coordinate_y_m\n",
    "\n",
    "merfish_data['banksy'] = banksy_result['banksy_cluster'].values\n",
    "\n",
    "merfish_data = merfish_data.copy()"
   ]
  },
  {
   "cell_type": "markdown",
   "metadata": {},
   "source": [
    "#### Cell boundaries"
   ]
  },
  {
   "cell_type": "code",
   "execution_count": null,
   "metadata": {},
   "outputs": [],
   "source": [
    "boundaries_df = pd.read_csv(MERFISH_data_folder_path/'cellboundaries_example_animal.csv')\n",
    "boundaries_df = boundaries_df.dropna(subset=['boundaryX', 'boundaryY'])"
   ]
  },
  {
   "cell_type": "code",
   "execution_count": null,
   "metadata": {},
   "outputs": [],
   "source": [
    "cell_ids = merfish_data['Cell_ID']\n",
    "boundaries_df = boundaries_df[boundaries_df['feature_uID'].isin(cell_ids)]\n",
    "boundaries_df = boundaries_df.merge(\n",
    "    merfish_data[['Cell_ID', 'x', 'y', 'banksy']],\n",
    "    left_on='feature_uID',\n",
    "    right_on='Cell_ID',\n",
    "    how='inner'\n",
    ")\n",
    "boundaries_df = boundaries_df.drop(columns=['Cell_ID'])\n",
    "\n",
    "boundaries_df['boundaryX'] = boundaries_df['boundaryX'].apply(lambda x: [float(i) for i in x.split(';')] if isinstance(x, str) else x)\n",
    "boundaries_df['boundaryY'] = boundaries_df['boundaryY'].apply(lambda x: [float(i) for i in x.split(';')] if isinstance(x, str) else x)\n",
    "\n",
    "boundaries_df['boundaryX'] = boundaries_df['boundaryX'].apply(lambda x: [i - coordinate_x_m for i in x] if isinstance(x, list) else x)\n",
    "boundaries_df['boundaryY'] = boundaries_df['boundaryY'].apply(lambda x: [i - coordinate_y_m for i in x] if isinstance(x, list) else x)\n",
    "\n",
    "boundaries_df = boundaries_df.copy()"
   ]
  },
  {
   "cell_type": "markdown",
   "metadata": {},
   "source": [
    "#### Marker Genes\n",
    "\n",
    "differentially expressed genes identified by BANKSY"
   ]
  },
  {
   "cell_type": "code",
   "execution_count": null,
   "metadata": {},
   "outputs": [],
   "source": [
    "# all differentially expressed genes\n",
    "DE_genes = ['Mlc1', 'Dgkk', 'Cbln2', 'Syt4', 'Gad1', 'Plin3', 'Gnrh1', 'Sln', 'Gjc3', 'Mbp', 'Lpar1', 'Trh', 'Ucn3', 'Cck']\n",
    "# DE_genes_gm: 7\n",
    "DE_genes_gm = ['Mlc1', 'Dgkk', 'Cbln2', 'Syt4', 'Gad1', 'Plin3', 'Gnrh1', 'Sln', 'Gjc3']\n",
    "# DE_genes_wm: 8\n",
    "DE_genes_wm = ['Mbp', 'Lpar1', 'Trh', 'Ucn3', 'Cck']"
   ]
  },
  {
   "cell_type": "code",
   "execution_count": null,
   "metadata": {},
   "outputs": [],
   "source": [
    "MOD_boundaries = boundaries_df[(boundaries_df['banksy'] == 8) | (boundaries_df['banksy'] == 7)]\n",
    "MOD1_boundaries = boundaries_df[boundaries_df['banksy'] == 8]\n",
    "MOD2_boundaries = boundaries_df[boundaries_df['banksy'] == 7]"
   ]
  },
  {
   "cell_type": "markdown",
   "metadata": {},
   "source": [
    "### VSI at marker transcripts"
   ]
  },
  {
   "cell_type": "markdown",
   "metadata": {},
   "source": [
    "#### function"
   ]
  },
  {
   "cell_type": "code",
   "execution_count": null,
   "metadata": {},
   "outputs": [],
   "source": [
    "import numpy as np\n",
    "import pandas as pd\n",
    "\n",
    "def marker_transcripts_vsi(signal_df, signal_strength, signal_integrity, gene):\n",
    "    # Filter to keep only rows for the given gene\n",
    "    gene_signal = signal_df[signal_df['gene'].isin(gene)].copy()\n",
    "\n",
    "    # Initialize empty masks with same shape as signal arrays\n",
    "    mask = np.zeros_like(signal_strength, dtype=bool)\n",
    "\n",
    "    # Ensure coordinates are within bounds\n",
    "    valid_coords = (\n",
    "        (gene_signal['x'] >= 0) & (gene_signal['x'] < signal_strength.shape[1]) &\n",
    "        (gene_signal['y'] >= 0) & (gene_signal['y'] < signal_strength.shape[0])\n",
    "    )\n",
    "    gene_signal = gene_signal[valid_coords]\n",
    "\n",
    "    # Get x and y coordinates\n",
    "    xs = gene_signal['x'].astype(int).values\n",
    "    ys = gene_signal['y'].astype(int).values\n",
    "\n",
    "    # Mark positions of this gene as True in the mask\n",
    "    mask[ys, xs] = True\n",
    "\n",
    "    # Apply the mask to extract the 2D arrays\n",
    "    gene_strength = np.where(mask, signal_strength, 0)\n",
    "    gene_integrity = np.where(mask, signal_integrity, 0)\n",
    "\n",
    "    return gene_strength, gene_integrity\n"
   ]
  },
  {
   "cell_type": "code",
   "execution_count": null,
   "metadata": {},
   "outputs": [],
   "source": [
    "def plot_histogram(ax, cell_integrity, cell_strength, signal_threshold, cmap, label):\n",
    "    \"\"\"\n",
    "    Plot a histogram with color gradients based on a colormap.\n",
    "\n",
    "    Parameters:\n",
    "        ax: matplotlib axes object.\n",
    "        cell_integrity: 1D array of signal integrity values.\n",
    "        cell_strength: 1D array of signal strength values.\n",
    "        signal_threshold: Threshold to filter cell_strength.\n",
    "        cmap: Colormap for gradient coloring.\n",
    "        label: Label for the x-axis.\n",
    "    \"\"\"\n",
    "    # Calculate histogram values\n",
    "    vals, bins = np.histogram(\n",
    "        cell_integrity[cell_strength > signal_threshold],\n",
    "        bins=50,\n",
    "        range=(0, 1),\n",
    "        density=True,\n",
    "    )\n",
    "    \n",
    "    # Plot histogram\n",
    "    n, bins, patches = ax.hist(\n",
    "        cell_integrity[cell_strength > signal_threshold],\n",
    "        bins=50,\n",
    "        range=(0, 1),\n",
    "        density=True,\n",
    "        edgecolor='black',\n",
    "        alpha=0.8\n",
    "    )\n",
    "    \n",
    "    # Apply colormap\n",
    "    for i, patch in enumerate(patches):\n",
    "        patch.set_facecolor(cmap(i / len(patches)))\n",
    "    \n",
    "    # Customize appearance\n",
    "    ax.set_xlim(0, 1)\n",
    "    ax.set_ylim(0, 7)\n",
    "    ax.set_ylabel(\"Density\")\n",
    "    ax.set_xlabel(label)\n",
    "    ax.spines[[\"top\", \"right\"]].set_visible(False)\n",
    "    ax.yaxis.set_tick_params(labelright=False)\n",
    "    ax.xaxis.set_tick_params(labelsize=8)\n",
    "    \n",
    "    return vals, bins"
   ]
  },
  {
   "cell_type": "markdown",
   "metadata": {},
   "source": [
    "#### MOD all markers"
   ]
  },
  {
   "cell_type": "code",
   "execution_count": null,
   "metadata": {},
   "outputs": [],
   "source": [
    "MOD1_strength, MOD1_integrity = marker_transcripts_vsi(signal_coordinate_df, signal_strength, signal_integrity, DE_genes_wm)\n",
    "\n",
    "with plt.style.context(\"default\"):\n",
    "    cmap = _BIH_CMAP\n",
    "    fig, ax = plt.subplots(1, 1, figsize=(10, 5), dpi=600)\n",
    "    vals1, bins1 = plot_histogram(\n",
    "            ax, MOD1_integrity, MOD1_strength, 2, cmap, label=\"MOD1 Signal Integrity\"\n",
    "        )"
   ]
  },
  {
   "cell_type": "code",
   "execution_count": null,
   "metadata": {},
   "outputs": [],
   "source": [
    "MOD2_strength, MOD2_integrity = marker_transcripts_vsi(signal_coordinate_df, signal_strength, signal_integrity, DE_genes_gm)\n",
    "\n",
    "with plt.style.context(\"default\"):\n",
    "    cmap = _BIH_CMAP\n",
    "    fig, ax = plt.subplots(1, 1, figsize=(10, 5), dpi=600)\n",
    "    vals2, bins2 = plot_histogram(\n",
    "            ax, MOD2_integrity, MOD2_strength, 2, cmap, label=\"MOD2 Signal Integrity\"\n",
    "        )"
   ]
  },
  {
   "cell_type": "code",
   "execution_count": null,
   "metadata": {},
   "outputs": [],
   "source": [
    "epsilon = 1e-10\n",
    "vals = vals2 / (vals1 + epsilon)\n",
    "bins = bins1"
   ]
  },
  {
   "cell_type": "code",
   "execution_count": null,
   "metadata": {},
   "outputs": [],
   "source": [
    "cmap = _BIH_CMAP\n",
    "bin_centers = (bins[:-1] + bins[1:]) / 2\n",
    "fig, ax = plt.subplots(figsize=(6, 6), dpi=600)\n",
    "# Create the histogram bars\n",
    "bars = ax.bar(bin_centers, vals, width=np.diff(bins), edgecolor=\"black\", alpha=0.7, linewidth=0.3)\n",
    "# Apply colormap\n",
    "for i, bar in enumerate(bars):\n",
    "    bar.set_facecolor(cmap(i / len(bars)))  # Set color based on the colormap\n",
    "\n",
    "ax.set_ylabel(\"VSI Density of MOD2/MOD1 markers\")\n",
    "ax.set_xlabel(\"Signal Integrity\")\n",
    "ax.spines[[\"top\", \"right\"]].set_visible(False)\n",
    "ax.yaxis.set_tick_params(labelright=False)\n",
    "ax.xaxis.set_tick_params(labelsize=8)\n",
    "\n",
    "# Set the y-axis scale to log\n",
    "ax.set_yscale('log')\n",
    "# Add a horizontal dashed line at y = 1 (10^0)\n",
    "ax.axhline(y=1, color='black', linestyle='--', linewidth=0.5)\n",
    "plt.show()\n"
   ]
  },
  {
   "cell_type": "markdown",
   "metadata": {},
   "source": [
    "#### Markers vsi"
   ]
  },
  {
   "cell_type": "code",
   "execution_count": null,
   "metadata": {},
   "outputs": [],
   "source": [
    "import numpy as np\n",
    "from matplotlib.ticker import LogLocator\n",
    "\n",
    "def plot_hist(ax, si, ss, signal_thr, cmap, label, xlim=(0.125, 64), log=False, ylabel=False, xticks=None):\n",
    "    # Histogram calculation\n",
    "    vals, bins = np.histogram(\n",
    "        si[ss > signal_thr],\n",
    "        bins=50,\n",
    "        range=(0, 1),\n",
    "        density=True,\n",
    "    )\n",
    "\n",
    "    # Avoid log(0) issues\n",
    "    # vals += 1e-8\n",
    "\n",
    "    # Bar colors\n",
    "    colors = cmap(bins[1:-1])\n",
    "    bars = ax.barh(bins[1:-1], vals[1:], height=0.01)\n",
    "    for i, bar in enumerate(bars):\n",
    "        bar.set_color(colors[i])\n",
    "\n",
    "    # Axis scaling and limits\n",
    "    if log:\n",
    "        ax.set_xscale('log', base=2)\n",
    "        ax.set_xlim(xlim)\n",
    "        ax.xaxis.set_major_locator(LogLocator(base=2, subs=[1], numticks=10))\n",
    "        if xticks:\n",
    "            ax.set_xticks(xticks)\n",
    "    else:\n",
    "        ax.set_xlim(xlim)\n",
    "\n",
    "    # Y-axis settings\n",
    "    ax.set_ylim(0, 1)\n",
    "    if ylabel:\n",
    "        ax.set_ylabel(\"Signal Integrity\", fontsize=13)\n",
    "        ax.yaxis.set_label_position(\"right\")\n",
    "\n",
    "    # Formatting\n",
    "    ax.invert_xaxis()\n",
    "    ax.yaxis.tick_right()\n",
    "    ax.spines[[\"top\", \"left\"]].set_visible(False)\n",
    "    ax.set_title(label, fontsize=13)\n",
    "\n",
    "    "
   ]
  },
  {
   "cell_type": "code",
   "execution_count": null,
   "metadata": {},
   "outputs": [],
   "source": [
    "Gad1_strength, Gad1_integrity = marker_transcripts_vsi(signal_coordinate_df, signal_strength, signal_integrity, ['Gad1'])"
   ]
  },
  {
   "cell_type": "code",
   "execution_count": null,
   "metadata": {},
   "outputs": [],
   "source": [
    "Plin3_strength, Plin3_integrity = marker_transcripts_vsi(signal_coordinate_df, signal_strength, signal_integrity, ['Plin3'])"
   ]
  },
  {
   "cell_type": "code",
   "execution_count": null,
   "metadata": {},
   "outputs": [],
   "source": [
    "Gjc3_strength, Gjc3_integrity = marker_transcripts_vsi(signal_coordinate_df, signal_strength, signal_integrity, ['Gjc3'])"
   ]
  },
  {
   "cell_type": "code",
   "execution_count": null,
   "metadata": {},
   "outputs": [],
   "source": [
    "Dgkk_strength, Dgkk_integrity = marker_transcripts_vsi(signal_coordinate_df, signal_strength, signal_integrity, ['Dgkk'])"
   ]
  },
  {
   "cell_type": "code",
   "execution_count": null,
   "metadata": {},
   "outputs": [],
   "source": [
    "Cbln2_strength, Cbln2_integrity = marker_transcripts_vsi(signal_coordinate_df, signal_strength, signal_integrity, ['Cbln2'])"
   ]
  },
  {
   "cell_type": "code",
   "execution_count": null,
   "metadata": {},
   "outputs": [],
   "source": [
    "Syt4_strength, Syt4_integrity = marker_transcripts_vsi(signal_coordinate_df, signal_strength, signal_integrity, ['Syt4'])"
   ]
  },
  {
   "cell_type": "code",
   "execution_count": null,
   "metadata": {},
   "outputs": [],
   "source": [
    "Mlc1_strength, Mlc1_integrity = marker_transcripts_vsi(signal_coordinate_df, signal_strength, signal_integrity, ['Mlc1'])"
   ]
  },
  {
   "cell_type": "code",
   "execution_count": null,
   "metadata": {},
   "outputs": [],
   "source": [
    "Lpar1_strength, Lpar1_integrity = marker_transcripts_vsi(signal_coordinate_df, signal_strength, signal_integrity, ['Lpar1'])"
   ]
  },
  {
   "cell_type": "markdown",
   "metadata": {},
   "source": [
    "#### vsi distribution"
   ]
  },
  {
   "cell_type": "code",
   "execution_count": null,
   "metadata": {},
   "outputs": [],
   "source": [
    "fig, ax = plt.subplots(1, 4, figsize=(16, 9), dpi=600)\n",
    "plot_hist(ax[0], Lpar1_integrity, Lpar1_strength, signal_thr=3, cmap=_BIH_CMAP, label=\"Lpar1\", xlim=(0,16), log=False)\n",
    "plot_hist(ax[1], Plin3_integrity, Plin3_strength, signal_thr=3, cmap=_BIH_CMAP, label=\"Plin3\", xlim=(0,16), log=False)\n",
    "plot_hist(ax[2], Gjc3_integrity, Gjc3_strength, signal_thr=3, cmap=_BIH_CMAP, label=\"Gjc3\", xlim=(0,16), log=False)\n",
    "plot_hist(ax[3], Mlc1_integrity, Mlc1_strength, signal_thr=3, cmap=_BIH_CMAP, label=\"Mlc1\", xlim=(0,16), log=False, ylabel=True)\n",
    "\n",
    "plt.tight_layout()\n",
    "plt.show()"
   ]
  },
  {
   "cell_type": "code",
   "execution_count": null,
   "metadata": {},
   "outputs": [],
   "source": [
    "fig, ax = plt.subplots(1, 4, figsize=(16, 9), dpi=600)\n",
    "\n",
    "plot_hist(ax[0], Syt4_integrity, Syt4_strength, signal_thr=3, cmap=_BIH_CMAP, label=\"Syt4\", xlim=(0,16), log=False)\n",
    "plot_hist(ax[1], Gad1_integrity, Gad1_strength, signal_thr=3, cmap=_BIH_CMAP, label=\"Gad1\", xlim=(0,16), log=False)\n",
    "plot_hist(ax[2], Cbln2_integrity, Cbln2_strength, signal_thr=3, cmap=_BIH_CMAP, label=\"Cbln2\", xlim=(0,16), log=False)\n",
    "plot_hist(ax[3], Dgkk_integrity, Dgkk_strength, signal_thr=3, cmap=_BIH_CMAP, label=\"Dgkk\", xlim=(0,16), log=False, ylabel=True)\n",
    "\n",
    "plt.tight_layout()\n",
    "plt.show()"
   ]
  },
  {
   "cell_type": "markdown",
   "metadata": {},
   "source": [
    "### VSI under Exclusive Conditions"
   ]
  },
  {
   "cell_type": "code",
   "execution_count": null,
   "metadata": {},
   "outputs": [],
   "source": [
    "# extract_cell_integrity_within_boundary: extracts cell integrity and signal strength based on given boundaries.\n",
    "\n",
    "from shapely.geometry import Polygon, Point\n",
    "\n",
    "def extract_cell_integrity_within_boundary(\n",
    "    boundary_df, \n",
    "    sig_integrity,\n",
    "    signal_strength,\n",
    "    integrity_size=1800\n",
    "):\n",
    "\n",
    "    # Initialize arrays to store cell integrity and strength\n",
    "    cell_integrity = np.zeros((integrity_size, integrity_size))\n",
    "    cell_strength = np.zeros((integrity_size, integrity_size))\n",
    "\n",
    "    # Loop through each row in the boundary DataFrame\n",
    "    for idx, row in boundary_df.iterrows():\n",
    "        # Create the polygon from boundary coordinates\n",
    "        polygon = Polygon(zip(row['boundaryX'], row['boundaryY']))\n",
    "        \n",
    "        # Determine the bounding box of the polygon\n",
    "        x_min, x_max = int(np.floor(polygon.bounds[0])), int(np.ceil(polygon.bounds[2]))\n",
    "        y_min, y_max = int(np.floor(polygon.bounds[1])), int(np.ceil(polygon.bounds[3]))\n",
    "        \n",
    "        # Ensure bounding box coordinates stay within the grid limits\n",
    "        x_min, x_max = max(0, x_min), min(integrity_size, x_max)\n",
    "        y_min, y_max = max(0, y_min), min(integrity_size, y_max)\n",
    "\n",
    "        # Generate grid points within the bounding box\n",
    "        y_indices, x_indices = np.meshgrid(range(y_min, y_max), range(x_min, x_max), indexing='ij')\n",
    "        points = np.column_stack([x_indices.ravel(), y_indices.ravel()])\n",
    "        \n",
    "        # Identify points within the polygon or on its boundary\n",
    "        # mask = np.array([polygon.contains(Point(x, y)) or polygon.touches(Point(x, y)) for x, y in points])\n",
    "        epsilon = 0.7  # Small tolerance to handle floating-point precision issues\n",
    "        mask = np.array([polygon.contains(Point(x, y)) or polygon.touches(Point(x, y)) or polygon.boundary.distance(Point(x, y)) < epsilon for x, y in points])\n",
    "        mask = mask.reshape(y_indices.shape)\n",
    "\n",
    "        # Extract the subgrid for integrity and strength within the bounding box\n",
    "        subgrid_int = sig_integrity[y_min:y_max, x_min:x_max]\n",
    "        subgrid_str = signal_strength[y_min:y_max, x_min:x_max]\n",
    "\n",
    "        # Assign values to the cell arrays where the mask is True\n",
    "        cell_integrity[y_min:y_max, x_min:x_max][mask] = subgrid_int[mask]\n",
    "        cell_strength[y_min:y_max, x_min:x_max][mask] = subgrid_str[mask]\n",
    "\n",
    "    # Return the computed cell integrity and strength grids\n",
    "    return cell_integrity, cell_strength\n"
   ]
  },
  {
   "cell_type": "code",
   "execution_count": null,
   "metadata": {},
   "outputs": [],
   "source": [
    "def plot_hist(ax, si, ss, signal_thr, cmap, label, xlim, log, ylabel=False):\n",
    "    vals, bins = np.histogram(\n",
    "        si[ss > signal_thr],\n",
    "        bins=50,\n",
    "        range=(0, 1),\n",
    "        density=True,\n",
    "    )\n",
    "    colors = cmap(bins[1:-1])\n",
    "    bars = ax.barh(bins[1:-1], vals[1:], height=0.01)\n",
    "    for i, bar in enumerate(bars):\n",
    "        bar.set_color(colors[i])\n",
    "\n",
    "    if log:\n",
    "        ax.set_xscale('log', base=2)\n",
    "    else:\n",
    "        ax.set_xlim(xlim)\n",
    "\n",
    "    if ylabel:\n",
    "        ax.set_ylabel(\"Signal Integrity\", fontsize=13)\n",
    "        ax.yaxis.set_label_position(\"right\")\n",
    "\n",
    "    ax.set_ylim(0, 1)\n",
    "    ax.invert_xaxis()\n",
    "    ax.yaxis.tick_right()\n",
    "    ax.spines[[\"top\", \"left\"]].set_visible(False)\n",
    "    ax.set_title(label, fontsize=13)\n",
    "    \n",
    "\n",
    "def histogram_comparison(si1, ss1, si2, ss2, si3, ss3, si4, ss4, signal_threshold, cmap, xlim,log):\n",
    "    fig, ax = plt.subplots(1, 4, figsize=(16, 9), dpi=600)  # Create a row of 4 subplots\n",
    "    plot_hist(ax[0], si1, ss1, signal_threshold, cmap, label=\"All Signals\", xlim=xlim, log=log)\n",
    "    plot_hist(ax[1], si2, ss2, signal_threshold, cmap, label=\"Excluding MOD1 Marker\", xlim=xlim, log=log)\n",
    "    plot_hist(ax[2], si3, ss3, signal_threshold, cmap, label=\"Excluding MOD2 Marker\", xlim=xlim, log=log)\n",
    "    plot_hist(ax[3], si4, ss4, signal_threshold, cmap, label=\"Excluding MOD Marker\", xlim=xlim, log=log, ylabel=True)\n",
    "    plt.tight_layout()  # Adjust spacing to prevent overlap\n",
    "    plt.show()"
   ]
  },
  {
   "cell_type": "code",
   "execution_count": null,
   "metadata": {},
   "outputs": [],
   "source": [
    "histogram_comparison(signal_integrity, signal_strength, \n",
    "                     nonMOD1_signal_integrity, nonMOD1_signal_strength, \n",
    "                     nonMOD2_signal_integrity, nonMOD2_signal_strength, \n",
    "                     nonMOD_signal_integrity, nonMOD_signal_strength, \n",
    "                     signal_threshold=3, cmap=_BIH_CMAP, xlim=(0,8), log=False)"
   ]
  },
  {
   "cell_type": "code",
   "execution_count": null,
   "metadata": {},
   "outputs": [],
   "source": [
    "cell_si, cell_ss = extract_cell_integrity_within_boundary(boundary_df=boundaries_df, sig_integrity=signal_integrity, signal_strength=signal_strength, integrity_size=1800)\n",
    "cell_si_nonMOD1, cell_ss_nonMOD1 = extract_cell_integrity_within_boundary(boundary_df=boundaries_df, sig_integrity=nonMOD1_signal_integrity, signal_strength=nonMOD1_signal_strength, integrity_size=1800)\n",
    "cell_si_nonMOD2, cell_ss_nonMOD2 = extract_cell_integrity_within_boundary(boundary_df=boundaries_df, sig_integrity=nonMOD2_signal_integrity, signal_strength=nonMOD2_signal_strength, integrity_size=1800)\n",
    "cell_si_nonMOD, cell_ss_nonMOD = extract_cell_integrity_within_boundary(boundary_df=boundaries_df, sig_integrity=nonMOD_signal_integrity, signal_strength=nonMOD_signal_strength, integrity_size=1800)"
   ]
  },
  {
   "cell_type": "code",
   "execution_count": null,
   "metadata": {},
   "outputs": [],
   "source": [
    "histogram_comparison(cell_si, cell_ss, \n",
    "                     cell_si_nonMOD1, cell_ss_nonMOD1, \n",
    "                     cell_si_nonMOD2, cell_ss_nonMOD2,\n",
    "                     cell_si_nonMOD, cell_ss_nonMOD, \n",
    "                     signal_threshold=3, cmap=_BIH_CMAP, xlim=(0,8), log=False)"
   ]
  },
  {
   "cell_type": "markdown",
   "metadata": {},
   "source": [
    "### normalized hist: MOD2/MOD1"
   ]
  },
  {
   "cell_type": "markdown",
   "metadata": {},
   "source": [
    "#### functions"
   ]
  },
  {
   "cell_type": "code",
   "execution_count": null,
   "metadata": {},
   "outputs": [],
   "source": [
    "# plot_integrity_comparison:Compare histograms and cumulative densities of two integrity.\n",
    "\n",
    "import matplotlib.ticker as ticker\n",
    "from matplotlib import scale\n",
    "\n",
    "def plot_histogram_comp(ax, cell_integrity, cell_strength, signal_threshold, cmap, label, ylim=(1e-1,64)):\n",
    "    \"\"\"\n",
    "    Plot a histogram with color gradients based on a colormap.\n",
    "\n",
    "    Parameters:\n",
    "        ax: matplotlib axes object.\n",
    "        cell_integrity: 1D array of signal integrity values.\n",
    "        cell_strength: 1D array of signal strength values.\n",
    "        signal_threshold: Threshold to filter cell_strength.\n",
    "        cmap: Colormap for gradient coloring.\n",
    "        label: Label for the x-axis.\n",
    "    \"\"\"\n",
    "    # Calculate histogram values\n",
    "    vals, bins = np.histogram(\n",
    "        cell_integrity[cell_strength > signal_threshold],\n",
    "        bins=50,\n",
    "        range=(0, 1),\n",
    "        density=True,\n",
    "    )\n",
    "    \n",
    "    # Plot histogram\n",
    "    n, bins, patches = ax.hist(\n",
    "        cell_integrity[cell_strength > signal_threshold],\n",
    "        bins=50,\n",
    "        range=(0, 1),\n",
    "        density=True,\n",
    "        edgecolor='black',\n",
    "        alpha=0.8\n",
    "    )\n",
    "    \n",
    "    # Apply colormap\n",
    "    for i, patch in enumerate(patches):\n",
    "        patch.set_facecolor(cmap(i / len(patches)))\n",
    "    \n",
    "    # Customize appearance\n",
    "    ax.set_xlim(0, 1)\n",
    "    ax.set_ylabel(\"Density\")\n",
    "    ax.set_yscale('log', base=2)\n",
    "    ax.set_ylim(ylim)\n",
    "    ax.set_xlabel(label)\n",
    "    ax.spines[[\"top\", \"right\"]].set_visible(False)\n",
    "    ax.yaxis.set_tick_params(labelright=False)\n",
    "    ax.xaxis.set_tick_params(labelsize=8)\n",
    "    \n",
    "    return vals, bins\n",
    "\n",
    "def plot_integrity_comparison(\n",
    "    cell_integrity_1,\n",
    "    cell_strength_1,\n",
    "    cell_integrity_2,\n",
    "    cell_strength_2,\n",
    "    title,\n",
    "    signal_threshold=2.0,\n",
    "    figure_height=8,\n",
    "    cmap=\"BIH\",\n",
    "    ylim=None\n",
    "):\n",
    "    \"\"\"\n",
    "    Compare histograms and cumulative densities of two datasets.\n",
    "\n",
    "    Parameters:\n",
    "        cell_integrity_1, cell_strength_1: Data for dataset 1.\n",
    "        cell_integrity_2, cell_strength_2: Data for dataset 2.\n",
    "        signal_threshold: Threshold for filtering data.\n",
    "        figure_height: Height of the figure.\n",
    "        cmap: Colormap for histogram gradients.\n",
    "    \"\"\"\n",
    "    # Validate inputs\n",
    "    for data, name in [\n",
    "        (cell_integrity_1, \"cell_integrity_1\"),\n",
    "        (cell_strength_1, \"cell_strength_1\"),\n",
    "        (cell_integrity_2, \"cell_integrity_2\"),\n",
    "        (cell_strength_2, \"cell_strength_2\"),\n",
    "    ]:\n",
    "        if not (isinstance(data, np.ndarray) and data.ndim == 2):\n",
    "            raise ValueError(f\"{name} must be a 2D numpy array.\")\n",
    "\n",
    "    with plt.style.context(\"default\"):\n",
    "        # Define colormap\n",
    "        if cmap == \"BIH\":\n",
    "            try:\n",
    "                cmap = _BIH_CMAP\n",
    "            except NameError:\n",
    "                raise ValueError(\"BIH colormap is not defined.\")\n",
    "        \n",
    "        # Create figure and subplots\n",
    "        fig, ax = plt.subplots(2, 1, figsize=(figure_height, figure_height), dpi=600)\n",
    "            \n",
    "        # Plot histograms\n",
    "        vals1, bins1 = plot_histogram_comp(\n",
    "            ax[0], cell_integrity_1, cell_strength_1, signal_threshold, cmap, label=\"MOD1 Signal Integrity\", ylim=ylim\n",
    "        )\n",
    "        vals2, bins2 = plot_histogram_comp(\n",
    "            ax[1], cell_integrity_2, cell_strength_2, signal_threshold, cmap, label=\"MOD2 Signal Integrity\", ylim=ylim\n",
    "        )\n",
    "\n",
    "    plt.tight_layout()  # Adjust spacing to prevent overlap\n",
    "    ax[0].set_title(title)\n",
    "    plt.show()\n",
    "\n",
    "    return vals1, bins1, vals2, bins2"
   ]
  },
  {
   "cell_type": "code",
   "execution_count": null,
   "metadata": {},
   "outputs": [],
   "source": [
    "def normalized_hist(vals1, bins1, vals2, bins2, title):\n",
    "    epsilon = 1e-10\n",
    "    vals = vals2 / (vals1 + epsilon)\n",
    "    bins = bins1\n",
    "\n",
    "    cmap = _BIH_CMAP\n",
    "\n",
    "    bin_centers = (bins[:-1] + bins[1:]) / 2\n",
    "\n",
    "    fig, ax = plt.subplots(figsize=(8, 8), dpi=600)\n",
    "\n",
    "    # Create the histogram bars\n",
    "    bars = ax.bar(bin_centers, vals, width=np.diff(bins), edgecolor=\"black\", alpha=0.7, linewidth=0.3)\n",
    "\n",
    "    # Apply colormap\n",
    "    for i, bar in enumerate(bars):\n",
    "        bar.set_facecolor(cmap(i / len(bars)))  # Set color based on the colormap\n",
    "\n",
    "    ax.set_ylabel(\"VSI Density of MOD2/MOD1\")\n",
    "    ax.set_xlabel(\"Signal Integrity\")\n",
    "    ax.set_title(title)\n",
    "    ax.spines[[\"top\", \"right\"]].set_visible(False)\n",
    "    ax.yaxis.set_tick_params(labelright=False)\n",
    "    ax.xaxis.set_tick_params(labelsize=8)\n",
    "\n",
    "    # Set the y-axis scale to log\n",
    "    ax.set_yscale('log')\n",
    "\n",
    "    # Add a horizontal dashed line at y = 1 (10^0)\n",
    "    ax.axhline(y=1, color='black', linestyle='--', linewidth=0.5)\n",
    "\n",
    "    plt.show()\n"
   ]
  },
  {
   "cell_type": "code",
   "execution_count": null,
   "metadata": {},
   "outputs": [],
   "source": [
    "MOD_si, MOD_ss = extract_cell_integrity_within_boundary(boundary_df=MOD_boundaries, sig_integrity=signal_integrity, signal_strength=signal_strength, integrity_size=1800)\n",
    "MOD_si_nonMOD1, MOD_ss_nonMOD1 = extract_cell_integrity_within_boundary(boundary_df=MOD_boundaries, sig_integrity=nonMOD1_signal_integrity, signal_strength=nonMOD1_signal_strength, integrity_size=1800)\n",
    "MOD_si_nonMOD2, MOD_ss_nonMOD2 = extract_cell_integrity_within_boundary(boundary_df=MOD_boundaries, sig_integrity=nonMOD2_signal_integrity, signal_strength=nonMOD2_signal_strength, integrity_size=1800)\n",
    "MOD_si_nonMOD, MOD_ss_nonMOD = extract_cell_integrity_within_boundary(boundary_df=MOD_boundaries, sig_integrity=nonMOD_signal_integrity, signal_strength=nonMOD_signal_strength, integrity_size=1800)"
   ]
  },
  {
   "cell_type": "code",
   "execution_count": null,
   "metadata": {},
   "outputs": [],
   "source": [
    "MOD1_si, MOD1_ss = extract_cell_integrity_within_boundary(boundary_df=MOD1_boundaries, sig_integrity=signal_integrity, signal_strength=signal_strength, integrity_size=1800)\n",
    "MOD1_si_nonMOD1, MOD1_ss_nonMOD1 = extract_cell_integrity_within_boundary(boundary_df=MOD1_boundaries, sig_integrity=nonMOD1_signal_integrity, signal_strength=nonMOD1_signal_strength, integrity_size=1800)\n",
    "MOD1_si_nonMOD2, MOD1_ss_nonMOD2 = extract_cell_integrity_within_boundary(boundary_df=MOD1_boundaries, sig_integrity=nonMOD2_signal_integrity, signal_strength=nonMOD2_signal_strength, integrity_size=1800)\n",
    "MOD1_si_nonMOD, MOD1_ss_nonMOD = extract_cell_integrity_within_boundary(boundary_df=MOD1_boundaries, sig_integrity=nonMOD_signal_integrity, signal_strength=nonMOD_signal_strength, integrity_size=1800)"
   ]
  },
  {
   "cell_type": "code",
   "execution_count": null,
   "metadata": {},
   "outputs": [],
   "source": [
    "MOD2_si, MOD2_ss = extract_cell_integrity_within_boundary(boundary_df=MOD2_boundaries, sig_integrity=signal_integrity, signal_strength=signal_strength, integrity_size=1800)\n",
    "MOD2_si_nonMOD1, MOD2_ss_nonMOD1 = extract_cell_integrity_within_boundary(boundary_df=MOD2_boundaries, sig_integrity=nonMOD1_signal_integrity, signal_strength=nonMOD1_signal_strength, integrity_size=1800)\n",
    "MOD2_si_nonMOD2, MOD2_ss_nonMOD2 = extract_cell_integrity_within_boundary(boundary_df=MOD2_boundaries, sig_integrity=nonMOD2_signal_integrity, signal_strength=nonMOD2_signal_strength, integrity_size=1800)\n",
    "MOD2_si_nonMOD, MOD2_ss_nonMOD = extract_cell_integrity_within_boundary(boundary_df=MOD2_boundaries, sig_integrity=nonMOD_signal_integrity, signal_strength=nonMOD_signal_strength, integrity_size=1800)"
   ]
  },
  {
   "cell_type": "markdown",
   "metadata": {},
   "source": [
    "#### MOD1 and MOD2"
   ]
  },
  {
   "cell_type": "code",
   "execution_count": null,
   "metadata": {},
   "outputs": [],
   "source": [
    "histogram_comparison(MOD1_si, MOD1_ss, \n",
    "                     MOD1_si_nonMOD1, MOD1_ss_nonMOD1, \n",
    "                     MOD1_si_nonMOD2, MOD1_ss_nonMOD2,\n",
    "                     MOD1_si_nonMOD, MOD1_ss_nonMOD, \n",
    "                     signal_threshold=3, cmap=_BIH_CMAP, xlim=(1e-1,64), log=True)"
   ]
  },
  {
   "cell_type": "code",
   "execution_count": null,
   "metadata": {},
   "outputs": [],
   "source": [
    "histogram_comparison(MOD2_si, MOD2_ss, \n",
    "                     MOD2_si_nonMOD1, MOD2_ss_nonMOD1, \n",
    "                     MOD2_si_nonMOD2, MOD2_ss_nonMOD2,\n",
    "                     MOD2_si_nonMOD, MOD2_ss_nonMOD, \n",
    "                     signal_threshold=3, cmap=_BIH_CMAP, xlim=(1e-1,64), log=True)"
   ]
  },
  {
   "cell_type": "markdown",
   "metadata": {},
   "source": [
    "#### exclusive distribution: MOD1 and MOD2"
   ]
  },
  {
   "cell_type": "code",
   "execution_count": null,
   "metadata": {},
   "outputs": [],
   "source": [
    "vals1, bins1, vals2, bins2 = plot_integrity_comparison(\n",
    "    cell_integrity_1=MOD1_si,\n",
    "    cell_strength_1=MOD1_ss,\n",
    "    cell_integrity_2=MOD2_si,\n",
    "    cell_strength_2=MOD2_ss,\n",
    "    title=\"All Signals\",\n",
    "    signal_threshold=3.0,\n",
    "    ylim=(1e-1,64)\n",
    ")"
   ]
  },
  {
   "cell_type": "code",
   "execution_count": null,
   "metadata": {},
   "outputs": [],
   "source": [
    "normalized_hist(vals1, bins1, vals2, bins2, title = \"All Signals\")"
   ]
  },
  {
   "cell_type": "code",
   "execution_count": null,
   "metadata": {},
   "outputs": [],
   "source": [
    "vals1, bins1, vals2, bins2 = plot_integrity_comparison(\n",
    "    cell_integrity_1=MOD1_si_nonMOD1,\n",
    "    cell_strength_1=MOD1_ss_nonMOD1,\n",
    "    cell_integrity_2=MOD2_si_nonMOD1,\n",
    "    cell_strength_2=MOD2_ss_nonMOD1,\n",
    "    title=\"Excluding MOD1 Markers\",\n",
    "    signal_threshold=3.0,\n",
    "    ylim=(1e-1,64)\n",
    ")"
   ]
  },
  {
   "cell_type": "code",
   "execution_count": null,
   "metadata": {},
   "outputs": [],
   "source": [
    "normalized_hist(vals1, bins1, vals2, bins2, title = \"Excluding MOD1 Markers\")"
   ]
  },
  {
   "cell_type": "code",
   "execution_count": null,
   "metadata": {},
   "outputs": [],
   "source": [
    "vals1, bins1, vals2, bins2 = plot_integrity_comparison(\n",
    "    cell_integrity_1=MOD1_si_nonMOD2,\n",
    "    cell_strength_1=MOD1_ss_nonMOD2,\n",
    "    cell_integrity_2=MOD2_si_nonMOD2,\n",
    "    cell_strength_2=MOD2_ss_nonMOD2,\n",
    "    title=\"Excluding MOD2 Markers\",\n",
    "    signal_threshold=3.0,\n",
    "    ylim=(1e-1,64)\n",
    ")"
   ]
  },
  {
   "cell_type": "code",
   "execution_count": null,
   "metadata": {},
   "outputs": [],
   "source": [
    "normalized_hist(vals1, bins1, vals2, bins2, title = \"Excluding MOD2 Markers\")"
   ]
  },
  {
   "cell_type": "code",
   "execution_count": null,
   "metadata": {},
   "outputs": [],
   "source": [
    "vals1, bins1, vals2, bins2 = plot_integrity_comparison(\n",
    "    cell_integrity_1=MOD1_si_nonMOD,\n",
    "    cell_strength_1=MOD1_ss_nonMOD,\n",
    "    cell_integrity_2=MOD2_si_nonMOD,\n",
    "    cell_strength_2=MOD2_ss_nonMOD,\n",
    "    title=\"Excluding MOD Markers\",\n",
    "    signal_threshold=3.0,\n",
    "    ylim=(1e-1,64)\n",
    ")"
   ]
  },
  {
   "cell_type": "code",
   "execution_count": null,
   "metadata": {},
   "outputs": [],
   "source": [
    "normalized_hist(vals1, bins1, vals2, bins2, title = \"Excluding MOD Markers\")"
   ]
  },
  {
   "cell_type": "markdown",
   "metadata": {},
   "source": [
    "### Marker VSI in cell"
   ]
  },
  {
   "cell_type": "markdown",
   "metadata": {},
   "source": [
    "#### extract vsi"
   ]
  },
  {
   "cell_type": "code",
   "execution_count": null,
   "metadata": {},
   "outputs": [],
   "source": [
    "Gad1_cell_ss, Gad1_cell_si = marker_transcripts_vsi(signal_coordinate_df, cell_ss, cell_si, ['Gad1'])\n",
    "Plin3_cell_ss, Plin3_cell_si = marker_transcripts_vsi(signal_coordinate_df, cell_ss, cell_si, ['Plin3'])\n",
    "Gjc3_cell_ss, Gjc3_cell_si = marker_transcripts_vsi(signal_coordinate_df, cell_ss, cell_si, ['Gjc3'])\n",
    "Dgkk_cell_ss, Dgkk_cell_si = marker_transcripts_vsi(signal_coordinate_df, cell_ss, cell_si, ['Dgkk'])\n",
    "Cbln2_cell_ss, Cbln2_cell_si = marker_transcripts_vsi(signal_coordinate_df, cell_ss, cell_si, ['Cbln2'])\n",
    "Syt4_cell_ss, Syt4_cell_si = marker_transcripts_vsi(signal_coordinate_df, cell_ss, cell_si, ['Syt4'])\n",
    "Mlc1_cell_ss, Mlc1_cell_si = marker_transcripts_vsi(signal_coordinate_df, cell_ss, cell_si, ['Mlc1'])\n",
    "Lpar1_cell_ss, Lpar1_cell_si = marker_transcripts_vsi(signal_coordinate_df, cell_ss, cell_si, ['Lpar1'])"
   ]
  },
  {
   "cell_type": "code",
   "execution_count": null,
   "metadata": {},
   "outputs": [],
   "source": [
    "Gad1_MOD_ss, Gad1_MOD_si = marker_transcripts_vsi(signal_coordinate_df, MOD_ss, MOD_si, ['Gad1'])\n",
    "Plin3_MOD_ss, Plin3_MOD_si = marker_transcripts_vsi(signal_coordinate_df, MOD_ss, MOD_si, ['Plin3'])\n",
    "Gjc3_MOD_ss, Gjc3_MOD_si = marker_transcripts_vsi(signal_coordinate_df, MOD_ss, MOD_si, ['Gjc3'])\n",
    "Dgkk_MOD_ss, Dgkk_MOD_si = marker_transcripts_vsi(signal_coordinate_df, MOD_ss, MOD_si, ['Dgkk'])\n",
    "Cbln2_MOD_ss, Cbln2_MOD_si = marker_transcripts_vsi(signal_coordinate_df, MOD_ss, MOD_si, ['Cbln2'])\n",
    "Syt4_MOD_ss, Syt4_MOD_si = marker_transcripts_vsi(signal_coordinate_df, MOD_ss, MOD_si, ['Syt4'])\n",
    "Mlc1_MOD_ss, Mlc1_MOD_si = marker_transcripts_vsi(signal_coordinate_df, MOD_ss, MOD_si, ['Mlc1'])\n",
    "Lpar1_MOD_ss, Lpar1_MOD_si = marker_transcripts_vsi(signal_coordinate_df, MOD_ss, MOD_si, ['Lpar1'])"
   ]
  },
  {
   "cell_type": "code",
   "execution_count": null,
   "metadata": {},
   "outputs": [],
   "source": [
    "Gad1_MOD1_ss, Gad1_MOD1_si = marker_transcripts_vsi(signal_coordinate_df, MOD1_ss, MOD1_si, ['Gad1'])\n",
    "Plin3_MOD1_ss, Plin3_MOD1_si = marker_transcripts_vsi(signal_coordinate_df, MOD1_ss, MOD1_si, ['Plin3'])\n",
    "Gjc3_MOD1_ss, Gjc3_MOD1_si = marker_transcripts_vsi(signal_coordinate_df, MOD1_ss, MOD1_si, ['Gjc3'])\n",
    "Dgkk_MOD1_ss, Dgkk_MOD1_si = marker_transcripts_vsi(signal_coordinate_df, MOD1_ss, MOD1_si, ['Dgkk'])\n",
    "Cbln2_MOD1_ss, Cbln2_MOD1_si = marker_transcripts_vsi(signal_coordinate_df, MOD1_ss, MOD1_si, ['Cbln2'])\n",
    "Syt4_MOD1_ss, Syt4_MOD1_si = marker_transcripts_vsi(signal_coordinate_df, MOD1_ss, MOD1_si, ['Syt4'])\n",
    "Mlc1_MOD1_ss, Mlc1_MOD1_si = marker_transcripts_vsi(signal_coordinate_df, MOD1_ss, MOD1_si, ['Mlc1'])\n",
    "Lpar1_MOD1_ss, Lpar1_MOD1_si = marker_transcripts_vsi(signal_coordinate_df, MOD1_ss, MOD1_si, ['Lpar1'])"
   ]
  },
  {
   "cell_type": "code",
   "execution_count": null,
   "metadata": {},
   "outputs": [],
   "source": [
    "Gad1_MOD2_ss, Gad1_MOD2_si = marker_transcripts_vsi(signal_coordinate_df, MOD2_ss, MOD2_si, ['Gad1'])\n",
    "Plin3_MOD2_ss, Plin3_MOD2_si = marker_transcripts_vsi(signal_coordinate_df, MOD2_ss, MOD2_si, ['Plin3'])\n",
    "Gjc3_MOD2_ss, Gjc3_MOD2_si = marker_transcripts_vsi(signal_coordinate_df, MOD2_ss, MOD2_si, ['Gjc3'])\n",
    "Dgkk_MOD2_ss, Dgkk_MOD2_si = marker_transcripts_vsi(signal_coordinate_df, MOD2_ss, MOD2_si, ['Dgkk'])\n",
    "Cbln2_MOD2_ss, Cbln2_MOD2_si = marker_transcripts_vsi(signal_coordinate_df, MOD2_ss, MOD2_si, ['Cbln2'])\n",
    "Syt4_MOD2_ss, Syt4_MOD2_si = marker_transcripts_vsi(signal_coordinate_df, MOD2_ss, MOD2_si, ['Syt4'])\n",
    "Mlc1_MOD2_ss, Mlc1_MOD2_si = marker_transcripts_vsi(signal_coordinate_df, MOD2_ss, MOD2_si, ['Mlc1'])\n",
    "Lpar1_MOD2_ss, Lpar1_MOD2_si = marker_transcripts_vsi(signal_coordinate_df, MOD2_ss, MOD2_si, ['Lpar1'])"
   ]
  },
  {
   "cell_type": "markdown",
   "metadata": {},
   "source": [
    "#### Cells distribution"
   ]
  },
  {
   "cell_type": "code",
   "execution_count": null,
   "metadata": {},
   "outputs": [],
   "source": [
    "fig, ax = plt.subplots(1, 4, figsize=(16, 9), dpi=600)\n",
    "plot_hist(ax[0], Lpar1_cell_si, Lpar1_cell_ss, signal_thr=3, cmap=_BIH_CMAP, label=\"Lpar1\", xlim=(0,19), log=False)\n",
    "plot_hist(ax[1], Plin3_cell_si, Plin3_cell_ss, signal_thr=3, cmap=_BIH_CMAP, label=\"Plin3\", xlim=(0,19), log=False)\n",
    "plot_hist(ax[2], Gjc3_cell_si, Gjc3_cell_ss, signal_thr=3, cmap=_BIH_CMAP, label=\"Gjc3\", xlim=(0,19), log=False)\n",
    "plot_hist(ax[3], Mlc1_cell_si, Mlc1_cell_ss, signal_thr=3, cmap=_BIH_CMAP, label=\"Mlc1\", xlim=(0,19), log=False, ylabel=True)\n",
    "\n",
    "plt.tight_layout()\n",
    "plt.show()"
   ]
  },
  {
   "cell_type": "code",
   "execution_count": null,
   "metadata": {},
   "outputs": [],
   "source": [
    "fig, ax = plt.subplots(1, 4, figsize=(16, 9), dpi=600)\n",
    "\n",
    "plot_hist(ax[0], Syt4_cell_si, Syt4_cell_ss, signal_thr=3, cmap=_BIH_CMAP, label=\"Syt4\", xlim=(0,19), log=False)\n",
    "plot_hist(ax[1], Gad1_cell_si, Gad1_cell_ss, signal_thr=3, cmap=_BIH_CMAP, label=\"Gad1\", xlim=(0,19), log=False)\n",
    "plot_hist(ax[2], Cbln2_cell_si, Cbln2_cell_ss, signal_thr=3, cmap=_BIH_CMAP, label=\"Cbln2\", xlim=(0,19), log=False)\n",
    "plot_hist(ax[3], Dgkk_cell_si, Dgkk_cell_ss, signal_thr=3, cmap=_BIH_CMAP, label=\"Dgkk\", xlim=(0,19), log=False, ylabel=True)\n",
    "\n",
    "plt.tight_layout()\n",
    "plt.show()"
   ]
  },
  {
   "cell_type": "markdown",
   "metadata": {},
   "source": [
    "#### MOD distribution"
   ]
  },
  {
   "cell_type": "code",
   "execution_count": null,
   "metadata": {},
   "outputs": [],
   "source": [
    "fig, ax = plt.subplots(1, 4, figsize=(16, 9), dpi=600)\n",
    "plot_hist(ax[0], Lpar1_MOD_si, Lpar1_MOD_ss, signal_thr=3, cmap=_BIH_CMAP, label=\"Lpar1\", xlim=(1e-1,64), log=True)\n",
    "plot_hist(ax[1], Plin3_MOD_si, Plin3_MOD_ss, signal_thr=3, cmap=_BIH_CMAP, label=\"Plin3\", xlim=(1e-1,64), log=True)\n",
    "plot_hist(ax[2], Gjc3_MOD_si, Gjc3_MOD_ss, signal_thr=3, cmap=_BIH_CMAP, label=\"Gjc3\", xlim=(1e-1,64), log=True)\n",
    "plot_hist(ax[3], Mlc1_MOD_si, Mlc1_MOD_ss, signal_thr=3, cmap=_BIH_CMAP, label=\"Mlc1\", xlim=(1e-1,64), log=True, ylabel=True)\n",
    "\n",
    "plt.tight_layout()\n",
    "plt.show()"
   ]
  },
  {
   "cell_type": "code",
   "execution_count": null,
   "metadata": {},
   "outputs": [],
   "source": [
    "fig, ax = plt.subplots(1, 4, figsize=(16, 9), dpi=600)\n",
    "\n",
    "plot_hist(ax[0], Syt4_MOD_si, Syt4_MOD_ss, signal_thr=3, cmap=_BIH_CMAP, label=\"Syt4\", xlim=(1e-1,64), log=True)\n",
    "plot_hist(ax[1], Gad1_MOD_si, Gad1_MOD_ss, signal_thr=3, cmap=_BIH_CMAP, label=\"Gad1\", xlim=(1e-1,64), log=True)\n",
    "plot_hist(ax[2], Cbln2_MOD_si, Cbln2_MOD_ss, signal_thr=3, cmap=_BIH_CMAP, label=\"Cbln2\", xlim=(1e-1,64), log=True)\n",
    "plot_hist(ax[3], Dgkk_MOD_si, Dgkk_MOD_ss, signal_thr=3, cmap=_BIH_CMAP, label=\"Dgkk\", xlim=(1e-1,64), log=True, ylabel=True)\n",
    "\n",
    "plt.tight_layout()\n",
    "plt.show()"
   ]
  },
  {
   "cell_type": "markdown",
   "metadata": {},
   "source": [
    "#### MOD1 distribution"
   ]
  },
  {
   "cell_type": "code",
   "execution_count": null,
   "metadata": {},
   "outputs": [],
   "source": [
    "fig, ax = plt.subplots(1, 4, figsize=(16, 9), dpi=600)\n",
    "plot_hist(ax[0], Lpar1_MOD1_si, Lpar1_MOD1_ss, signal_thr=3, cmap=_BIH_CMAP, label=\"Lpar1\", xlim=(1e-1,64), log=True)\n",
    "plot_hist(ax[1], Plin3_MOD1_si, Plin3_MOD1_ss, signal_thr=3, cmap=_BIH_CMAP, label=\"Plin3\", xlim=(1e-1,64), log=True)\n",
    "plot_hist(ax[2], Gjc3_MOD1_si, Gjc3_MOD1_ss, signal_thr=3, cmap=_BIH_CMAP, label=\"Gjc3\", xlim=(1e-1,64), log=True)\n",
    "plot_hist(ax[3], Mlc1_MOD1_si, Mlc1_MOD1_ss, signal_thr=3, cmap=_BIH_CMAP, label=\"Mlc1\", xlim=(1e-1,64), log=True, ylabel=True)\n",
    "\n",
    "plt.tight_layout()\n",
    "plt.show()"
   ]
  },
  {
   "cell_type": "code",
   "execution_count": null,
   "metadata": {},
   "outputs": [],
   "source": [
    "fig, ax = plt.subplots(1, 4, figsize=(16, 9), dpi=600)\n",
    "\n",
    "plot_hist(ax[0], Syt4_MOD1_si, Syt4_MOD1_ss, signal_thr=3, cmap=_BIH_CMAP, label=\"Syt4\", xlim=(1e-1,64), log=False)\n",
    "plot_hist(ax[1], Gad1_MOD1_si, Gad1_MOD1_ss, signal_thr=3, cmap=_BIH_CMAP, label=\"Gad1\", xlim=(1e-1,64), log=False)\n",
    "plot_hist(ax[2], Cbln2_MOD1_si, Cbln2_MOD1_ss, signal_thr=3, cmap=_BIH_CMAP, label=\"Cbln2\", xlim=(1e-1,64), log=False)\n",
    "plot_hist(ax[3], Dgkk_MOD1_si, Dgkk_MOD1_ss, signal_thr=3, cmap=_BIH_CMAP, label=\"Dgkk\", xlim=(1e-1,64), log=False, ylabel=True)\n",
    "\n",
    "plt.tight_layout()\n",
    "plt.show()"
   ]
  },
  {
   "cell_type": "markdown",
   "metadata": {},
   "source": [
    "#### MOD2 distribution"
   ]
  },
  {
   "cell_type": "code",
   "execution_count": null,
   "metadata": {},
   "outputs": [],
   "source": [
    "fig, ax = plt.subplots(1, 4, figsize=(16, 9), dpi=600)\n",
    "plot_hist(ax[0], Lpar1_MOD2_si, Lpar1_MOD2_ss, signal_thr=3, cmap=_BIH_CMAP, label=\"Lpar1\", xlim=(1e-1,32), log=True)\n",
    "plot_hist(ax[1], Plin3_MOD2_si, Plin3_MOD2_ss, signal_thr=3, cmap=_BIH_CMAP, label=\"Plin3\", xlim=(1e-1,32), log=True)\n",
    "plot_hist(ax[2], Gjc3_MOD2_si, Gjc3_MOD2_ss, signal_thr=3, cmap=_BIH_CMAP, label=\"Gjc3\", xlim=(1e-1,32), log=True)\n",
    "plot_hist(ax[3], Mlc1_MOD2_si, Mlc1_MOD2_ss, signal_thr=3, cmap=_BIH_CMAP, label=\"Mlc1\", xlim=(1e-1,32), log=True, ylabel=True)\n",
    "\n",
    "plt.tight_layout()\n",
    "plt.show()"
   ]
  },
  {
   "cell_type": "code",
   "execution_count": null,
   "metadata": {},
   "outputs": [],
   "source": [
    "fig, ax = plt.subplots(1, 4, figsize=(16, 9), dpi=600)\n",
    "\n",
    "plot_hist(ax[0], Syt4_MOD2_si, Syt4_MOD2_ss, signal_thr=3, cmap=_BIH_CMAP, label=\"Syt4\", xlim=(1e-1,32), log=True)\n",
    "plot_hist(ax[1], Gad1_MOD2_si, Gad1_MOD2_ss, signal_thr=3, cmap=_BIH_CMAP, label=\"Gad1\", xlim=(1e-1,32), log=True)\n",
    "plot_hist(ax[2], Cbln2_MOD2_si, Cbln2_MOD2_ss, signal_thr=3, cmap=_BIH_CMAP, label=\"Cbln2\", xlim=(1e-1,32), log=True)\n",
    "plot_hist(ax[3], Dgkk_MOD2_si, Dgkk_MOD2_ss, signal_thr=3, cmap=_BIH_CMAP, label=\"Dgkk\", xlim=(1e-1,32), log=True, ylabel=True)\n",
    "\n",
    "plt.tight_layout()\n",
    "plt.show()"
   ]
  }
 ],
 "metadata": {
  "kernelspec": {
   "display_name": "ovrlpy",
   "language": "python",
   "name": "python3"
  },
  "language_info": {
   "codemirror_mode": {
    "name": "ipython",
    "version": 3
   },
   "file_extension": ".py",
   "mimetype": "text/x-python",
   "name": "python",
   "nbconvert_exporter": "python",
   "pygments_lexer": "ipython3",
   "version": "3.11.11"
  }
 },
 "nbformat": 4,
 "nbformat_minor": 2
}
