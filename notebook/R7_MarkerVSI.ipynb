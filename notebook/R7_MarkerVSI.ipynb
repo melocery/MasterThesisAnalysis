{
 "cells": [
  {
   "cell_type": "markdown",
   "metadata": {},
   "source": [
    "## Result 7: VSI at the locations of transcripts from markers\n",
    "Evaluate VSI at the locations of transcripts from these markers.  \n",
    "- across tissue section  \n",
    "- within cells  \n",
    "- within MOD cells  \n",
    "- within MOD1 cells  \n",
    "- within MOD2 cells"
   ]
  },
  {
   "cell_type": "code",
   "execution_count": null,
   "metadata": {},
   "outputs": [],
   "source": [
    "from pathlib import Path\n",
    "\n",
    "import sys\n",
    "import os\n",
    "sys.path.append(os.path.abspath(\"../src\"))\n",
    "\n",
    "from utils import load_merfish_signal_df, load_banksy_result, load_merfish_data, load_boundaries_data\n",
    "from utils import marker_transcripts_vsi, extract_cell_vsi\n",
    "from plot import plot_marker_vsi_hist, CM\n",
    "\n",
    "import matplotlib.pyplot as plt\n",
    "import numpy as np"
   ]
  },
  {
   "cell_type": "markdown",
   "metadata": {},
   "source": [
    "### data"
   ]
  },
  {
   "cell_type": "markdown",
   "metadata": {},
   "source": [
    "#### Signals in the Tissue Section"
   ]
  },
  {
   "cell_type": "code",
   "execution_count": null,
   "metadata": {},
   "outputs": [],
   "source": [
    "MERFISH_data_folder_path = Path(\"../data/mouse_hypothalamus/MERFISH/\")"
   ]
  },
  {
   "cell_type": "code",
   "execution_count": null,
   "metadata": {},
   "outputs": [],
   "source": [
    "signal_coordinate_df, coordinate_x_m, coordinate_y_m = load_merfish_signal_df(MERFISH_data_folder_path/\"merfish_barcodes_example.csv\")"
   ]
  },
  {
   "cell_type": "markdown",
   "metadata": {},
   "source": [
    "#### Results of Ovrlpy\n",
    "\n",
    "results:  \n",
    "- signal integrity  \n",
    "- signal strength  "
   ]
  },
  {
   "cell_type": "code",
   "execution_count": null,
   "metadata": {},
   "outputs": [],
   "source": [
    "ovrlpy_result_folder = Path(\"../data/results/VSI/\")\n",
    "signal_integrity = np.loadtxt(ovrlpy_result_folder/\"SignalIntegrity.txt\")\n",
    "signal_strength = np.loadtxt(ovrlpy_result_folder/\"SignalStrength.txt\")"
   ]
  },
  {
   "cell_type": "code",
   "execution_count": null,
   "metadata": {},
   "outputs": [],
   "source": [
    "# exclude MOD marker signals\n",
    "nonMOD_signal_integrity = np.loadtxt(ovrlpy_result_folder/\"SignalIntegrity_exMOD.txt\")\n",
    "nonMOD_signal_strength = np.loadtxt(ovrlpy_result_folder/\"SignalStrength_exMOD.txt\")"
   ]
  },
  {
   "cell_type": "code",
   "execution_count": null,
   "metadata": {},
   "outputs": [],
   "source": [
    "# exclude MOD marker signals\n",
    "nonMOD1_signal_integrity = np.loadtxt(ovrlpy_result_folder/\"SignalIntegrity_exMOD1.txt\")\n",
    "nonMOD1_signal_strength = np.loadtxt(ovrlpy_result_folder/\"SignalStrength_exMOD1.txt\")"
   ]
  },
  {
   "cell_type": "code",
   "execution_count": null,
   "metadata": {},
   "outputs": [],
   "source": [
    "# exclude MOD marker signals\n",
    "nonMOD2_signal_integrity = np.loadtxt(ovrlpy_result_folder/\"SignalIntegrity_exMOD2.txt\")\n",
    "nonMOD2_signal_strength = np.loadtxt(ovrlpy_result_folder/\"SignalStrength_exMOD2.txt\")"
   ]
  },
  {
   "cell_type": "markdown",
   "metadata": {},
   "source": [
    "#### Results of BANKSY"
   ]
  },
  {
   "cell_type": "code",
   "execution_count": null,
   "metadata": {},
   "outputs": [],
   "source": [
    "banksy_folder_path = Path(\"../data/banksy_results/\")"
   ]
  },
  {
   "cell_type": "code",
   "execution_count": null,
   "metadata": {},
   "outputs": [],
   "source": [
    "banksy_result = load_banksy_result(banksy_folder_path/\"banksy_cluster.txt\", coordinate_x_m, coordinate_y_m)"
   ]
  },
  {
   "cell_type": "markdown",
   "metadata": {},
   "source": [
    "#### Segmentation Dataset"
   ]
  },
  {
   "cell_type": "code",
   "execution_count": null,
   "metadata": {},
   "outputs": [],
   "source": [
    "merfish_data = load_merfish_data(MERFISH_data_folder_path / \"merfish_all_cells.csv\", \n",
    "                                 banksy_result, coordinate_x_m, coordinate_y_m, \n",
    "                                 animal_id=1, bregma_value=-0.24)"
   ]
  },
  {
   "cell_type": "markdown",
   "metadata": {},
   "source": [
    "#### Cell boundaries"
   ]
  },
  {
   "cell_type": "code",
   "execution_count": null,
   "metadata": {},
   "outputs": [],
   "source": [
    "boundaries_df = load_boundaries_data(MERFISH_data_folder_path/'cellboundaries_example_animal.csv', \n",
    "                                     merfish_data, coordinate_x_m, coordinate_y_m)"
   ]
  },
  {
   "cell_type": "markdown",
   "metadata": {},
   "source": [
    "#### Marker Genes\n",
    "\n",
    "differentially expressed genes identified by BANKSY"
   ]
  },
  {
   "cell_type": "code",
   "execution_count": null,
   "metadata": {},
   "outputs": [],
   "source": [
    "# all differentially expressed genes\n",
    "DE_genes = ['Mlc1', 'Dgkk', 'Cbln2', 'Syt4', 'Gad1', 'Plin3', 'Gnrh1', 'Sln', 'Gjc3', 'Mbp', 'Lpar1', 'Trh', 'Ucn3', 'Cck']\n",
    "# DE_genes_MOD2: 7\n",
    "DE_genes_MOD2 = ['Mlc1', 'Dgkk', 'Cbln2', 'Syt4', 'Gad1', 'Plin3', 'Gnrh1', 'Sln', 'Gjc3']\n",
    "# DE_genes_MOD1: 8\n",
    "DE_genes_MOD1 = ['Mbp', 'Lpar1', 'Trh', 'Ucn3', 'Cck']"
   ]
  },
  {
   "cell_type": "code",
   "execution_count": null,
   "metadata": {},
   "outputs": [],
   "source": [
    "MOD_boundaries = boundaries_df[(boundaries_df['banksy'] == 8) | (boundaries_df['banksy'] == 7)]\n",
    "MOD1_boundaries = boundaries_df[boundaries_df['banksy'] == 8]\n",
    "MOD2_boundaries = boundaries_df[boundaries_df['banksy'] == 7]"
   ]
  },
  {
   "cell_type": "markdown",
   "metadata": {},
   "source": [
    "### VSI at marker transcripts"
   ]
  },
  {
   "cell_type": "markdown",
   "metadata": {},
   "source": [
    "#### Markers vsi across tissue section"
   ]
  },
  {
   "cell_type": "code",
   "execution_count": null,
   "metadata": {},
   "outputs": [],
   "source": [
    "Gad1_strength, Gad1_integrity = marker_transcripts_vsi(signal_coordinate_df, signal_strength, signal_integrity, ['Gad1'])"
   ]
  },
  {
   "cell_type": "code",
   "execution_count": null,
   "metadata": {},
   "outputs": [],
   "source": [
    "Plin3_strength, Plin3_integrity = marker_transcripts_vsi(signal_coordinate_df, signal_strength, signal_integrity, ['Plin3'])"
   ]
  },
  {
   "cell_type": "code",
   "execution_count": null,
   "metadata": {},
   "outputs": [],
   "source": [
    "Gjc3_strength, Gjc3_integrity = marker_transcripts_vsi(signal_coordinate_df, signal_strength, signal_integrity, ['Gjc3'])"
   ]
  },
  {
   "cell_type": "code",
   "execution_count": null,
   "metadata": {},
   "outputs": [],
   "source": [
    "Dgkk_strength, Dgkk_integrity = marker_transcripts_vsi(signal_coordinate_df, signal_strength, signal_integrity, ['Dgkk'])"
   ]
  },
  {
   "cell_type": "code",
   "execution_count": null,
   "metadata": {},
   "outputs": [],
   "source": [
    "Cbln2_strength, Cbln2_integrity = marker_transcripts_vsi(signal_coordinate_df, signal_strength, signal_integrity, ['Cbln2'])"
   ]
  },
  {
   "cell_type": "code",
   "execution_count": null,
   "metadata": {},
   "outputs": [],
   "source": [
    "Syt4_strength, Syt4_integrity = marker_transcripts_vsi(signal_coordinate_df, signal_strength, signal_integrity, ['Syt4'])"
   ]
  },
  {
   "cell_type": "code",
   "execution_count": null,
   "metadata": {},
   "outputs": [],
   "source": [
    "Mlc1_strength, Mlc1_integrity = marker_transcripts_vsi(signal_coordinate_df, signal_strength, signal_integrity, ['Mlc1'])"
   ]
  },
  {
   "cell_type": "code",
   "execution_count": null,
   "metadata": {},
   "outputs": [],
   "source": [
    "Lpar1_strength, Lpar1_integrity = marker_transcripts_vsi(signal_coordinate_df, signal_strength, signal_integrity, ['Lpar1'])"
   ]
  },
  {
   "cell_type": "markdown",
   "metadata": {},
   "source": [
    "#### VSI Distribution across the Tissue Section"
   ]
  },
  {
   "cell_type": "code",
   "execution_count": null,
   "metadata": {},
   "outputs": [],
   "source": [
    "fig, ax = plt.subplots(1, 4, figsize=(18*CM, 10.5*CM), dpi=600)\n",
    "plot_marker_vsi_hist(ax[0], Lpar1_integrity, Lpar1_strength, signal_thr=3, label=\"Lpar1\", xlim=(0,16), log=False)\n",
    "plot_marker_vsi_hist(ax[1], Plin3_integrity, Plin3_strength, signal_thr=3, label=\"Plin3\", xlim=(0,16), log=False)\n",
    "plot_marker_vsi_hist(ax[2], Gjc3_integrity, Gjc3_strength, signal_thr=3, label=\"Gjc3\", xlim=(0,16), log=False)\n",
    "plot_marker_vsi_hist(ax[3], Mlc1_integrity, Mlc1_strength, signal_thr=3, label=\"Mlc1\", xlim=(0,16), log=False, ylabel=True)\n",
    "\n",
    "plt.tight_layout()\n",
    "plt.show()"
   ]
  },
  {
   "cell_type": "code",
   "execution_count": null,
   "metadata": {},
   "outputs": [],
   "source": [
    "fig, ax = plt.subplots(1, 4, figsize=(18*CM, 10.5*CM), dpi=600)\n",
    "\n",
    "plot_marker_vsi_hist(ax[0], Syt4_integrity, Syt4_strength, signal_thr=3, label=\"Syt4\", xlim=(0,16), log=False)\n",
    "plot_marker_vsi_hist(ax[1], Gad1_integrity, Gad1_strength, signal_thr=3, label=\"Gad1\", xlim=(0,16), log=False)\n",
    "plot_marker_vsi_hist(ax[2], Cbln2_integrity, Cbln2_strength, signal_thr=3, label=\"Cbln2\", xlim=(0,16), log=False)\n",
    "plot_marker_vsi_hist(ax[3], Dgkk_integrity, Dgkk_strength, signal_thr=3, label=\"Dgkk\", xlim=(0,16), log=False, ylabel=True)\n",
    "\n",
    "plt.tight_layout()\n",
    "plt.show()"
   ]
  },
  {
   "cell_type": "markdown",
   "metadata": {},
   "source": [
    "### Marker VSI in cell"
   ]
  },
  {
   "cell_type": "markdown",
   "metadata": {},
   "source": [
    "#### extract vsi"
   ]
  },
  {
   "cell_type": "code",
   "execution_count": null,
   "metadata": {},
   "outputs": [],
   "source": [
    "cell_si, cell_ss = extract_cell_vsi(boundary_df=boundaries_df, integrity=signal_integrity, strength=signal_strength, integrity_size=1800)\n",
    "cell_si_nonMOD1, cell_ss_nonMOD1 = extract_cell_vsi(boundary_df=boundaries_df, integrity=nonMOD1_signal_integrity, strength=nonMOD1_signal_strength, integrity_size=1800)\n",
    "cell_si_nonMOD2, cell_ss_nonMOD2 = extract_cell_vsi(boundary_df=boundaries_df, integrity=nonMOD2_signal_integrity, strength=nonMOD2_signal_strength, integrity_size=1800)\n",
    "cell_si_nonMOD, cell_ss_nonMOD = extract_cell_vsi(boundary_df=boundaries_df, integrity=nonMOD_signal_integrity, strength=nonMOD_signal_strength, integrity_size=1800)"
   ]
  },
  {
   "cell_type": "code",
   "execution_count": null,
   "metadata": {},
   "outputs": [],
   "source": [
    "MOD_si, MOD_ss = extract_cell_vsi(boundary_df=MOD_boundaries, integrity=signal_integrity, strength=signal_strength, integrity_size=1800)\n",
    "MOD_si_nonMOD1, MOD_ss_nonMOD1 = extract_cell_vsi(boundary_df=MOD_boundaries, integrity=nonMOD1_signal_integrity, strength=nonMOD1_signal_strength, integrity_size=1800)\n",
    "MOD_si_nonMOD2, MOD_ss_nonMOD2 = extract_cell_vsi(boundary_df=MOD_boundaries, integrity=nonMOD2_signal_integrity, strength=nonMOD2_signal_strength, integrity_size=1800)\n",
    "MOD_si_nonMOD, MOD_ss_nonMOD = extract_cell_vsi(boundary_df=MOD_boundaries, integrity=nonMOD_signal_integrity, strength=nonMOD_signal_strength, integrity_size=1800)"
   ]
  },
  {
   "cell_type": "code",
   "execution_count": null,
   "metadata": {},
   "outputs": [],
   "source": [
    "MOD1_si, MOD1_ss = extract_cell_vsi(boundary_df=MOD1_boundaries, integrity=signal_integrity, strength=signal_strength, integrity_size=1800)\n",
    "MOD1_si_nonMOD1, MOD1_ss_nonMOD1 = extract_cell_vsi(boundary_df=MOD1_boundaries, integrity=nonMOD1_signal_integrity, strength=nonMOD1_signal_strength, integrity_size=1800)\n",
    "MOD1_si_nonMOD2, MOD1_ss_nonMOD2 = extract_cell_vsi(boundary_df=MOD1_boundaries, integrity=nonMOD2_signal_integrity, strength=nonMOD2_signal_strength, integrity_size=1800)\n",
    "MOD1_si_nonMOD, MOD1_ss_nonMOD = extract_cell_vsi(boundary_df=MOD1_boundaries, integrity=nonMOD_signal_integrity, strength=nonMOD_signal_strength, integrity_size=1800)"
   ]
  },
  {
   "cell_type": "code",
   "execution_count": null,
   "metadata": {},
   "outputs": [],
   "source": [
    "MOD2_si, MOD2_ss = extract_cell_vsi(boundary_df=MOD2_boundaries, integrity=signal_integrity, strength=signal_strength, integrity_size=1800)\n",
    "MOD2_si_nonMOD1, MOD2_ss_nonMOD1 = extract_cell_vsi(boundary_df=MOD2_boundaries, integrity=nonMOD1_signal_integrity, strength=nonMOD1_signal_strength, integrity_size=1800)\n",
    "MOD2_si_nonMOD2, MOD2_ss_nonMOD2 = extract_cell_vsi(boundary_df=MOD2_boundaries, integrity=nonMOD2_signal_integrity, strength=nonMOD2_signal_strength, integrity_size=1800)\n",
    "MOD2_si_nonMOD, MOD2_ss_nonMOD = extract_cell_vsi(boundary_df=MOD2_boundaries, integrity=nonMOD_signal_integrity, strength=nonMOD_signal_strength, integrity_size=1800)"
   ]
  },
  {
   "cell_type": "code",
   "execution_count": null,
   "metadata": {},
   "outputs": [],
   "source": [
    "Gad1_cell_ss, Gad1_cell_si = marker_transcripts_vsi(signal_coordinate_df, cell_ss, cell_si, ['Gad1'])\n",
    "Plin3_cell_ss, Plin3_cell_si = marker_transcripts_vsi(signal_coordinate_df, cell_ss, cell_si, ['Plin3'])\n",
    "Gjc3_cell_ss, Gjc3_cell_si = marker_transcripts_vsi(signal_coordinate_df, cell_ss, cell_si, ['Gjc3'])\n",
    "Dgkk_cell_ss, Dgkk_cell_si = marker_transcripts_vsi(signal_coordinate_df, cell_ss, cell_si, ['Dgkk'])\n",
    "Cbln2_cell_ss, Cbln2_cell_si = marker_transcripts_vsi(signal_coordinate_df, cell_ss, cell_si, ['Cbln2'])\n",
    "Syt4_cell_ss, Syt4_cell_si = marker_transcripts_vsi(signal_coordinate_df, cell_ss, cell_si, ['Syt4'])\n",
    "Mlc1_cell_ss, Mlc1_cell_si = marker_transcripts_vsi(signal_coordinate_df, cell_ss, cell_si, ['Mlc1'])\n",
    "Lpar1_cell_ss, Lpar1_cell_si = marker_transcripts_vsi(signal_coordinate_df, cell_ss, cell_si, ['Lpar1'])"
   ]
  },
  {
   "cell_type": "code",
   "execution_count": null,
   "metadata": {},
   "outputs": [],
   "source": [
    "Gad1_MOD_ss, Gad1_MOD_si = marker_transcripts_vsi(signal_coordinate_df, MOD_ss, MOD_si, ['Gad1'])\n",
    "Plin3_MOD_ss, Plin3_MOD_si = marker_transcripts_vsi(signal_coordinate_df, MOD_ss, MOD_si, ['Plin3'])\n",
    "Gjc3_MOD_ss, Gjc3_MOD_si = marker_transcripts_vsi(signal_coordinate_df, MOD_ss, MOD_si, ['Gjc3'])\n",
    "Dgkk_MOD_ss, Dgkk_MOD_si = marker_transcripts_vsi(signal_coordinate_df, MOD_ss, MOD_si, ['Dgkk'])\n",
    "Cbln2_MOD_ss, Cbln2_MOD_si = marker_transcripts_vsi(signal_coordinate_df, MOD_ss, MOD_si, ['Cbln2'])\n",
    "Syt4_MOD_ss, Syt4_MOD_si = marker_transcripts_vsi(signal_coordinate_df, MOD_ss, MOD_si, ['Syt4'])\n",
    "Mlc1_MOD_ss, Mlc1_MOD_si = marker_transcripts_vsi(signal_coordinate_df, MOD_ss, MOD_si, ['Mlc1'])\n",
    "Lpar1_MOD_ss, Lpar1_MOD_si = marker_transcripts_vsi(signal_coordinate_df, MOD_ss, MOD_si, ['Lpar1'])"
   ]
  },
  {
   "cell_type": "code",
   "execution_count": null,
   "metadata": {},
   "outputs": [],
   "source": [
    "Gad1_MOD1_ss, Gad1_MOD1_si = marker_transcripts_vsi(signal_coordinate_df, MOD1_ss, MOD1_si, ['Gad1'])\n",
    "Plin3_MOD1_ss, Plin3_MOD1_si = marker_transcripts_vsi(signal_coordinate_df, MOD1_ss, MOD1_si, ['Plin3'])\n",
    "Gjc3_MOD1_ss, Gjc3_MOD1_si = marker_transcripts_vsi(signal_coordinate_df, MOD1_ss, MOD1_si, ['Gjc3'])\n",
    "Dgkk_MOD1_ss, Dgkk_MOD1_si = marker_transcripts_vsi(signal_coordinate_df, MOD1_ss, MOD1_si, ['Dgkk'])\n",
    "Cbln2_MOD1_ss, Cbln2_MOD1_si = marker_transcripts_vsi(signal_coordinate_df, MOD1_ss, MOD1_si, ['Cbln2'])\n",
    "Syt4_MOD1_ss, Syt4_MOD1_si = marker_transcripts_vsi(signal_coordinate_df, MOD1_ss, MOD1_si, ['Syt4'])\n",
    "Mlc1_MOD1_ss, Mlc1_MOD1_si = marker_transcripts_vsi(signal_coordinate_df, MOD1_ss, MOD1_si, ['Mlc1'])\n",
    "Lpar1_MOD1_ss, Lpar1_MOD1_si = marker_transcripts_vsi(signal_coordinate_df, MOD1_ss, MOD1_si, ['Lpar1'])"
   ]
  },
  {
   "cell_type": "code",
   "execution_count": null,
   "metadata": {},
   "outputs": [],
   "source": [
    "Gad1_MOD2_ss, Gad1_MOD2_si = marker_transcripts_vsi(signal_coordinate_df, MOD2_ss, MOD2_si, ['Gad1'])\n",
    "Plin3_MOD2_ss, Plin3_MOD2_si = marker_transcripts_vsi(signal_coordinate_df, MOD2_ss, MOD2_si, ['Plin3'])\n",
    "Gjc3_MOD2_ss, Gjc3_MOD2_si = marker_transcripts_vsi(signal_coordinate_df, MOD2_ss, MOD2_si, ['Gjc3'])\n",
    "Dgkk_MOD2_ss, Dgkk_MOD2_si = marker_transcripts_vsi(signal_coordinate_df, MOD2_ss, MOD2_si, ['Dgkk'])\n",
    "Cbln2_MOD2_ss, Cbln2_MOD2_si = marker_transcripts_vsi(signal_coordinate_df, MOD2_ss, MOD2_si, ['Cbln2'])\n",
    "Syt4_MOD2_ss, Syt4_MOD2_si = marker_transcripts_vsi(signal_coordinate_df, MOD2_ss, MOD2_si, ['Syt4'])\n",
    "Mlc1_MOD2_ss, Mlc1_MOD2_si = marker_transcripts_vsi(signal_coordinate_df, MOD2_ss, MOD2_si, ['Mlc1'])\n",
    "Lpar1_MOD2_ss, Lpar1_MOD2_si = marker_transcripts_vsi(signal_coordinate_df, MOD2_ss, MOD2_si, ['Lpar1'])"
   ]
  },
  {
   "cell_type": "markdown",
   "metadata": {},
   "source": [
    "#### Cells distribution"
   ]
  },
  {
   "cell_type": "code",
   "execution_count": null,
   "metadata": {},
   "outputs": [],
   "source": [
    "fig, ax = plt.subplots(1, 4, figsize=(18*CM, 10.5*CM), dpi=600)\n",
    "plot_marker_vsi_hist(ax[0], Lpar1_cell_si, Lpar1_cell_ss, signal_thr=3, label=\"Lpar1\", xlim=(0,20), log=False)\n",
    "plot_marker_vsi_hist(ax[1], Plin3_cell_si, Plin3_cell_ss, signal_thr=3, label=\"Plin3\", xlim=(0,20), log=False)\n",
    "plot_marker_vsi_hist(ax[2], Gjc3_cell_si, Gjc3_cell_ss, signal_thr=3, label=\"Gjc3\", xlim=(0,20), log=False)\n",
    "plot_marker_vsi_hist(ax[3], Mlc1_cell_si, Mlc1_cell_ss, signal_thr=3, label=\"Mlc1\", xlim=(0,20), log=False, ylabel=True)\n",
    "\n",
    "plt.tight_layout()\n",
    "plt.show()"
   ]
  },
  {
   "cell_type": "code",
   "execution_count": null,
   "metadata": {},
   "outputs": [],
   "source": [
    "fig, ax = plt.subplots(1, 4, figsize=(18*CM, 10.5*CM), dpi=600)\n",
    "\n",
    "plot_marker_vsi_hist(ax[0], Syt4_cell_si, Syt4_cell_ss, signal_thr=3, label=\"Syt4\", xlim=(0,20), log=False)\n",
    "plot_marker_vsi_hist(ax[1], Gad1_cell_si, Gad1_cell_ss, signal_thr=3, label=\"Gad1\", xlim=(0,20), log=False)\n",
    "plot_marker_vsi_hist(ax[2], Cbln2_cell_si, Cbln2_cell_ss, signal_thr=3, label=\"Cbln2\", xlim=(0,20), log=False)\n",
    "plot_marker_vsi_hist(ax[3], Dgkk_cell_si, Dgkk_cell_ss, signal_thr=3, label=\"Dgkk\", xlim=(0,20), log=False, ylabel=True)\n",
    "\n",
    "plt.tight_layout()\n",
    "plt.show()"
   ]
  },
  {
   "cell_type": "markdown",
   "metadata": {},
   "source": [
    "#### MOD distribution"
   ]
  },
  {
   "cell_type": "code",
   "execution_count": null,
   "metadata": {},
   "outputs": [],
   "source": [
    "fig, ax = plt.subplots(1, 4, figsize=(18*CM, 10.5*CM), dpi=600)\n",
    "plot_marker_vsi_hist(ax[0], Lpar1_MOD_si, Lpar1_MOD_ss, signal_thr=3, label=\"Lpar1\", xlim=(0,40), log=False)\n",
    "plot_marker_vsi_hist(ax[1], Plin3_MOD_si, Plin3_MOD_ss, signal_thr=3, label=\"Plin3\", xlim=(0,40), log=False)\n",
    "plot_marker_vsi_hist(ax[2], Gjc3_MOD_si, Gjc3_MOD_ss, signal_thr=3, label=\"Gjc3\", xlim=(0,40), log=False)\n",
    "plot_marker_vsi_hist(ax[3], Mlc1_MOD_si, Mlc1_MOD_ss, signal_thr=3, label=\"Mlc1\", xlim=(0,40), log=False, ylabel=True)\n",
    "\n",
    "plt.tight_layout()\n",
    "plt.show()"
   ]
  },
  {
   "cell_type": "code",
   "execution_count": null,
   "metadata": {},
   "outputs": [],
   "source": [
    "fig, ax = plt.subplots(1, 4, figsize=(18*CM, 10.5*CM), dpi=600)\n",
    "plot_marker_vsi_hist(ax[0], Lpar1_MOD_si, Lpar1_MOD_ss, signal_thr=3, label=\"Lpar1\", xlim=(1e-1,64), log=True)\n",
    "plot_marker_vsi_hist(ax[1], Plin3_MOD_si, Plin3_MOD_ss, signal_thr=3, label=\"Plin3\", xlim=(1e-1,64), log=True)\n",
    "plot_marker_vsi_hist(ax[2], Gjc3_MOD_si, Gjc3_MOD_ss, signal_thr=3, label=\"Gjc3\", xlim=(1e-1,64), log=True)\n",
    "plot_marker_vsi_hist(ax[3], Mlc1_MOD_si, Mlc1_MOD_ss, signal_thr=3, label=\"Mlc1\", xlim=(1e-1,64), log=True, ylabel=True)\n",
    "\n",
    "plt.tight_layout()\n",
    "plt.show()"
   ]
  },
  {
   "cell_type": "code",
   "execution_count": null,
   "metadata": {},
   "outputs": [],
   "source": [
    "fig, ax = plt.subplots(1, 4, figsize=(18*CM, 10.5*CM), dpi=600)\n",
    "\n",
    "plot_marker_vsi_hist(ax[0], Syt4_MOD_si, Syt4_MOD_ss, signal_thr=3, label=\"Syt4\", xlim=(0,40), log=False)\n",
    "plot_marker_vsi_hist(ax[1], Gad1_MOD_si, Gad1_MOD_ss, signal_thr=3, label=\"Gad1\", xlim=(0,40), log=False)\n",
    "plot_marker_vsi_hist(ax[2], Cbln2_MOD_si, Cbln2_MOD_ss, signal_thr=3, label=\"Cbln2\", xlim=(0,40), log=False)\n",
    "plot_marker_vsi_hist(ax[3], Dgkk_MOD_si, Dgkk_MOD_ss, signal_thr=3, label=\"Dgkk\", xlim=(0,40), log=False, ylabel=True)\n",
    "\n",
    "plt.tight_layout()\n",
    "plt.show()"
   ]
  },
  {
   "cell_type": "code",
   "execution_count": null,
   "metadata": {},
   "outputs": [],
   "source": [
    "fig, ax = plt.subplots(1, 4, figsize=(18*CM, 10.5*CM), dpi=600)\n",
    "\n",
    "plot_marker_vsi_hist(ax[0], Syt4_MOD_si, Syt4_MOD_ss, signal_thr=3, label=\"Syt4\", xlim=(1e-1,64), log=True)\n",
    "plot_marker_vsi_hist(ax[1], Gad1_MOD_si, Gad1_MOD_ss, signal_thr=3, label=\"Gad1\", xlim=(1e-1,64), log=True)\n",
    "plot_marker_vsi_hist(ax[2], Cbln2_MOD_si, Cbln2_MOD_ss, signal_thr=3, label=\"Cbln2\", xlim=(1e-1,64), log=True)\n",
    "plot_marker_vsi_hist(ax[3], Dgkk_MOD_si, Dgkk_MOD_ss, signal_thr=3, label=\"Dgkk\", xlim=(1e-1,64), log=True, ylabel=True)\n",
    "\n",
    "plt.tight_layout()\n",
    "plt.show()"
   ]
  },
  {
   "cell_type": "markdown",
   "metadata": {},
   "source": [
    "#### MOD1 distribution"
   ]
  },
  {
   "cell_type": "code",
   "execution_count": null,
   "metadata": {},
   "outputs": [],
   "source": [
    "fig, ax = plt.subplots(1, 4, figsize=(18*CM, 10.5*CM), dpi=600)\n",
    "plot_marker_vsi_hist(ax[0], Lpar1_MOD1_si, Lpar1_MOD1_ss, signal_thr=3, label=\"Lpar1\", xlim=(0,55), log=False)\n",
    "plot_marker_vsi_hist(ax[1], Plin3_MOD1_si, Plin3_MOD1_ss, signal_thr=3, label=\"Plin3\", xlim=(0,55), log=False)\n",
    "plot_marker_vsi_hist(ax[2], Gjc3_MOD1_si, Gjc3_MOD1_ss, signal_thr=3, label=\"Gjc3\", xlim=(0,55), log=False)\n",
    "plot_marker_vsi_hist(ax[3], Mlc1_MOD1_si, Mlc1_MOD1_ss, signal_thr=3, label=\"Mlc1\", xlim=(0,55), log=False, ylabel=True)\n",
    "\n",
    "plt.tight_layout()\n",
    "plt.show()"
   ]
  },
  {
   "cell_type": "code",
   "execution_count": null,
   "metadata": {},
   "outputs": [],
   "source": [
    "fig, ax = plt.subplots(1, 4, figsize=(18*CM, 10.5*CM), dpi=600)\n",
    "plot_marker_vsi_hist(ax[0], Lpar1_MOD1_si, Lpar1_MOD1_ss, signal_thr=3, label=\"Lpar1\", xlim=(1e-1,64), log=True)\n",
    "plot_marker_vsi_hist(ax[1], Plin3_MOD1_si, Plin3_MOD1_ss, signal_thr=3, label=\"Plin3\", xlim=(1e-1,64), log=True)\n",
    "plot_marker_vsi_hist(ax[2], Gjc3_MOD1_si, Gjc3_MOD1_ss, signal_thr=3, label=\"Gjc3\", xlim=(1e-1,64), log=True)\n",
    "plot_marker_vsi_hist(ax[3], Mlc1_MOD1_si, Mlc1_MOD1_ss, signal_thr=3, label=\"Mlc1\", xlim=(1e-1,64), log=True, ylabel=True)\n",
    "\n",
    "plt.tight_layout()\n",
    "plt.show()"
   ]
  },
  {
   "cell_type": "code",
   "execution_count": null,
   "metadata": {},
   "outputs": [],
   "source": [
    "fig, ax = plt.subplots(1, 4, figsize=(18*CM, 10.5*CM), dpi=600)\n",
    "\n",
    "plot_marker_vsi_hist(ax[0], Syt4_MOD1_si, Syt4_MOD1_ss, signal_thr=3, label=\"Syt4\", xlim=(0,55), log=False)\n",
    "plot_marker_vsi_hist(ax[1], Gad1_MOD1_si, Gad1_MOD1_ss, signal_thr=3, label=\"Gad1\", xlim=(0,55), log=False)\n",
    "plot_marker_vsi_hist(ax[2], Cbln2_MOD1_si, Cbln2_MOD1_ss, signal_thr=3, label=\"Cbln2\", xlim=(0,55), log=False)\n",
    "plot_marker_vsi_hist(ax[3], Dgkk_MOD1_si, Dgkk_MOD1_ss, signal_thr=3, label=\"Dgkk\", xlim=(0,55), log=False, ylabel=True)\n",
    "\n",
    "plt.tight_layout()\n",
    "plt.show()"
   ]
  },
  {
   "cell_type": "code",
   "execution_count": null,
   "metadata": {},
   "outputs": [],
   "source": [
    "fig, ax = plt.subplots(1, 4, figsize=(18*CM, 10.5*CM), dpi=600)\n",
    "\n",
    "plot_marker_vsi_hist(ax[0], Syt4_MOD1_si, Syt4_MOD1_ss, signal_thr=3, label=\"Syt4\", xlim=(1e-1,64), log=True)\n",
    "plot_marker_vsi_hist(ax[1], Gad1_MOD1_si, Gad1_MOD1_ss, signal_thr=3, label=\"Gad1\", xlim=(1e-1,64), log=True)\n",
    "plot_marker_vsi_hist(ax[2], Cbln2_MOD1_si, Cbln2_MOD1_ss, signal_thr=3, label=\"Cbln2\", xlim=(1e-1,64), log=True)\n",
    "plot_marker_vsi_hist(ax[3], Dgkk_MOD1_si, Dgkk_MOD1_ss, signal_thr=3, label=\"Dgkk\", xlim=(1e-1,64), log=True, ylabel=True)\n",
    "\n",
    "plt.tight_layout()\n",
    "plt.show()"
   ]
  },
  {
   "cell_type": "markdown",
   "metadata": {},
   "source": [
    "#### MOD2 distribution"
   ]
  },
  {
   "cell_type": "code",
   "execution_count": null,
   "metadata": {},
   "outputs": [],
   "source": [
    "fig, ax = plt.subplots(1, 4, figsize=(18*CM, 10.5*CM), dpi=600)\n",
    "plot_marker_vsi_hist(ax[0], Lpar1_MOD2_si, Lpar1_MOD2_ss, signal_thr=3, label=\"Lpar1\", xlim=(0,30), log=False)\n",
    "plot_marker_vsi_hist(ax[1], Plin3_MOD2_si, Plin3_MOD2_ss, signal_thr=3, label=\"Plin3\", xlim=(0,30), log=False)\n",
    "plot_marker_vsi_hist(ax[2], Gjc3_MOD2_si, Gjc3_MOD2_ss, signal_thr=3, label=\"Gjc3\", xlim=(0,30), log=False)\n",
    "plot_marker_vsi_hist(ax[3], Mlc1_MOD2_si, Mlc1_MOD2_ss, signal_thr=3, label=\"Mlc1\", xlim=(0,30), log=False, ylabel=True)\n",
    "\n",
    "plt.tight_layout()\n",
    "plt.show()"
   ]
  },
  {
   "cell_type": "code",
   "execution_count": null,
   "metadata": {},
   "outputs": [],
   "source": [
    "fig, ax = plt.subplots(1, 4, figsize=(18*CM, 10.5*CM), dpi=600)\n",
    "plot_marker_vsi_hist(ax[0], Lpar1_MOD2_si, Lpar1_MOD2_ss, signal_thr=3, label=\"Lpar1\", xlim=(1e-1,32), log=True)\n",
    "plot_marker_vsi_hist(ax[1], Plin3_MOD2_si, Plin3_MOD2_ss, signal_thr=3, label=\"Plin3\", xlim=(1e-1,32), log=True)\n",
    "plot_marker_vsi_hist(ax[2], Gjc3_MOD2_si, Gjc3_MOD2_ss, signal_thr=3, label=\"Gjc3\", xlim=(1e-1,32), log=True)\n",
    "plot_marker_vsi_hist(ax[3], Mlc1_MOD2_si, Mlc1_MOD2_ss, signal_thr=3, label=\"Mlc1\", xlim=(1e-1,32), log=True, ylabel=True)\n",
    "\n",
    "plt.tight_layout()\n",
    "plt.show()"
   ]
  },
  {
   "cell_type": "code",
   "execution_count": null,
   "metadata": {},
   "outputs": [],
   "source": [
    "fig, ax = plt.subplots(1, 4, figsize=(18*CM, 10.5*CM), dpi=600)\n",
    "\n",
    "plot_marker_vsi_hist(ax[0], Syt4_MOD2_si, Syt4_MOD2_ss, signal_thr=3, label=\"Syt4\", xlim=(0,30), log=False)\n",
    "plot_marker_vsi_hist(ax[1], Gad1_MOD2_si, Gad1_MOD2_ss, signal_thr=3, label=\"Gad1\", xlim=(0,30), log=False)\n",
    "plot_marker_vsi_hist(ax[2], Cbln2_MOD2_si, Cbln2_MOD2_ss, signal_thr=3, label=\"Cbln2\", xlim=(0,30), log=False)\n",
    "plot_marker_vsi_hist(ax[3], Dgkk_MOD2_si, Dgkk_MOD2_ss, signal_thr=3, label=\"Dgkk\", xlim=(0,30), log=False, ylabel=True)\n",
    "\n",
    "plt.tight_layout()\n",
    "plt.show()"
   ]
  },
  {
   "cell_type": "code",
   "execution_count": null,
   "metadata": {},
   "outputs": [],
   "source": [
    "fig, ax = plt.subplots(1, 4, figsize=(18*CM, 10.5*CM), dpi=600)\n",
    "\n",
    "plot_marker_vsi_hist(ax[0], Syt4_MOD2_si, Syt4_MOD2_ss, signal_thr=3, label=\"Syt4\", xlim=(1e-1,32), log=True)\n",
    "plot_marker_vsi_hist(ax[1], Gad1_MOD2_si, Gad1_MOD2_ss, signal_thr=3, label=\"Gad1\", xlim=(1e-1,32), log=True)\n",
    "plot_marker_vsi_hist(ax[2], Cbln2_MOD2_si, Cbln2_MOD2_ss, signal_thr=3, label=\"Cbln2\", xlim=(1e-1,32), log=True)\n",
    "plot_marker_vsi_hist(ax[3], Dgkk_MOD2_si, Dgkk_MOD2_ss, signal_thr=3, label=\"Dgkk\", xlim=(1e-1,32), log=True, ylabel=True)\n",
    "\n",
    "plt.tight_layout()\n",
    "plt.show()"
   ]
  }
 ],
 "metadata": {
  "kernelspec": {
   "display_name": "ovrlpy",
   "language": "python",
   "name": "python3"
  },
  "language_info": {
   "codemirror_mode": {
    "name": "ipython",
    "version": 3
   },
   "file_extension": ".py",
   "mimetype": "text/x-python",
   "name": "python",
   "nbconvert_exporter": "python",
   "pygments_lexer": "ipython3",
   "version": "3.12.11"
  }
 },
 "nbformat": 4,
 "nbformat_minor": 2
}
