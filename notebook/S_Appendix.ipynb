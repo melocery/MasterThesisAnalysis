{
 "cells": [
  {
   "cell_type": "markdown",
   "id": "fefef0cb",
   "metadata": {},
   "source": [
    "## Appendix\n",
    "PCA and clustering using scRNA-seq data and BANKSY markers"
   ]
  },
  {
   "cell_type": "markdown",
   "id": "0f9eba89",
   "metadata": {},
   "source": [
    "### data"
   ]
  },
  {
   "cell_type": "markdown",
   "id": "92cd582f",
   "metadata": {},
   "source": [
    "#### Matched Single-Cell RNA Sequencing"
   ]
  },
  {
   "cell_type": "code",
   "execution_count": null,
   "id": "947e6ff1",
   "metadata": {},
   "outputs": [],
   "source": [
    "import pandas as pd\n",
    "import numpy as np\n",
    "from pathlib import Path\n",
    "from scipy.io import mmread\n",
    "# from scipy import sparse\n",
    "import anndata as ad\n",
    "from sklearn.preprocessing import StandardScaler\n",
    "\n",
    "data_path = Path(\"../data/mouse_hypothalamus/singlecell/\")\n",
    "mtx_path = data_path / \"GSE113576_matrix.mtx\"\n",
    "barcodes_path = data_path / \"GSE113576_barcodes.tsv\"\n",
    "genes_path = data_path / \"GSE113576_genes.tsv\"\n",
    "meta_path = data_path / \"aau5324_Moffitt_Table-S1.xlsx\""
   ]
  },
  {
   "cell_type": "code",
   "execution_count": null,
   "id": "7e8f2ba3",
   "metadata": {},
   "outputs": [],
   "source": [
    "X = mmread(mtx_path).tocsr()\n",
    "cell_ids = pd.read_csv(barcodes_path, sep=\"\\t\", header=None)[0].values\n",
    "gene_names = pd.read_csv(genes_path, sep=\"\\t\", header=None)[1].values\n",
    "\n",
    "adata = ad.AnnData(X=X.T)  # cell x gene\n",
    "adata.var_names = gene_names\n",
    "adata.obs_names = cell_ids\n",
    "adata.var_names_make_unique()\n",
    "\n",
    "# filter the unstable and ambiguous cells\n",
    "meta = pd.read_excel(meta_path).rename(columns={\n",
    "    \"Cell name\": \"Cell_name\",\n",
    "    \"Sex\": \"Sex\",\n",
    "    \"Replicate number\": \"Rep\",\n",
    "    \"Cell class (determined from clustering of all cells)\": \"Cell_class\",\n",
    "    \"Non-neuronal cluster (determined from clustering of all cells)\": \"Non_neuronal_cluster\",\n",
    "    \"Neuronal cluster (determined from clustering of inhibitory or excitatory neurons)\": \"Neuronal_cluster\"\n",
    "})\n",
    "\n",
    "cell_class = {'Mature oligodendrocyte': 'OD mature'}\n",
    "meta = meta.set_index(\"Cell_name\")\n",
    "meta = meta.loc[meta[\"Cell_class\"].isin(cell_class.keys())]\n",
    "adata = adata[adata.obs_names.isin(meta.index)].copy()\n",
    "adata.obs = meta.loc[adata.obs_names, [\"Cell_class\"]].copy()\n",
    "adata.obs[\"Cell_class\"] = adata.obs[\"Cell_class\"].map(cell_class)\n",
    "\n",
    "# Filter out cells where mitochondrial RNA fraction is >= 20%\n",
    "mt_mask = adata.var_names.str.startswith(\"mt\")\n",
    "mt_fraction = np.array(adata[:, mt_mask].X.sum(axis=1)).flatten() / (\n",
    "    np.array(adata.X.sum(axis=1)).flatten() + 1e-6\n",
    ")\n",
    "adata = adata[mt_fraction < 0.2, :].copy()\n",
    "\n",
    "# keep cells with more than 1,000 detected genes\n",
    "nonzero_counts = np.array((adata.X != 0).sum(axis=1)).flatten()\n",
    "adata = adata[nonzero_counts > 1000, :].copy()\n",
    "\n",
    "# filter out \"blank\" controls\n",
    "blank_mask = ~adata.var_names.str.startswith(\"Blank\")\n",
    "adata = adata[:, blank_mask].copy()\n",
    "\n",
    "sc_total = np.array(adata.X.sum(axis=1)).flatten()\n",
    "adata.X = adata.X.multiply(10_000 / sc_total[:, None])  # normalize\n",
    "adata.X = adata.X.log1p()  # log1p\n",
    "adata.X = StandardScaler(with_mean=False).fit_transform(adata.X)"
   ]
  },
  {
   "cell_type": "markdown",
   "id": "e8448f7d",
   "metadata": {},
   "source": [
    "#### Marker Genes\n",
    "\n",
    "differentially expressed genes identified by BANKSY"
   ]
  },
  {
   "cell_type": "code",
   "execution_count": null,
   "id": "b4e3c8cd",
   "metadata": {},
   "outputs": [],
   "source": [
    "# all differentially expressed genes\n",
    "DE_genes = ['Mlc1', 'Dgkk', 'Cbln2', 'Syt4', 'Gad1', 'Plin3', 'Gnrh1', 'Sln', 'Gjc3', 'Mbp', 'Lpar1', 'Trh', 'Ucn3', 'Cck']\n",
    "# DE_genes_gm: 7\n",
    "DE_genes_MOD2 = ['Mlc1', 'Dgkk', 'Cbln2', 'Syt4', 'Gad1', 'Plin3', 'Gnrh1', 'Sln', 'Gjc3']\n",
    "# DE_genes_wm: 8\n",
    "DE_genes_MOD1 = ['Mbp', 'Lpar1', 'Trh', 'Ucn3', 'Cck']"
   ]
  },
  {
   "cell_type": "code",
   "execution_count": null,
   "id": "2892f039",
   "metadata": {},
   "outputs": [],
   "source": [
    "sc_data = adata.to_df()\n",
    "sc_DE_MOD2_df = sc_data[DE_genes_MOD2]\n",
    "sc_DE_MOD1_df = sc_data[DE_genes_MOD1]\n",
    "sc_DE = pd.concat([sc_DE_MOD2_df, sc_DE_MOD1_df], axis=1)"
   ]
  },
  {
   "cell_type": "markdown",
   "id": "34d4c089",
   "metadata": {},
   "source": [
    "### BANKSY method: top 25 correlated genes for each marker"
   ]
  },
  {
   "cell_type": "code",
   "execution_count": null,
   "id": "9ae64929",
   "metadata": {},
   "outputs": [],
   "source": [
    "# Find genes most correlated with a given gene.\n",
    "\n",
    "from scipy.stats import spearmanr\n",
    "\n",
    "def find_corr_genes(gene, sc_data):\n",
    "    cor = pd.Series(index=sc_data.index, dtype=np.float64)\n",
    "    x = pd.to_numeric(sc_data.loc[gene].values.flatten(), errors='coerce')\n",
    "    \n",
    "    for i, other_gene in enumerate(sc_data.index):\n",
    "        if other_gene.startswith(\"Blank\"):\n",
    "            continue\n",
    "        if other_gene == 'Cell_class':\n",
    "            continue\n",
    "        \n",
    "        y = pd.to_numeric(sc_data.loc[other_gene].values.flatten(), errors='coerce')\n",
    "        \n",
    "        if len(x) != len(y):\n",
    "            continue\n",
    "\n",
    "        cor[other_gene], p_value = spearmanr(x, y)\n",
    "\n",
    "    return cor.sort_values(ascending=False)\n",
    "\n",
    "\n",
    "def process_related_genes(DE_genes, sc_data):\n",
    "    corr_genes = []\n",
    "    for gene in DE_genes:\n",
    "        corr_g = find_corr_genes(gene, sc_data)\n",
    "        top_25_genes = corr_g.iloc[:26].index.tolist()\n",
    "        corr_genes.extend(top_25_genes)\n",
    "    \n",
    "    return corr_genes"
   ]
  },
  {
   "cell_type": "code",
   "execution_count": null,
   "id": "f63caed2",
   "metadata": {},
   "outputs": [],
   "source": [
    "top25_corr_genes = process_related_genes(DE_genes, sc_data.T)"
   ]
  },
  {
   "cell_type": "code",
   "execution_count": null,
   "id": "924a770f",
   "metadata": {},
   "outputs": [],
   "source": [
    "DE_scRNA_data =  sc_data[DE_genes]\n",
    "DE_corr_scRNA_data =  sc_data[top25_corr_genes]"
   ]
  },
  {
   "cell_type": "markdown",
   "id": "c577cc85",
   "metadata": {},
   "source": [
    "### PCA"
   ]
  },
  {
   "cell_type": "code",
   "execution_count": null,
   "id": "45b24adc",
   "metadata": {},
   "outputs": [],
   "source": [
    "import seaborn as sns\n",
    "import matplotlib.pyplot as plt\n",
    "\n",
    "from sklearn.decomposition import PCA\n",
    "import umap"
   ]
  },
  {
   "cell_type": "code",
   "execution_count": null,
   "id": "a57fdc7c",
   "metadata": {},
   "outputs": [],
   "source": [
    "data = DE_scRNA_data.copy()\n",
    "\n",
    "pca_full = PCA(n_components=14, random_state=42)\n",
    "pca_full_result = pca_full.fit_transform(data)\n",
    "explained_variance = pca_full.explained_variance_ratio_\n",
    "cumulative_variance = np.cumsum(explained_variance)"
   ]
  },
  {
   "cell_type": "code",
   "execution_count": null,
   "id": "7cf44db0",
   "metadata": {},
   "outputs": [],
   "source": [
    "# (1) Explained Variance Ratio\n",
    "plt.figure(figsize=(8,6), dpi=600)\n",
    "\n",
    "plt.plot(np.arange(1, len(explained_variance) + 1), explained_variance, marker='o', linestyle='--', color='mediumvioletred')\n",
    "plt.xlabel(\"Number of Principal Components\")\n",
    "plt.ylabel(\"Explained Variance Ratio\")\n",
    "# plt.title(\"Explained Variance Ratio by PCs\")\n",
    "plt.title(\"Only MOD Markers\")\n",
    "\n",
    "ax = plt.gca()\n",
    "ax.spines[\"top\"].set_visible(False)\n",
    "ax.spines[\"right\"].set_visible(False)\n",
    "\n",
    "plt.show()"
   ]
  },
  {
   "cell_type": "code",
   "execution_count": null,
   "id": "7c978f84",
   "metadata": {},
   "outputs": [],
   "source": [
    "# (2) Cumulative Explained Variance\n",
    "plt.figure(figsize=(8,6), dpi=600)\n",
    "# plt.hlines(y=1, xmin=0, xmax=14, linestyles='--', colors='lightblue')\n",
    "plt.plot(np.arange(1, len(explained_variance) + 1), cumulative_variance, marker=\"o\", linestyle=\"-\", color='mediumvioletred')\n",
    "plt.xlabel(\"Number of Principal Components\")\n",
    "plt.ylabel(\"Cumulative Explained Variance\")\n",
    "# plt.title(\"Cumulative Explained Variance Ratio\")\n",
    "\n",
    "ax = plt.gca()\n",
    "ax.spines[\"top\"].set_visible(False)\n",
    "ax.spines[\"right\"].set_visible(False)\n",
    "\n",
    "plt.show()"
   ]
  },
  {
   "cell_type": "code",
   "execution_count": null,
   "id": "8601391a",
   "metadata": {},
   "outputs": [],
   "source": [
    "pca_full = PCA(n_components=5, random_state=42)\n",
    "pca_full_result = pca_full.fit_transform(data)\n",
    "explained_variance = pca_full.explained_variance_ratio_\n",
    "cumulative_variance = np.cumsum(explained_variance)\n",
    "\n",
    "# UMAP on PCA-Reduced Data\n",
    "umap_model = umap.UMAP(n_components=2)\n",
    "umap_result = umap_model.fit_transform(pca_full_result)\n",
    "\n",
    "# (3) UMAP Clustering (Using Specified n_PCs)\n",
    "plt.figure(figsize=(8,6), dpi=600)\n",
    "\n",
    "scatter_umap = plt.scatter(umap_result[:, 0], umap_result[:, 1], alpha=0.7, s=11, edgecolors='none', color='mediumvioletred')\n",
    "# plt.title(f\"UMAP using n_PCs = 5\")\n",
    "plt.xlabel(\"UMAP 1\")\n",
    "plt.ylabel(\"UMAP 2\")\n",
    "\n",
    "ax = plt.gca()\n",
    "ax.spines[\"top\"].set_visible(False)\n",
    "ax.spines[\"right\"].set_visible(False)\n",
    "\n",
    "plt.show()"
   ]
  },
  {
   "cell_type": "code",
   "execution_count": null,
   "id": "9695413c",
   "metadata": {},
   "outputs": [],
   "source": [
    "data = DE_corr_scRNA_data.copy()\n",
    "\n",
    "pca_full = PCA(n_components=364, random_state=42)\n",
    "pca_full_result = pca_full.fit_transform(data)\n",
    "explained_variance = pca_full.explained_variance_ratio_\n",
    "cumulative_variance = np.cumsum(explained_variance)"
   ]
  },
  {
   "cell_type": "code",
   "execution_count": null,
   "id": "5813f768",
   "metadata": {},
   "outputs": [],
   "source": [
    "# (1) Explained Variance Ratio\n",
    "plt.figure(figsize=(8,6), dpi=600)\n",
    "\n",
    "plt.plot(np.arange(1, len(explained_variance) + 1), explained_variance, marker='.', linestyle='--', color='mediumvioletred')\n",
    "plt.xlabel(\"Number of Principal Components\")\n",
    "plt.ylabel(\"Explained Variance Ratio\")\n",
    "# plt.title(\"Explained Variance Ratio by PCs\")\n",
    "plt.title(\"MOD Markers and Correlated Genes\")\n",
    "\n",
    "ax = plt.gca()\n",
    "ax.spines[\"top\"].set_visible(False)\n",
    "ax.spines[\"right\"].set_visible(False)\n",
    "\n",
    "plt.show()"
   ]
  },
  {
   "cell_type": "code",
   "execution_count": null,
   "id": "cd4fb028",
   "metadata": {},
   "outputs": [],
   "source": [
    "# (2) Cumulative Explained Variance\n",
    "plt.figure(figsize=(8,6), dpi=600)\n",
    "# plt.hlines(y=1, xmin=0, xmax=364, linestyles='--', colors='lightblue')\n",
    "plt.plot(np.arange(1, len(explained_variance) + 1), cumulative_variance, marker=\".\", linestyle=\"-\", color='mediumvioletred')\n",
    "plt.xlabel(\"Number of Principal Components\")\n",
    "plt.ylabel(\"Cumulative Explained Variance\")\n",
    "# plt.title(\"Cumulative Explained Variance Ratio\")\n",
    "\n",
    "ax = plt.gca()\n",
    "ax.spines[\"top\"].set_visible(False)\n",
    "ax.spines[\"right\"].set_visible(False)\n",
    "\n",
    "plt.show()"
   ]
  },
  {
   "cell_type": "code",
   "execution_count": null,
   "id": "fb3e5b78",
   "metadata": {},
   "outputs": [],
   "source": [
    "pca_full = PCA(n_components=5)\n",
    "pca_full_result = pca_full.fit_transform(data)\n",
    "# UMAP on PCA-Reduced Data\n",
    "umap_model = umap.UMAP(n_components=2)\n",
    "umap_result = umap_model.fit_transform(pca_full_result)\n",
    "\n",
    "# (3) UMAP Clustering (Using Specified n_PCs)\n",
    "plt.figure(figsize=(8,6), dpi=600)\n",
    "\n",
    "scatter_umap = plt.scatter(umap_result[:, 0], umap_result[:, 1], alpha=0.7, s=11, edgecolors='none', color='mediumvioletred')\n",
    "# plt.title(f\"UMAP using n_PCs = 5\")\n",
    "plt.xlabel(\"UMAP 1\")\n",
    "plt.ylabel(\"UMAP 2\")\n",
    "\n",
    "ax = plt.gca()\n",
    "ax.spines[\"top\"].set_visible(False)\n",
    "ax.spines[\"right\"].set_visible(False)\n",
    "\n",
    "plt.show()"
   ]
  },
  {
   "cell_type": "markdown",
   "id": "960257f6",
   "metadata": {},
   "source": [
    "### k-means clustering"
   ]
  },
  {
   "cell_type": "code",
   "execution_count": null,
   "id": "f77d003d",
   "metadata": {},
   "outputs": [],
   "source": [
    "from sklearn.cluster import KMeans\n",
    "from matplotlib.colors import LinearSegmentedColormap\n",
    "\n",
    "_BIH_CMAP = LinearSegmentedColormap.from_list(\n",
    "    \"BIH\",\n",
    "    [\n",
    "        \"mediumvioletred\",\n",
    "        \"violet\",\n",
    "        \"powderblue\",\n",
    "        \"powderblue\",\n",
    "    ][::-1],\n",
    ")\n",
    "\n",
    "_BIH_CMAP_re = LinearSegmentedColormap.from_list(\n",
    "    \"BIH\",\n",
    "    [\n",
    "        \"powderblue\",\n",
    "        \"powderblue\",\n",
    "        \"violet\",\n",
    "        \"mediumvioletred\",\n",
    "    ][::-1],\n",
    ")"
   ]
  },
  {
   "cell_type": "code",
   "execution_count": null,
   "id": "0caa60bb",
   "metadata": {},
   "outputs": [],
   "source": [
    "def kmeans_clustering(data_for_clustering, k=2, n_PCs=5):\n",
    "    data_for_clustering = data_for_clustering.copy()\n",
    "    # Step 1: KMeans Clustering\n",
    "    kmeans = KMeans(n_clusters=k, random_state=42, n_init=2)\n",
    "    kmeans.fit(data_for_clustering)\n",
    "    \n",
    "    labels = kmeans.labels_\n",
    "    centroids = kmeans.cluster_centers_\n",
    "  \n",
    "    # PCA for explained variance ratio\n",
    "    pca_full = PCA(n_components=n_PCs, random_state=42)\n",
    "    pca_full_result = pca_full.fit_transform(data_for_clustering)\n",
    "    \n",
    "    # UMAP on PCA-Reduced Data\n",
    "    umap_model = umap.UMAP(n_components=2)\n",
    "    umap_result = umap_model.fit_transform(pca_full_result)\n",
    "    \n",
    "    # Visualization\n",
    "    plt.figure(figsize=(8,6), dpi=600)\n",
    "    \n",
    "    # (4) UMAP Clustering (Using Specified n_PCs)\n",
    "    scatter_umap = plt.scatter(umap_result[:, 0], umap_result[:, 1], c=labels, cmap=_BIH_CMAP_re, alpha=0.6, s=11, edgecolors='none')\n",
    "    # plt.title(f\"Only MOD markers \\n K-means Clustering\")\n",
    "    plt.title(f\"K-means Clustering\")\n",
    "    plt.xlabel(\"UMAP 1\")\n",
    "    plt.ylabel(\"UMAP 2\")\n",
    "    # plt.legend(handles=scatter_umap.legend_elements()[0], labels=[f'Cluster {i}' for i in range(k)])\n",
    "    \n",
    "    ax = plt.gca()\n",
    "    ax.spines[\"top\"].set_visible(False)\n",
    "    ax.spines[\"right\"].set_visible(False)\n",
    "    plt.show()\n",
    "    \n",
    "    return labels, centroids"
   ]
  },
  {
   "cell_type": "code",
   "execution_count": null,
   "id": "008e8828",
   "metadata": {},
   "outputs": [],
   "source": [
    "OD_k_labels, OD_centroids = kmeans_clustering(DE_scRNA_data, k=2, n_PCs=2)"
   ]
  },
  {
   "cell_type": "code",
   "execution_count": null,
   "id": "6a3d5a5f",
   "metadata": {},
   "outputs": [],
   "source": [
    "OD_k_labels, OD_centroids = kmeans_clustering(DE_corr_scRNA_data, k=2, n_PCs=5)"
   ]
  },
  {
   "cell_type": "markdown",
   "id": "28b667ff",
   "metadata": {},
   "source": [
    "### leiden clustering"
   ]
  },
  {
   "cell_type": "code",
   "execution_count": null,
   "id": "311be904",
   "metadata": {},
   "outputs": [],
   "source": [
    "from sklearn.neighbors import NearestNeighbors\n",
    "import scipy.sparse as sp\n",
    "import igraph as ig\n",
    "import leidenalg as la"
   ]
  },
  {
   "cell_type": "code",
   "execution_count": null,
   "id": "d4181089",
   "metadata": {},
   "outputs": [],
   "source": [
    "def leiden_clustering(data_for_clustering, k=15, resolution=0.5, n_PCs=5):\n",
    "    \"\"\"\n",
    "    Perform Leiden clustering and visualize the results in PCA and UMAP spaces.\n",
    "    \n",
    "    Parameters:\n",
    "    - data_for_clustering (numpy.ndarray or pandas.DataFrame): Data matrix (cells x genes)\n",
    "    - k (int): Number of neighbors for kNN graph (default: 15)\n",
    "    - resolution (float): Resolution parameter for Leiden clustering (default: 0.5)\n",
    "    - n_PCs (int or None): Number of principal components to use for UMAP (default: None, auto-detect)\n",
    "    \n",
    "    Returns:\n",
    "    - cluster_assignments (numpy.ndarray): Array of cluster labels\n",
    "    \"\"\"\n",
    "    # Input validation\n",
    "    if k < 1 or not isinstance(k, int):\n",
    "        raise ValueError(\"k must be a positive integer.\")\n",
    "    if resolution <= 0:\n",
    "        raise ValueError(\"Resolution must be greater than 0.\")\n",
    "\n",
    "    # Find k-nearest neighbors\n",
    "    nbrs = NearestNeighbors(n_neighbors=k, metric='euclidean').fit(data_for_clustering)\n",
    "    knn_graph = nbrs.kneighbors_graph(data_for_clustering, mode='connectivity')\n",
    "\n",
    "    # Convert sparse matrix to igraph\n",
    "    sources, targets = knn_graph.nonzero()\n",
    "    edges = list(zip(sources, targets))\n",
    "    graph = ig.Graph(edges=edges, directed=False)\n",
    "\n",
    "    # Add weights if desired\n",
    "    weights = knn_graph.data\n",
    "    graph.es['weight'] = weights\n",
    "\n",
    "    # Perform Leiden clustering\n",
    "    partition = la.find_partition(graph, partition_type=la.RBConfigurationVertexPartition, resolution_parameter=resolution)\n",
    "    cluster_assignments = np.array(partition.membership)\n",
    "\n",
    "    # PCA for explained variance ratio\n",
    "    pca_full = PCA(n_components=n_PCs, random_state=42)\n",
    "    pca_full_result = pca_full.fit_transform(data_for_clustering)\n",
    "    \n",
    "    # UMAP on PCA-Reduced Data\n",
    "    umap_model = umap.UMAP(n_components=2)\n",
    "    umap_result = umap_model.fit_transform(pca_full_result)\n",
    "    \n",
    "    # Visualization\n",
    "    plt.figure(figsize=(8,6), dpi=600)\n",
    "    \n",
    "    scatter_umap = plt.scatter(umap_result[:, 0], umap_result[:, 1], c=cluster_assignments, cmap=_BIH_CMAP, alpha=0.6, s=11, edgecolors='none')\n",
    "    plt.title(f\"Leiden Clustering\")\n",
    "    plt.xlabel(\"UMAP 1\")\n",
    "    plt.ylabel(\"UMAP 2\")\n",
    "    \n",
    "    ax = plt.gca()\n",
    "    ax.spines[\"top\"].set_visible(False)\n",
    "    ax.spines[\"right\"].set_visible(False)\n",
    "\n",
    "    # plt.legend(handles=scatter_umap.legend_elements()[0], labels=[f'Cluster {i}' for i in np.unique(cluster_assignments)])\n",
    "    plt.show()\n",
    "    \n",
    "    return cluster_assignments\n"
   ]
  },
  {
   "cell_type": "code",
   "execution_count": null,
   "id": "043f52a3",
   "metadata": {},
   "outputs": [],
   "source": [
    "OD_leiden_labels = leiden_clustering(DE_scRNA_data, k=50, resolution=0.02, n_PCs=2)"
   ]
  },
  {
   "cell_type": "code",
   "execution_count": null,
   "id": "6f7b998d",
   "metadata": {},
   "outputs": [],
   "source": [
    "OD_leiden_labels = leiden_clustering(DE_corr_scRNA_data, k=50, resolution=0.3, n_PCs=5)"
   ]
  },
  {
   "cell_type": "markdown",
   "id": "0c72db89",
   "metadata": {},
   "source": [
    "### hierarchical clustering\n"
   ]
  },
  {
   "cell_type": "code",
   "execution_count": null,
   "id": "47c548dc",
   "metadata": {},
   "outputs": [],
   "source": [
    "from sklearn.cluster import AgglomerativeClustering"
   ]
  },
  {
   "cell_type": "code",
   "execution_count": null,
   "id": "4dcc9fc1",
   "metadata": {},
   "outputs": [],
   "source": [
    "def hierarchical_clustering(data_for_clustering, k=2, n_PCs=5):\n",
    "    # Hierarchical Clustering\n",
    "    # ‘ward’ minimizes the variance of the clusters being merged.\n",
    "    hierarchical = AgglomerativeClustering(n_clusters=k)\n",
    "    labels = hierarchical.fit_predict(data_for_clustering)\n",
    "    \n",
    "    # PCA for explained variance ratio\n",
    "    pca_full = PCA(n_components=n_PCs, random_state=42)\n",
    "    pca_full_result = pca_full.fit_transform(data_for_clustering)\n",
    "    # UMAP on PCA-Reduced Data\n",
    "    umap_model = umap.UMAP(n_components=2)\n",
    "    umap_result = umap_model.fit_transform(pca_full_result)\n",
    "    \n",
    "    \n",
    "    # Visualization\n",
    "    plt.figure(figsize=(8,6), dpi=600)\n",
    "    \n",
    "    scatter_umap = plt.scatter(umap_result[:, 0], umap_result[:, 1], c=labels, cmap=_BIH_CMAP, alpha=0.6, s=11, edgecolors='none')\n",
    "    plt.title(f\"Hierarchical Clustering\")\n",
    "    plt.xlabel(\"UMAP 1\")\n",
    "    plt.ylabel(\"UMAP 2\")\n",
    "    \n",
    "    ax = plt.gca()\n",
    "    ax.spines[\"top\"].set_visible(False)\n",
    "    ax.spines[\"right\"].set_visible(False)\n",
    "\n",
    "    # plt.legend(handles=scatter_umap.legend_elements()[0], labels=[f'Cluster {i}' for i in np.unique(labels)])\n",
    "    plt.show()\n",
    "    \n",
    "    return labels"
   ]
  },
  {
   "cell_type": "code",
   "execution_count": null,
   "id": "a5b2d482",
   "metadata": {},
   "outputs": [],
   "source": [
    "OD_h_labels = hierarchical_clustering(DE_scRNA_data, k=2, n_PCs=2)"
   ]
  },
  {
   "cell_type": "code",
   "execution_count": null,
   "id": "55bc83ab",
   "metadata": {},
   "outputs": [],
   "source": [
    "OD_h_labels = hierarchical_clustering(DE_corr_scRNA_data, k=2, n_PCs=5)"
   ]
  }
 ],
 "metadata": {
  "kernelspec": {
   "display_name": "ovrlpy",
   "language": "python",
   "name": "python3"
  },
  "language_info": {
   "codemirror_mode": {
    "name": "ipython",
    "version": 3
   },
   "file_extension": ".py",
   "mimetype": "text/x-python",
   "name": "python",
   "nbconvert_exporter": "python",
   "pygments_lexer": "ipython3",
   "version": "3.11.11"
  }
 },
 "nbformat": 4,
 "nbformat_minor": 5
}
