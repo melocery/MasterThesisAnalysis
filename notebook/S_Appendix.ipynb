{
 "cells": [
  {
   "cell_type": "markdown",
   "id": "fefef0cb",
   "metadata": {},
   "source": [
    "## Appendix\n",
    "PCA and clustering (k-means, Leiden, and hierarchical clustering) were performed on scRNA-seq data using BANKSY markers, with two feature selection strategies:  \n",
    "- using markers alone  \n",
    "- combining each marker with its top 25 most correlated genes (BANKSY method)  \n",
    "\n",
    "All preprocessing steps follow those described in the BANKSY paper.  "
   ]
  },
  {
   "cell_type": "code",
   "execution_count": null,
   "id": "c214be88",
   "metadata": {},
   "outputs": [],
   "source": [
    "from pathlib import Path\n",
    "\n",
    "import sys\n",
    "import os\n",
    "sys.path.append(os.path.abspath(\"../src\"))\n",
    "\n",
    "from utils import load_scRNA_data\n",
    "from utils import process_related_genes, kmeans_clustering, leiden_clustering, hierarchical_clustering\n",
    "from plot import plot_pca_variance_ratio, plot_pca_cumulative_variance, plot_umap_from_pca\n",
    "\n",
    "import pandas as pd"
   ]
  },
  {
   "cell_type": "markdown",
   "id": "0f9eba89",
   "metadata": {},
   "source": [
    "### data"
   ]
  },
  {
   "cell_type": "markdown",
   "id": "92cd582f",
   "metadata": {},
   "source": [
    "#### Matched Single-Cell RNA Sequencing"
   ]
  },
  {
   "cell_type": "code",
   "execution_count": null,
   "id": "947e6ff1",
   "metadata": {},
   "outputs": [],
   "source": [
    "data_path = Path(\"../data/mouse_hypothalamus/singlecell/\")\n",
    "mtx_path = data_path / \"GSE113576_matrix.mtx\"\n",
    "barcodes_path = data_path / \"GSE113576_barcodes.tsv\"\n",
    "genes_path = data_path / \"GSE113576_genes.tsv\"\n",
    "meta_path = data_path / \"aau5324_Moffitt_Table-S1.xlsx\""
   ]
  },
  {
   "cell_type": "code",
   "execution_count": null,
   "id": "bf59a7ab",
   "metadata": {},
   "outputs": [],
   "source": [
    "cell_class_dict = {\n",
    "    'Mature oligodendrocyte': 'OD mature'\n",
    "}\n",
    "\n",
    "adata = load_scRNA_data(\n",
    "    mtx_path, \n",
    "    barcodes_path, \n",
    "    genes_path, \n",
    "    meta_path, \n",
    "    cell_class_filter = cell_class_dict\n",
    ")"
   ]
  },
  {
   "cell_type": "markdown",
   "id": "e8448f7d",
   "metadata": {},
   "source": [
    "#### Marker Genes\n",
    "\n",
    "differentially expressed genes identified by BANKSY"
   ]
  },
  {
   "cell_type": "code",
   "execution_count": null,
   "id": "b4e3c8cd",
   "metadata": {},
   "outputs": [],
   "source": [
    "# all differentially expressed genes\n",
    "DE_genes = ['Mlc1', 'Dgkk', 'Cbln2', 'Syt4', 'Gad1', 'Plin3', 'Gnrh1', 'Sln', 'Gjc3', 'Mbp', 'Lpar1', 'Trh', 'Ucn3', 'Cck']\n",
    "# DE_genes_gm: 7\n",
    "DE_genes_MOD2 = ['Mlc1', 'Dgkk', 'Cbln2', 'Syt4', 'Gad1', 'Plin3', 'Gnrh1', 'Sln', 'Gjc3']\n",
    "# DE_genes_wm: 8\n",
    "DE_genes_MOD1 = ['Mbp', 'Lpar1', 'Trh', 'Ucn3', 'Cck']"
   ]
  },
  {
   "cell_type": "code",
   "execution_count": null,
   "id": "2892f039",
   "metadata": {},
   "outputs": [],
   "source": [
    "sc_data = adata.to_df()\n",
    "sc_DE_MOD2_df = sc_data[DE_genes_MOD2]\n",
    "sc_DE_MOD1_df = sc_data[DE_genes_MOD1]\n",
    "sc_DE = pd.concat([sc_DE_MOD2_df, sc_DE_MOD1_df], axis=1)"
   ]
  },
  {
   "cell_type": "markdown",
   "id": "34d4c089",
   "metadata": {},
   "source": [
    "### BANKSY method: top 25 correlated genes for each marker"
   ]
  },
  {
   "cell_type": "code",
   "execution_count": null,
   "id": "f63caed2",
   "metadata": {},
   "outputs": [],
   "source": [
    "top25_corr_genes = process_related_genes(DE_genes, sc_data.T)\n",
    "print(\"number of unique correlated genes and DE genes: \", len(top25_corr_genes))"
   ]
  },
  {
   "cell_type": "code",
   "execution_count": null,
   "id": "924a770f",
   "metadata": {},
   "outputs": [],
   "source": [
    "DE_scRNA_data =  sc_data[DE_genes]\n",
    "DE_corr_scRNA_data = sc_data[top25_corr_genes]\n",
    "top25_num = len(top25_corr_genes)"
   ]
  },
  {
   "cell_type": "markdown",
   "id": "c577cc85",
   "metadata": {},
   "source": [
    "### PCA"
   ]
  },
  {
   "cell_type": "code",
   "execution_count": null,
   "id": "21c53810",
   "metadata": {},
   "outputs": [],
   "source": [
    "data = DE_scRNA_data.copy()"
   ]
  },
  {
   "cell_type": "code",
   "execution_count": null,
   "id": "72a2cefb",
   "metadata": {},
   "outputs": [],
   "source": [
    "plot_pca_variance_ratio(data, n_components=14, title=\"Explained Variance by PC\")"
   ]
  },
  {
   "cell_type": "code",
   "execution_count": null,
   "id": "35a29c4a",
   "metadata": {},
   "outputs": [],
   "source": [
    "plot_pca_cumulative_variance(data, n_components=14, title=\"Cumulative Explained Variance\")"
   ]
  },
  {
   "cell_type": "code",
   "execution_count": null,
   "id": "ecb1bef8",
   "metadata": {},
   "outputs": [],
   "source": [
    "plot_umap_from_pca(data, n_PCs=5, title=\"UMAP after PCA\", color='mediumvioletred')"
   ]
  },
  {
   "cell_type": "code",
   "execution_count": null,
   "id": "9695413c",
   "metadata": {},
   "outputs": [],
   "source": [
    "data_corr = DE_corr_scRNA_data.copy()"
   ]
  },
  {
   "cell_type": "code",
   "execution_count": null,
   "id": "2b79946c",
   "metadata": {},
   "outputs": [],
   "source": [
    "plot_pca_variance_ratio(data_corr, n_components=top25_num, title=\"Explained Variance by PC\")"
   ]
  },
  {
   "cell_type": "code",
   "execution_count": null,
   "id": "6555715c",
   "metadata": {},
   "outputs": [],
   "source": [
    "plot_pca_cumulative_variance(data_corr, n_components=top25_num, title=\"Cumulative Explained Variance\")"
   ]
  },
  {
   "cell_type": "code",
   "execution_count": null,
   "id": "5925cd02",
   "metadata": {},
   "outputs": [],
   "source": [
    "plot_umap_from_pca(data_corr, n_PCs=5, title=\"UMAP after PCA\", color='mediumvioletred')"
   ]
  },
  {
   "cell_type": "markdown",
   "id": "960257f6",
   "metadata": {},
   "source": [
    "### k-means clustering"
   ]
  },
  {
   "cell_type": "code",
   "execution_count": null,
   "id": "008e8828",
   "metadata": {},
   "outputs": [],
   "source": [
    "OD_k_labels, OD_centroids = kmeans_clustering(DE_scRNA_data, k=2, n_PCs=5, cmap_re=False)"
   ]
  },
  {
   "cell_type": "code",
   "execution_count": null,
   "id": "6a3d5a5f",
   "metadata": {},
   "outputs": [],
   "source": [
    "OD_k_labels, OD_centroids = kmeans_clustering(DE_corr_scRNA_data, k=2, n_PCs=5)"
   ]
  },
  {
   "cell_type": "markdown",
   "id": "28b667ff",
   "metadata": {},
   "source": [
    "### leiden clustering"
   ]
  },
  {
   "cell_type": "code",
   "execution_count": null,
   "id": "043f52a3",
   "metadata": {},
   "outputs": [],
   "source": [
    "OD_leiden_labels = leiden_clustering(DE_scRNA_data, k=50, resolution=0.027, n_PCs=5, cmap_re=True)"
   ]
  },
  {
   "cell_type": "code",
   "execution_count": null,
   "id": "6f7b998d",
   "metadata": {},
   "outputs": [],
   "source": [
    "OD_leiden_labels = leiden_clustering(DE_corr_scRNA_data, k=50, resolution=0.2, n_PCs=5)"
   ]
  },
  {
   "cell_type": "markdown",
   "id": "0c72db89",
   "metadata": {},
   "source": [
    "### hierarchical clustering\n"
   ]
  },
  {
   "cell_type": "code",
   "execution_count": null,
   "id": "a5b2d482",
   "metadata": {},
   "outputs": [],
   "source": [
    "OD_h_labels = hierarchical_clustering(DE_scRNA_data, k=2, n_PCs=5)"
   ]
  },
  {
   "cell_type": "code",
   "execution_count": null,
   "id": "55bc83ab",
   "metadata": {},
   "outputs": [],
   "source": [
    "OD_h_labels = hierarchical_clustering(DE_corr_scRNA_data, k=2, n_PCs=5)"
   ]
  }
 ],
 "metadata": {
  "kernelspec": {
   "display_name": "ovrlpy",
   "language": "python",
   "name": "python3"
  },
  "language_info": {
   "codemirror_mode": {
    "name": "ipython",
    "version": 3
   },
   "file_extension": ".py",
   "mimetype": "text/x-python",
   "name": "python",
   "nbconvert_exporter": "python",
   "pygments_lexer": "ipython3",
   "version": "3.12.11"
  }
 },
 "nbformat": 4,
 "nbformat_minor": 5
}
