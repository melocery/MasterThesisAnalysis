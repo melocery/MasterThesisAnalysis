{
 "cells": [
  {
   "cell_type": "markdown",
   "metadata": {},
   "source": [
    "## Result 8: VSI under different exclusion conditons\n",
    "Examine VSI under different marker exclusion conditions to assess whether MOD marker transcripts influence VSI:  \n",
    "- using all transcripts  \n",
    "- excluding MOD1 markers  \n",
    "- excluding MOD2 markers  \n",
    "- excluding all MOD markers  "
   ]
  },
  {
   "cell_type": "code",
   "execution_count": null,
   "metadata": {},
   "outputs": [],
   "source": [
    "from pathlib import Path\n",
    "\n",
    "import sys\n",
    "import os\n",
    "sys.path.append(os.path.abspath(\"../src\"))\n",
    "\n",
    "from utils import load_merfish_signal_df, load_banksy_result, load_merfish_data, load_boundaries_data\n",
    "from utils import extract_cell_vsi\n",
    "from plot import histogram_comparison, plot_vsi_distribution_comparison, plot_normalized_histogram, plot_doublets, CM\n",
    "\n",
    "import numpy as np\n",
    "import pandas as pd"
   ]
  },
  {
   "cell_type": "markdown",
   "metadata": {},
   "source": [
    "### data"
   ]
  },
  {
   "cell_type": "markdown",
   "metadata": {},
   "source": [
    "#### Signals in the Tissue Section"
   ]
  },
  {
   "cell_type": "code",
   "execution_count": null,
   "metadata": {},
   "outputs": [],
   "source": [
    "MERFISH_data_folder_path = Path(\"../data/mouse_hypothalamus/MERFISH/\")"
   ]
  },
  {
   "cell_type": "code",
   "execution_count": null,
   "metadata": {},
   "outputs": [],
   "source": [
    "signal_coordinate_df, coordinate_x_m, coordinate_y_m = load_merfish_signal_df(MERFISH_data_folder_path/\"merfish_barcodes_example.csv\")"
   ]
  },
  {
   "cell_type": "markdown",
   "metadata": {},
   "source": [
    "#### Results of Ovrlpy\n",
    "\n",
    "results:  \n",
    "- signal integrity  \n",
    "- signal strength  \n",
    "- doublets"
   ]
  },
  {
   "cell_type": "code",
   "execution_count": null,
   "metadata": {},
   "outputs": [],
   "source": [
    "ovrlpy_result_folder = Path(\"../data/results/VSI/\")\n",
    "signal_integrity = np.loadtxt(ovrlpy_result_folder/\"SignalIntegrity.txt\")\n",
    "signal_strength = np.loadtxt(ovrlpy_result_folder/\"SignalStrength.txt\")"
   ]
  },
  {
   "cell_type": "code",
   "execution_count": null,
   "metadata": {},
   "outputs": [],
   "source": [
    "# exclude MOD marker signals\n",
    "nonMOD_signal_integrity = np.loadtxt(ovrlpy_result_folder/\"SignalIntegrity_exMOD.txt\")\n",
    "nonMOD_signal_strength = np.loadtxt(ovrlpy_result_folder/\"SignalStrength_exMOD.txt\")"
   ]
  },
  {
   "cell_type": "code",
   "execution_count": null,
   "metadata": {},
   "outputs": [],
   "source": [
    "# exclude MOD marker signals\n",
    "nonMOD1_signal_integrity = np.loadtxt(ovrlpy_result_folder/\"SignalIntegrity_exMOD1.txt\")\n",
    "nonMOD1_signal_strength = np.loadtxt(ovrlpy_result_folder/\"SignalStrength_exMOD1.txt\")"
   ]
  },
  {
   "cell_type": "code",
   "execution_count": null,
   "metadata": {},
   "outputs": [],
   "source": [
    "# exclude MOD marker signals\n",
    "nonMOD2_signal_integrity = np.loadtxt(ovrlpy_result_folder/\"SignalIntegrity_exMOD2.txt\")\n",
    "nonMOD2_signal_strength = np.loadtxt(ovrlpy_result_folder/\"SignalStrength_exMOD2.txt\")"
   ]
  },
  {
   "cell_type": "code",
   "execution_count": null,
   "metadata": {},
   "outputs": [],
   "source": [
    "# doublets\n",
    "doublets_all = pd.read_csv(ovrlpy_result_folder/\"doublets_df.csv\")\n",
    "doublets_exMOD = pd.read_csv(ovrlpy_result_folder/\"doublets_exMOD_df.csv\")\n",
    "doublets_exMOD1 = pd.read_csv(ovrlpy_result_folder/\"doublets_exMOD1_df.csv\")\n",
    "doublets_exMOD2 = pd.read_csv(ovrlpy_result_folder/\"doublets_exMOD2_df.csv\")"
   ]
  },
  {
   "cell_type": "markdown",
   "metadata": {},
   "source": [
    "#### Results of BANKSY"
   ]
  },
  {
   "cell_type": "code",
   "execution_count": null,
   "metadata": {},
   "outputs": [],
   "source": [
    "banksy_folder_path = Path(\"../data/banksy_results/\")"
   ]
  },
  {
   "cell_type": "code",
   "execution_count": null,
   "metadata": {},
   "outputs": [],
   "source": [
    "banksy_result = load_banksy_result(banksy_folder_path/\"banksy_cluster.txt\", coordinate_x_m, coordinate_y_m)"
   ]
  },
  {
   "cell_type": "markdown",
   "metadata": {},
   "source": [
    "#### Segmentation Dataset"
   ]
  },
  {
   "cell_type": "code",
   "execution_count": null,
   "metadata": {},
   "outputs": [],
   "source": [
    "merfish_data = load_merfish_data(MERFISH_data_folder_path / \"merfish_all_cells.csv\", \n",
    "                                 banksy_result, coordinate_x_m, coordinate_y_m, \n",
    "                                 animal_id=1, bregma_value=-0.24)"
   ]
  },
  {
   "cell_type": "markdown",
   "metadata": {},
   "source": [
    "#### Cell boundaries"
   ]
  },
  {
   "cell_type": "code",
   "execution_count": null,
   "metadata": {},
   "outputs": [],
   "source": [
    "boundaries_df = load_boundaries_data(MERFISH_data_folder_path/'cellboundaries_example_animal.csv', \n",
    "                                     merfish_data, coordinate_x_m, coordinate_y_m)"
   ]
  },
  {
   "cell_type": "markdown",
   "metadata": {},
   "source": [
    "#### Marker Genes\n",
    "\n",
    "differentially expressed genes identified by BANKSY"
   ]
  },
  {
   "cell_type": "code",
   "execution_count": null,
   "metadata": {},
   "outputs": [],
   "source": [
    "# all differentially expressed genes\n",
    "DE_genes = ['Mlc1', 'Dgkk', 'Cbln2', 'Syt4', 'Gad1', 'Plin3', 'Gnrh1', 'Sln', 'Gjc3', 'Mbp', 'Lpar1', 'Trh', 'Ucn3', 'Cck']\n",
    "# DE_genes_MOD2: 7\n",
    "DE_genes_MOD2 = ['Mlc1', 'Dgkk', 'Cbln2', 'Syt4', 'Gad1', 'Plin3', 'Gnrh1', 'Sln', 'Gjc3']\n",
    "# DE_genes_MOD1: 8\n",
    "DE_genes_MOD1 = ['Mbp', 'Lpar1', 'Trh', 'Ucn3', 'Cck']"
   ]
  },
  {
   "cell_type": "code",
   "execution_count": null,
   "metadata": {},
   "outputs": [],
   "source": [
    "MOD_boundaries = boundaries_df[(boundaries_df['banksy'] == 8) | (boundaries_df['banksy'] == 7)]\n",
    "MOD1_boundaries = boundaries_df[boundaries_df['banksy'] == 8]\n",
    "MOD2_boundaries = boundaries_df[boundaries_df['banksy'] == 7]\n",
    "other_boundaries = boundaries_df[~boundaries_df['banksy'].isin([8, 7])]"
   ]
  },
  {
   "cell_type": "markdown",
   "metadata": {},
   "source": [
    "### VSI under Exclusive Conditions"
   ]
  },
  {
   "cell_type": "code",
   "execution_count": null,
   "metadata": {},
   "outputs": [],
   "source": [
    "histogram_comparison(signal_integrity, signal_strength, \n",
    "                     nonMOD1_signal_integrity, nonMOD1_signal_strength, \n",
    "                     nonMOD2_signal_integrity, nonMOD2_signal_strength, \n",
    "                     nonMOD_signal_integrity, nonMOD_signal_strength, \n",
    "                     signal_threshold=3, xlim=(0,8), log=False)"
   ]
  },
  {
   "cell_type": "code",
   "execution_count": null,
   "metadata": {},
   "outputs": [],
   "source": [
    "cell_si, cell_ss = extract_cell_vsi(boundary_df=boundaries_df, integrity=signal_integrity, strength=signal_strength, integrity_size=1800)\n",
    "cell_si_nonMOD1, cell_ss_nonMOD1 = extract_cell_vsi(boundary_df=boundaries_df, integrity=nonMOD1_signal_integrity, strength=nonMOD1_signal_strength, integrity_size=1800)\n",
    "cell_si_nonMOD2, cell_ss_nonMOD2 = extract_cell_vsi(boundary_df=boundaries_df, integrity=nonMOD2_signal_integrity, strength=nonMOD2_signal_strength, integrity_size=1800)\n",
    "cell_si_nonMOD, cell_ss_nonMOD = extract_cell_vsi(boundary_df=boundaries_df, integrity=nonMOD_signal_integrity, strength=nonMOD_signal_strength, integrity_size=1800)"
   ]
  },
  {
   "cell_type": "code",
   "execution_count": null,
   "metadata": {},
   "outputs": [],
   "source": [
    "histogram_comparison(cell_si, cell_ss, \n",
    "                     cell_si_nonMOD1, cell_ss_nonMOD1, \n",
    "                     cell_si_nonMOD2, cell_ss_nonMOD2,\n",
    "                     cell_si_nonMOD, cell_ss_nonMOD, \n",
    "                     signal_threshold=3, xlim=(0,8), log=False)"
   ]
  },
  {
   "cell_type": "code",
   "execution_count": null,
   "metadata": {},
   "outputs": [],
   "source": [
    "MOD_si, MOD_ss = extract_cell_vsi(boundary_df=MOD_boundaries, integrity=signal_integrity, strength=signal_strength, integrity_size=1800)\n",
    "MOD_si_nonMOD1, MOD_ss_nonMOD1 = extract_cell_vsi(boundary_df=MOD_boundaries, integrity=nonMOD1_signal_integrity, strength=nonMOD1_signal_strength, integrity_size=1800)\n",
    "MOD_si_nonMOD2, MOD_ss_nonMOD2 = extract_cell_vsi(boundary_df=MOD_boundaries, integrity=nonMOD2_signal_integrity, strength=nonMOD2_signal_strength, integrity_size=1800)\n",
    "MOD_si_nonMOD, MOD_ss_nonMOD = extract_cell_vsi(boundary_df=MOD_boundaries, integrity=nonMOD_signal_integrity, strength=nonMOD_signal_strength, integrity_size=1800)"
   ]
  },
  {
   "cell_type": "code",
   "execution_count": null,
   "metadata": {},
   "outputs": [],
   "source": [
    "histogram_comparison(MOD_si, MOD_ss, \n",
    "                     MOD_si_nonMOD1, MOD_ss_nonMOD1, \n",
    "                     MOD_si_nonMOD2, MOD_ss_nonMOD2,\n",
    "                     MOD_si_nonMOD, MOD_ss_nonMOD, \n",
    "                     signal_threshold=3, xlim=(0,40), log=False)"
   ]
  },
  {
   "cell_type": "code",
   "execution_count": null,
   "metadata": {},
   "outputs": [],
   "source": [
    "histogram_comparison(MOD_si, MOD_ss, \n",
    "                     MOD_si_nonMOD1, MOD_ss_nonMOD1, \n",
    "                     MOD_si_nonMOD2, MOD_ss_nonMOD2,\n",
    "                     MOD_si_nonMOD, MOD_ss_nonMOD, \n",
    "                     signal_threshold=3, xlim=(1e-1,64), log=True)"
   ]
  },
  {
   "cell_type": "code",
   "execution_count": null,
   "metadata": {},
   "outputs": [],
   "source": [
    "MOD1_si, MOD1_ss = extract_cell_vsi(boundary_df=MOD1_boundaries, integrity=signal_integrity, strength=signal_strength, integrity_size=1800)\n",
    "MOD1_si_nonMOD1, MOD1_ss_nonMOD1 = extract_cell_vsi(boundary_df=MOD1_boundaries, integrity=nonMOD1_signal_integrity, strength=nonMOD1_signal_strength, integrity_size=1800)\n",
    "MOD1_si_nonMOD2, MOD1_ss_nonMOD2 = extract_cell_vsi(boundary_df=MOD1_boundaries, integrity=nonMOD2_signal_integrity, strength=nonMOD2_signal_strength, integrity_size=1800)\n",
    "MOD1_si_nonMOD, MOD1_ss_nonMOD = extract_cell_vsi(boundary_df=MOD1_boundaries, integrity=nonMOD_signal_integrity, strength=nonMOD_signal_strength, integrity_size=1800)"
   ]
  },
  {
   "cell_type": "code",
   "execution_count": null,
   "metadata": {},
   "outputs": [],
   "source": [
    "histogram_comparison(MOD1_si, MOD1_ss, \n",
    "                     MOD1_si_nonMOD1, MOD1_ss_nonMOD1, \n",
    "                     MOD1_si_nonMOD2, MOD1_ss_nonMOD2,\n",
    "                     MOD1_si_nonMOD, MOD1_ss_nonMOD, \n",
    "                     signal_threshold=3, xlim=(0,50), log=False)"
   ]
  },
  {
   "cell_type": "code",
   "execution_count": null,
   "metadata": {},
   "outputs": [],
   "source": [
    "histogram_comparison(MOD1_si, MOD1_ss, \n",
    "                     MOD1_si_nonMOD1, MOD1_ss_nonMOD1, \n",
    "                     MOD1_si_nonMOD2, MOD1_ss_nonMOD2,\n",
    "                     MOD1_si_nonMOD, MOD1_ss_nonMOD, \n",
    "                     signal_threshold=3, xlim=(1e-1,64), log=True)"
   ]
  },
  {
   "cell_type": "code",
   "execution_count": null,
   "metadata": {},
   "outputs": [],
   "source": [
    "MOD2_si, MOD2_ss = extract_cell_vsi(boundary_df=MOD2_boundaries, integrity=signal_integrity, strength=signal_strength, integrity_size=1800)\n",
    "MOD2_si_nonMOD1, MOD2_ss_nonMOD1 = extract_cell_vsi(boundary_df=MOD2_boundaries, integrity=nonMOD1_signal_integrity, strength=nonMOD1_signal_strength, integrity_size=1800)\n",
    "MOD2_si_nonMOD2, MOD2_ss_nonMOD2 = extract_cell_vsi(boundary_df=MOD2_boundaries, integrity=nonMOD2_signal_integrity, strength=nonMOD2_signal_strength, integrity_size=1800)\n",
    "MOD2_si_nonMOD, MOD2_ss_nonMOD = extract_cell_vsi(boundary_df=MOD2_boundaries, integrity=nonMOD_signal_integrity, strength=nonMOD_signal_strength, integrity_size=1800)"
   ]
  },
  {
   "cell_type": "code",
   "execution_count": null,
   "metadata": {},
   "outputs": [],
   "source": [
    "histogram_comparison(MOD2_si, MOD2_ss, \n",
    "                     MOD2_si_nonMOD1, MOD2_ss_nonMOD1, \n",
    "                     MOD2_si_nonMOD2, MOD2_ss_nonMOD2,\n",
    "                     MOD2_si_nonMOD, MOD2_ss_nonMOD, \n",
    "                     signal_threshold=3, xlim=(0,50), log=False)"
   ]
  },
  {
   "cell_type": "code",
   "execution_count": null,
   "metadata": {},
   "outputs": [],
   "source": [
    "histogram_comparison(MOD2_si, MOD2_ss, \n",
    "                     MOD2_si_nonMOD1, MOD2_ss_nonMOD1, \n",
    "                     MOD2_si_nonMOD2, MOD2_ss_nonMOD2,\n",
    "                     MOD2_si_nonMOD, MOD2_ss_nonMOD, \n",
    "                     signal_threshold=3, xlim=(1e-1,64), log=True)"
   ]
  },
  {
   "cell_type": "markdown",
   "metadata": {},
   "source": [
    "### normalized hist: MOD2/MOD1"
   ]
  },
  {
   "cell_type": "markdown",
   "metadata": {},
   "source": [
    "#### exclusive distribution: MOD1 and MOD2"
   ]
  },
  {
   "cell_type": "code",
   "execution_count": null,
   "metadata": {},
   "outputs": [],
   "source": [
    "vals1, bins1, vals2, bins2 = plot_vsi_distribution_comparison(\n",
    "    cell_integrity_1=MOD1_si,\n",
    "    cell_strength_1=MOD1_ss,\n",
    "    cell_integrity_2=MOD2_si,\n",
    "    cell_strength_2=MOD2_ss,\n",
    "    title=\"All Transcripts\",\n",
    "    signal_threshold=3.0,\n",
    "    ylim=(1e-1,64),\n",
    "    figure_height=8*CM\n",
    ")"
   ]
  },
  {
   "cell_type": "code",
   "execution_count": null,
   "metadata": {},
   "outputs": [],
   "source": [
    "plot_normalized_histogram(vals1, vals2, bins2, epsilon=1e-10, title = \"All Transcripts\", ylim=(1e-1, 10**11))"
   ]
  },
  {
   "cell_type": "code",
   "execution_count": null,
   "metadata": {},
   "outputs": [],
   "source": [
    "vals1, bins1, vals2, bins2 = plot_vsi_distribution_comparison(\n",
    "    cell_integrity_1=MOD1_si_nonMOD1,\n",
    "    cell_strength_1=MOD1_ss_nonMOD1,\n",
    "    cell_integrity_2=MOD2_si_nonMOD1,\n",
    "    cell_strength_2=MOD2_ss_nonMOD1,\n",
    "    title=\"Excluding MOD1 Markers\",\n",
    "    signal_threshold=3.0,\n",
    "    ylim=(1e-1,64),\n",
    "    figure_height=8*CM\n",
    ")"
   ]
  },
  {
   "cell_type": "code",
   "execution_count": null,
   "metadata": {},
   "outputs": [],
   "source": [
    "plot_normalized_histogram(vals1, vals2, bins2, epsilon=1e-10, title = \"Excluding MOD1 Markers\", ylim=(1e-1, 10**11))"
   ]
  },
  {
   "cell_type": "code",
   "execution_count": null,
   "metadata": {},
   "outputs": [],
   "source": [
    "vals1, bins1, vals2, bins2 = plot_vsi_distribution_comparison(\n",
    "    cell_integrity_1=MOD1_si_nonMOD2,\n",
    "    cell_strength_1=MOD1_ss_nonMOD2,\n",
    "    cell_integrity_2=MOD2_si_nonMOD2,\n",
    "    cell_strength_2=MOD2_ss_nonMOD2,\n",
    "    title=\"Excluding MOD2 Markers\",\n",
    "    signal_threshold=3.0,\n",
    "    ylim=(1e-1,64),\n",
    "    figure_height=7*CM\n",
    ")"
   ]
  },
  {
   "cell_type": "code",
   "execution_count": null,
   "metadata": {},
   "outputs": [],
   "source": [
    "plot_normalized_histogram(vals1, vals2, bins2, epsilon=1e-10, title = \"Excluding MOD2 Markers\", ylim=(1e-1, 10**11))"
   ]
  },
  {
   "cell_type": "code",
   "execution_count": null,
   "metadata": {},
   "outputs": [],
   "source": [
    "vals1, bins1, vals2, bins2 = plot_vsi_distribution_comparison(\n",
    "    cell_integrity_1=MOD1_si_nonMOD,\n",
    "    cell_strength_1=MOD1_ss_nonMOD,\n",
    "    cell_integrity_2=MOD2_si_nonMOD,\n",
    "    cell_strength_2=MOD2_ss_nonMOD,\n",
    "    title=\"Excluding MOD Markers\",\n",
    "    signal_threshold=3.0,\n",
    "    ylim=(1e-1,64),\n",
    "    figure_height=7*CM\n",
    ")"
   ]
  },
  {
   "cell_type": "code",
   "execution_count": null,
   "metadata": {},
   "outputs": [],
   "source": [
    "plot_normalized_histogram(vals1, vals2, bins2, epsilon=1e-10, title = \"Excluding MOD Markers\", ylim=(1e-1, 10**11))"
   ]
  },
  {
   "cell_type": "markdown",
   "metadata": {},
   "source": [
    "### Doublets"
   ]
  },
  {
   "cell_type": "code",
   "execution_count": null,
   "metadata": {},
   "outputs": [],
   "source": [
    "# Neuron_boundaries = boundaries_df[(boundaries_df['Cell_class'] == 'Excitatory') | (boundaries_df['Cell_class'] == 'Inhibitory')]"
   ]
  },
  {
   "cell_type": "code",
   "execution_count": null,
   "metadata": {},
   "outputs": [],
   "source": [
    "Neuron_boundaries = boundaries_df[boundaries_df['Cell_class'] == 'Excitatory']\n",
    "plot_doublets(doublets_df=doublets_all, boundary_df=Neuron_boundaries, MOD_boundary=MOD2_boundaries)"
   ]
  },
  {
   "cell_type": "code",
   "execution_count": null,
   "metadata": {},
   "outputs": [],
   "source": [
    "Neuron_boundaries = boundaries_df[boundaries_df['Cell_class'] == 'Inhibitory']\n",
    "plot_doublets(doublets_df=doublets_all, boundary_df=Neuron_boundaries, MOD_boundary=MOD2_boundaries)"
   ]
  },
  {
   "cell_type": "code",
   "execution_count": null,
   "metadata": {},
   "outputs": [],
   "source": [
    "Neuron_boundaries = boundaries_df[boundaries_df['Cell_class'] == 'Astrocyte']\n",
    "plot_doublets(doublets_df=doublets_all, boundary_df=Neuron_boundaries, MOD_boundary=MOD2_boundaries)"
   ]
  }
 ],
 "metadata": {
  "kernelspec": {
   "display_name": "ovrlpy",
   "language": "python",
   "name": "python3"
  },
  "language_info": {
   "codemirror_mode": {
    "name": "ipython",
    "version": 3
   },
   "file_extension": ".py",
   "mimetype": "text/x-python",
   "name": "python",
   "nbconvert_exporter": "python",
   "pygments_lexer": "ipython3",
   "version": "3.12.11"
  }
 },
 "nbformat": 4,
 "nbformat_minor": 2
}
