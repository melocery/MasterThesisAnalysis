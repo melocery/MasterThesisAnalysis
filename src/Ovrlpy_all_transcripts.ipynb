{
 "cells": [
  {
   "cell_type": "markdown",
   "id": "fa619b3d",
   "metadata": {},
   "source": [
    "## Ovrlpy\n",
    "\n",
    "Analyze the VSI across the tissue section using `ovrlpy-0.2.1`  \n",
    "\n",
    "**Tool**: `ovrlpy-0.2.1`  \n",
    "**Data Link**: [Supplemental Data for: Segmentation-free inference of cell types from in situ transcriptomics data](https://zenodo.org/records/3478502)  \n",
    "- merfish_barcodes_example.csv: mRNA spot locations\n",
    "\n",
    "\n",
    "In this notebook, we will use ovrlpy to investigate the [mouse hypothalamus data](https://datadryad.org/stash/dataset/doi:10.5061/dryad.8t8s248) (Moffitt et al., 2018).  \n",
    "We want to create a signal embedding of the transcriptome, and a vertical signal incoherence map to identify locations with a high risk of containing spatial doublets.  \n"
   ]
  },
  {
   "cell_type": "markdown",
   "id": "8ab01970",
   "metadata": {},
   "source": [
    "### packages"
   ]
  },
  {
   "cell_type": "code",
   "execution_count": null,
   "id": "b4949d48",
   "metadata": {},
   "outputs": [],
   "source": [
    "from pathlib import Path\n",
    "\n",
    "import matplotlib.pyplot as plt\n",
    "import numpy as np\n",
    "import pandas as pd\n",
    "\n",
    "import ovrlpy"
   ]
  },
  {
   "cell_type": "markdown",
   "id": "eea24f18",
   "metadata": {},
   "source": [
    "### load the data"
   ]
  },
  {
   "cell_type": "markdown",
   "id": "b9c2e68e",
   "metadata": {},
   "source": [
    "#### load the data and define settings and input files\n",
    "\n",
    "merfish_barcodes_example.csv contains 3739360 rows and 13 columns:  \n",
    "- Gene_name: Gene  \n",
    "- Cell_name:   \n",
    "- Animal_ID: 1  \n",
    "- Bregma: -0.24  \n",
    "- Animal_sex: Female  \n",
    "- Behavior: Naive  \n",
    "- Centroid_X: the x coordinate  \n",
    "- Centroid_Y: the y coordinate  \n",
    "- Centroid_Z: the z coordinate  \n",
    "- Total_brightness:  \n",
    "- Area:  \n",
    "- Error_bit:  \n",
    "- Error_direction:  "
   ]
  },
  {
   "cell_type": "code",
   "execution_count": null,
   "id": "9ee3dd12",
   "metadata": {},
   "outputs": [],
   "source": [
    "from pathlib import Path\n",
    "\n",
    "data_folder_path = Path(\n",
    "    \"../data/mouse_hypothalamus/raw/\"\n",
    ")\n",
    "\n",
    "result_folder = Path(\"../data/results/barcodes_xmpl\")\n",
    "result_folder.mkdir(exist_ok=True, parents=True)"
   ]
  },
  {
   "cell_type": "code",
   "execution_count": null,
   "id": "913abb70",
   "metadata": {},
   "outputs": [],
   "source": [
    "columns = [\n",
    "    \"Centroid_X\",\n",
    "    \"Centroid_Y\",\n",
    "    \"Centroid_Z\",\n",
    "    \"Gene_name\",\n",
    "    \"Cell_name\",\n",
    "    \"Total_brightness\",\n",
    "    \"Area\",\n",
    "    \"Error_bit\",\n",
    "    \"Error_direction\",\n",
    "]\n",
    "\n",
    "coordinate_df = pd.read_csv(\n",
    "    data_folder_path / \"merfish_barcodes_example.csv\", usecols=columns\n",
    ").rename(\n",
    "    columns={\n",
    "        \"Centroid_X\": \"x\",\n",
    "        \"Centroid_Y\": \"y\",\n",
    "        \"Centroid_Z\": \"z\",\n",
    "        \"Gene_name\": \"gene\",\n",
    "    }\n",
    ")\n",
    "# coordinate_df[\"gene\"] = coordinate_df[\"gene\"].str.decode(\"utf-8\")\n",
    "\n",
    "\n",
    "# remove dummy molecules\n",
    "coordinate_df = coordinate_df.loc[\n",
    "    ~coordinate_df[\"gene\"].str.contains(\"Blank|NegControl\"),\n",
    "]\n",
    "\n",
    "coordinate_df[\"gene\"] = coordinate_df[\"gene\"].astype(\"category\")\n",
    "\n",
    "# shift the coordinates to avoid the negative values\n",
    "coordinate_df['x'] = coordinate_df['x'] - coordinate_df['x'].min()\n",
    "coordinate_df['y'] = coordinate_df['y'] - coordinate_df['y'].min()\n",
    "\n",
    "coordinate_df[::1000].plot.scatter(x=\"x\", y=\"y\", s=1)\n",
    "plt.gca().set_aspect('equal', adjustable='box')\n",
    "plt.show()\n",
    "\n",
    "# make a copy to avoid SettingWithCopyWarning\n",
    "coordinate_df = coordinate_df.copy()\n",
    "coordinate_df.head()"
   ]
  },
  {
   "cell_type": "markdown",
   "id": "51f71d3c",
   "metadata": {},
   "source": [
    "### Running the ovrlpy pipeline\n",
    "ovrlpy provides a convenience function `run` to run the entire pipeline. The function creates a signal integrity map, a signal strength map and a Visualizer obejcet to visualize the results."
   ]
  },
  {
   "cell_type": "code",
   "execution_count": null,
   "id": "44313656",
   "metadata": {},
   "outputs": [],
   "source": [
    "signal_integrity, signal_strength, visualizer = ovrlpy.run(\n",
    "    df=coordinate_df, cell_diameter=10, n_expected_celltypes=15, n_workers=13\n",
    ")"
   ]
  },
  {
   "cell_type": "code",
   "execution_count": null,
   "id": "2a1f933d",
   "metadata": {},
   "outputs": [],
   "source": [
    "# save the signal integrity and strength matrix for subsequent analysis\n",
    "sig_integrity = pd.DataFrame(signal_integrity)\n",
    "sig_strength = pd.DataFrame(signal_strength)\n",
    "\n",
    "sig_integrity.to_csv(result_folder/\"barcodes_signal_integrity.csv\", index=False, header=False)\n",
    "sig_strength.to_csv(result_folder/\"barcodes_signal_strength.csv\", index=False, header=False)"
   ]
  },
  {
   "cell_type": "markdown",
   "id": "ad76ba43",
   "metadata": {},
   "source": [
    "### Visualizing results\n",
    "The visualizer object has a plotting method to show the embeddings of the sampled gene expression signal."
   ]
  },
  {
   "cell_type": "code",
   "execution_count": null,
   "id": "c4d5a27e",
   "metadata": {},
   "outputs": [],
   "source": [
    "visualizer.plot_fit()"
   ]
  },
  {
   "cell_type": "markdown",
   "id": "180b9179",
   "metadata": {},
   "source": [
    "In the same way, the signal integrity map can be visualized, where visualization is cut off at regions below a certain signal strength threshold:"
   ]
  },
  {
   "cell_type": "code",
   "execution_count": null,
   "id": "b0353325",
   "metadata": {},
   "outputs": [],
   "source": [
    "fig, ax = ovrlpy.plot_signal_integrity(\n",
    "    signal_integrity, signal_strength, signal_threshold=3\n",
    ")"
   ]
  },
  {
   "cell_type": "code",
   "execution_count": null,
   "id": "1a94929c",
   "metadata": {},
   "outputs": [],
   "source": [
    "fig, ax = ovrlpy.plot_signal_integrity(\n",
    "    signal_integrity, signal_strength, signal_threshold=2\n",
    ")"
   ]
  },
  {
   "cell_type": "markdown",
   "id": "fcb854ce",
   "metadata": {},
   "source": [
    "### Detecting doublets\n",
    "We can detect individual doublet events with ovrlpy, again setting a signal strength threshold to filter out low-transcript regions:"
   ]
  },
  {
   "cell_type": "code",
   "execution_count": null,
   "id": "7d8fb81f",
   "metadata": {},
   "outputs": [],
   "source": [
    "doublet_df = ovrlpy.detect_doublets(\n",
    "    signal_integrity, signal_strength, minimum_signal_strength=3, integrity_sigma=2\n",
    ")\n",
    "\n",
    "doublet_df.shape"
   ]
  },
  {
   "cell_type": "code",
   "execution_count": null,
   "id": "37417f96",
   "metadata": {},
   "outputs": [],
   "source": [
    "doublet_df = ovrlpy.detect_doublets(\n",
    "    signal_integrity, signal_strength, minimum_signal_strength=2, integrity_sigma=2\n",
    ")\n",
    "\n",
    "doublet_df.shape"
   ]
  },
  {
   "cell_type": "code",
   "execution_count": null,
   "id": "676609ad",
   "metadata": {},
   "outputs": [],
   "source": [
    "doublet_df.to_csv(result_folder/\"barcodes_doublet_df.csv\", index=False)"
   ]
  },
  {
   "cell_type": "code",
   "execution_count": null,
   "id": "f8a604d0",
   "metadata": {},
   "outputs": [],
   "source": [
    "_ = plt.scatter(\n",
    "    doublet_df[\"x\"],\n",
    "    doublet_df[\"y\"],\n",
    "    c=doublet_df[\"integrity\"],\n",
    "    s=0.2,\n",
    "    cmap=\"viridis\",\n",
    "    vmin=0,\n",
    "    vmax=1,\n",
    ")\n",
    "_ = plt.gca().set_aspect(\"equal\")\n",
    "_ = plt.colorbar()"
   ]
  },
  {
   "cell_type": "markdown",
   "id": "38d37043",
   "metadata": {},
   "source": [
    "Having sampled regions of potential doublets, we can visualize them as close-up transcriptome molecule clouds through the Visualizer's learned color embeddings - by providing their (x, y) locations to `ovrlpy.plot_region_of_interest`"
   ]
  },
  {
   "cell_type": "code",
   "execution_count": null,
   "id": "88ea432d",
   "metadata": {},
   "outputs": [],
   "source": [
    "doublet_case = 0\n",
    "\n",
    "x, y = doublet_df.loc[doublet_case, [\"x\", \"y\"]]\n",
    "\n",
    "_ = ovrlpy.plot_region_of_interest(\n",
    "    x, y, coordinate_df, visualizer, signal_integrity, signal_strength, window_size=60\n",
    ")"
   ]
  },
  {
   "cell_type": "markdown",
   "id": "b4e7e908",
   "metadata": {},
   "source": [
    "### Other functionality\n",
    "Furthermore, we can save the visualizer object to file for later use leveraging the `pickle` module"
   ]
  },
  {
   "cell_type": "code",
   "execution_count": null,
   "id": "b2fdc3a4",
   "metadata": {},
   "outputs": [],
   "source": [
    "import pickle\n",
    "\n",
    "with open(result_folder / \"my_analysis.pickle\", \"wb\") as file:\n",
    "    pickle.dump(visualizer, file)"
   ]
  },
  {
   "cell_type": "markdown",
   "id": "7020da3d",
   "metadata": {},
   "source": [
    "... and easily reload it if needed."
   ]
  },
  {
   "cell_type": "code",
   "execution_count": null,
   "id": "52e8a2d2",
   "metadata": {},
   "outputs": [],
   "source": [
    "with open(result_folder / \"my_analysis.pickle\", \"rb\") as file:\n",
    "    visualizer = pickle.load(file)"
   ]
  },
  {
   "cell_type": "markdown",
   "id": "80ab1fcc",
   "metadata": {},
   "source": [
    "Additionally, the analysis has produced a global z-level adjustment of the transcriptome coordinates, which can be used to create a z-stack of adjacent, aligned sections in silico:"
   ]
  },
  {
   "cell_type": "code",
   "execution_count": null,
   "id": "d40a3ed4",
   "metadata": {},
   "outputs": [],
   "source": [
    "plt.figure(figsize=(20, 5))\n",
    "\n",
    "ax = plt.subplot(111, projection=\"3d\")\n",
    "\n",
    "for i in range(-2, 3):\n",
    "    subset = coordinate_df[(coordinate_df.z - coordinate_df.z_delim).between(i, i + 1)]\n",
    "\n",
    "    ax.scatter(\n",
    "        subset.x[::100],\n",
    "        subset.y[::100],\n",
    "        np.zeros(1 + (len(subset) // 100)) + i,\n",
    "        s=1,\n",
    "        alpha=0.1,\n",
    "    )"
   ]
  }
 ],
 "metadata": {
  "kernelspec": {
   "display_name": "ovrlpy",
   "language": "python",
   "name": "python3"
  },
  "language_info": {
   "codemirror_mode": {
    "name": "ipython",
    "version": 3
   },
   "file_extension": ".py",
   "mimetype": "text/x-python",
   "name": "python",
   "nbconvert_exporter": "python",
   "pygments_lexer": "ipython3",
   "version": "3.11.11"
  }
 },
 "nbformat": 4,
 "nbformat_minor": 5
}
