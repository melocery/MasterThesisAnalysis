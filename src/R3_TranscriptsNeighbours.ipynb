{
 "cells": [
  {
   "cell_type": "markdown",
   "metadata": {},
   "source": [
    "## Result 3: transcript neighborhood"
   ]
  },
  {
   "cell_type": "markdown",
   "metadata": {},
   "source": [
    "### Data"
   ]
  },
  {
   "cell_type": "code",
   "execution_count": null,
   "metadata": {},
   "outputs": [],
   "source": [
    "from scipy.io import mmread\n",
    "from pathlib import Path\n",
    "\n",
    "import matplotlib.pyplot as plt\n",
    "\n",
    "import numpy as np\n",
    "import pandas as pd"
   ]
  },
  {
   "cell_type": "markdown",
   "metadata": {},
   "source": [
    "#### signals in tissue section"
   ]
  },
  {
   "cell_type": "code",
   "execution_count": null,
   "metadata": {},
   "outputs": [],
   "source": [
    "signal_data_folder_path = Path(\"../data/mouse_hypothalamus/raw/\")"
   ]
  },
  {
   "cell_type": "code",
   "execution_count": null,
   "metadata": {},
   "outputs": [],
   "source": [
    "columns = [\n",
    "    \"Centroid_X\",\n",
    "    \"Centroid_Y\",\n",
    "    \"Centroid_Z\",\n",
    "    \"Gene_name\",\n",
    "    \"Cell_name\",\n",
    "    \"Total_brightness\",\n",
    "    \"Area\",\n",
    "    \"Error_bit\",\n",
    "    \"Error_direction\",\n",
    "]\n",
    "\n",
    "signal_coordinate_df = pd.read_csv(\n",
    "    signal_data_folder_path / \"merfish_barcodes_example.csv\", usecols=columns\n",
    ").rename(\n",
    "    columns={\n",
    "        \"Centroid_X\": \"x\",\n",
    "        \"Centroid_Y\": \"y\",\n",
    "        \"Centroid_Z\": \"z\",\n",
    "        \"Gene_name\": \"gene\",\n",
    "    }\n",
    ")\n",
    "\n",
    "\n",
    "# remove dummy molecules\n",
    "signal_coordinate_df = signal_coordinate_df.loc[\n",
    "    ~signal_coordinate_df[\"gene\"].str.contains(\"Blank|NegControl\"),\n",
    "]\n",
    "\n",
    "signal_coordinate_df[\"gene\"] = signal_coordinate_df[\"gene\"].astype(\"category\")\n",
    "\n",
    "# shift the coordinates to avoid the negative values\n",
    "coordinate_x_m =  signal_coordinate_df['x'].min()\n",
    "coordinate_y_m =  signal_coordinate_df['y'].min()\n",
    "signal_coordinate_df['x'] = signal_coordinate_df['x'] - coordinate_x_m\n",
    "signal_coordinate_df['y'] = signal_coordinate_df['y'] - coordinate_y_m\n",
    "\n",
    "# make a copy to avoid SettingWithCopyWarning\n",
    "signal_coordinate_df = signal_coordinate_df.copy()"
   ]
  },
  {
   "cell_type": "code",
   "execution_count": null,
   "metadata": {},
   "outputs": [],
   "source": [
    "top20 = signal_coordinate_df['gene'].value_counts()[:20]"
   ]
  },
  {
   "cell_type": "markdown",
   "metadata": {},
   "source": [
    "#### Results of BANKSY"
   ]
  },
  {
   "cell_type": "code",
   "execution_count": null,
   "metadata": {},
   "outputs": [],
   "source": [
    "banksy_folder_path = Path(\"../data/banksy_results/\")"
   ]
  },
  {
   "cell_type": "code",
   "execution_count": null,
   "metadata": {},
   "outputs": [],
   "source": [
    "columns = [\n",
    "    \"Centroid_X\",\n",
    "    \"Centroid_Y\",\n",
    "    \"Bregma\",\n",
    "    \"lam0.2\",\n",
    "]\n",
    "\n",
    "banksy_result = pd.read_csv(\n",
    "    banksy_folder_path / 'banksy_cluster.txt', usecols=columns, sep = '\\t'\n",
    ").rename(\n",
    "    columns={\n",
    "        \"Centroid_X\": \"x\",\n",
    "        \"Centroid_Y\": \"y\",\n",
    "        \"Bregma\": \"Bregma\",\n",
    "        \"lam0.2\": \"banksy_cluster\",\n",
    "    }\n",
    ")\n",
    "\n",
    "banksy_result = banksy_result[banksy_result['Bregma'] == -0.24]\n",
    "\n",
    "banksy_result['x'] = banksy_result['x'] - coordinate_x_m\n",
    "banksy_result['y'] = banksy_result['y'] - coordinate_y_m\n",
    "\n",
    "banksy_result = banksy_result.copy()"
   ]
  },
  {
   "cell_type": "markdown",
   "metadata": {},
   "source": [
    "#### Segmentation Dataset"
   ]
  },
  {
   "cell_type": "code",
   "execution_count": null,
   "metadata": {},
   "outputs": [],
   "source": [
    "seg_data_path = Path(\"../data/mouse_hypothalamus/all_cells\")"
   ]
  },
  {
   "cell_type": "code",
   "execution_count": null,
   "metadata": {},
   "outputs": [],
   "source": [
    "merfish_data = pd.read_csv(\n",
    "    seg_data_path / \"merfish_all_cells.csv\"\n",
    "    ).rename(\n",
    "    columns={\n",
    "        \"Centroid_X\": \"x\",\n",
    "        \"Centroid_Y\": \"y\"\n",
    "    }\n",
    ")\n",
    "\n",
    "merfish_data = merfish_data.drop(columns=[col for col in merfish_data.columns if col == 'Fos' or col.startswith('Blank_')])\n",
    "merfish_data = merfish_data[merfish_data[\"Cell_class\"] != \"Ambiguous\"]\n",
    "merfish_data = merfish_data[merfish_data['Animal_ID'] == 1]\n",
    "merfish_data = merfish_data[merfish_data['Bregma'] == -0.24]\n",
    "\n",
    "merfish_data['x'] = merfish_data['x'] - coordinate_x_m\n",
    "merfish_data['y'] = merfish_data['y'] - coordinate_y_m\n",
    "\n",
    "merfish_data['banksy'] = banksy_result['banksy_cluster'].values\n",
    "\n",
    "merfish_data = merfish_data.copy()"
   ]
  },
  {
   "cell_type": "code",
   "execution_count": null,
   "metadata": {},
   "outputs": [],
   "source": [
    "cell_class_m = {'Astrocyte': 'Astrocyte',\n",
    " 'Endothelial 1': 'Endothelial',\n",
    " 'Endothelial 2': 'Endothelial',\n",
    " 'Endothelial 3': 'Endothelial',\n",
    " 'Ependymal': 'Ependymal',\n",
    " 'Excitatory': 'Excitatory',\n",
    " 'Inhibitory': 'Inhibitory',\n",
    " 'Microglia': 'Microglia',\n",
    " 'OD Immature 1': 'OD Immature',\n",
    " 'OD Immature 2': 'OD Immature',\n",
    " 'OD Mature 1': 'OD Mature',\n",
    " 'OD Mature 2': 'OD Mature',\n",
    " 'OD Mature 3': 'OD Mature',\n",
    " 'OD Mature 4': 'OD Mature',\n",
    " 'Pericytes': 'Pericytes'}\n",
    "\n",
    "merfish_data['Cell_class'] = merfish_data['Cell_class'].map(cell_class_m)\n",
    "merfish_data = merfish_data.sort_values(by='Cell_class')\n",
    "\n",
    "merfish_data = merfish_data.copy()"
   ]
  },
  {
   "cell_type": "markdown",
   "metadata": {},
   "source": [
    "#### Cell Boundaries Dataset"
   ]
  },
  {
   "cell_type": "code",
   "execution_count": null,
   "metadata": {},
   "outputs": [],
   "source": [
    "boundaries_df = pd.read_csv(signal_data_folder_path/'cellboundaries_example_animal.csv')\n",
    "boundaries_df = boundaries_df.dropna(subset=['boundaryX', 'boundaryY'])"
   ]
  },
  {
   "cell_type": "code",
   "execution_count": null,
   "metadata": {},
   "outputs": [],
   "source": [
    "cell_ids = merfish_data['Cell_ID']\n",
    "boundaries_df = boundaries_df[boundaries_df['feature_uID'].isin(cell_ids)]\n",
    "boundaries_df = boundaries_df.merge(\n",
    "    merfish_data[['Cell_ID', 'x', 'y', 'banksy']],\n",
    "    # merfish_data[['Cell_ID', 'x', 'y']],\n",
    "    left_on='feature_uID',\n",
    "    right_on='Cell_ID',\n",
    "    how='inner'\n",
    ")\n",
    "boundaries_df = boundaries_df.drop(columns=['Cell_ID'])\n",
    "\n",
    "boundaries_df['boundaryX'] = boundaries_df['boundaryX'].apply(lambda x: [float(i) for i in x.split(';')] if isinstance(x, str) else x)\n",
    "boundaries_df['boundaryY'] = boundaries_df['boundaryY'].apply(lambda x: [float(i) for i in x.split(';')] if isinstance(x, str) else x)\n",
    "\n",
    "boundaries_df['boundaryX'] = boundaries_df['boundaryX'].apply(lambda x: [i - coordinate_x_m for i in x] if isinstance(x, list) else x)\n",
    "boundaries_df['boundaryY'] = boundaries_df['boundaryY'].apply(lambda x: [i - coordinate_y_m for i in x] if isinstance(x, list) else x)\n",
    "\n",
    "boundaries_df = boundaries_df.copy()"
   ]
  },
  {
   "cell_type": "markdown",
   "metadata": {},
   "source": [
    "#### OD cell boundaries"
   ]
  },
  {
   "cell_type": "code",
   "execution_count": null,
   "metadata": {},
   "outputs": [],
   "source": [
    "# boundaries, MOD\n",
    "MOD_boundaries = boundaries_df[(boundaries_df['banksy'] == 8) | (boundaries_df['banksy'] == 7)]\n",
    "other_boundaries = boundaries_df[~boundaries_df['banksy'].isin([8, 7])]"
   ]
  },
  {
   "cell_type": "markdown",
   "metadata": {},
   "source": [
    "#### Marker Genes\n",
    "\n",
    "differentially expressed genes identified by BANKSY"
   ]
  },
  {
   "cell_type": "code",
   "execution_count": null,
   "metadata": {},
   "outputs": [],
   "source": [
    "# all differentially expressed genes\n",
    "DE_genes = ['Mlc1', 'Dgkk', 'Cbln2', 'Syt4', 'Gad1', 'Plin3', 'Gnrh1', 'Sln', 'Gjc3', 'Mbp', 'Lpar1', 'Trh', 'Ucn3', 'Cck']\n",
    "# DE_genes_gm: 7\n",
    "DE_genes_gm = ['Mlc1', 'Dgkk', 'Cbln2', 'Syt4', 'Gad1', 'Plin3', 'Gnrh1', 'Sln', 'Gjc3']\n",
    "# DE_genes_wm: 8\n",
    "DE_genes_wm = ['Mbp', 'Lpar1', 'Trh', 'Ucn3', 'Cck']"
   ]
  },
  {
   "cell_type": "markdown",
   "metadata": {},
   "source": [
    "### Circle"
   ]
  },
  {
   "cell_type": "code",
   "execution_count": null,
   "metadata": {},
   "outputs": [],
   "source": [
    "import matplotlib as mpl\n",
    "import matplotlib.pyplot as plt\n",
    "from matplotlib.colors import Normalize\n",
    "from matplotlib.patches import Circle\n",
    "import seaborn as sns\n",
    "\n",
    "def plot_focus_points_with_boundary(signals_df, centroid_df, MOD_boundaries, boundaries_df, x_range, y_range, diameters=[6, 8, 10, 12], true_boundary=True, plot_top20=False, top20=None):\n",
    "    signals_filtered = signals_df[\n",
    "        (signals_df[\"x\"] >= x_range[0]) & (signals_df[\"x\"] <= x_range[1]) &\n",
    "        (signals_df[\"y\"] >= y_range[0]) & (signals_df[\"y\"] <= y_range[1])\n",
    "    ]\n",
    "    centroid_filtered = centroid_df[\n",
    "        (centroid_df[\"x\"] >= x_range[0]) & (centroid_df[\"x\"] <= x_range[1]) &\n",
    "        (centroid_df[\"y\"] >= y_range[0]) & (centroid_df[\"y\"] <= y_range[1])\n",
    "    ]\n",
    "    MOD_filtered = MOD_boundaries[\n",
    "        (MOD_boundaries[\"x\"] >= x_range[0]) & (MOD_boundaries[\"x\"] <= x_range[1]) &\n",
    "        (MOD_boundaries[\"y\"] >= y_range[0]) & (MOD_boundaries[\"y\"] <= y_range[1])\n",
    "    ]\n",
    "    boundaries_filtered = boundaries_df[\n",
    "        (boundaries_df[\"x\"] >= x_range[0]) & (boundaries_df[\"x\"] <= x_range[1]) &\n",
    "        (boundaries_df[\"y\"] >= y_range[0]) & (boundaries_df[\"y\"] <= y_range[1])\n",
    "    ]\n",
    "\n",
    "    fig, ax = plt.subplots(figsize=(8, 8), dpi=600)\n",
    "\n",
    "    norm = Normalize(vmin=0, vmax=2000)\n",
    "    cmap = plt.get_cmap(\"Oranges\")\n",
    "\n",
    "    if plot_top20 and top20 is not None:\n",
    "        marker_styles = ['o', 's', 'D', '^']  # 4 marker styles: circle, square, diamond, triangle\n",
    "        colors = sns.color_palette(\"tab10\", 5)  # 5 distinct colors from seaborn palette\n",
    "        top20_dict = {gene: (marker_styles[i % 4], colors[i % 5]) for i, gene in enumerate(top20)}\n",
    "\n",
    "        # Plot background signals\n",
    "        ax.scatter(\n",
    "            signals_filtered['x'], signals_filtered['y'],\n",
    "            s=3, color='lightgrey', alpha=0.5, label=\"Other Genes\"\n",
    "        )\n",
    "\n",
    "        # Plot top 20 genes\n",
    "        for gene, (marker, color) in top20_dict.items():\n",
    "            subset = signals_filtered[signals_filtered['gene'] == gene]\n",
    "            ax.scatter(\n",
    "                subset['x'], subset['y'],\n",
    "                s=3, color=color, marker=marker, alpha=0.8, label=gene\n",
    "            )\n",
    "    else:\n",
    "        scatter_sig = ax.scatter(\n",
    "            signals_filtered[\"x\"], signals_filtered[\"y\"],\n",
    "            s=3,\n",
    "            c=cmap(norm(signals_filtered[\"Total_brightness\"])),\n",
    "        )\n",
    "        # Colorbar\n",
    "        cbar_wm = plt.colorbar(\n",
    "            plt.cm.ScalarMappable(norm=norm, cmap=cmap),\n",
    "            ax=ax,\n",
    "            shrink=0.5,\n",
    "            pad=0.02,\n",
    "            anchor=(0.0, 0.3)\n",
    "        )\n",
    "        cbar_wm.set_label(\"Signal Brightness\")\n",
    "\n",
    "\n",
    "    # Plot centroids\n",
    "    ax.scatter(\n",
    "        centroid_filtered[\"x\"], centroid_filtered[\"y\"],\n",
    "        s=15,\n",
    "        c='blue',\n",
    "        label=\"Cell Centroids\",\n",
    "        marker=\"x\"\n",
    "    )\n",
    "\n",
    "    # Plot boundaries\n",
    "    if true_boundary:\n",
    "        for _, row in boundaries_filtered.iterrows():\n",
    "            ax.plot(row['boundaryX'], row['boundaryY'], c='grey', lw=1)\n",
    "        ax.plot([], [], color='grey', lw=1, label=\"Other Cells Boundary\")\n",
    "        for _, row in MOD_filtered.iterrows():\n",
    "            ax.plot(row['boundaryX'], row['boundaryY'], c='#00bfae', lw=1)\n",
    "        ax.plot([], [], color='#00bfae', lw=1, label=\"MOD Cells Boundary\")\n",
    "\n",
    "    # Plot rings around centroids\n",
    "    cmap_rings = plt.get_cmap('tab20')\n",
    "    for idx, diameter in enumerate(diameters):\n",
    "        color = cmap_rings(idx)\n",
    "        for _, row in centroid_filtered.iterrows():\n",
    "            circle = Circle(\n",
    "                (row[\"x\"], row[\"y\"]),\n",
    "                radius=diameter / 2,\n",
    "                color=color,\n",
    "                fill=False,\n",
    "                linewidth=0.7,\n",
    "                alpha=0.7\n",
    "            )\n",
    "            ax.add_patch(circle)\n",
    "        ax.plot([], [], color=color, label=f'Diameter={diameter}')\n",
    "\n",
    "\n",
    "    ax.legend(\n",
    "            loc=\"upper left\", \n",
    "            bbox_to_anchor=(1.02, 1),\n",
    "            fontsize=10, \n",
    "            frameon=False, \n",
    "            markerscale=1.5, \n",
    "            ncol=1\n",
    "        )\n",
    "    \n",
    "    # ax.spines[[\"top\", \"right\"]].set_visible(False)\n",
    "    ax.set_xlim(x_range)\n",
    "    ax.set_ylim(y_range)\n",
    "    ax.set_xlabel(\"X\")\n",
    "    ax.set_ylabel(\"Y\")\n",
    "    ax.set_aspect('equal')\n",
    "    plt.show()"
   ]
  },
  {
   "cell_type": "markdown",
   "metadata": {},
   "source": [
    "#### region1"
   ]
  },
  {
   "cell_type": "code",
   "execution_count": null,
   "metadata": {},
   "outputs": [],
   "source": [
    "plot_focus_points_with_boundary(signals_df=signal_coordinate_df,\n",
    "                                centroid_df=merfish_data, \n",
    "                                MOD_boundaries=MOD_boundaries,\n",
    "                                boundaries_df=other_boundaries, \n",
    "                                x_range=[250, 350], y_range=[1450, 1550], \n",
    "                                diameters=[6, 8, 10, 12], true_boundary=True, \n",
    "                                plot_top20=True, top20=top20.index)"
   ]
  },
  {
   "cell_type": "code",
   "execution_count": null,
   "metadata": {},
   "outputs": [],
   "source": [
    "plot_focus_points_with_boundary(signals_df=signal_coordinate_df,\n",
    "                                centroid_df=merfish_data, \n",
    "                                MOD_boundaries=MOD_boundaries,\n",
    "                                boundaries_df=other_boundaries, \n",
    "                                x_range=[250, 350], y_range=[1450, 1550], \n",
    "                                diameters=[6, 8, 10, 12], true_boundary=True, \n",
    "                                plot_top20=False, top20=None)"
   ]
  },
  {
   "cell_type": "markdown",
   "metadata": {},
   "source": [
    "#### region2"
   ]
  },
  {
   "cell_type": "code",
   "execution_count": null,
   "metadata": {},
   "outputs": [],
   "source": [
    "plot_focus_points_with_boundary(signals_df=signal_coordinate_df,\n",
    "                                centroid_df=merfish_data, \n",
    "                                MOD_boundaries=MOD_boundaries,\n",
    "                                boundaries_df=other_boundaries, \n",
    "                                x_range=[1350, 1450], y_range=[1300, 1400], \n",
    "                                diameters=[6, 8, 10, 12], true_boundary=True, \n",
    "                                plot_top20=True, top20=top20.index)"
   ]
  },
  {
   "cell_type": "code",
   "execution_count": null,
   "metadata": {},
   "outputs": [],
   "source": [
    "plot_focus_points_with_boundary(signals_df=signal_coordinate_df,\n",
    "                                centroid_df=merfish_data, \n",
    "                                MOD_boundaries=MOD_boundaries,\n",
    "                                boundaries_df=other_boundaries, \n",
    "                                x_range=[1350, 1450], y_range=[1300, 1400], \n",
    "                                diameters=[6, 8, 10, 12], true_boundary=True, \n",
    "                                plot_top20=False, top20=None)"
   ]
  },
  {
   "cell_type": "markdown",
   "metadata": {},
   "source": [
    "#### region3"
   ]
  },
  {
   "cell_type": "code",
   "execution_count": null,
   "metadata": {},
   "outputs": [],
   "source": [
    "plot_focus_points_with_boundary(signals_df=signal_coordinate_df,\n",
    "                                centroid_df=merfish_data, \n",
    "                                MOD_boundaries=MOD_boundaries,\n",
    "                                boundaries_df=other_boundaries, \n",
    "                                x_range=[850, 950], y_range=[1050, 1150], \n",
    "                                diameters=[6, 8, 10, 12], true_boundary=True, \n",
    "                                plot_top20=True, top20=top20.index)"
   ]
  },
  {
   "cell_type": "code",
   "execution_count": null,
   "metadata": {},
   "outputs": [],
   "source": [
    "plot_focus_points_with_boundary(signals_df=signal_coordinate_df,\n",
    "                                centroid_df=merfish_data, \n",
    "                                MOD_boundaries=MOD_boundaries,\n",
    "                                boundaries_df=other_boundaries, \n",
    "                                x_range=[850, 950], y_range=[1050, 1150], \n",
    "                                diameters=[6, 8, 10, 12], true_boundary=True, \n",
    "                                plot_top20=False, top20=None)"
   ]
  },
  {
   "cell_type": "markdown",
   "metadata": {},
   "source": [
    "#### region4"
   ]
  },
  {
   "cell_type": "code",
   "execution_count": null,
   "metadata": {},
   "outputs": [],
   "source": [
    "plot_focus_points_with_boundary(signals_df=signal_coordinate_df,\n",
    "                                centroid_df=merfish_data, \n",
    "                                MOD_boundaries=MOD_boundaries,\n",
    "                                boundaries_df=other_boundaries, \n",
    "                                x_range=[200, 300], y_range=[300, 400], \n",
    "                                diameters=[6, 8, 10, 12], true_boundary=True, \n",
    "                                plot_top20=True, top20=top20.index)"
   ]
  },
  {
   "cell_type": "code",
   "execution_count": null,
   "metadata": {},
   "outputs": [],
   "source": [
    "plot_focus_points_with_boundary(signals_df=signal_coordinate_df,\n",
    "                                centroid_df=merfish_data, \n",
    "                                MOD_boundaries=MOD_boundaries,\n",
    "                                boundaries_df=other_boundaries, \n",
    "                                x_range=[200, 300], y_range=[300, 400], \n",
    "                                diameters=[6, 8, 10, 12], true_boundary=True, \n",
    "                                plot_top20=False, top20=None)"
   ]
  },
  {
   "cell_type": "markdown",
   "metadata": {},
   "source": [
    "#### region5"
   ]
  },
  {
   "cell_type": "code",
   "execution_count": null,
   "metadata": {},
   "outputs": [],
   "source": [
    "plot_focus_points_with_boundary(signals_df=signal_coordinate_df,\n",
    "                                centroid_df=merfish_data, \n",
    "                                MOD_boundaries=MOD_boundaries,\n",
    "                                boundaries_df=other_boundaries, \n",
    "                                x_range=[1580, 1680], y_range=[350,450],\n",
    "                                diameters=[6, 8, 10, 12], true_boundary=True, \n",
    "                                plot_top20=True, top20=top20.index)"
   ]
  },
  {
   "cell_type": "code",
   "execution_count": null,
   "metadata": {},
   "outputs": [],
   "source": [
    "plot_focus_points_with_boundary(signals_df=signal_coordinate_df,\n",
    "                                centroid_df=merfish_data, \n",
    "                                MOD_boundaries=MOD_boundaries,\n",
    "                                boundaries_df=other_boundaries, \n",
    "                                x_range=[1580, 1680], y_range=[350,450],\n",
    "                                diameters=[6, 8, 10, 12], true_boundary=True, \n",
    "                                plot_top20=False, top20=None)"
   ]
  },
  {
   "cell_type": "markdown",
   "metadata": {},
   "source": [
    "### kNN"
   ]
  },
  {
   "cell_type": "code",
   "execution_count": null,
   "metadata": {},
   "outputs": [],
   "source": [
    "from sklearn.neighbors import NearestNeighbors\n",
    "\n",
    "def compute_knn(coordinate_df, query_points, k):\n",
    "    if k > len(coordinate_df):\n",
    "        raise ValueError(f\"k ({k}) cannot be greater than the number of points in coordinate_df ({len(coordinate_df)})\")\n",
    "\n",
    "    coordinates = coordinate_df[['x', 'y', 'z']].values\n",
    "\n",
    "    nbrs = NearestNeighbors(n_neighbors=k)\n",
    "    nbrs.fit(coordinates)\n",
    "\n",
    "    distances, indices = nbrs.kneighbors(query_points)\n",
    "\n",
    "    results = []\n",
    "    for query, dist, idx in zip(query_points, distances, indices):\n",
    "        results.append({\n",
    "            'query_point': query.tolist(),\n",
    "            'neighbor_indices': idx.tolist(),\n",
    "            'neighbor_distances': dist.tolist()\n",
    "        })\n",
    "\n",
    "    return results\n"
   ]
  },
  {
   "cell_type": "code",
   "execution_count": null,
   "metadata": {},
   "outputs": [],
   "source": [
    "from scipy.spatial import ConvexHull\n",
    "\n",
    "def plot_focus_points_with_boundary_knn(signals_df, centroid_df, MOD_boundaries, boundaries_df, x_range, y_range, neighbors=[20, 40, 80, 160, 220], \n",
    "                                        true_boundary = True, plot_top20=False, top20=None):\n",
    "    signals_filtered = signals_df[\n",
    "        (signals_df[\"x\"] >= x_range[0]) & (signals_df[\"x\"] <= x_range[1]) &\n",
    "        (signals_df[\"y\"] >= y_range[0]) & (signals_df[\"y\"] <= y_range[1])\n",
    "    ]\n",
    "    centroid_filtered = centroid_df[\n",
    "        (centroid_df[\"x\"] >= x_range[0]) & (centroid_df[\"x\"] <= x_range[1]) &\n",
    "        (centroid_df[\"y\"] >= y_range[0]) & (centroid_df[\"y\"] <= y_range[1])\n",
    "    ]\n",
    "    MOD_filtered = MOD_boundaries[\n",
    "        (MOD_boundaries[\"x\"] >= x_range[0]) & (MOD_boundaries[\"x\"] <= x_range[1]) &\n",
    "        (MOD_boundaries[\"y\"] >= y_range[0]) & (MOD_boundaries[\"y\"] <= y_range[1])\n",
    "    ]\n",
    "    boundaries_filtered = boundaries_df[\n",
    "        (boundaries_df[\"x\"] >= x_range[0]) & (boundaries_df[\"x\"] <= x_range[1]) &\n",
    "        (boundaries_df[\"y\"] >= y_range[0]) & (boundaries_df[\"y\"] <= y_range[1])\n",
    "    ]\n",
    "\n",
    "\n",
    "    fig, ax = plt.subplots(figsize=(8, 8), dpi=600)\n",
    "    norm = Normalize(vmin=0, vmax=2000)\n",
    "    cmap = plt.cm.Oranges\n",
    "\n",
    "    if plot_top20 and top20 is not None:\n",
    "        marker_styles = ['o', 's', 'D', '^']  # 4 marker styles: circle, square, diamond, triangle\n",
    "        colors = sns.color_palette(\"tab10\", 5)  # 5 distinct colors from seaborn palette\n",
    "        top20_dict = {gene: (marker_styles[i % 4], colors[i % 5]) for i, gene in enumerate(top20)}\n",
    "\n",
    "        # Plot background signals\n",
    "        ax.scatter(\n",
    "            signals_filtered['x'], signals_filtered['y'],\n",
    "            s=3, color='lightgrey', alpha=0.5, label=\"Other Genes\"\n",
    "        )\n",
    "\n",
    "        # Plot top 20 genes\n",
    "        for gene, (marker, color) in top20_dict.items():\n",
    "            subset = signals_filtered[signals_filtered['gene'] == gene]\n",
    "            ax.scatter(\n",
    "                subset['x'], subset['y'],\n",
    "                s=3, color=color, marker=marker, alpha=0.8, label=gene\n",
    "            )\n",
    "    else:\n",
    "        scatter_sig = ax.scatter(\n",
    "            signals_filtered[\"x\"], signals_filtered[\"y\"],\n",
    "            s=3,\n",
    "            c=cmap(norm(signals_filtered[\"Total_brightness\"])),\n",
    "        )\n",
    "        # Colorbar\n",
    "        cbar_wm = plt.colorbar(\n",
    "            plt.cm.ScalarMappable(norm=norm, cmap=cmap),\n",
    "            ax=ax,\n",
    "            shrink=0.5,\n",
    "            pad=0.02,\n",
    "            anchor=(0.0, 0.3)\n",
    "        )\n",
    "        cbar_wm.set_label(\"Signal Brightness\")\n",
    "\n",
    "    # Plot centroids\n",
    "    ax.scatter(\n",
    "        centroid_filtered[\"x\"], centroid_filtered[\"y\"],\n",
    "        s=15,\n",
    "        c='blue',\n",
    "        label=\"Cell Centroids\",\n",
    "        marker=\"x\"\n",
    "    )\n",
    "\n",
    "    # Plot boundaries\n",
    "    if true_boundary:\n",
    "        for _, row in boundaries_filtered.iterrows():\n",
    "            ax.plot(row['boundaryX'], row['boundaryY'], c='grey', lw=1)\n",
    "        ax.plot([], [], color='grey', lw=1, label=\"Other Cells Boundary\")\n",
    "        for _, row in MOD_filtered.iterrows():\n",
    "            ax.plot(row['boundaryX'], row['boundaryY'], c='#00bfae', lw=1)\n",
    "        ax.plot([], [], color='#00bfae', lw=1, label=\"MOD Cells Boundary\")\n",
    "\n",
    "    cmap_rings = mpl.colormaps['tab20']\n",
    "    for idx, k in enumerate(neighbors):\n",
    "        color = cmap_rings(idx / len(neighbors))\n",
    "        label_added = False\n",
    "        for _, centroid in centroid_filtered.iterrows():\n",
    "            new_point = np.array([[centroid['x'], centroid['y'], 4.5]])\n",
    "            knn_results = compute_knn(signals_df, new_point, k)\n",
    "            neighbors_indices = knn_results[0]['neighbor_indices']\n",
    "            neighbor_points = signals_df.iloc[neighbors_indices][['x', 'y']].values\n",
    "            \n",
    "            # ConvexHull requires at least 3 points\n",
    "            if len(neighbor_points) < 3:\n",
    "                continue\n",
    "\n",
    "            hull = ConvexHull(neighbor_points)\n",
    "            for simplex in hull.simplices:\n",
    "                ax.plot(\n",
    "                    neighbor_points[simplex, 0],\n",
    "                    neighbor_points[simplex, 1],\n",
    "                    color=color,\n",
    "                    lw=1,\n",
    "                    label=f\"k={k} NN\" if not label_added else None\n",
    "                    # label=f\"Boundary k={k}\" if not label_added else None\n",
    "                )\n",
    "                label_added = True\n",
    "    \n",
    "    ax.set_xlim(x_range)\n",
    "    ax.set_ylim(y_range)\n",
    "    ax.set_xlabel(\"X\")\n",
    "    ax.set_ylabel(\"Y\")\n",
    "    ax.set_aspect('equal')\n",
    "    ax.legend(\n",
    "            loc=\"upper left\", \n",
    "            bbox_to_anchor=(1.02, 1),\n",
    "            fontsize=10, \n",
    "            frameon=False, \n",
    "            markerscale=1.5, \n",
    "            ncol=1\n",
    "        )\n",
    "    plt.show()"
   ]
  },
  {
   "cell_type": "markdown",
   "metadata": {},
   "source": [
    "#### region1"
   ]
  },
  {
   "cell_type": "code",
   "execution_count": null,
   "metadata": {},
   "outputs": [],
   "source": [
    "plot_focus_points_with_boundary_knn(signals_df=signal_coordinate_df,\n",
    "                                centroid_df=merfish_data, \n",
    "                                MOD_boundaries=MOD_boundaries,\n",
    "                                boundaries_df=other_boundaries, \n",
    "                                x_range=[250, 350], y_range=[1450, 1550],\n",
    "                                neighbors=[40, 80, 160, 240], true_boundary=True, \n",
    "                                plot_top20=True, top20=top20.index)"
   ]
  },
  {
   "cell_type": "code",
   "execution_count": null,
   "metadata": {},
   "outputs": [],
   "source": [
    "plot_focus_points_with_boundary_knn(signals_df=signal_coordinate_df,\n",
    "                                centroid_df=merfish_data, \n",
    "                                MOD_boundaries=MOD_boundaries,\n",
    "                                boundaries_df=other_boundaries,  \n",
    "                                x_range=[250, 350], y_range=[1450, 1550],\n",
    "                                neighbors=[40, 80, 160, 240], true_boundary=True, \n",
    "                                plot_top20=False, top20=None)"
   ]
  },
  {
   "cell_type": "markdown",
   "metadata": {},
   "source": [
    "#### region2"
   ]
  },
  {
   "cell_type": "code",
   "execution_count": null,
   "metadata": {},
   "outputs": [],
   "source": [
    "plot_focus_points_with_boundary_knn(signals_df=signal_coordinate_df,\n",
    "                                centroid_df=merfish_data, \n",
    "                                MOD_boundaries=MOD_boundaries,\n",
    "                                boundaries_df=other_boundaries, \n",
    "                                x_range=[1350, 1450], y_range=[1300, 1400], \n",
    "                                neighbors=[40, 80, 160, 240], true_boundary=True, \n",
    "                                plot_top20=True, top20=top20.index)"
   ]
  },
  {
   "cell_type": "code",
   "execution_count": null,
   "metadata": {},
   "outputs": [],
   "source": [
    "plot_focus_points_with_boundary_knn(signals_df=signal_coordinate_df,\n",
    "                                centroid_df=merfish_data, \n",
    "                                MOD_boundaries=MOD_boundaries,\n",
    "                                boundaries_df=other_boundaries, \n",
    "                                x_range=[1350, 1450], y_range=[1300, 1400], \n",
    "                                neighbors=[40, 80, 160, 240], true_boundary=True, \n",
    "                                plot_top20=False, top20=None)"
   ]
  },
  {
   "cell_type": "markdown",
   "metadata": {},
   "source": [
    "#### region3"
   ]
  },
  {
   "cell_type": "code",
   "execution_count": null,
   "metadata": {},
   "outputs": [],
   "source": [
    "plot_focus_points_with_boundary_knn(signals_df=signal_coordinate_df,\n",
    "                                centroid_df=merfish_data, \n",
    "                                MOD_boundaries=MOD_boundaries,\n",
    "                                boundaries_df=other_boundaries, \n",
    "                                x_range=[850, 950], y_range=[1050, 1150], \n",
    "                                neighbors=[40, 80, 160, 240], true_boundary=True, \n",
    "                                plot_top20=True, top20=top20.index)"
   ]
  },
  {
   "cell_type": "code",
   "execution_count": null,
   "metadata": {},
   "outputs": [],
   "source": [
    "plot_focus_points_with_boundary_knn(signals_df=signal_coordinate_df,\n",
    "                                centroid_df=merfish_data, \n",
    "                                MOD_boundaries=MOD_boundaries,\n",
    "                                boundaries_df=other_boundaries, \n",
    "                                x_range=[850, 950], y_range=[1050, 1150], \n",
    "                                neighbors=[40, 80, 160, 240], true_boundary=True, \n",
    "                                plot_top20=False, top20=None)"
   ]
  },
  {
   "cell_type": "markdown",
   "metadata": {},
   "source": [
    "#### region4"
   ]
  },
  {
   "cell_type": "code",
   "execution_count": null,
   "metadata": {},
   "outputs": [],
   "source": [
    "plot_focus_points_with_boundary_knn(signals_df=signal_coordinate_df,\n",
    "                                centroid_df=merfish_data, \n",
    "                                MOD_boundaries=MOD_boundaries,\n",
    "                                boundaries_df=other_boundaries, \n",
    "                                x_range=[200, 300], y_range=[300, 400], \n",
    "                                neighbors=[40, 80, 160, 240], true_boundary=True, \n",
    "                                plot_top20=True, top20=top20.index)"
   ]
  },
  {
   "cell_type": "code",
   "execution_count": null,
   "metadata": {},
   "outputs": [],
   "source": [
    "plot_focus_points_with_boundary_knn(signals_df=signal_coordinate_df,\n",
    "                                centroid_df=merfish_data, \n",
    "                                MOD_boundaries=MOD_boundaries,\n",
    "                                boundaries_df=other_boundaries, \n",
    "                                x_range=[200, 300], y_range=[300, 400], \n",
    "                                neighbors=[40, 80, 160, 240], true_boundary=True, \n",
    "                                plot_top20=False, top20=None)"
   ]
  },
  {
   "cell_type": "markdown",
   "metadata": {},
   "source": [
    "#### region5"
   ]
  },
  {
   "cell_type": "code",
   "execution_count": null,
   "metadata": {},
   "outputs": [],
   "source": [
    "plot_focus_points_with_boundary_knn(signals_df=signal_coordinate_df,\n",
    "                                centroid_df=merfish_data, \n",
    "                                MOD_boundaries=MOD_boundaries,\n",
    "                                boundaries_df=other_boundaries, \n",
    "                                x_range=[1580, 1680], y_range=[350,450],\n",
    "                                neighbors=[40, 80, 160, 240], true_boundary=True, \n",
    "                                plot_top20=True, top20=top20.index)"
   ]
  },
  {
   "cell_type": "code",
   "execution_count": null,
   "metadata": {},
   "outputs": [],
   "source": [
    "plot_focus_points_with_boundary_knn(signals_df=signal_coordinate_df,\n",
    "                                centroid_df=merfish_data, \n",
    "                                MOD_boundaries=MOD_boundaries,\n",
    "                                boundaries_df=other_boundaries, \n",
    "                                x_range=[1580, 1680], y_range=[350,450], \n",
    "                                neighbors=[40, 80, 160, 240], true_boundary=True, \n",
    "                                plot_top20=False, top20=None)"
   ]
  }
 ],
 "metadata": {
  "kernelspec": {
   "display_name": "ovrlpy",
   "language": "python",
   "name": "python3"
  },
  "language_info": {
   "codemirror_mode": {
    "name": "ipython",
    "version": 3
   },
   "file_extension": ".py",
   "mimetype": "text/x-python",
   "name": "python",
   "nbconvert_exporter": "python",
   "pygments_lexer": "ipython3",
   "version": "3.11.11"
  }
 },
 "nbformat": 4,
 "nbformat_minor": 2
}
