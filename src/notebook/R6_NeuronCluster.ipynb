{
 "cells": [
  {
   "cell_type": "markdown",
   "metadata": {},
   "source": [
    "## Result 6: neuron clusters\n",
    "specific neuronal clusters identified by scRNA-seq"
   ]
  },
  {
   "cell_type": "markdown",
   "metadata": {},
   "source": [
    "### data"
   ]
  },
  {
   "cell_type": "code",
   "execution_count": null,
   "metadata": {},
   "outputs": [],
   "source": [
    "from scipy.io import mmread\n",
    "from pathlib import Path\n",
    "\n",
    "import matplotlib.pyplot as plt\n",
    "\n",
    "import numpy as np\n",
    "import pandas as pd"
   ]
  },
  {
   "cell_type": "markdown",
   "metadata": {},
   "source": [
    "#### Matched Single-Cell RNA Sequencing"
   ]
  },
  {
   "cell_type": "code",
   "execution_count": null,
   "metadata": {},
   "outputs": [],
   "source": [
    "from pathlib import Path\n",
    "import pandas as pd\n",
    "import numpy as np\n",
    "from scipy.io import mmread\n",
    "import anndata as ad\n",
    "\n",
    "# Define file paths\n",
    "single_cell_data_folder_path = Path(\"../data/mouse_hypothalamus/singlecell/\")\n",
    "mtx_path = single_cell_data_folder_path / \"GSE113576_matrix.mtx\"\n",
    "barcodes_path = single_cell_data_folder_path / \"GSE113576_barcodes.tsv\"\n",
    "genes_path = single_cell_data_folder_path / \"GSE113576_genes.tsv\"\n",
    "meta_path = single_cell_data_folder_path / \"aau5324_Moffitt_Table-S1.xlsx\""
   ]
  },
  {
   "cell_type": "code",
   "execution_count": null,
   "metadata": {},
   "outputs": [],
   "source": [
    "# Load data\n",
    "X = mmread(mtx_path).tocsr()\n",
    "cell_ids = pd.read_csv(barcodes_path, sep=\"\\t\", header=None)[0].values\n",
    "gene_names = pd.read_csv(genes_path, sep=\"\\t\", header=None)[1].values\n",
    "\n",
    "# Create AnnData object\n",
    "adata = ad.AnnData(X=X.T)  # Transpose to cell x gene\n",
    "adata.var_names = gene_names\n",
    "adata.obs_names = cell_ids\n",
    "adata.var_names_make_unique()\n",
    "\n",
    "# Load and process metadata\n",
    "meta = pd.read_excel(meta_path).rename(columns={\n",
    "    \"Cell name\": \"Cell_name\",\n",
    "    \"Sex\": \"Sex\",\n",
    "    \"Replicate number\": \"Rep\",\n",
    "    \"Cell class (determined from clustering of all cells)\": \"Cell_class\",\n",
    "    \"Non-neuronal cluster (determined from clustering of all cells)\": \"Non_neuronal_cluster\",\n",
    "    \"Neuronal cluster (determined from clustering of inhibitory or excitatory neurons)\": \"Neuronal_cluster\"\n",
    "})\n",
    "\n",
    "neuron_types = ['Excitatory', 'Inhibitory']\n",
    "meta = meta.set_index(\"Cell_name\")\n",
    "meta = meta.loc[meta[\"Cell_class\"].isin(neuron_types)]\n",
    "\n",
    "adata = adata[adata.obs_names.isin(meta.index)].copy()\n",
    "adata.obs = meta.loc[adata.obs_names, [\"Cell_class\", \"Neuronal_cluster\"]]\n",
    "\n",
    "mt_genes = adata.var_names.str.startswith(\"mt\")\n",
    "mt_frac = np.array(adata[:, mt_genes].X.sum(axis=1)).flatten() / (\n",
    "    np.array(adata.X.sum(axis=1)).flatten() + 1e-6\n",
    ")\n",
    "adata = adata[mt_frac < 0.2, :].copy()\n",
    "\n",
    "n_detected = np.array((adata.X != 0).sum(axis=1)).flatten()\n",
    "adata = adata[n_detected > 1000, :].copy()\n",
    "\n",
    "adata = adata[:, ~adata.var_names.str.startswith(\"Blank\")].copy()\n",
    "\n",
    "sc_total = np.array(adata.X.sum(axis=1)).flatten()\n",
    "adata.X = adata.X.multiply(10_000 / sc_total[:, None])\n",
    "adata.X = adata.X.log1p()"
   ]
  },
  {
   "cell_type": "code",
   "execution_count": null,
   "metadata": {},
   "outputs": [],
   "source": [
    "sc_data = adata.to_df()\n",
    "neuron_cluster = adata.obs[\"Neuronal_cluster\"]\n",
    "sc_data[\"Neuronal_cluster\"] = neuron_cluster"
   ]
  },
  {
   "cell_type": "code",
   "execution_count": null,
   "metadata": {},
   "outputs": [],
   "source": [
    "from natsort import natsorted\n",
    "\n",
    "clusters = sc_data['Neuronal_cluster'].unique()\n",
    "sorted_clusters = natsorted(clusters)\n",
    "\n",
    "sorted_index = []\n",
    "for cluster in sorted_clusters:\n",
    "    cells = sc_data.index[sc_data['Neuronal_cluster'] == cluster]\n",
    "    sorted_index.extend(cells)\n",
    "\n",
    "sc_data_sorted = sc_data.loc[sorted_index]"
   ]
  },
  {
   "cell_type": "markdown",
   "metadata": {},
   "source": [
    "#### Marker Genes\n",
    "\n",
    "differentially expressed genes identified by BANKSY"
   ]
  },
  {
   "cell_type": "code",
   "execution_count": null,
   "metadata": {},
   "outputs": [],
   "source": [
    "# all differentially expressed genes\n",
    "DE_genes = ['Mlc1', 'Dgkk', 'Cbln2', 'Syt4', 'Gad1', 'Plin3', 'Gnrh1', 'Sln', 'Gjc3', 'Mbp', 'Lpar1', 'Trh', 'Ucn3', 'Cck']\n",
    "# DE_genes_gm: 7\n",
    "DE_genes_gm = ['Mlc1', 'Dgkk', 'Cbln2', 'Syt4', 'Gad1', 'Plin3', 'Gnrh1', 'Sln', 'Gjc3']\n",
    "# DE_genes_wm: 8\n",
    "DE_genes_wm = ['Mbp', 'Lpar1', 'Trh', 'Ucn3', 'Cck']"
   ]
  },
  {
   "cell_type": "code",
   "execution_count": null,
   "metadata": {},
   "outputs": [],
   "source": [
    "# Excitatory\n",
    "Ex_sc_data = sc_data_sorted[sc_data_sorted['Neuronal_cluster'].str.startswith(\"e\")]\n",
    "sc_MOD2 = Ex_sc_data.loc[:, [gene for gene in DE_genes_gm if gene in Ex_sc_data.columns]]\n",
    "sc_MOD1 = Ex_sc_data.loc[:, [gene for gene in DE_genes_wm if gene in Ex_sc_data.columns]]\n",
    "Ex_DE = pd.concat([sc_MOD2, sc_MOD1], axis=1)\n",
    "\n",
    "Ex_cluster = Ex_sc_data[\"Neuronal_cluster\"]\n"
   ]
  },
  {
   "cell_type": "code",
   "execution_count": null,
   "metadata": {},
   "outputs": [],
   "source": [
    "Ex_DE.shape"
   ]
  },
  {
   "cell_type": "code",
   "execution_count": null,
   "metadata": {},
   "outputs": [],
   "source": [
    "# Inhibitory\n",
    "In_sc_data = sc_data_sorted[sc_data_sorted['Neuronal_cluster'].str.startswith(\"i\")]\n",
    "sc_MOD2 = In_sc_data.loc[:, [gene for gene in DE_genes_gm if gene in In_sc_data.columns]]\n",
    "sc_MOD1 = In_sc_data.loc[:, [gene for gene in DE_genes_wm if gene in In_sc_data.columns]]\n",
    "In_DE = pd.concat([sc_MOD2, sc_MOD1], axis=1)\n",
    "\n",
    "In_cluster = In_sc_data[\"Neuronal_cluster\"]\n"
   ]
  },
  {
   "cell_type": "code",
   "execution_count": null,
   "metadata": {},
   "outputs": [],
   "source": [
    "In_DE.shape"
   ]
  },
  {
   "cell_type": "code",
   "execution_count": null,
   "metadata": {},
   "outputs": [],
   "source": [
    "# Hybrid\n",
    "Hy_sc_data = sc_data_sorted[sc_data_sorted['Neuronal_cluster'].str.startswith(\"h\")]\n",
    "sc_MOD2 = Hy_sc_data.loc[:, [gene for gene in DE_genes_gm if gene in Hy_sc_data.columns]]\n",
    "sc_MOD1 = Hy_sc_data.loc[:, [gene for gene in DE_genes_wm if gene in Hy_sc_data.columns]]\n",
    "Hy_DE = pd.concat([sc_MOD2, sc_MOD1], axis=1)\n",
    "\n",
    "Hy_cluster = Hy_sc_data[\"Neuronal_cluster\"]\n"
   ]
  },
  {
   "cell_type": "code",
   "execution_count": null,
   "metadata": {},
   "outputs": [],
   "source": [
    "Hy_DE.shape"
   ]
  },
  {
   "cell_type": "markdown",
   "metadata": {},
   "source": [
    "### Heatmaps"
   ]
  },
  {
   "cell_type": "markdown",
   "metadata": {},
   "source": [
    "#### functions"
   ]
  },
  {
   "cell_type": "code",
   "execution_count": null,
   "metadata": {},
   "outputs": [],
   "source": [
    "import seaborn as sns\n",
    "import matplotlib.pyplot as plt\n",
    "\n",
    "heat_cmap = sns.color_palette(\"RdYlBu_r\", as_cmap=True)\n",
    "\n",
    "import matplotlib.colors as mcolors\n",
    "custom_cmap = mcolors.LinearSegmentedColormap.from_list(\n",
    "    \"white_orange_red\", [\"white\", \"orange\", \"red\"], N=256\n",
    ")"
   ]
  },
  {
   "cell_type": "code",
   "execution_count": null,
   "metadata": {},
   "outputs": [],
   "source": [
    "# genes_clusters_heatmap: heatmap of the marker genes\n",
    "\n",
    "from sklearn.cluster import AgglomerativeClustering\n",
    "from scipy.cluster.hierarchy import linkage, leaves_list\n",
    "import matplotlib.patches as patches\n",
    "\n",
    "def genes_clusters_heatmap(cluster_data, cluster_labels, gene_groups=None, zscore=True, DE_g=True, cmap=heat_cmap):\n",
    "    cluster_data = cluster_data.copy()\n",
    "    cluster_data['Cell_class'] = cluster_labels\n",
    "\n",
    "    # cluster_data = cluster_data.sort_values(by='Cell_class')\n",
    "    cell_class_col = cluster_data['Cell_class']\n",
    "    numeric_data = cluster_data.drop(columns=['Cell_class']).apply(pd.to_numeric, errors='coerce')\n",
    "    numeric_data = numeric_data.dropna(axis=1, how='any')\n",
    "    numeric_data = numeric_data.loc[:, ~numeric_data.T.duplicated()]\n",
    "    cluster_data = pd.concat([cell_class_col, numeric_data], axis=1)\n",
    "\n",
    "    # cluster_data = cluster_data.apply(pd.to_numeric, errors='coerce').dropna(axis=1, how='any')\n",
    "    # cluster_data = cluster_data.loc[:, ~cluster_data.T.duplicated()]\n",
    "\n",
    "    if 'Cell_class' in cluster_data.columns:\n",
    "        expression_data = cluster_data.drop('Cell_class', axis=1)\n",
    "    else:\n",
    "        print(\"Warning: 'Cell_class' column not found in cluster_data.\")\n",
    "        expression_data = cluster_data.copy()\n",
    "\n",
    "    expression_data = expression_data.T\n",
    "    expression_data = expression_data.loc[:, ~expression_data.columns.duplicated()]\n",
    "\n",
    "    cluster_labels_sorted = cluster_data['Cell_class'].values\n",
    "\n",
    "    if zscore:\n",
    "        expression_data = expression_data.apply(lambda x: (x - x.mean()) / x.std(), axis=1)\n",
    "        vmin, vmax = -3, 3\n",
    "    else:\n",
    "        vmin, vmax = 0, 5\n",
    "\n",
    "    new_order = []\n",
    "    unique_labels = sorted(set(cluster_labels_sorted))\n",
    "\n",
    "    for label in unique_labels:\n",
    "        class_indices = np.where(cluster_labels_sorted == label)[0]\n",
    "\n",
    "        if len(class_indices) == 0:\n",
    "            print(f\"Warning: No cells found for class {label}\")\n",
    "            continue\n",
    "        \n",
    "        subset = expression_data.iloc[:, class_indices]\n",
    "\n",
    "        if subset.shape[1] > 1:\n",
    "            linkage_matrix = linkage(subset.T, method='ward')\n",
    "            sorted_indices = leaves_list(linkage_matrix)\n",
    "            sorted_indices = class_indices[sorted_indices]\n",
    "        else:\n",
    "            sorted_indices = class_indices\n",
    "\n",
    "        new_order.extend(sorted_indices)\n",
    "\n",
    "    reordered_expression_data = expression_data.iloc[:, new_order]\n",
    "    reordered_cluster_labels = cluster_labels_sorted[new_order]\n",
    "\n",
    "    if gene_groups is not None:\n",
    "        new_gene_order = []\n",
    "        unique_gene_labels = sorted(set(gene_groups['cluster']))\n",
    "        \n",
    "        for label in unique_gene_labels:\n",
    "            gene_indices = np.where(gene_groups == label)[0]\n",
    "            # print(f\"Gene label: {label}, Indices: {gene_indices}\")\n",
    "\n",
    "            if len(gene_indices) == 0:\n",
    "                continue\n",
    "            \n",
    "            subset = reordered_expression_data.iloc[gene_indices, :]\n",
    "\n",
    "            if subset.shape[0] > 1:\n",
    "                linkage_matrix = linkage(subset, method='average')\n",
    "                sorted_gene_indices = leaves_list(linkage_matrix)\n",
    "                sorted_gene_indices = gene_indices[sorted_gene_indices]\n",
    "            else:\n",
    "                sorted_gene_indices = gene_indices\n",
    "\n",
    "            new_gene_order.extend(sorted_gene_indices)\n",
    "    else:\n",
    "        linkage_matrix = linkage(reordered_expression_data, method='average')\n",
    "        new_gene_order = leaves_list(linkage_matrix)\n",
    "    \n",
    "    reordered_expression_data = reordered_expression_data.iloc[new_gene_order, :]\n",
    "\n",
    "    plt.figure(figsize=(20, 10), dpi=600) # non-OD\n",
    "    # plt.figure(figsize=(20, 10), dpi=600) # MOD\n",
    "    ax = sns.heatmap(\n",
    "        reordered_expression_data,\n",
    "        vmin=vmin, vmax=vmax,\n",
    "        annot=False, fmt=\"g\", xticklabels=False, yticklabels=True,  # Ensure labels are visible\n",
    "        cmap=cmap,\n",
    "        cbar=True,\n",
    "        cbar_kws={\"shrink\": 0.5}  # Shrink color bar\n",
    "    )\n",
    "\n",
    "    cbar = ax.collections[0].colorbar\n",
    "    cbar.ax.set_position([ax.get_position().x1 + 0.01,\n",
    "                      ax.get_position().y1-0.3,\n",
    "                      0.02,\n",
    "                      0.2])\n",
    "\n",
    "    # Set tick label font sizes\n",
    "    ax.set_yticks(ax.get_yticks())  \n",
    "    ax.set_yticklabels(ax.get_yticklabels(), fontsize=15, rotation=0)\n",
    "\n",
    "    cluster_boundaries = []\n",
    "    for label in unique_labels:\n",
    "        class_indices = np.where(reordered_cluster_labels == label)[0]\n",
    "        if len(class_indices) == 0:\n",
    "            continue\n",
    "        \n",
    "        start_idx, end_idx = class_indices[0], class_indices[-1]\n",
    "        x_pos = (start_idx + end_idx) / 2\n",
    "\n",
    "        ax.text(\n",
    "            x_pos, -1.2, str(label), ha='center', va='center', rotation=90, fontsize=7, color='black'\n",
    "        )\n",
    "\n",
    "        cluster_boundaries.append(end_idx)\n",
    "\n",
    "    for boundary in cluster_boundaries[:-1]:\n",
    "        ax.axvline(x=boundary + 0.5, color='purple', linestyle='--', linewidth=1)\n",
    "\n",
    "    if DE_g:\n",
    "        ax.hlines(y=9, xmin=ax.get_xlim()[0], xmax=ax.get_xlim()[1], color='green', linestyle='--', linewidth=1)\n",
    "\n",
    "    plt.xlabel(\"\")\n",
    "    plt.ylabel(\"\")\n",
    "    plt.show()\n"
   ]
  },
  {
   "cell_type": "code",
   "execution_count": null,
   "metadata": {},
   "outputs": [],
   "source": [
    "import numpy as np\n",
    "import pandas as pd\n",
    "import seaborn as sns\n",
    "import matplotlib.pyplot as plt\n",
    "from scipy.cluster.hierarchy import linkage, leaves_list\n",
    "\n",
    "def reorder_clusters(cluster_data, cluster_labels, gene_groups=None, zscore=True):\n",
    "    cluster_data = cluster_data.copy()\n",
    "    cluster_data['Cell_class'] = cluster_labels\n",
    "\n",
    "    # cluster_data = cluster_data.sort_values(by='Cell_class')\n",
    "    cell_class_col = cluster_data['Cell_class']\n",
    "    numeric_data = cluster_data.drop(columns=['Cell_class']).apply(pd.to_numeric, errors='coerce')\n",
    "    numeric_data = numeric_data.dropna(axis=1, how='any')\n",
    "    numeric_data = numeric_data.loc[:, ~numeric_data.T.duplicated()]\n",
    "    cluster_data = pd.concat([cell_class_col, numeric_data], axis=1)\n",
    "\n",
    "    if 'Cell_class' in cluster_data.columns:\n",
    "        expression_data = cluster_data.drop('Cell_class', axis=1)\n",
    "    else:\n",
    "        print(\"Warning: 'Cell_class' column not found in cluster_data.\")\n",
    "        expression_data = cluster_data.copy()\n",
    "\n",
    "    expression_data = expression_data.T\n",
    "    expression_data = expression_data.loc[:, ~expression_data.columns.duplicated()]\n",
    "    cluster_labels_sorted = cluster_data['Cell_class'].values\n",
    "\n",
    "    if zscore:\n",
    "        expression_data = expression_data.apply(lambda x: (x - x.mean()) / x.std(), axis=1)\n",
    "\n",
    "    new_order = []\n",
    "    unique_labels = natsorted(set(cluster_labels_sorted))\n",
    "\n",
    "\n",
    "    for label in unique_labels:\n",
    "        class_indices = np.where(cluster_labels_sorted == label)[0]\n",
    "\n",
    "        if len(class_indices) == 0:\n",
    "            print(f\"Warning: No cells found for class {label}\")\n",
    "            continue\n",
    "        \n",
    "        subset = expression_data.iloc[:, class_indices]\n",
    "\n",
    "        if subset.shape[1] > 1:\n",
    "            linkage_matrix = linkage(subset.T, method='ward')\n",
    "            sorted_indices = leaves_list(linkage_matrix)\n",
    "            sorted_indices = class_indices[sorted_indices]\n",
    "        else:\n",
    "            sorted_indices = class_indices\n",
    "\n",
    "        new_order.extend(sorted_indices)\n",
    "\n",
    "    reordered_expression_data = expression_data.iloc[:, new_order]\n",
    "    reordered_cluster_labels = cluster_labels_sorted[new_order]\n",
    "\n",
    "    if gene_groups is not None:\n",
    "        new_gene_order = []\n",
    "        unique_gene_labels = sorted(set(gene_groups['cluster']))\n",
    "        \n",
    "        for label in unique_gene_labels:\n",
    "            gene_indices = np.where(gene_groups == label)[0]\n",
    "\n",
    "            if len(gene_indices) == 0:\n",
    "                continue\n",
    "            \n",
    "            subset = reordered_expression_data.iloc[gene_indices, :]\n",
    "\n",
    "            if subset.shape[0] > 1:\n",
    "                linkage_matrix = linkage(subset, method='average')\n",
    "                sorted_gene_indices = leaves_list(linkage_matrix)\n",
    "                sorted_gene_indices = gene_indices[sorted_gene_indices]\n",
    "            else:\n",
    "                sorted_gene_indices = gene_indices\n",
    "\n",
    "            new_gene_order.extend(sorted_gene_indices)\n",
    "    else:\n",
    "        linkage_matrix = linkage(reordered_expression_data, method='average')\n",
    "        new_gene_order = leaves_list(linkage_matrix)\n",
    "    \n",
    "    reordered_expression_data = reordered_expression_data.iloc[new_gene_order, :]\n",
    "\n",
    "    return reordered_expression_data, reordered_cluster_labels"
   ]
  },
  {
   "cell_type": "code",
   "execution_count": null,
   "metadata": {},
   "outputs": [],
   "source": [
    "def cluster_plot_heatmap(re_IN, re_IN_clu, DE_g=True, cmap=heat_cmap, figures=(15,25)):\n",
    "    unique_labels = set(re_IN_clu)\n",
    "    \n",
    "    plt.figure(figsize=figures, dpi=600) # non-OD\n",
    "    # plt.figure(figsize=(20, 10), dpi=600) # MOD\n",
    "    ax = sns.heatmap(\n",
    "        re_IN.T,\n",
    "        vmin=-3, vmax=3,\n",
    "        annot=False, fmt=\"g\", xticklabels=True, yticklabels=False,  # Ensure labels are visible\n",
    "        cmap=cmap,\n",
    "        cbar=True,\n",
    "        cbar_kws={\"shrink\": 0.5}  # Shrink color bar\n",
    "    )\n",
    "\n",
    "    cbar = ax.collections[0].colorbar\n",
    "    cbar.ax.set_position([ax.get_position().x1 + 0.01,\n",
    "                      ax.get_position().y1-0.3,\n",
    "                      0.02,\n",
    "                      0.2])\n",
    "\n",
    "    # Set tick label font sizes\n",
    "    ax.set_xticks(ax.get_xticks())  \n",
    "    ax.set_xticklabels(ax.get_xticklabels(), fontsize=13, rotation=0)\n",
    "\n",
    "    cluster_boundaries = []\n",
    "    for label in unique_labels:\n",
    "        class_indices = np.where(re_IN_clu == label)[0]\n",
    "        if len(class_indices) == 0:\n",
    "            continue\n",
    "        \n",
    "        start_idx, end_idx = class_indices[0], class_indices[-1]\n",
    "        x_pos = (start_idx + end_idx) / 2\n",
    "\n",
    "        ax.text(\n",
    "            -1.5, x_pos, str(label), ha='center', va='center', rotation=0, fontsize=11, color='black'\n",
    "        )\n",
    "\n",
    "        cluster_boundaries.append(end_idx)\n",
    "    \n",
    "    yticks = ax.get_yticks()\n",
    "    yticklabels = [label.get_text() for label in ax.get_yticklabels()]\n",
    "\n",
    "    adjusted_positions = {}\n",
    "\n",
    "    for i, (ytick, label) in enumerate(zip(yticks, yticklabels)):\n",
    "        if i > 0 and abs(ytick - yticks[i - 1]) < 5:\n",
    "            new_y = yticks[i - 1] - 5\n",
    "            adjusted_positions[label] = new_y\n",
    "        else:\n",
    "            adjusted_positions[label] = ytick\n",
    "\n",
    "    for label, new_y in adjusted_positions.items():\n",
    "        if new_y != yticks[yticklabels.index(label)]: \n",
    "            orig_y = yticks[yticklabels.index(label)]\n",
    "            ax.annotate(\n",
    "                label, \n",
    "                xy=(-1.5, orig_y), xytext=(-3, new_y), \n",
    "                ha='right', va='center', fontsize=10, color='black',\n",
    "                arrowprops=dict(arrowstyle=\"-\", color=\"gray\", linewidth=1.0, alpha=0.6)\n",
    "            )\n",
    "        else:\n",
    "            ax.text(-1.5, new_y, label, ha='right', va='center', fontsize=10, color='black')\n",
    "\n",
    "    for boundary in cluster_boundaries:#[:-1]:\n",
    "        ax.axhline(y=boundary, color='purple', linestyle='--', linewidth=1)\n",
    "\n",
    "    if DE_g:\n",
    "        ax.vlines(x=9, ymin=ax.get_ylim()[0], ymax=ax.get_ylim()[1], color='green', linestyle='--', linewidth=1)\n",
    "    \n",
    "    plt.xlabel(\"\")\n",
    "    plt.ylabel(\"\")\n",
    "    plt.show()\n"
   ]
  },
  {
   "cell_type": "code",
   "execution_count": null,
   "metadata": {},
   "outputs": [],
   "source": [
    "gene_g = pd.DataFrame([0,0,0,0,0,0,0,0,0,1,1,1,1,1], columns=['cluster'])"
   ]
  },
  {
   "cell_type": "markdown",
   "metadata": {},
   "source": [
    "### Excitatory"
   ]
  },
  {
   "cell_type": "code",
   "execution_count": null,
   "metadata": {},
   "outputs": [],
   "source": [
    "re_Ex_DE, re_Ex_clu = reorder_clusters(cluster_data=Ex_DE, cluster_labels=Ex_cluster, gene_groups=gene_g, zscore=True)"
   ]
  },
  {
   "cell_type": "code",
   "execution_count": null,
   "metadata": {},
   "outputs": [],
   "source": [
    "unique_labels = natsorted(set(re_Ex_clu))\n",
    "cluster_boundaries = []\n",
    "for label in unique_labels:\n",
    "    class_indices = np.where(re_Ex_clu == label)[0]\n",
    "    if len(class_indices) == 0:\n",
    "        continue\n",
    "\n",
    "    start_idx, end_idx = class_indices[0], class_indices[-1]\n",
    "    # print(start_idx)\n",
    "    cluster_boundaries.append(end_idx)"
   ]
  },
  {
   "cell_type": "code",
   "execution_count": null,
   "metadata": {},
   "outputs": [],
   "source": [
    "re_cluster_boundaries = natsorted(cluster_boundaries)\n",
    "re_cluster_boundaries"
   ]
  },
  {
   "cell_type": "code",
   "execution_count": null,
   "metadata": {},
   "outputs": [],
   "source": [
    "cluster_plot_heatmap(re_Ex_DE.iloc[:,:2809], re_Ex_clu[:2809], DE_g=True, cmap=heat_cmap, figures=(15,25))"
   ]
  },
  {
   "cell_type": "code",
   "execution_count": null,
   "metadata": {},
   "outputs": [],
   "source": [
    "cluster_plot_heatmap(re_Ex_DE.iloc[:,2809:], re_Ex_clu[2809:], DE_g=True, cmap=heat_cmap, figures=(15,6))"
   ]
  },
  {
   "cell_type": "code",
   "execution_count": null,
   "metadata": {},
   "outputs": [],
   "source": [
    "genes_clusters_heatmap(cluster_data=Ex_DE, cluster_labels=Ex_cluster, gene_groups=gene_g, zscore=True, DE_g=True, cmap=heat_cmap)"
   ]
  },
  {
   "cell_type": "markdown",
   "metadata": {},
   "source": [
    "### Inhibitory"
   ]
  },
  {
   "cell_type": "code",
   "execution_count": null,
   "metadata": {},
   "outputs": [],
   "source": [
    "re_IN_DE, re_IN_clu = reorder_clusters(cluster_data=In_DE, cluster_labels=In_cluster, gene_groups=gene_g, zscore=True)"
   ]
  },
  {
   "cell_type": "code",
   "execution_count": null,
   "metadata": {},
   "outputs": [],
   "source": [
    "unique_labels = natsorted(set(re_IN_clu))\n",
    "cluster_boundaries = []\n",
    "for label in unique_labels:\n",
    "    class_indices = np.where(re_IN_clu == label)[0]\n",
    "    if len(class_indices) == 0:\n",
    "        continue\n",
    "\n",
    "    start_idx, end_idx = class_indices[0], class_indices[-1]\n",
    "    cluster_boundaries.append(end_idx)"
   ]
  },
  {
   "cell_type": "code",
   "execution_count": null,
   "metadata": {},
   "outputs": [],
   "source": [
    "re_cluster_boundaries = sorted(cluster_boundaries)\n",
    "re_cluster_boundaries\n"
   ]
  },
  {
   "cell_type": "code",
   "execution_count": null,
   "metadata": {},
   "outputs": [],
   "source": [
    "cluster_plot_heatmap(re_IN_DE.iloc[:,:4865], re_IN_clu[:4865], DE_g=True, cmap=heat_cmap, figures=(15,25))"
   ]
  },
  {
   "cell_type": "code",
   "execution_count": null,
   "metadata": {},
   "outputs": [],
   "source": [
    "cluster_plot_heatmap(re_IN_DE.iloc[:,4865:8702], re_IN_clu[4865:8702], DE_g=True, cmap=heat_cmap, figures=(15,25))"
   ]
  },
  {
   "cell_type": "code",
   "execution_count": null,
   "metadata": {},
   "outputs": [],
   "source": [
    "cluster_plot_heatmap(re_IN_DE.iloc[:,8702:12840], re_IN_clu[8702:12840], DE_g=True, cmap=heat_cmap, figures=(15,25))"
   ]
  },
  {
   "cell_type": "code",
   "execution_count": null,
   "metadata": {},
   "outputs": [],
   "source": [
    "cluster_plot_heatmap(re_IN_DE.iloc[:,12841:], re_IN_clu[12841:], DE_g=True, cmap=heat_cmap, figures=(15,11))"
   ]
  },
  {
   "cell_type": "code",
   "execution_count": null,
   "metadata": {},
   "outputs": [],
   "source": [
    "genes_clusters_heatmap(cluster_data=In_DE, cluster_labels=In_cluster, gene_groups=gene_g, zscore=True, DE_g=True, cmap=heat_cmap)"
   ]
  },
  {
   "cell_type": "markdown",
   "metadata": {},
   "source": [
    "### Hybrid"
   ]
  },
  {
   "cell_type": "code",
   "execution_count": null,
   "metadata": {},
   "outputs": [],
   "source": [
    "re_Hy_DE, re_Hy_clu = reorder_clusters(cluster_data=Hy_DE, cluster_labels=Hy_cluster, gene_groups=gene_g, zscore=True)"
   ]
  },
  {
   "cell_type": "code",
   "execution_count": null,
   "metadata": {},
   "outputs": [],
   "source": [
    "unique_labels = natsorted(set(re_Hy_clu))\n",
    "cluster_boundaries = []\n",
    "for label in unique_labels:\n",
    "    class_indices = np.where(re_Hy_clu == label)[0]\n",
    "    if len(class_indices) == 0:\n",
    "        continue\n",
    "\n",
    "    start_idx, end_idx = class_indices[0], class_indices[-1]\n",
    "    cluster_boundaries.append(end_idx)"
   ]
  },
  {
   "cell_type": "code",
   "execution_count": null,
   "metadata": {},
   "outputs": [],
   "source": [
    "re_cluster_boundaries = sorted(cluster_boundaries)\n",
    "re_cluster_boundaries\n"
   ]
  },
  {
   "cell_type": "code",
   "execution_count": null,
   "metadata": {},
   "outputs": [],
   "source": [
    "re_Hy_DE.shape"
   ]
  },
  {
   "cell_type": "code",
   "execution_count": null,
   "metadata": {},
   "outputs": [],
   "source": [
    "cluster_plot_heatmap(re_Hy_DE, re_Hy_clu, DE_g=True, cmap=heat_cmap, figures=(15,3))"
   ]
  },
  {
   "cell_type": "markdown",
   "metadata": {},
   "source": [
    "### Astrocytes"
   ]
  },
  {
   "cell_type": "code",
   "execution_count": null,
   "metadata": {},
   "outputs": [],
   "source": [
    "As_DE_filtered = As_DE.drop(index='Ucn3')\n",
    "gene_g_filtered = gene_g[:13]"
   ]
  },
  {
   "cell_type": "code",
   "execution_count": null,
   "metadata": {},
   "outputs": [],
   "source": [
    "genes_clusters_heatmap(cluster_data=As_DE_filtered.T, cluster_labels=As_cluster, gene_groups=gene_g_filtered, zscore=True, DE_g=True, cmap=heat_cmap)"
   ]
  },
  {
   "cell_type": "code",
   "execution_count": null,
   "metadata": {},
   "outputs": [],
   "source": [
    "genes_clusters_heatmap(cluster_data=As_DE_filtered.T, cluster_labels=As_cluster, gene_groups=gene_g_filtered, zscore=False, DE_g=True, cmap=custom_cmap)"
   ]
  }
 ],
 "metadata": {
  "kernelspec": {
   "display_name": "Python 3",
   "language": "python",
   "name": "python3"
  },
  "language_info": {
   "codemirror_mode": {
    "name": "ipython",
    "version": 3
   },
   "file_extension": ".py",
   "mimetype": "text/x-python",
   "name": "python",
   "nbconvert_exporter": "python",
   "pygments_lexer": "ipython3",
   "version": "3.10.10"
  }
 },
 "nbformat": 4,
 "nbformat_minor": 2
}
